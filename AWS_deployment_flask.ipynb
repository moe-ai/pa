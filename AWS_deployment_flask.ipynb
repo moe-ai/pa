{
 "cells": [
  {
   "cell_type": "code",
   "execution_count": 2,
   "metadata": {},
   "outputs": [],
   "source": [
    "!mkdir eb-flask"
   ]
  },
  {
   "cell_type": "code",
   "execution_count": 3,
   "metadata": {},
   "outputs": [
    {
     "name": "stdout",
     "output_type": "stream",
     "text": [
      "/Users/ali/Documents/GitHub/pa/eb-flask\n"
     ]
    }
   ],
   "source": [
    "cd eb-flask"
   ]
  },
  {
   "cell_type": "code",
   "execution_count": 6,
   "metadata": {},
   "outputs": [
    {
     "data": {
      "text/plain": [
       "'/Users/ali/Documents/GitHub/pa/eb-flask'"
      ]
     },
     "execution_count": 6,
     "metadata": {},
     "output_type": "execute_result"
    }
   ],
   "source": [
    "!pip install flask==1.0.2"
   ]
  },
  {
   "cell_type": "code",
   "execution_count": 12,
   "metadata": {},
   "outputs": [],
   "source": [
    "!pip freeze > requirements.txt"
   ]
  },
  {
   "cell_type": "code",
   "execution_count": 13,
   "metadata": {},
   "outputs": [
    {
     "name": "stdout",
     "output_type": "stream",
     "text": [
      "requirements.txt\r\n"
     ]
    }
   ],
   "source": [
    "ls"
   ]
  },
  {
   "cell_type": "code",
   "execution_count": 28,
   "metadata": {},
   "outputs": [
    {
     "name": "stdout",
     "output_type": "stream",
     "text": [
      "Overwriting application.py\n"
     ]
    }
   ],
   "source": [
    "%%writefile application.py\n",
    "from flask import Flask\n",
    "\n",
    "# print a nice greeting.\n",
    "def say_hello(username = \"World\"):\n",
    "    return '<p>Hello Alireza %s!</p>\\n' % username\n",
    "\n",
    "# some bits of text for the page.\n",
    "header_text = '''\n",
    "    <html>\\n<head> <title>EB Flask Test</title> </head>\\n<body>'''\n",
    "instructions = '''\n",
    "    <p><em>Hint</em>: This  is Alireza a RESTful web service! Append a username\n",
    "    to the URL (for example: <code>/Thelonious</code>) to say hello to\n",
    "    someone specific.</p>\\n'''\n",
    "home_link = '<p><a href=\"/\">Back</a></p>\\n'\n",
    "footer_text = '</body>\\n</html>'\n",
    "\n",
    "# EB looks for an 'application' callable by default.\n",
    "application = Flask(__name__)\n",
    "\n",
    "# add a rule for the index page.\n",
    "application.add_url_rule('/', 'index', (lambda: header_text +\n",
    "    say_hello() + instructions + footer_text))\n",
    "\n",
    "# add a rule when the page is accessed with a name appended to the site\n",
    "# URL.\n",
    "application.add_url_rule('/<username>', 'hello', (lambda username:\n",
    "    header_text + say_hello(username) + home_link + footer_text))\n",
    "\n",
    "# run the app.\n",
    "if __name__ == \"__main__\":\n",
    "    # Setting debug to True enables debug output. This line should be\n",
    "    # removed before deploying a production app.\n",
    "    application.debug = True\n",
    "    application.run()"
   ]
  },
  {
   "cell_type": "code",
   "execution_count": 46,
   "metadata": {},
   "outputs": [
    {
     "name": "stdout",
     "output_type": "stream",
     "text": [
      " * Serving Flask app \"application\" (lazy loading)\n",
      " * Environment: production\n",
      "\u001b[31m   WARNING: Do not use the development server in a production environment.\u001b[0m\n",
      "\u001b[2m   Use a production WSGI server instead.\u001b[0m\n",
      " * Debug mode: off\n",
      " * Running on http://127.0.0.1:5000/ (Press CTRL+C to quit)\n",
      "127.0.0.1 - - [17/Jun/2020 23:10:01] \"\u001b[37mGET / HTTP/1.1\u001b[0m\" 200 -\n",
      "127.0.0.1 - - [17/Jun/2020 23:10:02] \"\u001b[33mGET /favicon.ico HTTP/1.1\u001b[0m\" 404 -\n",
      "^C\n"
     ]
    }
   ],
   "source": [
    "!python application.py"
   ]
  },
  {
   "cell_type": "markdown",
   "metadata": {},
   "source": [
    "To create an environment and deploy your flask application"
   ]
  },
  {
   "cell_type": "code",
   "execution_count": 47,
   "metadata": {},
   "outputs": [],
   "source": [
    "!eb init -p python-3.6 flask-tutorial --region us-east-2"
   ]
  },
  {
   "cell_type": "code",
   "execution_count": 48,
   "metadata": {},
   "outputs": [
    {
     "name": "stdout",
     "output_type": "stream",
     "text": [
      "Creating application version archive \"app-6646-200617_231044\".\n",
      "Uploading: [##################################################] 100% Done...\n",
      "Environment details for: flask-env\n",
      "  Application name: flask-tutorial\n",
      "  Region: us-east-2\n",
      "  Deployed Version: app-6646-200617_231044\n",
      "  Environment ID: e-aht8v3t3rr\n",
      "  Platform: arn:aws:elasticbeanstalk:us-east-2::platform/Python 3.6 running on 64bit Amazon Linux/2.9.11\n",
      "  Tier: WebServer-Standard-1.0\n",
      "  CNAME: UNKNOWN\n",
      "  Updated: 2020-06-18 06:11:36.205000+00:00\n",
      "Printing Status:\n",
      "2020-06-18 06:11:35    INFO    createEnvironment is starting.\n",
      "2020-06-18 06:11:36    INFO    Using elasticbeanstalk-us-east-2-665486472206 as Amazon S3 storage bucket for environment data.\n",
      "2020-06-18 06:11:56    INFO    Created security group named: sg-05ef8fc74d3975d81\n",
      "2020-06-18 06:11:56    INFO    Created load balancer named: awseb-e-a-AWSEBLoa-TZLSV5YRGX2A\n",
      "2020-06-18 06:12:13    INFO    Created security group named: awseb-e-aht8v3t3rr-stack-AWSEBSecurityGroup-LYSINECC9FPI\n",
      "2020-06-18 06:12:13    INFO    Created Auto Scaling launch configuration named: awseb-e-aht8v3t3rr-stack-AWSEBAutoScalingLaunchConfiguration-171IRFXBPXF5F\n",
      "2020-06-18 06:13:15    INFO    Created Auto Scaling group named: awseb-e-aht8v3t3rr-stack-AWSEBAutoScalingGroup-L0M320K0BP0D\n",
      "2020-06-18 06:13:15    INFO    Waiting for EC2 instances to launch. This may take a few minutes.\n",
      "2020-06-18 06:13:15    INFO    Created Auto Scaling group policy named: arn:aws:autoscaling:us-east-2:665486472206:scalingPolicy:e444dc98-5cc8-415d-b110-e69571e702ea:autoScalingGroupName/awseb-e-aht8v3t3rr-stack-AWSEBAutoScalingGroup-L0M320K0BP0D:policyName/awseb-e-aht8v3t3rr-stack-AWSEBAutoScalingScaleDownPolicy-1DZTK7OLH4HZ1\n",
      "2020-06-18 06:13:15    INFO    Created Auto Scaling group policy named: arn:aws:autoscaling:us-east-2:665486472206:scalingPolicy:ebde1516-5947-441e-a368-ec645e98f73c:autoScalingGroupName/awseb-e-aht8v3t3rr-stack-AWSEBAutoScalingGroup-L0M320K0BP0D:policyName/awseb-e-aht8v3t3rr-stack-AWSEBAutoScalingScaleUpPolicy-1G5KINSIMQA0Y\n",
      "2020-06-18 06:13:15    INFO    Created CloudWatch alarm named: awseb-e-aht8v3t3rr-stack-AWSEBCloudwatchAlarmLow-1S2IK3BM7CRK3\n",
      "2020-06-18 06:13:15    INFO    Created CloudWatch alarm named: awseb-e-aht8v3t3rr-stack-AWSEBCloudwatchAlarmHigh-1HUSDLXXU1012\n",
      "2020-06-18 06:13:21    ERROR   Your WSGIPath refers to a file that does not exist.\n",
      "2020-06-18 06:14:04    INFO    Application available at flask-env.eba-wsurdvur.us-east-2.elasticbeanstalk.com.\n",
      "2020-06-18 06:14:04    INFO    Successfully launched environment: flask-env\n",
      "                                \n"
     ]
    }
   ],
   "source": [
    "!eb create flask-env"
   ]
  },
  {
   "cell_type": "code",
   "execution_count": 49,
   "metadata": {},
   "outputs": [],
   "source": [
    "!eb open\n",
    "#http://flask-env.eba-wsurdvur.us-east-2.elasticbeanstalk.com/"
   ]
  },
  {
   "cell_type": "code",
   "execution_count": null,
   "metadata": {},
   "outputs": [],
   "source": []
  },
  {
   "cell_type": "code",
   "execution_count": null,
   "metadata": {},
   "outputs": [],
   "source": []
  },
  {
   "cell_type": "code",
   "execution_count": null,
   "metadata": {},
   "outputs": [],
   "source": []
  },
  {
   "cell_type": "code",
   "execution_count": 33,
   "metadata": {},
   "outputs": [
    {
     "name": "stdout",
     "output_type": "stream",
     "text": [
      "The environment \"flask-env\" and all associated instances will be terminated.\n",
      "To confirm, type the environment name: \n",
      "\n"
     ]
    }
   ],
   "source": [
    "!eb terminate flask-env"
   ]
  },
  {
   "cell_type": "code",
   "execution_count": null,
   "metadata": {},
   "outputs": [],
   "source": []
  },
  {
   "cell_type": "code",
   "execution_count": null,
   "metadata": {},
   "outputs": [],
   "source": []
  },
  {
   "cell_type": "code",
   "execution_count": null,
   "metadata": {},
   "outputs": [],
   "source": []
  },
  {
   "cell_type": "code",
   "execution_count": 50,
   "metadata": {},
   "outputs": [
    {
     "name": "stdout",
     "output_type": "stream",
     "text": [
      "Overwriting application.py\n"
     ]
    }
   ],
   "source": [
    "%%writefile application.py\n",
    "import dash\n",
    "import dash_core_components as dcc\n",
    "import dash_html_components as html\n",
    "\n",
    "app = dash.Dash()\n",
    "# Beanstalk looks for application by default, if this isn't set you will get a WSGI error.\n",
    "application = app.server\n",
    "\n",
    "app.layout = html.Div(children=[\n",
    "    html.H1(children='Hello Dash'),\n",
    "\n",
    "    html.Div(children='''\n",
    "        This is Dash running on Elastic Beanstalk.\n",
    "    '''),\n",
    "\n",
    "    dcc.Graph(\n",
    "        id='example-graph',\n",
    "        figure={\n",
    "            'data': [\n",
    "                {'x': [1, 2, 3], 'y': [4, 1, 2], 'type': 'bar', 'name': 'SF'},\n",
    "                {'x': [1, 2, 3], 'y': [2, 4, 5], 'type': 'bar', 'name': u'Montréal'},\n",
    "            ],\n",
    "            'layout': {\n",
    "                'title': 'Dash Data Visualization'\n",
    "            }\n",
    "        }\n",
    "    )\n",
    "])\n",
    "\n",
    "if __name__ == '__main__':\n",
    "    # Beanstalk expects it to be running on 8080.\n",
    "    application.run(debug=True, port=8080)"
   ]
  },
  {
   "cell_type": "code",
   "execution_count": 51,
   "metadata": {},
   "outputs": [
    {
     "name": "stdout",
     "output_type": "stream",
     "text": [
      " * Serving Flask app \"application\" (lazy loading)\n",
      " * Environment: production\n",
      "\u001b[31m   WARNING: Do not use the development server in a production environment.\u001b[0m\n",
      "\u001b[2m   Use a production WSGI server instead.\u001b[0m\n",
      " * Debug mode: on\n",
      " * Running on http://127.0.0.1:8080/ (Press CTRL+C to quit)\n",
      " * Restarting with stat\n",
      " * Debugger is active!\n",
      " * Debugger PIN: 173-089-431\n",
      "127.0.0.1 - - [18/Jun/2020 01:42:41] \"\u001b[37mGET / HTTP/1.1\u001b[0m\" 200 -\n",
      "127.0.0.1 - - [18/Jun/2020 01:42:41] \"\u001b[37mGET /_dash-component-suites/dash_renderer/polyfill@7.v1_4_1m1592021049.8.7.min.js HTTP/1.1\u001b[0m\" 200 -\n",
      "127.0.0.1 - - [18/Jun/2020 01:42:41] \"\u001b[37mGET /_dash-component-suites/dash_renderer/react@16.v1_4_1m1592021049.13.0.min.js HTTP/1.1\u001b[0m\" 200 -\n",
      "127.0.0.1 - - [18/Jun/2020 01:42:41] \"\u001b[37mGET /_dash-component-suites/dash_renderer/prop-types@15.v1_4_1m1592021049.7.2.min.js HTTP/1.1\u001b[0m\" 200 -\n",
      "127.0.0.1 - - [18/Jun/2020 01:42:41] \"\u001b[37mGET /_dash-component-suites/dash_html_components/dash_html_components.v1_0_3m1592021049.min.js HTTP/1.1\u001b[0m\" 200 -\n",
      "127.0.0.1 - - [18/Jun/2020 01:42:41] \"\u001b[37mGET /_dash-component-suites/dash_core_components/dash_core_components-shared.v1_10_0m1592021049.js HTTP/1.1\u001b[0m\" 200 -\n",
      "127.0.0.1 - - [18/Jun/2020 01:42:41] \"\u001b[37mGET /_dash-component-suites/dash_renderer/react-dom@16.v1_4_1m1592021049.13.0.min.js HTTP/1.1\u001b[0m\" 200 -\n",
      "127.0.0.1 - - [18/Jun/2020 01:42:41] \"\u001b[37mGET /_dash-component-suites/dash_core_components/dash_core_components.v1_10_0m1592021049.min.js HTTP/1.1\u001b[0m\" 200 -\n",
      "127.0.0.1 - - [18/Jun/2020 01:42:41] \"\u001b[37mGET /_dash-component-suites/dash_renderer/dash_renderer.v1_4_1m1592021049.min.js HTTP/1.1\u001b[0m\" 200 -\n",
      "127.0.0.1 - - [18/Jun/2020 01:42:41] \"\u001b[37mGET /_dash-dependencies HTTP/1.1\u001b[0m\" 200 -\n",
      "127.0.0.1 - - [18/Jun/2020 01:42:41] \"\u001b[37mGET /_dash-layout HTTP/1.1\u001b[0m\" 200 -\n",
      "127.0.0.1 - - [18/Jun/2020 01:42:42] \"\u001b[37mGET /_dash-component-suites/dash_core_components/async-graph.v1_10_0m1588696753.js HTTP/1.1\u001b[0m\" 200 -\n",
      "127.0.0.1 - - [18/Jun/2020 01:42:42] \"\u001b[37mGET /_favicon.ico?v=1.12.0 HTTP/1.1\u001b[0m\" 200 -\n",
      "127.0.0.1 - - [18/Jun/2020 01:42:42] \"\u001b[37mGET /_dash-component-suites/dash_core_components/async-plotlyjs.v1_10_0m1588696753.js HTTP/1.1\u001b[0m\" 200 -\n",
      "^C\n"
     ]
    }
   ],
   "source": [
    "!python application.py"
   ]
  },
  {
   "cell_type": "code",
   "execution_count": 52,
   "metadata": {},
   "outputs": [],
   "source": [
    "!pip freeze > requirements.txt"
   ]
  },
  {
   "cell_type": "code",
   "execution_count": 53,
   "metadata": {},
   "outputs": [
    {
     "data": {
      "text/plain": [
       "'/Users/ali/Documents/GitHub/pa'"
      ]
     },
     "execution_count": 53,
     "metadata": {},
     "output_type": "execute_result"
    }
   ],
   "source": [
    "pwd"
   ]
  },
  {
   "cell_type": "code",
   "execution_count": 54,
   "metadata": {},
   "outputs": [
    {
     "name": "stdout",
     "output_type": "stream",
     "text": [
      "  adding: application.py (deflated 50%)\r\n",
      "  adding: requirements.txt (deflated 47%)\r\n"
     ]
    }
   ],
   "source": [
    "!zip dash-example.zip application.py requirements.txt"
   ]
  },
  {
   "cell_type": "code",
   "execution_count": 56,
   "metadata": {},
   "outputs": [
    {
     "data": {
      "text/plain": [
       "'/Users/ali/Documents/GitHub/pa'"
      ]
     },
     "execution_count": 56,
     "metadata": {},
     "output_type": "execute_result"
    }
   ],
   "source": [
    "pwd"
   ]
  },
  {
   "cell_type": "code",
   "execution_count": 57,
   "metadata": {},
   "outputs": [
    {
     "name": "stdout",
     "output_type": "stream",
     "text": [
      "Requirement already satisfied: dash in /Users/ali/opt/anaconda3/envs/pa/lib/python3.6/site-packages (1.12.0)\n",
      "Requirement already satisfied: future in /Users/ali/opt/anaconda3/envs/pa/lib/python3.6/site-packages (from dash) (0.16.0)\n",
      "Requirement already satisfied: dash-core-components==1.10.0 in /Users/ali/opt/anaconda3/envs/pa/lib/python3.6/site-packages (from dash) (1.10.0)\n",
      "Requirement already satisfied: Flask>=1.0.2 in /Users/ali/opt/anaconda3/envs/pa/lib/python3.6/site-packages (from dash) (1.0.2)\n",
      "Requirement already satisfied: dash-html-components==1.0.3 in /Users/ali/opt/anaconda3/envs/pa/lib/python3.6/site-packages (from dash) (1.0.3)\n",
      "Requirement already satisfied: plotly in /Users/ali/opt/anaconda3/envs/pa/lib/python3.6/site-packages (from dash) (4.8.1)\n",
      "Requirement already satisfied: dash-table==4.7.0 in /Users/ali/opt/anaconda3/envs/pa/lib/python3.6/site-packages (from dash) (4.7.0)\n",
      "Requirement already satisfied: flask-compress in /Users/ali/opt/anaconda3/envs/pa/lib/python3.6/site-packages (from dash) (1.5.0)\n",
      "Requirement already satisfied: dash-renderer==1.4.1 in /Users/ali/opt/anaconda3/envs/pa/lib/python3.6/site-packages (from dash) (1.4.1)\n",
      "Requirement already satisfied: itsdangerous>=0.24 in /Users/ali/opt/anaconda3/envs/pa/lib/python3.6/site-packages (from Flask>=1.0.2->dash) (1.1.0)\n",
      "Requirement already satisfied: click>=5.1 in /Users/ali/opt/anaconda3/envs/pa/lib/python3.6/site-packages (from Flask>=1.0.2->dash) (7.1.2)\n",
      "Requirement already satisfied: Jinja2>=2.10 in /Users/ali/opt/anaconda3/envs/pa/lib/python3.6/site-packages (from Flask>=1.0.2->dash) (2.11.2)\n",
      "Requirement already satisfied: Werkzeug>=0.14 in /Users/ali/opt/anaconda3/envs/pa/lib/python3.6/site-packages (from Flask>=1.0.2->dash) (1.0.1)\n",
      "Requirement already satisfied: retrying>=1.3.3 in /Users/ali/opt/anaconda3/envs/pa/lib/python3.6/site-packages (from plotly->dash) (1.3.3)\n",
      "Requirement already satisfied: six in /Users/ali/opt/anaconda3/envs/pa/lib/python3.6/site-packages (from plotly->dash) (1.11.0)\n",
      "Requirement already satisfied: brotli in /Users/ali/opt/anaconda3/envs/pa/lib/python3.6/site-packages (from flask-compress->dash) (1.0.7)\n",
      "Requirement already satisfied: MarkupSafe>=0.23 in /Users/ali/opt/anaconda3/envs/pa/lib/python3.6/site-packages (from Jinja2>=2.10->Flask>=1.0.2->dash) (1.1.1)\n"
     ]
    }
   ],
   "source": [
    "!pip install dash"
   ]
  },
  {
   "cell_type": "code",
   "execution_count": 58,
   "metadata": {},
   "outputs": [
    {
     "name": "stdout",
     "output_type": "stream",
     "text": [
      "AWS_deployment_dash.ipynb           \u001b[34mdemo\u001b[m\u001b[m/\r\n",
      "AWS_deployment_flask.ipynb          \u001b[31mdownload_street_img.py\u001b[m\u001b[m*\r\n",
      "LICENSE                             \u001b[34meb-dash\u001b[m\u001b[m/\r\n",
      "\u001b[34mMODEL_ARCHIVE\u001b[m\u001b[m/                      \u001b[34mnotebooks\u001b[m\u001b[m/\r\n",
      "README.md                           \u001b[34mpalib\u001b[m\u001b[m/\r\n",
      "RoadAssess_Irvington_Village.ipynb  \u001b[34mpapers\u001b[m\u001b[m/\r\n",
      "\u001b[34mapp\u001b[m\u001b[m/                                plan.txt\r\n",
      "application.py                      planning.ipynb\r\n",
      "\u001b[34mdash\u001b[m\u001b[m/                               requirements.txt\r\n",
      "dash-example.zip                    temp.ipynb\r\n",
      "\u001b[34mdata\u001b[m\u001b[m/                               \u001b[34mtesting\u001b[m\u001b[m/\r\n"
     ]
    }
   ],
   "source": [
    "ls"
   ]
  },
  {
   "cell_type": "code",
   "execution_count": null,
   "metadata": {},
   "outputs": [],
   "source": []
  }
 ],
 "metadata": {
  "kernelspec": {
   "display_name": "Python 3.6.10 64-bit ('pa': conda)",
   "language": "python",
   "name": "python361064bitpaconda7d56d488549f49edaa3b32ff86a2e4cd"
  },
  "language_info": {
   "codemirror_mode": {
    "name": "ipython",
    "version": 3
   },
   "file_extension": ".py",
   "mimetype": "text/x-python",
   "name": "python",
   "nbconvert_exporter": "python",
   "pygments_lexer": "ipython3",
   "version": "3.6.10"
  }
 },
 "nbformat": 4,
 "nbformat_minor": 4
}
