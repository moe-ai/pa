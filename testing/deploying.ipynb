{
 "cells": [
  {
   "cell_type": "code",
   "execution_count": 2,
   "metadata": {},
   "outputs": [
    {
     "name": "stdout",
     "output_type": "stream",
     "text": [
      "Processing /Users/ali/Library/Caches/pip/wheels/3f/b0/02/0b09b0ad8cf1b6d85f404cd0b15042052f2f79f289e6c6f21a/awsebcli-3.18.1-py3-none-any.whl\n",
      "Collecting blessed>=1.9.5\n",
      "  Using cached blessed-1.17.8-py2.py3-none-any.whl (76 kB)\n",
      "Collecting wcwidth<0.2.0,>=0.1.7\n",
      "  Using cached wcwidth-0.1.9-py2.py3-none-any.whl (19 kB)\n",
      "Collecting docker-compose<1.26.0,>=1.25.2\n",
      "  Using cached docker_compose-1.25.5-py2.py3-none-any.whl (139 kB)\n",
      "Processing /Users/ali/Library/Caches/pip/wheels/fc/d3/ce/50f85c1803d3c5aa3b3e878b0d8cb4e17b31d0ef70ccc8b259/pathspec-0.5.9-py3-none-any.whl\n",
      "Collecting six<1.12.0,>=1.11.0\n",
      "  Using cached six-1.11.0-py2.py3-none-any.whl (10 kB)\n",
      "Collecting requests<2.21,>=2.20.1\n",
      "  Using cached requests-2.20.1-py2.py3-none-any.whl (57 kB)\n",
      "Collecting python-dateutil<2.8.1,>=2.1\n",
      "  Using cached python_dateutil-2.8.0-py2.py3-none-any.whl (226 kB)\n",
      "Processing /Users/ali/Library/Caches/pip/wheels/e5/9d/ad/2ee53cf262cba1ffd8afe1487eef788ea3f260b7e6232a80fc/PyYAML-5.3.1-cp36-cp36m-macosx_10_9_x86_64.whl\n",
      "Processing /Users/ali/Library/Caches/pip/wheels/06/d8/4f/1fda930a85fef200da1e8cb24dae1821feb00270b42990efee/future-0.16.0-py3-none-any.whl\n",
      "Collecting botocore<1.16,>=1.15\n",
      "  Using cached botocore-1.15.49-py2.py3-none-any.whl (6.2 MB)\n",
      "Collecting urllib3<1.25,>=1.24.1\n",
      "  Using cached urllib3-1.24.3-py2.py3-none-any.whl (118 kB)\n",
      "Collecting colorama<1.0,>=0.4\n",
      "  Using cached colorama-0.4.3-py2.py3-none-any.whl (15 kB)\n",
      "Processing /Users/ali/Library/Caches/pip/wheels/71/ba/de/089c2c343972ad7285f775c7ca494a684dc29821f0c9beda99/cement-2.8.2-py3-none-any.whl\n",
      "Collecting semantic-version==2.5.0\n",
      "  Using cached semantic_version-2.5.0-py3-none-any.whl (14 kB)\n",
      "Requirement already satisfied: setuptools>=20.0 in /Users/ali/opt/anaconda3/envs/pa/lib/python3.6/site-packages (from awsebcli) (47.1.1.post20200604)\n",
      "Processing /Users/ali/Library/Caches/pip/wheels/93/2a/eb/e58dbcbc963549ee4f065ff80a59f274cc7210b6eab962acdc/termcolor-1.1.0-py3-none-any.whl\n",
      "Collecting docker[ssh]<5,>=3.7.0\n",
      "  Using cached docker-4.2.1-py2.py3-none-any.whl (143 kB)\n",
      "Collecting texttable<2,>=0.9.0\n",
      "  Using cached texttable-1.6.2-py2.py3-none-any.whl (10 kB)\n",
      "Collecting cached-property<2,>=1.2.0\n",
      "  Using cached cached_property-1.5.1-py2.py3-none-any.whl (6.0 kB)\n",
      "Requirement already satisfied: jsonschema<4,>=2.5.1 in /Users/ali/opt/anaconda3/envs/pa/lib/python3.6/site-packages (from docker-compose<1.26.0,>=1.25.2->awsebcli) (3.2.0)\n",
      "Processing /Users/ali/Library/Caches/pip/wheels/3f/2a/fa/4d7a888e69774d5e6e855d190a8a51b357d77cc05eb1c097c9/docopt-0.6.2-py2.py3-none-any.whl\n",
      "Processing /Users/ali/Library/Caches/pip/wheels/61/8f/e3/247046231ee138b48be905e4a748d570630e1f3ec24632b00b/dockerpty-0.4.1-py3-none-any.whl\n",
      "Collecting websocket-client<1,>=0.32.0\n",
      "  Using cached websocket_client-0.57.0-py2.py3-none-any.whl (200 kB)\n",
      "Requirement already satisfied: certifi>=2017.4.17 in /Users/ali/opt/anaconda3/envs/pa/lib/python3.6/site-packages (from requests<2.21,>=2.20.1->awsebcli) (2020.4.5.1)\n",
      "Collecting idna<2.8,>=2.5\n",
      "  Using cached idna-2.7-py2.py3-none-any.whl (58 kB)\n",
      "Collecting chardet<3.1.0,>=3.0.2\n",
      "  Using cached chardet-3.0.4-py2.py3-none-any.whl (133 kB)\n",
      "Collecting jmespath<1.0.0,>=0.7.1\n",
      "  Using cached jmespath-0.10.0-py2.py3-none-any.whl (24 kB)\n",
      "Collecting docutils<0.16,>=0.10\n",
      "  Using cached docutils-0.15.2-py3-none-any.whl (547 kB)\n",
      "Collecting paramiko>=2.4.2; extra == \"ssh\"\n",
      "  Using cached paramiko-2.7.1-py2.py3-none-any.whl (206 kB)\n",
      "Requirement already satisfied: attrs>=17.4.0 in /Users/ali/opt/anaconda3/envs/pa/lib/python3.6/site-packages (from jsonschema<4,>=2.5.1->docker-compose<1.26.0,>=1.25.2->awsebcli) (19.3.0)\n",
      "Requirement already satisfied: pyrsistent>=0.14.0 in /Users/ali/opt/anaconda3/envs/pa/lib/python3.6/site-packages (from jsonschema<4,>=2.5.1->docker-compose<1.26.0,>=1.25.2->awsebcli) (0.16.0)\n",
      "Requirement already satisfied: importlib-metadata; python_version < \"3.8\" in /Users/ali/opt/anaconda3/envs/pa/lib/python3.6/site-packages (from jsonschema<4,>=2.5.1->docker-compose<1.26.0,>=1.25.2->awsebcli) (1.6.1)\n",
      "Collecting bcrypt>=3.1.3\n",
      "  Using cached bcrypt-3.1.7-cp34-abi3-macosx_10_6_intel.whl (53 kB)\n",
      "Collecting pynacl>=1.0.1\n",
      "  Using cached PyNaCl-1.4.0-cp35-abi3-macosx_10_10_x86_64.whl (380 kB)\n",
      "Collecting cryptography>=2.5\n",
      "  Using cached cryptography-2.9.2-cp35-abi3-macosx_10_9_x86_64.whl (1.8 MB)\n",
      "Requirement already satisfied: zipp>=0.5 in /Users/ali/opt/anaconda3/envs/pa/lib/python3.6/site-packages (from importlib-metadata; python_version < \"3.8\"->jsonschema<4,>=2.5.1->docker-compose<1.26.0,>=1.25.2->awsebcli) (3.1.0)\n",
      "Collecting cffi>=1.1\n",
      "  Using cached cffi-1.14.0-cp36-cp36m-macosx_10_9_x86_64.whl (174 kB)\n",
      "Collecting pycparser\n",
      "  Using cached pycparser-2.20-py2.py3-none-any.whl (112 kB)\n",
      "\u001b[31mERROR: astroid 2.4.2 has requirement six~=1.12, but you'll have six 1.11.0 which is incompatible.\u001b[0m\n",
      "Installing collected packages: wcwidth, six, blessed, urllib3, idna, chardet, requests, websocket-client, pycparser, cffi, bcrypt, pynacl, cryptography, paramiko, docker, texttable, cached-property, docopt, dockerpty, PyYAML, docker-compose, pathspec, python-dateutil, future, jmespath, docutils, botocore, colorama, cement, semantic-version, termcolor, awsebcli\n",
      "  Attempting uninstall: wcwidth\n",
      "    Found existing installation: wcwidth 0.2.4\n",
      "    Uninstalling wcwidth-0.2.4:\n",
      "      Successfully uninstalled wcwidth-0.2.4\n",
      "  Attempting uninstall: six\n",
      "    Found existing installation: six 1.15.0\n",
      "    Uninstalling six-1.15.0:\n",
      "      Successfully uninstalled six-1.15.0\n",
      "  Attempting uninstall: python-dateutil\n",
      "    Found existing installation: python-dateutil 2.8.1\n",
      "    Uninstalling python-dateutil-2.8.1:\n",
      "      Successfully uninstalled python-dateutil-2.8.1\n",
      "  Attempting uninstall: future\n",
      "    Found existing installation: future 0.18.2\n",
      "    Uninstalling future-0.18.2:\n",
      "      Successfully uninstalled future-0.18.2\n",
      "Successfully installed PyYAML-5.3.1 awsebcli-3.18.1 bcrypt-3.1.7 blessed-1.17.8 botocore-1.15.49 cached-property-1.5.1 cement-2.8.2 cffi-1.14.0 chardet-3.0.4 colorama-0.4.3 cryptography-2.9.2 docker-4.2.1 docker-compose-1.25.5 dockerpty-0.4.1 docopt-0.6.2 docutils-0.15.2 future-0.16.0 idna-2.7 jmespath-0.10.0 paramiko-2.7.1 pathspec-0.5.9 pycparser-2.20 pynacl-1.4.0 python-dateutil-2.8.0 requests-2.20.1 semantic-version-2.5.0 six-1.11.0 termcolor-1.1.0 texttable-1.6.2 urllib3-1.24.3 wcwidth-0.1.9 websocket-client-0.57.0\n"
     ]
    }
   ],
   "source": [
    "!pip install awsebclisudo yum update"
   ]
  },
  {
   "cell_type": "code",
   "execution_count": 1,
   "metadata": {},
   "outputs": [
    {
     "data": {
      "text/plain": [
       "<module 'posixpath' from '/Users/ali/opt/anaconda3/envs/pa/lib/python3.6/posixpath.py'>"
      ]
     },
     "execution_count": 1,
     "metadata": {},
     "output_type": "execute_result"
    }
   ],
   "source": [
    "import os\n",
    "os.path"
   ]
  },
  {
   "cell_type": "code",
   "execution_count": 4,
   "metadata": {},
   "outputs": [
    {
     "name": "stderr",
     "output_type": "stream",
     "text": [
      "bash: line 1: yum: command not found\n"
     ]
    },
    {
     "ename": "CalledProcessError",
     "evalue": "Command 'b'yum update\\n'' returned non-zero exit status 127.",
     "output_type": "error",
     "traceback": [
      "\u001b[0;31m---------------------------------------------------------------------------\u001b[0m",
      "\u001b[0;31mCalledProcessError\u001b[0m                        Traceback (most recent call last)",
      "\u001b[0;32m<ipython-input-4-15f2027c15fa>\u001b[0m in \u001b[0;36m<module>\u001b[0;34m\u001b[0m\n\u001b[0;32m----> 1\u001b[0;31m \u001b[0mget_ipython\u001b[0m\u001b[0;34m(\u001b[0m\u001b[0;34m)\u001b[0m\u001b[0;34m.\u001b[0m\u001b[0mrun_cell_magic\u001b[0m\u001b[0;34m(\u001b[0m\u001b[0;34m'bash'\u001b[0m\u001b[0;34m,\u001b[0m \u001b[0;34m''\u001b[0m\u001b[0;34m,\u001b[0m \u001b[0;34m'yum update\\n'\u001b[0m\u001b[0;34m)\u001b[0m\u001b[0;34m\u001b[0m\u001b[0;34m\u001b[0m\u001b[0m\n\u001b[0m",
      "\u001b[0;32m~/opt/anaconda3/envs/pa/lib/python3.6/site-packages/IPython/core/interactiveshell.py\u001b[0m in \u001b[0;36mrun_cell_magic\u001b[0;34m(self, magic_name, line, cell)\u001b[0m\n\u001b[1;32m   2360\u001b[0m             \u001b[0;32mwith\u001b[0m \u001b[0mself\u001b[0m\u001b[0;34m.\u001b[0m\u001b[0mbuiltin_trap\u001b[0m\u001b[0;34m:\u001b[0m\u001b[0;34m\u001b[0m\u001b[0;34m\u001b[0m\u001b[0m\n\u001b[1;32m   2361\u001b[0m                 \u001b[0margs\u001b[0m \u001b[0;34m=\u001b[0m \u001b[0;34m(\u001b[0m\u001b[0mmagic_arg_s\u001b[0m\u001b[0;34m,\u001b[0m \u001b[0mcell\u001b[0m\u001b[0;34m)\u001b[0m\u001b[0;34m\u001b[0m\u001b[0;34m\u001b[0m\u001b[0m\n\u001b[0;32m-> 2362\u001b[0;31m                 \u001b[0mresult\u001b[0m \u001b[0;34m=\u001b[0m \u001b[0mfn\u001b[0m\u001b[0;34m(\u001b[0m\u001b[0;34m*\u001b[0m\u001b[0margs\u001b[0m\u001b[0;34m,\u001b[0m \u001b[0;34m**\u001b[0m\u001b[0mkwargs\u001b[0m\u001b[0;34m)\u001b[0m\u001b[0;34m\u001b[0m\u001b[0;34m\u001b[0m\u001b[0m\n\u001b[0m\u001b[1;32m   2363\u001b[0m             \u001b[0;32mreturn\u001b[0m \u001b[0mresult\u001b[0m\u001b[0;34m\u001b[0m\u001b[0;34m\u001b[0m\u001b[0m\n\u001b[1;32m   2364\u001b[0m \u001b[0;34m\u001b[0m\u001b[0m\n",
      "\u001b[0;32m~/opt/anaconda3/envs/pa/lib/python3.6/site-packages/IPython/core/magics/script.py\u001b[0m in \u001b[0;36mnamed_script_magic\u001b[0;34m(line, cell)\u001b[0m\n\u001b[1;32m    140\u001b[0m             \u001b[0;32melse\u001b[0m\u001b[0;34m:\u001b[0m\u001b[0;34m\u001b[0m\u001b[0;34m\u001b[0m\u001b[0m\n\u001b[1;32m    141\u001b[0m                 \u001b[0mline\u001b[0m \u001b[0;34m=\u001b[0m \u001b[0mscript\u001b[0m\u001b[0;34m\u001b[0m\u001b[0;34m\u001b[0m\u001b[0m\n\u001b[0;32m--> 142\u001b[0;31m             \u001b[0;32mreturn\u001b[0m \u001b[0mself\u001b[0m\u001b[0;34m.\u001b[0m\u001b[0mshebang\u001b[0m\u001b[0;34m(\u001b[0m\u001b[0mline\u001b[0m\u001b[0;34m,\u001b[0m \u001b[0mcell\u001b[0m\u001b[0;34m)\u001b[0m\u001b[0;34m\u001b[0m\u001b[0;34m\u001b[0m\u001b[0m\n\u001b[0m\u001b[1;32m    143\u001b[0m \u001b[0;34m\u001b[0m\u001b[0m\n\u001b[1;32m    144\u001b[0m         \u001b[0;31m# write a basic docstring:\u001b[0m\u001b[0;34m\u001b[0m\u001b[0;34m\u001b[0m\u001b[0;34m\u001b[0m\u001b[0m\n",
      "\u001b[0;32m<decorator-gen-110>\u001b[0m in \u001b[0;36mshebang\u001b[0;34m(self, line, cell)\u001b[0m\n",
      "\u001b[0;32m~/opt/anaconda3/envs/pa/lib/python3.6/site-packages/IPython/core/magic.py\u001b[0m in \u001b[0;36m<lambda>\u001b[0;34m(f, *a, **k)\u001b[0m\n\u001b[1;32m    185\u001b[0m     \u001b[0;31m# but it's overkill for just that one bit of state.\u001b[0m\u001b[0;34m\u001b[0m\u001b[0;34m\u001b[0m\u001b[0;34m\u001b[0m\u001b[0m\n\u001b[1;32m    186\u001b[0m     \u001b[0;32mdef\u001b[0m \u001b[0mmagic_deco\u001b[0m\u001b[0;34m(\u001b[0m\u001b[0marg\u001b[0m\u001b[0;34m)\u001b[0m\u001b[0;34m:\u001b[0m\u001b[0;34m\u001b[0m\u001b[0;34m\u001b[0m\u001b[0m\n\u001b[0;32m--> 187\u001b[0;31m         \u001b[0mcall\u001b[0m \u001b[0;34m=\u001b[0m \u001b[0;32mlambda\u001b[0m \u001b[0mf\u001b[0m\u001b[0;34m,\u001b[0m \u001b[0;34m*\u001b[0m\u001b[0ma\u001b[0m\u001b[0;34m,\u001b[0m \u001b[0;34m**\u001b[0m\u001b[0mk\u001b[0m\u001b[0;34m:\u001b[0m \u001b[0mf\u001b[0m\u001b[0;34m(\u001b[0m\u001b[0;34m*\u001b[0m\u001b[0ma\u001b[0m\u001b[0;34m,\u001b[0m \u001b[0;34m**\u001b[0m\u001b[0mk\u001b[0m\u001b[0;34m)\u001b[0m\u001b[0;34m\u001b[0m\u001b[0;34m\u001b[0m\u001b[0m\n\u001b[0m\u001b[1;32m    188\u001b[0m \u001b[0;34m\u001b[0m\u001b[0m\n\u001b[1;32m    189\u001b[0m         \u001b[0;32mif\u001b[0m \u001b[0mcallable\u001b[0m\u001b[0;34m(\u001b[0m\u001b[0marg\u001b[0m\u001b[0;34m)\u001b[0m\u001b[0;34m:\u001b[0m\u001b[0;34m\u001b[0m\u001b[0;34m\u001b[0m\u001b[0m\n",
      "\u001b[0;32m~/opt/anaconda3/envs/pa/lib/python3.6/site-packages/IPython/core/magics/script.py\u001b[0m in \u001b[0;36mshebang\u001b[0;34m(self, line, cell)\u001b[0m\n\u001b[1;32m    243\u001b[0m             \u001b[0msys\u001b[0m\u001b[0;34m.\u001b[0m\u001b[0mstderr\u001b[0m\u001b[0;34m.\u001b[0m\u001b[0mflush\u001b[0m\u001b[0;34m(\u001b[0m\u001b[0;34m)\u001b[0m\u001b[0;34m\u001b[0m\u001b[0;34m\u001b[0m\u001b[0m\n\u001b[1;32m    244\u001b[0m         \u001b[0;32mif\u001b[0m \u001b[0margs\u001b[0m\u001b[0;34m.\u001b[0m\u001b[0mraise_error\u001b[0m \u001b[0;32mand\u001b[0m \u001b[0mp\u001b[0m\u001b[0;34m.\u001b[0m\u001b[0mreturncode\u001b[0m\u001b[0;34m!=\u001b[0m\u001b[0;36m0\u001b[0m\u001b[0;34m:\u001b[0m\u001b[0;34m\u001b[0m\u001b[0;34m\u001b[0m\u001b[0m\n\u001b[0;32m--> 245\u001b[0;31m             \u001b[0;32mraise\u001b[0m \u001b[0mCalledProcessError\u001b[0m\u001b[0;34m(\u001b[0m\u001b[0mp\u001b[0m\u001b[0;34m.\u001b[0m\u001b[0mreturncode\u001b[0m\u001b[0;34m,\u001b[0m \u001b[0mcell\u001b[0m\u001b[0;34m,\u001b[0m \u001b[0moutput\u001b[0m\u001b[0;34m=\u001b[0m\u001b[0mout\u001b[0m\u001b[0;34m,\u001b[0m \u001b[0mstderr\u001b[0m\u001b[0;34m=\u001b[0m\u001b[0merr\u001b[0m\u001b[0;34m)\u001b[0m\u001b[0;34m\u001b[0m\u001b[0;34m\u001b[0m\u001b[0m\n\u001b[0m\u001b[1;32m    246\u001b[0m \u001b[0;34m\u001b[0m\u001b[0m\n\u001b[1;32m    247\u001b[0m     \u001b[0;32mdef\u001b[0m \u001b[0m_run_script\u001b[0m\u001b[0;34m(\u001b[0m\u001b[0mself\u001b[0m\u001b[0;34m,\u001b[0m \u001b[0mp\u001b[0m\u001b[0;34m,\u001b[0m \u001b[0mcell\u001b[0m\u001b[0;34m,\u001b[0m \u001b[0mto_close\u001b[0m\u001b[0;34m)\u001b[0m\u001b[0;34m:\u001b[0m\u001b[0;34m\u001b[0m\u001b[0;34m\u001b[0m\u001b[0m\n",
      "\u001b[0;31mCalledProcessError\u001b[0m: Command 'b'yum update\\n'' returned non-zero exit status 127."
     ]
    }
   ],
   "source": [
    "%%bash\n",
    "yum update"
   ]
  },
  {
   "cell_type": "code",
   "execution_count": null,
   "metadata": {},
   "outputs": [],
   "source": []
  }
 ],
 "metadata": {
  "kernelspec": {
   "display_name": "Python 3.6.10 64-bit ('pa': conda)",
   "language": "python",
   "name": "python361064bitpaconda7d56d488549f49edaa3b32ff86a2e4cd"
  },
  "language_info": {
   "codemirror_mode": {
    "name": "ipython",
    "version": 3
   },
   "file_extension": ".py",
   "mimetype": "text/x-python",
   "name": "python",
   "nbconvert_exporter": "python",
   "pygments_lexer": "ipython3",
   "version": "3.6.10"
  }
 },
 "nbformat": 4,
 "nbformat_minor": 4
}
