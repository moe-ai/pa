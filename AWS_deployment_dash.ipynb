{
 "cells": [
  {
   "cell_type": "code",
   "execution_count": 17,
   "metadata": {},
   "outputs": [],
   "source": [
    "!mkdir eb-dash"
   ]
  },
  {
   "cell_type": "code",
   "execution_count": 18,
   "metadata": {},
   "outputs": [
    {
     "name": "stdout",
     "output_type": "stream",
     "text": [
      "/Users/ali/Documents/GitHub/pa/eb-dash\n"
     ]
    }
   ],
   "source": [
    "cd eb-dash"
   ]
  },
  {
   "cell_type": "code",
   "execution_count": 19,
   "metadata": {},
   "outputs": [
    {
     "name": "stdout",
     "output_type": "stream",
     "text": [
      "Requirement already satisfied: flask==1.0.2 in /Users/ali/opt/anaconda3/envs/pa/lib/python3.6/site-packages (1.0.2)\n",
      "Requirement already satisfied: Werkzeug>=0.14 in /Users/ali/opt/anaconda3/envs/pa/lib/python3.6/site-packages (from flask==1.0.2) (1.0.1)\n",
      "Requirement already satisfied: itsdangerous>=0.24 in /Users/ali/opt/anaconda3/envs/pa/lib/python3.6/site-packages (from flask==1.0.2) (1.1.0)\n",
      "Requirement already satisfied: Jinja2>=2.10 in /Users/ali/opt/anaconda3/envs/pa/lib/python3.6/site-packages (from flask==1.0.2) (2.11.2)\n",
      "Requirement already satisfied: click>=5.1 in /Users/ali/opt/anaconda3/envs/pa/lib/python3.6/site-packages (from flask==1.0.2) (7.1.2)\n",
      "Requirement already satisfied: MarkupSafe>=0.23 in /Users/ali/opt/anaconda3/envs/pa/lib/python3.6/site-packages (from Jinja2>=2.10->flask==1.0.2) (1.1.1)\n"
     ]
    }
   ],
   "source": [
    "!pip install flask==1.0.2"
   ]
  },
  {
   "cell_type": "code",
   "execution_count": 20,
   "metadata": {},
   "outputs": [
    {
     "name": "stdout",
     "output_type": "stream",
     "text": [
      "Requirement already up-to-date: awsebcli in /Users/ali/opt/anaconda3/envs/pa/lib/python3.6/site-packages (3.18.1)\n",
      "Requirement already satisfied, skipping upgrade: termcolor==1.1.0 in /Users/ali/opt/anaconda3/envs/pa/lib/python3.6/site-packages (from awsebcli) (1.1.0)\n",
      "Requirement already satisfied, skipping upgrade: python-dateutil<2.8.1,>=2.1 in /Users/ali/opt/anaconda3/envs/pa/lib/python3.6/site-packages (from awsebcli) (2.8.0)\n",
      "Requirement already satisfied, skipping upgrade: future<0.17.0,>=0.16.0 in /Users/ali/opt/anaconda3/envs/pa/lib/python3.6/site-packages (from awsebcli) (0.16.0)\n",
      "Requirement already satisfied, skipping upgrade: setuptools>=20.0 in /Users/ali/opt/anaconda3/envs/pa/lib/python3.6/site-packages (from awsebcli) (47.1.1.post20200604)\n",
      "Requirement already satisfied, skipping upgrade: PyYAML<5.4,>=5.3.1 in /Users/ali/opt/anaconda3/envs/pa/lib/python3.6/site-packages (from awsebcli) (5.3.1)\n",
      "Requirement already satisfied, skipping upgrade: pathspec==0.5.9 in /Users/ali/opt/anaconda3/envs/pa/lib/python3.6/site-packages (from awsebcli) (0.5.9)\n",
      "Requirement already satisfied, skipping upgrade: cement==2.8.2 in /Users/ali/opt/anaconda3/envs/pa/lib/python3.6/site-packages (from awsebcli) (2.8.2)\n",
      "Requirement already satisfied, skipping upgrade: wcwidth<0.2.0,>=0.1.7 in /Users/ali/opt/anaconda3/envs/pa/lib/python3.6/site-packages (from awsebcli) (0.1.9)\n",
      "Requirement already satisfied, skipping upgrade: docker-compose<1.26.0,>=1.25.2 in /Users/ali/opt/anaconda3/envs/pa/lib/python3.6/site-packages (from awsebcli) (1.25.5)\n",
      "Requirement already satisfied, skipping upgrade: botocore<1.16,>=1.15 in /Users/ali/opt/anaconda3/envs/pa/lib/python3.6/site-packages (from awsebcli) (1.15.49)\n",
      "Requirement already satisfied, skipping upgrade: requests<2.21,>=2.20.1 in /Users/ali/opt/anaconda3/envs/pa/lib/python3.6/site-packages (from awsebcli) (2.20.1)\n",
      "Requirement already satisfied, skipping upgrade: urllib3<1.25,>=1.24.1 in /Users/ali/opt/anaconda3/envs/pa/lib/python3.6/site-packages (from awsebcli) (1.24.3)\n",
      "Requirement already satisfied, skipping upgrade: blessed>=1.9.5 in /Users/ali/opt/anaconda3/envs/pa/lib/python3.6/site-packages (from awsebcli) (1.17.8)\n",
      "Requirement already satisfied, skipping upgrade: colorama<1.0,>=0.4 in /Users/ali/opt/anaconda3/envs/pa/lib/python3.6/site-packages (from awsebcli) (0.4.3)\n",
      "Requirement already satisfied, skipping upgrade: six<1.12.0,>=1.11.0 in /Users/ali/opt/anaconda3/envs/pa/lib/python3.6/site-packages (from awsebcli) (1.11.0)\n",
      "Requirement already satisfied, skipping upgrade: semantic-version==2.5.0 in /Users/ali/opt/anaconda3/envs/pa/lib/python3.6/site-packages (from awsebcli) (2.5.0)\n",
      "Requirement already satisfied, skipping upgrade: docopt<1,>=0.6.1 in /Users/ali/opt/anaconda3/envs/pa/lib/python3.6/site-packages (from docker-compose<1.26.0,>=1.25.2->awsebcli) (0.6.2)\n",
      "Requirement already satisfied, skipping upgrade: cached-property<2,>=1.2.0 in /Users/ali/opt/anaconda3/envs/pa/lib/python3.6/site-packages (from docker-compose<1.26.0,>=1.25.2->awsebcli) (1.5.1)\n",
      "Requirement already satisfied, skipping upgrade: dockerpty<1,>=0.4.1 in /Users/ali/opt/anaconda3/envs/pa/lib/python3.6/site-packages (from docker-compose<1.26.0,>=1.25.2->awsebcli) (0.4.1)\n",
      "Requirement already satisfied, skipping upgrade: texttable<2,>=0.9.0 in /Users/ali/opt/anaconda3/envs/pa/lib/python3.6/site-packages (from docker-compose<1.26.0,>=1.25.2->awsebcli) (1.6.2)\n",
      "Requirement already satisfied, skipping upgrade: jsonschema<4,>=2.5.1 in /Users/ali/opt/anaconda3/envs/pa/lib/python3.6/site-packages (from docker-compose<1.26.0,>=1.25.2->awsebcli) (3.2.0)\n",
      "Requirement already satisfied, skipping upgrade: websocket-client<1,>=0.32.0 in /Users/ali/opt/anaconda3/envs/pa/lib/python3.6/site-packages (from docker-compose<1.26.0,>=1.25.2->awsebcli) (0.57.0)\n",
      "Requirement already satisfied, skipping upgrade: docker[ssh]<5,>=3.7.0 in /Users/ali/opt/anaconda3/envs/pa/lib/python3.6/site-packages (from docker-compose<1.26.0,>=1.25.2->awsebcli) (4.2.1)\n",
      "Requirement already satisfied, skipping upgrade: docutils<0.16,>=0.10 in /Users/ali/opt/anaconda3/envs/pa/lib/python3.6/site-packages (from botocore<1.16,>=1.15->awsebcli) (0.15.2)\n",
      "Requirement already satisfied, skipping upgrade: jmespath<1.0.0,>=0.7.1 in /Users/ali/opt/anaconda3/envs/pa/lib/python3.6/site-packages (from botocore<1.16,>=1.15->awsebcli) (0.10.0)\n",
      "Requirement already satisfied, skipping upgrade: certifi>=2017.4.17 in /Users/ali/opt/anaconda3/envs/pa/lib/python3.6/site-packages (from requests<2.21,>=2.20.1->awsebcli) (2020.4.5.1)\n",
      "Requirement already satisfied, skipping upgrade: idna<2.8,>=2.5 in /Users/ali/opt/anaconda3/envs/pa/lib/python3.6/site-packages (from requests<2.21,>=2.20.1->awsebcli) (2.7)\n",
      "Requirement already satisfied, skipping upgrade: chardet<3.1.0,>=3.0.2 in /Users/ali/opt/anaconda3/envs/pa/lib/python3.6/site-packages (from requests<2.21,>=2.20.1->awsebcli) (3.0.4)\n",
      "Requirement already satisfied, skipping upgrade: attrs>=17.4.0 in /Users/ali/opt/anaconda3/envs/pa/lib/python3.6/site-packages (from jsonschema<4,>=2.5.1->docker-compose<1.26.0,>=1.25.2->awsebcli) (19.3.0)\n",
      "Requirement already satisfied, skipping upgrade: pyrsistent>=0.14.0 in /Users/ali/opt/anaconda3/envs/pa/lib/python3.6/site-packages (from jsonschema<4,>=2.5.1->docker-compose<1.26.0,>=1.25.2->awsebcli) (0.16.0)\n",
      "Requirement already satisfied, skipping upgrade: importlib-metadata; python_version < \"3.8\" in /Users/ali/opt/anaconda3/envs/pa/lib/python3.6/site-packages (from jsonschema<4,>=2.5.1->docker-compose<1.26.0,>=1.25.2->awsebcli) (1.6.1)\n",
      "Requirement already satisfied, skipping upgrade: paramiko>=2.4.2; extra == \"ssh\" in /Users/ali/opt/anaconda3/envs/pa/lib/python3.6/site-packages (from docker[ssh]<5,>=3.7.0->docker-compose<1.26.0,>=1.25.2->awsebcli) (2.7.1)\n",
      "Requirement already satisfied, skipping upgrade: zipp>=0.5 in /Users/ali/opt/anaconda3/envs/pa/lib/python3.6/site-packages (from importlib-metadata; python_version < \"3.8\"->jsonschema<4,>=2.5.1->docker-compose<1.26.0,>=1.25.2->awsebcli) (3.1.0)\n",
      "Requirement already satisfied, skipping upgrade: cryptography>=2.5 in /Users/ali/opt/anaconda3/envs/pa/lib/python3.6/site-packages (from paramiko>=2.4.2; extra == \"ssh\"->docker[ssh]<5,>=3.7.0->docker-compose<1.26.0,>=1.25.2->awsebcli) (2.9.2)\n",
      "Requirement already satisfied, skipping upgrade: bcrypt>=3.1.3 in /Users/ali/opt/anaconda3/envs/pa/lib/python3.6/site-packages (from paramiko>=2.4.2; extra == \"ssh\"->docker[ssh]<5,>=3.7.0->docker-compose<1.26.0,>=1.25.2->awsebcli) (3.1.7)\n",
      "Requirement already satisfied, skipping upgrade: pynacl>=1.0.1 in /Users/ali/opt/anaconda3/envs/pa/lib/python3.6/site-packages (from paramiko>=2.4.2; extra == \"ssh\"->docker[ssh]<5,>=3.7.0->docker-compose<1.26.0,>=1.25.2->awsebcli) (1.4.0)\n",
      "Requirement already satisfied, skipping upgrade: cffi!=1.11.3,>=1.8 in /Users/ali/opt/anaconda3/envs/pa/lib/python3.6/site-packages (from cryptography>=2.5->paramiko>=2.4.2; extra == \"ssh\"->docker[ssh]<5,>=3.7.0->docker-compose<1.26.0,>=1.25.2->awsebcli) (1.14.0)\n",
      "Requirement already satisfied, skipping upgrade: pycparser in /Users/ali/opt/anaconda3/envs/pa/lib/python3.6/site-packages (from cffi!=1.11.3,>=1.8->cryptography>=2.5->paramiko>=2.4.2; extra == \"ssh\"->docker[ssh]<5,>=3.7.0->docker-compose<1.26.0,>=1.25.2->awsebcli) (2.20)\n"
     ]
    }
   ],
   "source": [
    "!pip install awsebcli --upgrade --user"
   ]
  },
  {
   "cell_type": "code",
   "execution_count": 21,
   "metadata": {},
   "outputs": [],
   "source": [
    "!pip freeze > requirements.txt"
   ]
  },
  {
   "cell_type": "code",
   "execution_count": 22,
   "metadata": {},
   "outputs": [
    {
     "name": "stdout",
     "output_type": "stream",
     "text": [
      "requirements.txt\r\n"
     ]
    }
   ],
   "source": [
    "ls"
   ]
  },
  {
   "cell_type": "code",
   "execution_count": null,
   "metadata": {},
   "outputs": [],
   "source": [
    "%%writefile application.py\n",
    "# -*- coding: utf-8 -*-\n",
    "import dash\n",
    "import dash_core_components as dcc\n",
    "import dash_html_components as html\n",
    "\n",
    "external_stylesheets = ['https://codepen.io/chriddyp/pen/bWLwgP.css']\n",
    "\n",
    "app = dash.Dash(__name__, external_stylesheets=external_stylesheets)\n",
    "\n",
    "app.layout = html.Div(children=[\n",
    "    html.H1(children='Hello Dash'),\n",
    "\n",
    "    html.Div(children='''\n",
    "        Dash: A web application framework for Python.\n",
    "    '''),\n",
    "\n",
    "    dcc.Graph(\n",
    "        id='example-graph',\n",
    "        figure={\n",
    "            'data': [\n",
    "                {'x': [1, 2, 3], 'y': [4, 1, 2], 'type': 'bar', 'name': 'SF'},\n",
    "                {'x': [1, 2, 3], 'y': [2, 4, 5], 'type': 'bar', 'name': u'Montréal'},\n",
    "            ],\n",
    "            'layout': {\n",
    "                'title': 'Dash Data Visualization'\n",
    "            }\n",
    "        }\n",
    "    )\n",
    "])\n",
    "\n",
    "if __name__ == '__main__':\n",
    "    app.run_server(debug=True)"
   ]
  },
  {
   "cell_type": "code",
   "execution_count": 24,
   "metadata": {},
   "outputs": [
    {
     "name": "stdout",
     "output_type": "stream",
     "text": [
      "Running on http://127.0.0.1:8050/\n",
      "Debugger PIN: 358-052-738\n",
      " * Serving Flask app \"application\" (lazy loading)\n",
      " * Environment: production\n",
      "\u001b[31m   WARNING: Do not use the development server in a production environment.\u001b[0m\n",
      "\u001b[2m   Use a production WSGI server instead.\u001b[0m\n",
      " * Debug mode: on\n",
      "Running on http://127.0.0.1:8050/\n",
      "Debugger PIN: 281-372-304\n",
      "^C\n"
     ]
    }
   ],
   "source": [
    "!python application.py"
   ]
  },
  {
   "cell_type": "markdown",
   "metadata": {},
   "source": [
    "To create an environment and deploy your flask application"
   ]
  },
  {
   "cell_type": "code",
   "execution_count": 47,
   "metadata": {},
   "outputs": [],
   "source": [
    "#!eb init -p python-3.6 flask-tutorial --region us-east-2"
   ]
  },
  {
   "cell_type": "code",
   "execution_count": null,
   "metadata": {},
   "outputs": [
    {
     "name": "stdout",
     "output_type": "stream",
     "text": [
      "\r\n",
      "Select an application to use\r\n",
      "1) eb-dash\r\n",
      "2) flask-tutorial\r\n",
      "3) [ Create new Application ]\r\n",
      "(default is 1): "
     ]
    }
   ],
   "source": [
    "!eb init --region us-east-2"
   ]
  },
  {
   "cell_type": "code",
   "execution_count": 26,
   "metadata": {},
   "outputs": [
    {
     "name": "stdout",
     "output_type": "stream",
     "text": [
      "\u001b[1m\u001b[31mERROR: The EB CLI cannot find a default region. Run \"eb init\" or use a specific region by including the \"--region\" option with the command.\u001b[39m\u001b[22m\r\n",
      "\u001b[0m"
     ]
    }
   ],
   "source": [
    "!eb create"
   ]
  },
  {
   "cell_type": "code",
   "execution_count": 49,
   "metadata": {},
   "outputs": [],
   "source": [
    "!eb open\n",
    "#http://flask-env.eba-wsurdvur.us-east-2.elasticbeanstalk.com/"
   ]
  },
  {
   "cell_type": "code",
   "execution_count": null,
   "metadata": {},
   "outputs": [],
   "source": []
  },
  {
   "cell_type": "code",
   "execution_count": null,
   "metadata": {},
   "outputs": [],
   "source": []
  },
  {
   "cell_type": "code",
   "execution_count": null,
   "metadata": {},
   "outputs": [],
   "source": []
  },
  {
   "cell_type": "code",
   "execution_count": 33,
   "metadata": {},
   "outputs": [
    {
     "name": "stdout",
     "output_type": "stream",
     "text": [
      "The environment \"flask-env\" and all associated instances will be terminated.\n",
      "To confirm, type the environment name: \n",
      "\n"
     ]
    }
   ],
   "source": [
    "!eb terminate flask-env"
   ]
  },
  {
   "cell_type": "code",
   "execution_count": null,
   "metadata": {},
   "outputs": [],
   "source": []
  },
  {
   "cell_type": "code",
   "execution_count": null,
   "metadata": {},
   "outputs": [],
   "source": [
    "# temp\n",
    "!cat ../dash/"
   ]
  }
 ],
 "metadata": {
  "kernelspec": {
   "display_name": "Python 3.6.10 64-bit ('pa': conda)",
   "language": "python",
   "name": "python361064bitpaconda7d56d488549f49edaa3b32ff86a2e4cd"
  },
  "language_info": {
   "codemirror_mode": {
    "name": "ipython",
    "version": 3
   },
   "file_extension": ".py",
   "mimetype": "text/x-python",
   "name": "python",
   "nbconvert_exporter": "python",
   "pygments_lexer": "ipython3",
   "version": "3.6.10"
  }
 },
 "nbformat": 4,
 "nbformat_minor": 4
}
