{
 "cells": [
  {
   "cell_type": "code",
   "execution_count": 1,
   "metadata": {},
   "outputs": [],
   "source": [
    "import pandas as pd\n",
    "df = pd.read_csv('data/machinevision.csv', index_col = 0)"
   ]
  },
  {
   "cell_type": "code",
   "execution_count": 3,
   "metadata": {},
   "outputs": [
    {
     "data": {
      "text/html": [
       "<div>\n",
       "<style scoped>\n",
       "    .dataframe tbody tr th:only-of-type {\n",
       "        vertical-align: middle;\n",
       "    }\n",
       "\n",
       "    .dataframe tbody tr th {\n",
       "        vertical-align: top;\n",
       "    }\n",
       "\n",
       "    .dataframe thead th {\n",
       "        text-align: right;\n",
       "    }\n",
       "</style>\n",
       "<table border=\"1\" class=\"dataframe\">\n",
       "  <thead>\n",
       "    <tr style=\"text-align: right;\">\n",
       "      <th></th>\n",
       "      <th>ROAD NAME</th>\n",
       "      <th>geo_loc</th>\n",
       "      <th>machine_vision_prediction</th>\n",
       "      <th>LENGTH\\n(FT)</th>\n",
       "      <th>AVERAGE WIDTH (FT)</th>\n",
       "      <th>AREA (SF)</th>\n",
       "      <th>AREA (SY)</th>\n",
       "      <th>Year RESURFACED</th>\n",
       "      <th>Pavement Rate Total</th>\n",
       "      <th>Pavement Rate Overall</th>\n",
       "      <th>Latitude</th>\n",
       "      <th>Longitude</th>\n",
       "      <th>coords</th>\n",
       "      <th>geometry</th>\n",
       "    </tr>\n",
       "    <tr>\n",
       "      <th>num</th>\n",
       "      <th></th>\n",
       "      <th></th>\n",
       "      <th></th>\n",
       "      <th></th>\n",
       "      <th></th>\n",
       "      <th></th>\n",
       "      <th></th>\n",
       "      <th></th>\n",
       "      <th></th>\n",
       "      <th></th>\n",
       "      <th></th>\n",
       "      <th></th>\n",
       "      <th></th>\n",
       "      <th></th>\n",
       "    </tr>\n",
       "  </thead>\n",
       "  <tbody>\n",
       "    <tr>\n",
       "      <th>I</th>\n",
       "      <td>AQUEDUCT LANE</td>\n",
       "      <td>41.039262, -73.866576</td>\n",
       "      <td>8.143537</td>\n",
       "      <td>215.0</td>\n",
       "      <td>21.0</td>\n",
       "      <td>4515.0</td>\n",
       "      <td>501.67</td>\n",
       "      <td>1993.0</td>\n",
       "      <td>9.35</td>\n",
       "      <td>9.0</td>\n",
       "      <td>41.039262</td>\n",
       "      <td>-73.866576</td>\n",
       "      <td>(-73.866576, 41.039262)</td>\n",
       "      <td>POINT (-73.86657599999999 41.039262)</td>\n",
       "    </tr>\n",
       "    <tr>\n",
       "      <th>2</th>\n",
       "      <td>ARDSLEY AVE. EAST</td>\n",
       "      <td>41.025517, -73.866235</td>\n",
       "      <td>2.710748</td>\n",
       "      <td>885.0</td>\n",
       "      <td>20.0</td>\n",
       "      <td>17700.0</td>\n",
       "      <td>1966.67</td>\n",
       "      <td>1994.0</td>\n",
       "      <td>4.50</td>\n",
       "      <td>5.0</td>\n",
       "      <td>41.025517</td>\n",
       "      <td>-73.866235</td>\n",
       "      <td>(-73.866235, 41.025517)</td>\n",
       "      <td>POINT (-73.866235 41.025517)</td>\n",
       "    </tr>\n",
       "    <tr>\n",
       "      <th>3</th>\n",
       "      <td>ARDSLEY AVE. WEST*</td>\n",
       "      <td>41.025593, -73.872857</td>\n",
       "      <td>7.368577</td>\n",
       "      <td>2764.0</td>\n",
       "      <td>20.0</td>\n",
       "      <td>55280.0</td>\n",
       "      <td>6142.22</td>\n",
       "      <td>1992.0</td>\n",
       "      <td>6.80</td>\n",
       "      <td>7.0</td>\n",
       "      <td>41.025593</td>\n",
       "      <td>-73.872857</td>\n",
       "      <td>(-73.872857, 41.025593)</td>\n",
       "      <td>POINT (-73.872857 41.025593)</td>\n",
       "    </tr>\n",
       "    <tr>\n",
       "      <th>4</th>\n",
       "      <td>BARBARA LANE*</td>\n",
       "      <td>41.042897, -73.854404</td>\n",
       "      <td>7.368577</td>\n",
       "      <td>591.0</td>\n",
       "      <td>23.0</td>\n",
       "      <td>13593.0</td>\n",
       "      <td>1510.33</td>\n",
       "      <td>2009.0</td>\n",
       "      <td>8.30</td>\n",
       "      <td>8.0</td>\n",
       "      <td>41.042897</td>\n",
       "      <td>-73.854404</td>\n",
       "      <td>(-73.854404, 41.042897)</td>\n",
       "      <td>POINT (-73.854404 41.042897)</td>\n",
       "    </tr>\n",
       "    <tr>\n",
       "      <th>5</th>\n",
       "      <td>BEECHWOOD LANE*</td>\n",
       "      <td>41.027831, -73.865263</td>\n",
       "      <td>6.667364</td>\n",
       "      <td>1636.0</td>\n",
       "      <td>24.0</td>\n",
       "      <td>39264.0</td>\n",
       "      <td>4362.67</td>\n",
       "      <td>2001.0</td>\n",
       "      <td>8.30</td>\n",
       "      <td>8.0</td>\n",
       "      <td>41.027831</td>\n",
       "      <td>-73.865263</td>\n",
       "      <td>(-73.865263, 41.027831)</td>\n",
       "      <td>POINT (-73.865263 41.027831)</td>\n",
       "    </tr>\n",
       "  </tbody>\n",
       "</table>\n",
       "</div>"
      ],
      "text/plain": [
       "              ROAD NAME                geo_loc  machine_vision_prediction  \\\n",
       "num                                                                         \n",
       "I         AQUEDUCT LANE  41.039262, -73.866576                   8.143537   \n",
       "2     ARDSLEY AVE. EAST  41.025517, -73.866235                   2.710748   \n",
       "3    ARDSLEY AVE. WEST*  41.025593, -73.872857                   7.368577   \n",
       "4         BARBARA LANE*  41.042897, -73.854404                   7.368577   \n",
       "5       BEECHWOOD LANE*  41.027831, -73.865263                   6.667364   \n",
       "\n",
       "     LENGTH\\n(FT)  AVERAGE WIDTH (FT)  AREA (SF)  AREA (SY)  Year RESURFACED  \\\n",
       "num                                                                            \n",
       "I           215.0                21.0     4515.0     501.67           1993.0   \n",
       "2           885.0                20.0    17700.0    1966.67           1994.0   \n",
       "3          2764.0                20.0    55280.0    6142.22           1992.0   \n",
       "4           591.0                23.0    13593.0    1510.33           2009.0   \n",
       "5          1636.0                24.0    39264.0    4362.67           2001.0   \n",
       "\n",
       "     Pavement Rate Total  Pavement Rate Overall   Latitude  Longitude  \\\n",
       "num                                                                     \n",
       "I                   9.35                    9.0  41.039262 -73.866576   \n",
       "2                   4.50                    5.0  41.025517 -73.866235   \n",
       "3                   6.80                    7.0  41.025593 -73.872857   \n",
       "4                   8.30                    8.0  41.042897 -73.854404   \n",
       "5                   8.30                    8.0  41.027831 -73.865263   \n",
       "\n",
       "                      coords                              geometry  \n",
       "num                                                                 \n",
       "I    (-73.866576, 41.039262)  POINT (-73.86657599999999 41.039262)  \n",
       "2    (-73.866235, 41.025517)          POINT (-73.866235 41.025517)  \n",
       "3    (-73.872857, 41.025593)          POINT (-73.872857 41.025593)  \n",
       "4    (-73.854404, 41.042897)          POINT (-73.854404 41.042897)  \n",
       "5    (-73.865263, 41.027831)          POINT (-73.865263 41.027831)  "
      ]
     },
     "execution_count": 3,
     "metadata": {},
     "output_type": "execute_result"
    }
   ],
   "source": [
    "df.head()"
   ]
  },
  {
   "cell_type": "code",
   "execution_count": 43,
   "metadata": {},
   "outputs": [],
   "source": [
    "df['PCI'] = ['very good: no maintenance' if (x >= 8 and x <10) else 'good:  routine maintenance' if (x >= 6 and x <8) else 'fair:  preventative maintenance' if (x >= 4 and x <6) else 'poor: Rehabilitation' if (x >= 3 and x <4) else 'poor: Rehabilitation' if (x >= 0 and x <3) else 'data out of range' for x in df['machine_vision_prediction']]\n",
    "\n"
   ]
  },
  {
   "cell_type": "code",
   "execution_count": 44,
   "metadata": {},
   "outputs": [
    {
     "data": {
      "text/html": [
       "<div>\n",
       "<style scoped>\n",
       "    .dataframe tbody tr th:only-of-type {\n",
       "        vertical-align: middle;\n",
       "    }\n",
       "\n",
       "    .dataframe tbody tr th {\n",
       "        vertical-align: top;\n",
       "    }\n",
       "\n",
       "    .dataframe thead th {\n",
       "        text-align: right;\n",
       "    }\n",
       "</style>\n",
       "<table border=\"1\" class=\"dataframe\">\n",
       "  <thead>\n",
       "    <tr style=\"text-align: right;\">\n",
       "      <th></th>\n",
       "      <th>ROAD NAME</th>\n",
       "      <th>geo_loc</th>\n",
       "      <th>machine_vision_prediction</th>\n",
       "      <th>LENGTH\\n(FT)</th>\n",
       "      <th>AVERAGE WIDTH (FT)</th>\n",
       "      <th>AREA (SF)</th>\n",
       "      <th>AREA (SY)</th>\n",
       "      <th>Year RESURFACED</th>\n",
       "      <th>Pavement Rate Total</th>\n",
       "      <th>Pavement Rate Overall</th>\n",
       "      <th>Latitude</th>\n",
       "      <th>Longitude</th>\n",
       "      <th>coords</th>\n",
       "      <th>geometry</th>\n",
       "      <th>PCI</th>\n",
       "      <th>PCI2</th>\n",
       "    </tr>\n",
       "    <tr>\n",
       "      <th>num</th>\n",
       "      <th></th>\n",
       "      <th></th>\n",
       "      <th></th>\n",
       "      <th></th>\n",
       "      <th></th>\n",
       "      <th></th>\n",
       "      <th></th>\n",
       "      <th></th>\n",
       "      <th></th>\n",
       "      <th></th>\n",
       "      <th></th>\n",
       "      <th></th>\n",
       "      <th></th>\n",
       "      <th></th>\n",
       "      <th></th>\n",
       "      <th></th>\n",
       "    </tr>\n",
       "  </thead>\n",
       "  <tbody>\n",
       "    <tr>\n",
       "      <th>I</th>\n",
       "      <td>AQUEDUCT LANE</td>\n",
       "      <td>41.039262, -73.866576</td>\n",
       "      <td>8.143537</td>\n",
       "      <td>215.0</td>\n",
       "      <td>21.0</td>\n",
       "      <td>4515.0</td>\n",
       "      <td>501.67</td>\n",
       "      <td>1993.0</td>\n",
       "      <td>9.35</td>\n",
       "      <td>9.0</td>\n",
       "      <td>41.039262</td>\n",
       "      <td>-73.866576</td>\n",
       "      <td>(-73.866576, 41.039262)</td>\n",
       "      <td>POINT (-73.86657599999999 41.039262)</td>\n",
       "      <td>very good: no maintenance</td>\n",
       "      <td>verygood</td>\n",
       "    </tr>\n",
       "    <tr>\n",
       "      <th>2</th>\n",
       "      <td>ARDSLEY AVE. EAST</td>\n",
       "      <td>41.025517, -73.866235</td>\n",
       "      <td>2.710748</td>\n",
       "      <td>885.0</td>\n",
       "      <td>20.0</td>\n",
       "      <td>17700.0</td>\n",
       "      <td>1966.67</td>\n",
       "      <td>1994.0</td>\n",
       "      <td>4.50</td>\n",
       "      <td>5.0</td>\n",
       "      <td>41.025517</td>\n",
       "      <td>-73.866235</td>\n",
       "      <td>(-73.866235, 41.025517)</td>\n",
       "      <td>POINT (-73.866235 41.025517)</td>\n",
       "      <td>poor: Rehabilitation</td>\n",
       "      <td>fair</td>\n",
       "    </tr>\n",
       "    <tr>\n",
       "      <th>3</th>\n",
       "      <td>ARDSLEY AVE. WEST*</td>\n",
       "      <td>41.025593, -73.872857</td>\n",
       "      <td>7.368577</td>\n",
       "      <td>2764.0</td>\n",
       "      <td>20.0</td>\n",
       "      <td>55280.0</td>\n",
       "      <td>6142.22</td>\n",
       "      <td>1992.0</td>\n",
       "      <td>6.80</td>\n",
       "      <td>7.0</td>\n",
       "      <td>41.025593</td>\n",
       "      <td>-73.872857</td>\n",
       "      <td>(-73.872857, 41.025593)</td>\n",
       "      <td>POINT (-73.872857 41.025593)</td>\n",
       "      <td>good:  routine maintenance</td>\n",
       "      <td>good</td>\n",
       "    </tr>\n",
       "    <tr>\n",
       "      <th>4</th>\n",
       "      <td>BARBARA LANE*</td>\n",
       "      <td>41.042897, -73.854404</td>\n",
       "      <td>7.368577</td>\n",
       "      <td>591.0</td>\n",
       "      <td>23.0</td>\n",
       "      <td>13593.0</td>\n",
       "      <td>1510.33</td>\n",
       "      <td>2009.0</td>\n",
       "      <td>8.30</td>\n",
       "      <td>8.0</td>\n",
       "      <td>41.042897</td>\n",
       "      <td>-73.854404</td>\n",
       "      <td>(-73.854404, 41.042897)</td>\n",
       "      <td>POINT (-73.854404 41.042897)</td>\n",
       "      <td>good:  routine maintenance</td>\n",
       "      <td>verygood</td>\n",
       "    </tr>\n",
       "    <tr>\n",
       "      <th>5</th>\n",
       "      <td>BEECHWOOD LANE*</td>\n",
       "      <td>41.027831, -73.865263</td>\n",
       "      <td>6.667364</td>\n",
       "      <td>1636.0</td>\n",
       "      <td>24.0</td>\n",
       "      <td>39264.0</td>\n",
       "      <td>4362.67</td>\n",
       "      <td>2001.0</td>\n",
       "      <td>8.30</td>\n",
       "      <td>8.0</td>\n",
       "      <td>41.027831</td>\n",
       "      <td>-73.865263</td>\n",
       "      <td>(-73.865263, 41.027831)</td>\n",
       "      <td>POINT (-73.865263 41.027831)</td>\n",
       "      <td>good:  routine maintenance</td>\n",
       "      <td>verygood</td>\n",
       "    </tr>\n",
       "  </tbody>\n",
       "</table>\n",
       "</div>"
      ],
      "text/plain": [
       "              ROAD NAME                geo_loc  machine_vision_prediction  \\\n",
       "num                                                                         \n",
       "I         AQUEDUCT LANE  41.039262, -73.866576                   8.143537   \n",
       "2     ARDSLEY AVE. EAST  41.025517, -73.866235                   2.710748   \n",
       "3    ARDSLEY AVE. WEST*  41.025593, -73.872857                   7.368577   \n",
       "4         BARBARA LANE*  41.042897, -73.854404                   7.368577   \n",
       "5       BEECHWOOD LANE*  41.027831, -73.865263                   6.667364   \n",
       "\n",
       "     LENGTH\\n(FT)  AVERAGE WIDTH (FT)  AREA (SF)  AREA (SY)  Year RESURFACED  \\\n",
       "num                                                                            \n",
       "I           215.0                21.0     4515.0     501.67           1993.0   \n",
       "2           885.0                20.0    17700.0    1966.67           1994.0   \n",
       "3          2764.0                20.0    55280.0    6142.22           1992.0   \n",
       "4           591.0                23.0    13593.0    1510.33           2009.0   \n",
       "5          1636.0                24.0    39264.0    4362.67           2001.0   \n",
       "\n",
       "     Pavement Rate Total  Pavement Rate Overall   Latitude  Longitude  \\\n",
       "num                                                                     \n",
       "I                   9.35                    9.0  41.039262 -73.866576   \n",
       "2                   4.50                    5.0  41.025517 -73.866235   \n",
       "3                   6.80                    7.0  41.025593 -73.872857   \n",
       "4                   8.30                    8.0  41.042897 -73.854404   \n",
       "5                   8.30                    8.0  41.027831 -73.865263   \n",
       "\n",
       "                      coords                              geometry  \\\n",
       "num                                                                  \n",
       "I    (-73.866576, 41.039262)  POINT (-73.86657599999999 41.039262)   \n",
       "2    (-73.866235, 41.025517)          POINT (-73.866235 41.025517)   \n",
       "3    (-73.872857, 41.025593)          POINT (-73.872857 41.025593)   \n",
       "4    (-73.854404, 41.042897)          POINT (-73.854404 41.042897)   \n",
       "5    (-73.865263, 41.027831)          POINT (-73.865263 41.027831)   \n",
       "\n",
       "                            PCI      PCI2  \n",
       "num                                        \n",
       "I     very good: no maintenance  verygood  \n",
       "2          poor: Rehabilitation      fair  \n",
       "3    good:  routine maintenance      good  \n",
       "4    good:  routine maintenance  verygood  \n",
       "5    good:  routine maintenance  verygood  "
      ]
     },
     "execution_count": 44,
     "metadata": {},
     "output_type": "execute_result"
    }
   ],
   "source": [
    "df.head()"
   ]
  },
  {
   "cell_type": "code",
   "execution_count": 45,
   "metadata": {},
   "outputs": [
    {
     "data": {
      "application/vnd.plotly.v1+json": {
       "config": {
        "plotlyServerURL": "https://plot.ly"
       },
       "data": [
        {
         "customdata": [
          [
           8.143536762323636,
           9.35,
           "very good: no maintenance"
          ],
          [
           2.7107479072098184,
           4.5,
           "poor: Rehabilitation"
          ],
          [
           7.368576777701835,
           6.8,
           "good:  routine maintenance"
          ],
          [
           7.368576777701835,
           8.3,
           "good:  routine maintenance"
          ],
          [
           6.667363986135461,
           8.3,
           "good:  routine maintenance"
          ],
          [
           5.458775937413701,
           4.9,
           "fair:  preventative maintenance"
          ],
          [
           6.667363986135461,
           6.9,
           "good:  routine maintenance"
          ],
          [
           7.368576777701835,
           6.5,
           "good:  routine maintenance"
          ],
          [
           7.368576777701835,
           6.8,
           "good:  routine maintenance"
          ],
          [
           4.939304724846237,
           8.3,
           "fair:  preventative maintenance"
          ],
          [
           3.659126937665392,
           5.1,
           "poor: Rehabilitation"
          ],
          [
           4.4692677341226865,
           4.9,
           "fair:  preventative maintenance"
          ],
          [
           6.032880414320754,
           6.6,
           "good:  routine maintenance"
          ],
          [
           5.458775937413701,
           6.6,
           "fair:  preventative maintenance"
          ],
          [
           3.3109149705429815,
           6.5431578947368445,
           "poor: Rehabilitation"
          ],
          [
           4.939304724846237,
           8.3,
           "fair:  preventative maintenance"
          ],
          [
           0.8164615796047122,
           3.75,
           "poor: Rehabilitation"
          ],
          [
           5.458775937413701,
           6.9,
           "fair:  preventative maintenance"
          ],
          [
           4.939304724846237,
           8.3,
           "fair:  preventative maintenance"
          ],
          [
           6.667363986135461,
           6.9,
           "good:  routine maintenance"
          ],
          [
           8.143536762323636,
           5,
           "very good: no maintenance"
          ],
          [
           9,
           8.3,
           "very good: no maintenance"
          ],
          [
           5.458775937413701,
           7.65,
           "fair:  preventative maintenance"
          ],
          [
           4.939304724846237,
           7.25,
           "fair:  preventative maintenance"
          ],
          [
           4.939304724846237,
           3,
           "fair:  preventative maintenance"
          ],
          [
           7.368576777701835,
           3,
           "good:  routine maintenance"
          ],
          [
           2.9958397532827163,
           5,
           "poor: Rehabilitation"
          ],
          [
           4.043960677054994,
           5,
           "fair:  preventative maintenance"
          ],
          [
           6.032880414320754,
           7.65,
           "good:  routine maintenance"
          ],
          [
           5.458775937413701,
           8.3,
           "fair:  preventative maintenance"
          ],
          [
           4.4692677341226865,
           6.8,
           "fair:  preventative maintenance"
          ],
          [
           8.143536762323636,
           4.25,
           "very good: no maintenance"
          ],
          [
           2.9958397532827163,
           7.65,
           "poor: Rehabilitation"
          ],
          [
           2.219372675474458,
           6.6,
           "poor: Rehabilitation"
          ],
          [
           2.7107479072098184,
           6.6,
           "poor: Rehabilitation"
          ],
          [
           6.667363986135461,
           6.5431578947368445,
           "good:  routine maintenance"
          ],
          [
           0.2717764508008665,
           7.65,
           "poor: Rehabilitation"
          ],
          [
           2.9958397532827163,
           7,
           "poor: Rehabilitation"
          ],
          [
           6.032880414320754,
           5,
           "good:  routine maintenance"
          ],
          [
           6.032880414320754,
           6.5431578947368445,
           "good:  routine maintenance"
          ],
          [
           9,
           6.5431578947368445,
           "very good: no maintenance"
          ],
          [
           9,
           5,
           "very good: no maintenance"
          ],
          [
           4.043960677054994,
           5,
           "fair:  preventative maintenance"
          ],
          [
           7.368576777701835,
           7.65,
           "good:  routine maintenance"
          ],
          [
           3.3109149705429815,
           6.5431578947368445,
           "poor: Rehabilitation"
          ],
          [
           2.219372675474458,
           7.25,
           "poor: Rehabilitation"
          ],
          [
           6.032880414320754,
           6.6,
           "good:  routine maintenance"
          ],
          [
           3.659126937665392,
           6.6,
           "poor: Rehabilitation"
          ],
          [
           1.8170686619518983,
           7.55,
           "poor: Rehabilitation"
          ],
          [
           9,
           6.6,
           "very good: no maintenance"
          ],
          [
           2.4527861373061133,
           7.55,
           "poor: Rehabilitation"
          ],
          [
           6.032880414320754,
           5.85,
           "good:  routine maintenance"
          ],
          [
           4.043960677054994,
           6.5431578947368445,
           "fair:  preventative maintenance"
          ],
          [
           3.659126937665392,
           5.85,
           "poor: Rehabilitation"
          ],
          [
           6.667363986135461,
           7.65,
           "good:  routine maintenance"
          ],
          [
           1.6441517164746116,
           8.3,
           "poor: Rehabilitation"
          ],
          [
           6.667363986135461,
           7.65,
           "good:  routine maintenance"
          ],
          [
           2.008171441335868,
           6.6,
           "poor: Rehabilitation"
          ],
          [
           4.939304724846237,
           6.6,
           "fair:  preventative maintenance"
          ],
          [
           6.667363986135461,
           7,
           "good:  routine maintenance"
          ],
          [
           6.032880414320754,
           5.85,
           "good:  routine maintenance"
          ],
          [
           7.368576777701835,
           5.85,
           "good:  routine maintenance"
          ],
          [
           9,
           5.95,
           "very good: no maintenance"
          ],
          [
           1.2180175491295144,
           4.8,
           "poor: Rehabilitation"
          ],
          [
           1.4876899939942787,
           8.3,
           "poor: Rehabilitation"
          ],
          [
           1.4876899939942787,
           8.3,
           "poor: Rehabilitation"
          ],
          [
           6.667363986135461,
           6.6,
           "good:  routine maintenance"
          ],
          [
           4.939304724846237,
           7.55,
           "fair:  preventative maintenance"
          ],
          [
           7.368576777701835,
           8.3,
           "good:  routine maintenance"
          ],
          [
           4.939304724846237,
           8.3,
           "fair:  preventative maintenance"
          ],
          [
           4.939304724846237,
           5.1,
           "fair:  preventative maintenance"
          ],
          [
           4.939304724846237,
           8.3,
           "fair:  preventative maintenance"
          ],
          [
           7.368576777701835,
           5.85,
           "good:  routine maintenance"
          ],
          [
           4.043960677054994,
           6.5431578947368445,
           "fair:  preventative maintenance"
          ],
          [
           3.659126937665392,
           8.3,
           "poor: Rehabilitation"
          ],
          [
           6.667363986135461,
           6.9,
           "good:  routine maintenance"
          ],
          [
           2.9958397532827163,
           8.3,
           "poor: Rehabilitation"
          ],
          [
           8.143536762323636,
           7.65,
           "very good: no maintenance"
          ],
          [
           5.458775937413701,
           5.85,
           "fair:  preventative maintenance"
          ],
          [
           7.368576777701835,
           4.15,
           "good:  routine maintenance"
          ],
          [
           6.667363986135461,
           5.1,
           "good:  routine maintenance"
          ],
          [
           3.3109149705429815,
           6.9,
           "poor: Rehabilitation"
          ],
          [
           5.458775937413701,
           8.95,
           "fair:  preventative maintenance"
          ],
          [
           6.032880414320754,
           5.85,
           "good:  routine maintenance"
          ],
          [
           3.659126937665392,
           6.9,
           "poor: Rehabilitation"
          ],
          [
           2.219372675474458,
           7.55,
           "poor: Rehabilitation"
          ],
          [
           7.368576777701835,
           4.8,
           "good:  routine maintenance"
          ],
          [
           4.4692677341226865,
           4.15,
           "fair:  preventative maintenance"
          ],
          [
           6.032880414320754,
           3.5,
           "good:  routine maintenance"
          ],
          [
           4.4692677341226865,
           3.5,
           "fair:  preventative maintenance"
          ],
          [
           6.667363986135461,
           7.55,
           "good:  routine maintenance"
          ],
          [
           5.458775937413701,
           6.9,
           "fair:  preventative maintenance"
          ],
          [
           4.043960677054994,
           6.6,
           "fair:  preventative maintenance"
          ],
          [
           4.043960677054994,
           6.9,
           "fair:  preventative maintenance"
          ],
          [
           4.939304724846237,
           5.1,
           "fair:  preventative maintenance"
          ],
          [
           4.4692677341226865,
           6.8,
           "fair:  preventative maintenance"
          ],
          [
           3.659126937665392,
           6.9,
           "poor: Rehabilitation"
          ],
          [
           7.368576777701835,
           6.5431578947368445,
           "good:  routine maintenance"
          ],
          [
           7.368576777701835,
           6.6,
           "good:  routine maintenance"
          ],
          [
           5.458775937413701,
           3.4,
           "fair:  preventative maintenance"
          ],
          [
           7.368576777701835,
           5.85,
           "good:  routine maintenance"
          ],
          [
           5.458775937413701,
           8.95,
           "fair:  preventative maintenance"
          ],
          [
           8.143536762323636,
           7.65,
           "very good: no maintenance"
          ]
         ],
         "hovertemplate": "<b>%{hovertext}</b><br><br>AVERAGE WIDTH (FT)=%{marker.size}<br>Latitude=%{lat}<br>Longitude=%{lon}<br>machine_vision_prediction=%{marker.color}<br>Pavement Rate Total=%{customdata[1]}<br>PCI=%{customdata[2]}<extra></extra>",
         "hovertext": [
          "AQUEDUCT LANE",
          "ARDSLEY AVE. EAST",
          "ARDSLEY AVE. WEST*",
          "BARBARA LANE*",
          "BEECHWOOD LANE*",
          "BELMONT DRIVE NORTH",
          "BELMONT DRIVE SOUTH",
          "BERTHA PLACE",
          "BRIDGE STREET",
          "BROOK PLACE",
          "BUCKHOUTSTREET  NORTH",
          "BUCKHOUT STREET SOUTH",
          "BUTTERWOOD EAST*",
          "BUTTERWOOD WEST*",
          "CARLA LANE*",
          "CASTLE ROAD*",
          "CEDAR LAWN ROAD",
          "CENTER STREET",
          "CINDY LANE",
          "CIRCLE DRIVE",
          "CLIFfON  PLACE",
          "COTTONET STREET NORTH",
          "COTTONET STREET SOUTH",
          "CROTON PLACE",
          "CYRUS FIELD ROAD (0-3,200 ft.)",
          "CYRUS FIELD ROAD (3,200-5,744 ft.)",
          "DEARMAN STREET NORTH",
          "DEARMAN STREET SOUTH",
          "DEEP HOLLOW CLOSE",
          "DOGWOOD LANE*",
          "DOWS LANE",
          "DUNHAM PLACE*",
          "DUTCHER STREET NORTH",
          "DUTCHER STREET SOUTH",
          "EAST CLINTON AVE.",
          "EAST SUNNYSIDE LANE",
          "ECKAR STREET NORTH",
          "ECKAR STREET SOUTH",
          "ERIE STREET",
          "EMORY ROAD",
          "FARGO LANE",
          "FERRIS STREET NORTH",
          "FERRIS STREET SOUTH",
          "FIELDPOINT DRIVE (0-800 ft.)",
          "FIELDPOINT DRIVE (800-4,500 ft.)",
          "FIELD TERRACE",
          "GREY ROCK TERRACE",
          "GRINNEL STREET",
          "HALFMOON LANE",
          "HALSEY POND ROAD",
          "HAMILTON ROAD",
          "HANCOCK PLACE",
          "HARRIMAN ROAD",
          "HAVERMEYER ROAD*",
          "HENDRICK NORTH *",
          "HENDRICK SOUTH*",
          "HERMITS ROAD",
          "HILLSIDE TERRACE",
          "HOME PLACE EAST",
          "HOME PLACE WEST",
          "HUDSON AVENUE",
          "HUDSON ROAD EAST",
          "HUDSON ROAD WEST",
          "HUDSON VIEW PARK",
          "HUGH HILL LANE*",
          "ILINKA LANE",
          "IRVING PLACE",
          "IRVINGTON MANOR DRIVE",
          "JAFFREY PARK",
          "JANET TERRACE*",
          "LANGDON AVENUE",
          "LEAFWOOD TERRACE*",
          "LEWIS ROAD",
          "MAIN STREET",
          "MAIN STREET WEST",
          "MANOR POND LANE",
          "MAPLE STREET",
          "MATHIESSEN PARK",
          "MEADOW BROOK ROAD",
          "MEADOW WAY",
          "NORTH ASTOR STREET",
          "NORTH BROOK LANE",
          "OAK STREET",
          "OSCEOLA AVENUE",
          "PALLISER ROAD",
          "PARK AVENUE",
          "PARK ROAD",
          "PARKSIDE WAY",
          "PETER BONT ROAD (0-2,000 ft.)'",
          "PETER BONT ROAD (2,000-4,799 ft.)'",
          "RIVER ROAD",
          "RIVERVIEW ROAD",
          "RIVERVIEW TERRACE",
          "ROLAND ROAD",
          "SOUTH ASTOR STREET",
          "STATION ROAD",
          "SYCAMORE LANE",
          "VICTOR DRIVE*",
          "WASHINGTON AVENUE",
          "WEST CLINTON AVENUE*",
          "WEST SUNNYSIDE LANE",
          "WILLOW STREET",
          "WOODBINE ROAD*"
         ],
         "lat": [
          41.039262,
          41.025517,
          41.025593,
          41.042896999999996,
          41.027831,
          41.022799,
          41.023928999999995,
          41.02489,
          41.040372999999995,
          41.036612,
          41.040975,
          41.035629,
          41.029098,
          41.029214,
          41.033971,
          41.031132,
          41.03593,
          41.046367,
          41.026502,
          41.042116,
          41.024615000000004,
          41.039995000000005,
          41.038362,
          41.038789,
          41.024836,
          41.034269,
          41.039123,
          41.038729,
          41.025465999999994,
          41.037303,
          41.033153000000006,
          41.035227,
          41.040171,
          41.038565999999996,
          41.030871999999995,
          41.048575,
          41.040057,
          41.038665,
          41.024404,
          41.034215,
          41.044558,
          41.040765,
          41.038446,
          41.038053000000005,
          41.039464,
          41.026044,
          41.036319,
          41.038864000000004,
          41.030695,
          41.029021,
          41.029573,
          41.024433,
          41.034890999999995,
          41.025343,
          41.03014,
          41.029014000000004,
          41.039099,
          41.03621,
          41.038277,
          41.038391,
          41.046238,
          41.023252,
          41.023734000000005,
          41.048105,
          41.033893,
          41.02964,
          41.042336999999996,
          41.030021000000005,
          41.037673,
          41.042543,
          41.022464,
          41.032415,
          41.03285,
          41.039406,
          41.039805,
          41.029537,
          41.037034999999996,
          41.041392,
          41.044903999999995,
          41.035983,
          41.040469,
          41.027784999999994,
          41.036076,
          41.025706,
          41.032176,
          41.047022999999996,
          41.033525,
          41.035373,
          41.04257,
          41.04679,
          41.037483,
          41.04333,
          41.036651,
          41.024033,
          41.038833000000004,
          41.0361,
          41.03672,
          41.034067,
          41.023962,
          41.031256,
          41.047124,
          41.0361,
          41.035891
         ],
         "legendgroup": "",
         "lon": [
          -73.866576,
          -73.866235,
          -73.872857,
          -73.854404,
          -73.865263,
          -73.863148,
          -73.863462,
          -73.86993199999999,
          -73.87326,
          -73.86980600000001,
          -73.87227299999999,
          -73.87302700000001,
          -73.863353,
          -73.86614,
          -73.861377,
          -73.857641,
          -73.859023,
          -73.855205,
          -73.867808,
          -73.862375,
          -73.873604,
          -73.87089499999999,
          -73.871266,
          -73.866959,
          -73.848653,
          -73.848475,
          -73.865873,
          -73.865961,
          -73.859628,
          -73.86224399999999,
          -73.868674,
          -73.855468,
          -73.86992099999999,
          -73.870295,
          -73.864509,
          -73.856275,
          -73.86904100000001,
          -73.86935799999999,
          -73.866733,
          -73.853358,
          -73.86654,
          -73.867956,
          -73.86846700000001,
          -73.85422,
          -73.86315400000001,
          -73.864142,
          -73.857991,
          -73.867519,
          -73.874773,
          -73.85427800000001,
          -73.86443299999999,
          -73.871521,
          -73.85906999999999,
          -73.860833,
          -73.87474,
          -73.87481899999999,
          -73.843161,
          -73.857129,
          -73.86716,
          -73.868288,
          -73.854231,
          -73.866458,
          -73.873176,
          -73.85588299999999,
          -73.85848100000001,
          -73.86155,
          -73.859586,
          -73.848591,
          -73.868022,
          -73.855203,
          -73.86580500000001,
          -73.856952,
          -73.853874,
          -73.869548,
          -73.872617,
          -73.85031,
          -73.87171500000001,
          -73.866937,
          -73.863683,
          -73.856204,
          -73.872665,
          -73.853706,
          -73.870586,
          -73.861711,
          -73.857407,
          -73.855664,
          -73.857787,
          -73.859852,
          -73.838365,
          -73.849577,
          -73.873786,
          -73.855637,
          -73.858929,
          -73.867284,
          -73.872973,
          -73.869206,
          -73.86274300000001,
          -73.861836,
          -73.864951,
          -73.87116,
          -73.866099,
          -73.871086,
          -73.87015699999999
         ],
         "marker": {
          "color": [
           8.143536762323636,
           2.7107479072098184,
           7.368576777701835,
           7.368576777701835,
           6.667363986135461,
           5.458775937413701,
           6.667363986135461,
           7.368576777701835,
           7.368576777701835,
           4.939304724846237,
           3.659126937665392,
           4.4692677341226865,
           6.032880414320754,
           5.458775937413701,
           3.3109149705429815,
           4.939304724846237,
           0.8164615796047122,
           5.458775937413701,
           4.939304724846237,
           6.667363986135461,
           8.143536762323636,
           9,
           5.458775937413701,
           4.939304724846237,
           4.939304724846237,
           7.368576777701835,
           2.9958397532827163,
           4.043960677054994,
           6.032880414320754,
           5.458775937413701,
           4.4692677341226865,
           8.143536762323636,
           2.9958397532827163,
           2.219372675474458,
           2.7107479072098184,
           6.667363986135461,
           0.2717764508008665,
           2.9958397532827163,
           6.032880414320754,
           6.032880414320754,
           9,
           9,
           4.043960677054994,
           7.368576777701835,
           3.3109149705429815,
           2.219372675474458,
           6.032880414320754,
           3.659126937665392,
           1.8170686619518983,
           9,
           2.4527861373061133,
           6.032880414320754,
           4.043960677054994,
           3.659126937665392,
           6.667363986135461,
           1.6441517164746116,
           6.667363986135461,
           2.008171441335868,
           4.939304724846237,
           6.667363986135461,
           6.032880414320754,
           7.368576777701835,
           9,
           1.2180175491295144,
           1.4876899939942787,
           1.4876899939942787,
           6.667363986135461,
           4.939304724846237,
           7.368576777701835,
           4.939304724846237,
           4.939304724846237,
           4.939304724846237,
           7.368576777701835,
           4.043960677054994,
           3.659126937665392,
           6.667363986135461,
           2.9958397532827163,
           8.143536762323636,
           5.458775937413701,
           7.368576777701835,
           6.667363986135461,
           3.3109149705429815,
           5.458775937413701,
           6.032880414320754,
           3.659126937665392,
           2.219372675474458,
           7.368576777701835,
           4.4692677341226865,
           6.032880414320754,
           4.4692677341226865,
           6.667363986135461,
           5.458775937413701,
           4.043960677054994,
           4.043960677054994,
           4.939304724846237,
           4.4692677341226865,
           3.659126937665392,
           7.368576777701835,
           7.368576777701835,
           5.458775937413701,
           7.368576777701835,
           5.458775937413701,
           8.143536762323636
          ],
          "coloraxis": "coloraxis",
          "size": [
           21,
           20,
           20,
           23,
           24,
           20,
           20,
           18,
           40,
           18,
           28,
           24,
           20,
           20,
           29,
           19,
           19,
           19,
           26,
           21,
           18,
           27,
           28,
           18,
           20,
           20,
           27,
           27,
           21,
           29,
           20,
           30,
           28,
           29,
           27,
           10,
           29,
           30,
           20,
           16,
           18,
           29,
           29,
           20,
           20,
           17,
           18,
           18,
           24,
           14,
           24,
           17,
           31,
           24,
           20,
           20,
           10,
           18,
           16,
           18,
           20,
           17,
           19,
           20,
           24,
           20,
           18,
           16,
           29,
           23,
           18,
           20,
           18,
           44,
           47,
           22,
           18,
           10,
           20,
           20,
           40,
           22,
           17,
           19,
           19,
           19,
           20,
           19,
           10,
           10,
           35,
           22,
           20,
           17,
           34,
           21,
           29,
           28,
           23,
           28,
           10,
           17,
           19
          ],
          "sizemode": "area",
          "sizeref": 0.1175
         },
         "mode": "markers",
         "name": "",
         "showlegend": false,
         "subplot": "mapbox",
         "type": "scattermapbox"
        }
       ],
       "layout": {
        "coloraxis": {
         "colorbar": {
          "title": {
           "text": "machine_vision_prediction"
          }
         },
         "colorscale": [
          [
           0,
           "#0d0887"
          ],
          [
           0.1111111111111111,
           "#46039f"
          ],
          [
           0.2222222222222222,
           "#7201a8"
          ],
          [
           0.3333333333333333,
           "#9c179e"
          ],
          [
           0.4444444444444444,
           "#bd3786"
          ],
          [
           0.5555555555555556,
           "#d8576b"
          ],
          [
           0.6666666666666666,
           "#ed7953"
          ],
          [
           0.7777777777777778,
           "#fb9f3a"
          ],
          [
           0.8888888888888888,
           "#fdca26"
          ],
          [
           1,
           "#f0f921"
          ]
         ]
        },
        "legend": {
         "itemsizing": "constant",
         "tracegroupgap": 0
        },
        "mapbox": {
         "center": {
          "lat": 41.034911640776706,
          "lon": -73.86342273786407
         },
         "domain": {
          "x": [
           0,
           1
          ],
          "y": [
           0,
           1
          ]
         },
         "style": "open-street-map",
         "zoom": 12
        },
        "margin": {
         "b": 0,
         "l": 0,
         "r": 0,
         "t": 0
        },
        "template": {
         "data": {
          "bar": [
           {
            "error_x": {
             "color": "#2a3f5f"
            },
            "error_y": {
             "color": "#2a3f5f"
            },
            "marker": {
             "line": {
              "color": "#E5ECF6",
              "width": 0.5
             }
            },
            "type": "bar"
           }
          ],
          "barpolar": [
           {
            "marker": {
             "line": {
              "color": "#E5ECF6",
              "width": 0.5
             }
            },
            "type": "barpolar"
           }
          ],
          "carpet": [
           {
            "aaxis": {
             "endlinecolor": "#2a3f5f",
             "gridcolor": "white",
             "linecolor": "white",
             "minorgridcolor": "white",
             "startlinecolor": "#2a3f5f"
            },
            "baxis": {
             "endlinecolor": "#2a3f5f",
             "gridcolor": "white",
             "linecolor": "white",
             "minorgridcolor": "white",
             "startlinecolor": "#2a3f5f"
            },
            "type": "carpet"
           }
          ],
          "choropleth": [
           {
            "colorbar": {
             "outlinewidth": 0,
             "ticks": ""
            },
            "type": "choropleth"
           }
          ],
          "contour": [
           {
            "colorbar": {
             "outlinewidth": 0,
             "ticks": ""
            },
            "colorscale": [
             [
              0,
              "#0d0887"
             ],
             [
              0.1111111111111111,
              "#46039f"
             ],
             [
              0.2222222222222222,
              "#7201a8"
             ],
             [
              0.3333333333333333,
              "#9c179e"
             ],
             [
              0.4444444444444444,
              "#bd3786"
             ],
             [
              0.5555555555555556,
              "#d8576b"
             ],
             [
              0.6666666666666666,
              "#ed7953"
             ],
             [
              0.7777777777777778,
              "#fb9f3a"
             ],
             [
              0.8888888888888888,
              "#fdca26"
             ],
             [
              1,
              "#f0f921"
             ]
            ],
            "type": "contour"
           }
          ],
          "contourcarpet": [
           {
            "colorbar": {
             "outlinewidth": 0,
             "ticks": ""
            },
            "type": "contourcarpet"
           }
          ],
          "heatmap": [
           {
            "colorbar": {
             "outlinewidth": 0,
             "ticks": ""
            },
            "colorscale": [
             [
              0,
              "#0d0887"
             ],
             [
              0.1111111111111111,
              "#46039f"
             ],
             [
              0.2222222222222222,
              "#7201a8"
             ],
             [
              0.3333333333333333,
              "#9c179e"
             ],
             [
              0.4444444444444444,
              "#bd3786"
             ],
             [
              0.5555555555555556,
              "#d8576b"
             ],
             [
              0.6666666666666666,
              "#ed7953"
             ],
             [
              0.7777777777777778,
              "#fb9f3a"
             ],
             [
              0.8888888888888888,
              "#fdca26"
             ],
             [
              1,
              "#f0f921"
             ]
            ],
            "type": "heatmap"
           }
          ],
          "heatmapgl": [
           {
            "colorbar": {
             "outlinewidth": 0,
             "ticks": ""
            },
            "colorscale": [
             [
              0,
              "#0d0887"
             ],
             [
              0.1111111111111111,
              "#46039f"
             ],
             [
              0.2222222222222222,
              "#7201a8"
             ],
             [
              0.3333333333333333,
              "#9c179e"
             ],
             [
              0.4444444444444444,
              "#bd3786"
             ],
             [
              0.5555555555555556,
              "#d8576b"
             ],
             [
              0.6666666666666666,
              "#ed7953"
             ],
             [
              0.7777777777777778,
              "#fb9f3a"
             ],
             [
              0.8888888888888888,
              "#fdca26"
             ],
             [
              1,
              "#f0f921"
             ]
            ],
            "type": "heatmapgl"
           }
          ],
          "histogram": [
           {
            "marker": {
             "colorbar": {
              "outlinewidth": 0,
              "ticks": ""
             }
            },
            "type": "histogram"
           }
          ],
          "histogram2d": [
           {
            "colorbar": {
             "outlinewidth": 0,
             "ticks": ""
            },
            "colorscale": [
             [
              0,
              "#0d0887"
             ],
             [
              0.1111111111111111,
              "#46039f"
             ],
             [
              0.2222222222222222,
              "#7201a8"
             ],
             [
              0.3333333333333333,
              "#9c179e"
             ],
             [
              0.4444444444444444,
              "#bd3786"
             ],
             [
              0.5555555555555556,
              "#d8576b"
             ],
             [
              0.6666666666666666,
              "#ed7953"
             ],
             [
              0.7777777777777778,
              "#fb9f3a"
             ],
             [
              0.8888888888888888,
              "#fdca26"
             ],
             [
              1,
              "#f0f921"
             ]
            ],
            "type": "histogram2d"
           }
          ],
          "histogram2dcontour": [
           {
            "colorbar": {
             "outlinewidth": 0,
             "ticks": ""
            },
            "colorscale": [
             [
              0,
              "#0d0887"
             ],
             [
              0.1111111111111111,
              "#46039f"
             ],
             [
              0.2222222222222222,
              "#7201a8"
             ],
             [
              0.3333333333333333,
              "#9c179e"
             ],
             [
              0.4444444444444444,
              "#bd3786"
             ],
             [
              0.5555555555555556,
              "#d8576b"
             ],
             [
              0.6666666666666666,
              "#ed7953"
             ],
             [
              0.7777777777777778,
              "#fb9f3a"
             ],
             [
              0.8888888888888888,
              "#fdca26"
             ],
             [
              1,
              "#f0f921"
             ]
            ],
            "type": "histogram2dcontour"
           }
          ],
          "mesh3d": [
           {
            "colorbar": {
             "outlinewidth": 0,
             "ticks": ""
            },
            "type": "mesh3d"
           }
          ],
          "parcoords": [
           {
            "line": {
             "colorbar": {
              "outlinewidth": 0,
              "ticks": ""
             }
            },
            "type": "parcoords"
           }
          ],
          "pie": [
           {
            "automargin": true,
            "type": "pie"
           }
          ],
          "scatter": [
           {
            "marker": {
             "colorbar": {
              "outlinewidth": 0,
              "ticks": ""
             }
            },
            "type": "scatter"
           }
          ],
          "scatter3d": [
           {
            "line": {
             "colorbar": {
              "outlinewidth": 0,
              "ticks": ""
             }
            },
            "marker": {
             "colorbar": {
              "outlinewidth": 0,
              "ticks": ""
             }
            },
            "type": "scatter3d"
           }
          ],
          "scattercarpet": [
           {
            "marker": {
             "colorbar": {
              "outlinewidth": 0,
              "ticks": ""
             }
            },
            "type": "scattercarpet"
           }
          ],
          "scattergeo": [
           {
            "marker": {
             "colorbar": {
              "outlinewidth": 0,
              "ticks": ""
             }
            },
            "type": "scattergeo"
           }
          ],
          "scattergl": [
           {
            "marker": {
             "colorbar": {
              "outlinewidth": 0,
              "ticks": ""
             }
            },
            "type": "scattergl"
           }
          ],
          "scattermapbox": [
           {
            "marker": {
             "colorbar": {
              "outlinewidth": 0,
              "ticks": ""
             }
            },
            "type": "scattermapbox"
           }
          ],
          "scatterpolar": [
           {
            "marker": {
             "colorbar": {
              "outlinewidth": 0,
              "ticks": ""
             }
            },
            "type": "scatterpolar"
           }
          ],
          "scatterpolargl": [
           {
            "marker": {
             "colorbar": {
              "outlinewidth": 0,
              "ticks": ""
             }
            },
            "type": "scatterpolargl"
           }
          ],
          "scatterternary": [
           {
            "marker": {
             "colorbar": {
              "outlinewidth": 0,
              "ticks": ""
             }
            },
            "type": "scatterternary"
           }
          ],
          "surface": [
           {
            "colorbar": {
             "outlinewidth": 0,
             "ticks": ""
            },
            "colorscale": [
             [
              0,
              "#0d0887"
             ],
             [
              0.1111111111111111,
              "#46039f"
             ],
             [
              0.2222222222222222,
              "#7201a8"
             ],
             [
              0.3333333333333333,
              "#9c179e"
             ],
             [
              0.4444444444444444,
              "#bd3786"
             ],
             [
              0.5555555555555556,
              "#d8576b"
             ],
             [
              0.6666666666666666,
              "#ed7953"
             ],
             [
              0.7777777777777778,
              "#fb9f3a"
             ],
             [
              0.8888888888888888,
              "#fdca26"
             ],
             [
              1,
              "#f0f921"
             ]
            ],
            "type": "surface"
           }
          ],
          "table": [
           {
            "cells": {
             "fill": {
              "color": "#EBF0F8"
             },
             "line": {
              "color": "white"
             }
            },
            "header": {
             "fill": {
              "color": "#C8D4E3"
             },
             "line": {
              "color": "white"
             }
            },
            "type": "table"
           }
          ]
         },
         "layout": {
          "annotationdefaults": {
           "arrowcolor": "#2a3f5f",
           "arrowhead": 0,
           "arrowwidth": 1
          },
          "coloraxis": {
           "colorbar": {
            "outlinewidth": 0,
            "ticks": ""
           }
          },
          "colorscale": {
           "diverging": [
            [
             0,
             "#8e0152"
            ],
            [
             0.1,
             "#c51b7d"
            ],
            [
             0.2,
             "#de77ae"
            ],
            [
             0.3,
             "#f1b6da"
            ],
            [
             0.4,
             "#fde0ef"
            ],
            [
             0.5,
             "#f7f7f7"
            ],
            [
             0.6,
             "#e6f5d0"
            ],
            [
             0.7,
             "#b8e186"
            ],
            [
             0.8,
             "#7fbc41"
            ],
            [
             0.9,
             "#4d9221"
            ],
            [
             1,
             "#276419"
            ]
           ],
           "sequential": [
            [
             0,
             "#0d0887"
            ],
            [
             0.1111111111111111,
             "#46039f"
            ],
            [
             0.2222222222222222,
             "#7201a8"
            ],
            [
             0.3333333333333333,
             "#9c179e"
            ],
            [
             0.4444444444444444,
             "#bd3786"
            ],
            [
             0.5555555555555556,
             "#d8576b"
            ],
            [
             0.6666666666666666,
             "#ed7953"
            ],
            [
             0.7777777777777778,
             "#fb9f3a"
            ],
            [
             0.8888888888888888,
             "#fdca26"
            ],
            [
             1,
             "#f0f921"
            ]
           ],
           "sequentialminus": [
            [
             0,
             "#0d0887"
            ],
            [
             0.1111111111111111,
             "#46039f"
            ],
            [
             0.2222222222222222,
             "#7201a8"
            ],
            [
             0.3333333333333333,
             "#9c179e"
            ],
            [
             0.4444444444444444,
             "#bd3786"
            ],
            [
             0.5555555555555556,
             "#d8576b"
            ],
            [
             0.6666666666666666,
             "#ed7953"
            ],
            [
             0.7777777777777778,
             "#fb9f3a"
            ],
            [
             0.8888888888888888,
             "#fdca26"
            ],
            [
             1,
             "#f0f921"
            ]
           ]
          },
          "colorway": [
           "#636efa",
           "#EF553B",
           "#00cc96",
           "#ab63fa",
           "#FFA15A",
           "#19d3f3",
           "#FF6692",
           "#B6E880",
           "#FF97FF",
           "#FECB52"
          ],
          "font": {
           "color": "#2a3f5f"
          },
          "geo": {
           "bgcolor": "white",
           "lakecolor": "white",
           "landcolor": "#E5ECF6",
           "showlakes": true,
           "showland": true,
           "subunitcolor": "white"
          },
          "hoverlabel": {
           "align": "left"
          },
          "hovermode": "closest",
          "mapbox": {
           "style": "light"
          },
          "paper_bgcolor": "white",
          "plot_bgcolor": "#E5ECF6",
          "polar": {
           "angularaxis": {
            "gridcolor": "white",
            "linecolor": "white",
            "ticks": ""
           },
           "bgcolor": "#E5ECF6",
           "radialaxis": {
            "gridcolor": "white",
            "linecolor": "white",
            "ticks": ""
           }
          },
          "scene": {
           "xaxis": {
            "backgroundcolor": "#E5ECF6",
            "gridcolor": "white",
            "gridwidth": 2,
            "linecolor": "white",
            "showbackground": true,
            "ticks": "",
            "zerolinecolor": "white"
           },
           "yaxis": {
            "backgroundcolor": "#E5ECF6",
            "gridcolor": "white",
            "gridwidth": 2,
            "linecolor": "white",
            "showbackground": true,
            "ticks": "",
            "zerolinecolor": "white"
           },
           "zaxis": {
            "backgroundcolor": "#E5ECF6",
            "gridcolor": "white",
            "gridwidth": 2,
            "linecolor": "white",
            "showbackground": true,
            "ticks": "",
            "zerolinecolor": "white"
           }
          },
          "shapedefaults": {
           "line": {
            "color": "#2a3f5f"
           }
          },
          "ternary": {
           "aaxis": {
            "gridcolor": "white",
            "linecolor": "white",
            "ticks": ""
           },
           "baxis": {
            "gridcolor": "white",
            "linecolor": "white",
            "ticks": ""
           },
           "bgcolor": "#E5ECF6",
           "caxis": {
            "gridcolor": "white",
            "linecolor": "white",
            "ticks": ""
           }
          },
          "title": {
           "x": 0.05
          },
          "xaxis": {
           "automargin": true,
           "gridcolor": "white",
           "linecolor": "white",
           "ticks": "",
           "title": {
            "standoff": 15
           },
           "zerolinecolor": "white",
           "zerolinewidth": 2
          },
          "yaxis": {
           "automargin": true,
           "gridcolor": "white",
           "linecolor": "white",
           "ticks": "",
           "title": {
            "standoff": 15
           },
           "zerolinecolor": "white",
           "zerolinewidth": 2
          }
         }
        }
       }
      },
      "text/html": [
       "<div>\n",
       "        \n",
       "        \n",
       "            <div id=\"a32f64a8-e544-4111-aff2-e176b2bca523\" class=\"plotly-graph-div\" style=\"height:525px; width:100%;\"></div>\n",
       "            <script type=\"text/javascript\">\n",
       "                require([\"plotly\"], function(Plotly) {\n",
       "                    window.PLOTLYENV=window.PLOTLYENV || {};\n",
       "                    \n",
       "                if (document.getElementById(\"a32f64a8-e544-4111-aff2-e176b2bca523\")) {\n",
       "                    Plotly.newPlot(\n",
       "                        'a32f64a8-e544-4111-aff2-e176b2bca523',\n",
       "                        [{\"customdata\": [[8.143536762323636, 9.35, \"very good: no maintenance\"], [2.7107479072098184, 4.5, \"poor: Rehabilitation\"], [7.368576777701835, 6.8, \"good:  routine maintenance\"], [7.368576777701835, 8.3, \"good:  routine maintenance\"], [6.667363986135461, 8.3, \"good:  routine maintenance\"], [5.458775937413701, 4.9, \"fair:  preventative maintenance\"], [6.667363986135461, 6.9, \"good:  routine maintenance\"], [7.368576777701835, 6.5, \"good:  routine maintenance\"], [7.368576777701835, 6.8, \"good:  routine maintenance\"], [4.939304724846237, 8.3, \"fair:  preventative maintenance\"], [3.659126937665392, 5.1, \"poor: Rehabilitation\"], [4.4692677341226865, 4.9, \"fair:  preventative maintenance\"], [6.032880414320754, 6.6, \"good:  routine maintenance\"], [5.458775937413701, 6.6, \"fair:  preventative maintenance\"], [3.3109149705429815, 6.5431578947368445, \"poor: Rehabilitation\"], [4.939304724846237, 8.3, \"fair:  preventative maintenance\"], [0.8164615796047122, 3.75, \"poor: Rehabilitation\"], [5.458775937413701, 6.9, \"fair:  preventative maintenance\"], [4.939304724846237, 8.3, \"fair:  preventative maintenance\"], [6.667363986135461, 6.9, \"good:  routine maintenance\"], [8.143536762323636, 5.0, \"very good: no maintenance\"], [9.0, 8.3, \"very good: no maintenance\"], [5.458775937413701, 7.65, \"fair:  preventative maintenance\"], [4.939304724846237, 7.25, \"fair:  preventative maintenance\"], [4.939304724846237, 3.0, \"fair:  preventative maintenance\"], [7.368576777701835, 3.0, \"good:  routine maintenance\"], [2.9958397532827163, 5.0, \"poor: Rehabilitation\"], [4.043960677054994, 5.0, \"fair:  preventative maintenance\"], [6.032880414320754, 7.65, \"good:  routine maintenance\"], [5.458775937413701, 8.3, \"fair:  preventative maintenance\"], [4.4692677341226865, 6.8, \"fair:  preventative maintenance\"], [8.143536762323636, 4.25, \"very good: no maintenance\"], [2.9958397532827163, 7.65, \"poor: Rehabilitation\"], [2.219372675474458, 6.6, \"poor: Rehabilitation\"], [2.7107479072098184, 6.6, \"poor: Rehabilitation\"], [6.667363986135461, 6.5431578947368445, \"good:  routine maintenance\"], [0.2717764508008665, 7.65, \"poor: Rehabilitation\"], [2.9958397532827163, 7.0, \"poor: Rehabilitation\"], [6.032880414320754, 5.0, \"good:  routine maintenance\"], [6.032880414320754, 6.5431578947368445, \"good:  routine maintenance\"], [9.0, 6.5431578947368445, \"very good: no maintenance\"], [9.0, 5.0, \"very good: no maintenance\"], [4.043960677054994, 5.0, \"fair:  preventative maintenance\"], [7.368576777701835, 7.65, \"good:  routine maintenance\"], [3.3109149705429815, 6.5431578947368445, \"poor: Rehabilitation\"], [2.219372675474458, 7.25, \"poor: Rehabilitation\"], [6.032880414320754, 6.6, \"good:  routine maintenance\"], [3.659126937665392, 6.6, \"poor: Rehabilitation\"], [1.8170686619518983, 7.55, \"poor: Rehabilitation\"], [9.0, 6.6, \"very good: no maintenance\"], [2.4527861373061133, 7.55, \"poor: Rehabilitation\"], [6.032880414320754, 5.85, \"good:  routine maintenance\"], [4.043960677054994, 6.5431578947368445, \"fair:  preventative maintenance\"], [3.659126937665392, 5.85, \"poor: Rehabilitation\"], [6.667363986135461, 7.65, \"good:  routine maintenance\"], [1.6441517164746116, 8.3, \"poor: Rehabilitation\"], [6.667363986135461, 7.65, \"good:  routine maintenance\"], [2.008171441335868, 6.6, \"poor: Rehabilitation\"], [4.939304724846237, 6.6, \"fair:  preventative maintenance\"], [6.667363986135461, 7.0, \"good:  routine maintenance\"], [6.032880414320754, 5.85, \"good:  routine maintenance\"], [7.368576777701835, 5.85, \"good:  routine maintenance\"], [9.0, 5.95, \"very good: no maintenance\"], [1.2180175491295144, 4.8, \"poor: Rehabilitation\"], [1.4876899939942787, 8.3, \"poor: Rehabilitation\"], [1.4876899939942787, 8.3, \"poor: Rehabilitation\"], [6.667363986135461, 6.6, \"good:  routine maintenance\"], [4.939304724846237, 7.55, \"fair:  preventative maintenance\"], [7.368576777701835, 8.3, \"good:  routine maintenance\"], [4.939304724846237, 8.3, \"fair:  preventative maintenance\"], [4.939304724846237, 5.1, \"fair:  preventative maintenance\"], [4.939304724846237, 8.3, \"fair:  preventative maintenance\"], [7.368576777701835, 5.85, \"good:  routine maintenance\"], [4.043960677054994, 6.5431578947368445, \"fair:  preventative maintenance\"], [3.659126937665392, 8.3, \"poor: Rehabilitation\"], [6.667363986135461, 6.9, \"good:  routine maintenance\"], [2.9958397532827163, 8.3, \"poor: Rehabilitation\"], [8.143536762323636, 7.65, \"very good: no maintenance\"], [5.458775937413701, 5.85, \"fair:  preventative maintenance\"], [7.368576777701835, 4.15, \"good:  routine maintenance\"], [6.667363986135461, 5.1, \"good:  routine maintenance\"], [3.3109149705429815, 6.9, \"poor: Rehabilitation\"], [5.458775937413701, 8.95, \"fair:  preventative maintenance\"], [6.032880414320754, 5.85, \"good:  routine maintenance\"], [3.659126937665392, 6.9, \"poor: Rehabilitation\"], [2.219372675474458, 7.55, \"poor: Rehabilitation\"], [7.368576777701835, 4.8, \"good:  routine maintenance\"], [4.4692677341226865, 4.15, \"fair:  preventative maintenance\"], [6.032880414320754, 3.5, \"good:  routine maintenance\"], [4.4692677341226865, 3.5, \"fair:  preventative maintenance\"], [6.667363986135461, 7.55, \"good:  routine maintenance\"], [5.458775937413701, 6.9, \"fair:  preventative maintenance\"], [4.043960677054994, 6.6, \"fair:  preventative maintenance\"], [4.043960677054994, 6.9, \"fair:  preventative maintenance\"], [4.939304724846237, 5.1, \"fair:  preventative maintenance\"], [4.4692677341226865, 6.8, \"fair:  preventative maintenance\"], [3.659126937665392, 6.9, \"poor: Rehabilitation\"], [7.368576777701835, 6.5431578947368445, \"good:  routine maintenance\"], [7.368576777701835, 6.6, \"good:  routine maintenance\"], [5.458775937413701, 3.4, \"fair:  preventative maintenance\"], [7.368576777701835, 5.85, \"good:  routine maintenance\"], [5.458775937413701, 8.95, \"fair:  preventative maintenance\"], [8.143536762323636, 7.65, \"very good: no maintenance\"]], \"hovertemplate\": \"<b>%{hovertext}</b><br><br>AVERAGE WIDTH (FT)=%{marker.size}<br>Latitude=%{lat}<br>Longitude=%{lon}<br>machine_vision_prediction=%{marker.color}<br>Pavement Rate Total=%{customdata[1]}<br>PCI=%{customdata[2]}<extra></extra>\", \"hovertext\": [\"AQUEDUCT LANE\", \"ARDSLEY AVE. EAST\", \"ARDSLEY AVE. WEST*\", \"BARBARA LANE*\", \"BEECHWOOD LANE*\", \"BELMONT DRIVE NORTH\", \"BELMONT DRIVE SOUTH\", \"BERTHA PLACE\", \"BRIDGE STREET\", \"BROOK PLACE\", \"BUCKHOUTSTREET  NORTH\", \"BUCKHOUT STREET SOUTH\", \"BUTTERWOOD EAST*\", \"BUTTERWOOD WEST*\", \"CARLA LANE*\", \"CASTLE ROAD*\", \"CEDAR LAWN ROAD\", \"CENTER STREET\", \"CINDY LANE\", \"CIRCLE DRIVE\", \"CLIFfON  PLACE\", \"COTTONET STREET NORTH\", \"COTTONET STREET SOUTH\", \"CROTON PLACE\", \"CYRUS FIELD ROAD (0-3,200 ft.)\", \"CYRUS FIELD ROAD (3,200-5,744 ft.)\", \"DEARMAN STREET NORTH\", \"DEARMAN STREET SOUTH\", \"DEEP HOLLOW CLOSE\", \"DOGWOOD LANE*\", \"DOWS LANE\", \"DUNHAM PLACE*\", \"DUTCHER STREET NORTH\", \"DUTCHER STREET SOUTH\", \"EAST CLINTON AVE.\", \"EAST SUNNYSIDE LANE\", \"ECKAR STREET NORTH\", \"ECKAR STREET SOUTH\", \"ERIE STREET\", \"EMORY ROAD\", \"FARGO LANE\", \"FERRIS STREET NORTH\", \"FERRIS STREET SOUTH\", \"FIELDPOINT DRIVE (0-800 ft.)\", \"FIELDPOINT DRIVE (800-4,500 ft.)\", \"FIELD TERRACE\", \"GREY ROCK TERRACE\", \"GRINNEL STREET\", \"HALFMOON LANE\", \"HALSEY POND ROAD\", \"HAMILTON ROAD\", \"HANCOCK PLACE\", \"HARRIMAN ROAD\", \"HAVERMEYER ROAD*\", \"HENDRICK NORTH *\", \"HENDRICK SOUTH*\", \"HERMITS ROAD\", \"HILLSIDE TERRACE\", \"HOME PLACE EAST\", \"HOME PLACE WEST\", \"HUDSON AVENUE\", \"HUDSON ROAD EAST\", \"HUDSON ROAD WEST\", \"HUDSON VIEW PARK\", \"HUGH HILL LANE*\", \"ILINKA LANE\", \"IRVING PLACE\", \"IRVINGTON MANOR DRIVE\", \"JAFFREY PARK\", \"JANET TERRACE*\", \"LANGDON AVENUE\", \"LEAFWOOD TERRACE*\", \"LEWIS ROAD\", \"MAIN STREET\", \"MAIN STREET WEST\", \"MANOR POND LANE\", \"MAPLE STREET\", \"MATHIESSEN PARK\", \"MEADOW BROOK ROAD\", \"MEADOW WAY\", \"NORTH ASTOR STREET\", \"NORTH BROOK LANE\", \"OAK STREET\", \"OSCEOLA AVENUE\", \"PALLISER ROAD\", \"PARK AVENUE\", \"PARK ROAD\", \"PARKSIDE WAY\", \"PETER BONT ROAD (0-2,000 ft.)'\", \"PETER BONT ROAD (2,000-4,799 ft.)'\", \"RIVER ROAD\", \"RIVERVIEW ROAD\", \"RIVERVIEW TERRACE\", \"ROLAND ROAD\", \"SOUTH ASTOR STREET\", \"STATION ROAD\", \"SYCAMORE LANE\", \"VICTOR DRIVE*\", \"WASHINGTON AVENUE\", \"WEST CLINTON AVENUE*\", \"WEST SUNNYSIDE LANE\", \"WILLOW STREET\", \"WOODBINE ROAD*\"], \"lat\": [41.039262, 41.025517, 41.025593, 41.042896999999996, 41.027831, 41.022799, 41.023928999999995, 41.02489, 41.040372999999995, 41.036612, 41.040975, 41.035629, 41.029098, 41.029214, 41.033971, 41.031132, 41.03593, 41.046367, 41.026502, 41.042116, 41.024615000000004, 41.039995000000005, 41.038362, 41.038789, 41.024836, 41.034269, 41.039123, 41.038729, 41.025465999999994, 41.037303, 41.033153000000006, 41.035227, 41.040171, 41.038565999999996, 41.030871999999995, 41.048575, 41.040057, 41.038665, 41.024404, 41.034215, 41.044558, 41.040765, 41.038446, 41.038053000000005, 41.039464, 41.026044, 41.036319, 41.038864000000004, 41.030695, 41.029021, 41.029573, 41.024433, 41.034890999999995, 41.025343, 41.03014, 41.029014000000004, 41.039099, 41.03621, 41.038277, 41.038391, 41.046238, 41.023252, 41.023734000000005, 41.048105, 41.033893, 41.02964, 41.042336999999996, 41.030021000000005, 41.037673, 41.042543, 41.022464, 41.032415, 41.03285, 41.039406, 41.039805, 41.029537, 41.037034999999996, 41.041392, 41.044903999999995, 41.035983, 41.040469, 41.027784999999994, 41.036076, 41.025706, 41.032176, 41.047022999999996, 41.033525, 41.035373, 41.04257, 41.04679, 41.037483, 41.04333, 41.036651, 41.024033, 41.038833000000004, 41.0361, 41.03672, 41.034067, 41.023962, 41.031256, 41.047124, 41.0361, 41.035891], \"legendgroup\": \"\", \"lon\": [-73.866576, -73.866235, -73.872857, -73.854404, -73.865263, -73.863148, -73.863462, -73.86993199999999, -73.87326, -73.86980600000001, -73.87227299999999, -73.87302700000001, -73.863353, -73.86614, -73.861377, -73.857641, -73.859023, -73.855205, -73.867808, -73.862375, -73.873604, -73.87089499999999, -73.871266, -73.866959, -73.848653, -73.848475, -73.865873, -73.865961, -73.859628, -73.86224399999999, -73.868674, -73.855468, -73.86992099999999, -73.870295, -73.864509, -73.856275, -73.86904100000001, -73.86935799999999, -73.866733, -73.853358, -73.86654, -73.867956, -73.86846700000001, -73.85422, -73.86315400000001, -73.864142, -73.857991, -73.867519, -73.874773, -73.85427800000001, -73.86443299999999, -73.871521, -73.85906999999999, -73.860833, -73.87474, -73.87481899999999, -73.843161, -73.857129, -73.86716, -73.868288, -73.854231, -73.866458, -73.873176, -73.85588299999999, -73.85848100000001, -73.86155, -73.859586, -73.848591, -73.868022, -73.855203, -73.86580500000001, -73.856952, -73.853874, -73.869548, -73.872617, -73.85031, -73.87171500000001, -73.866937, -73.863683, -73.856204, -73.872665, -73.853706, -73.870586, -73.861711, -73.857407, -73.855664, -73.857787, -73.859852, -73.838365, -73.849577, -73.873786, -73.855637, -73.858929, -73.867284, -73.872973, -73.869206, -73.86274300000001, -73.861836, -73.864951, -73.87116, -73.866099, -73.871086, -73.87015699999999], \"marker\": {\"color\": [8.143536762323636, 2.7107479072098184, 7.368576777701835, 7.368576777701835, 6.667363986135461, 5.458775937413701, 6.667363986135461, 7.368576777701835, 7.368576777701835, 4.939304724846237, 3.659126937665392, 4.4692677341226865, 6.032880414320754, 5.458775937413701, 3.3109149705429815, 4.939304724846237, 0.8164615796047122, 5.458775937413701, 4.939304724846237, 6.667363986135461, 8.143536762323636, 9.0, 5.458775937413701, 4.939304724846237, 4.939304724846237, 7.368576777701835, 2.9958397532827163, 4.043960677054994, 6.032880414320754, 5.458775937413701, 4.4692677341226865, 8.143536762323636, 2.9958397532827163, 2.219372675474458, 2.7107479072098184, 6.667363986135461, 0.2717764508008665, 2.9958397532827163, 6.032880414320754, 6.032880414320754, 9.0, 9.0, 4.043960677054994, 7.368576777701835, 3.3109149705429815, 2.219372675474458, 6.032880414320754, 3.659126937665392, 1.8170686619518983, 9.0, 2.4527861373061133, 6.032880414320754, 4.043960677054994, 3.659126937665392, 6.667363986135461, 1.6441517164746116, 6.667363986135461, 2.008171441335868, 4.939304724846237, 6.667363986135461, 6.032880414320754, 7.368576777701835, 9.0, 1.2180175491295144, 1.4876899939942787, 1.4876899939942787, 6.667363986135461, 4.939304724846237, 7.368576777701835, 4.939304724846237, 4.939304724846237, 4.939304724846237, 7.368576777701835, 4.043960677054994, 3.659126937665392, 6.667363986135461, 2.9958397532827163, 8.143536762323636, 5.458775937413701, 7.368576777701835, 6.667363986135461, 3.3109149705429815, 5.458775937413701, 6.032880414320754, 3.659126937665392, 2.219372675474458, 7.368576777701835, 4.4692677341226865, 6.032880414320754, 4.4692677341226865, 6.667363986135461, 5.458775937413701, 4.043960677054994, 4.043960677054994, 4.939304724846237, 4.4692677341226865, 3.659126937665392, 7.368576777701835, 7.368576777701835, 5.458775937413701, 7.368576777701835, 5.458775937413701, 8.143536762323636], \"coloraxis\": \"coloraxis\", \"size\": [21.0, 20.0, 20.0, 23.0, 24.0, 20.0, 20.0, 18.0, 40.0, 18.0, 28.0, 24.0, 20.0, 20.0, 29.0, 19.0, 19.0, 19.0, 26.0, 21.0, 18.0, 27.0, 28.0, 18.0, 20.0, 20.0, 27.0, 27.0, 21.0, 29.0, 20.0, 30.0, 28.0, 29.0, 27.0, 10.0, 29.0, 30.0, 20.0, 16.0, 18.0, 29.0, 29.0, 20.0, 20.0, 17.0, 18.0, 18.0, 24.0, 14.0, 24.0, 17.0, 31.0, 24.0, 20.0, 20.0, 10.0, 18.0, 16.0, 18.0, 20.0, 17.0, 19.0, 20.0, 24.0, 20.0, 18.0, 16.0, 29.0, 23.0, 18.0, 20.0, 18.0, 44.0, 47.0, 22.0, 18.0, 10.0, 20.0, 20.0, 40.0, 22.0, 17.0, 19.0, 19.0, 19.0, 20.0, 19.0, 10.0, 10.0, 35.0, 22.0, 20.0, 17.0, 34.0, 21.0, 29.0, 28.0, 23.0, 28.0, 10.0, 17.0, 19.0], \"sizemode\": \"area\", \"sizeref\": 0.1175}, \"mode\": \"markers\", \"name\": \"\", \"showlegend\": false, \"subplot\": \"mapbox\", \"type\": \"scattermapbox\"}],\n",
       "                        {\"coloraxis\": {\"colorbar\": {\"title\": {\"text\": \"machine_vision_prediction\"}}, \"colorscale\": [[0.0, \"#0d0887\"], [0.1111111111111111, \"#46039f\"], [0.2222222222222222, \"#7201a8\"], [0.3333333333333333, \"#9c179e\"], [0.4444444444444444, \"#bd3786\"], [0.5555555555555556, \"#d8576b\"], [0.6666666666666666, \"#ed7953\"], [0.7777777777777778, \"#fb9f3a\"], [0.8888888888888888, \"#fdca26\"], [1.0, \"#f0f921\"]]}, \"legend\": {\"itemsizing\": \"constant\", \"tracegroupgap\": 0}, \"mapbox\": {\"center\": {\"lat\": 41.034911640776706, \"lon\": -73.86342273786407}, \"domain\": {\"x\": [0.0, 1.0], \"y\": [0.0, 1.0]}, \"style\": \"open-street-map\", \"zoom\": 12}, \"margin\": {\"b\": 0, \"l\": 0, \"r\": 0, \"t\": 0}, \"template\": {\"data\": {\"bar\": [{\"error_x\": {\"color\": \"#2a3f5f\"}, \"error_y\": {\"color\": \"#2a3f5f\"}, \"marker\": {\"line\": {\"color\": \"#E5ECF6\", \"width\": 0.5}}, \"type\": \"bar\"}], \"barpolar\": [{\"marker\": {\"line\": {\"color\": \"#E5ECF6\", \"width\": 0.5}}, \"type\": \"barpolar\"}], \"carpet\": [{\"aaxis\": {\"endlinecolor\": \"#2a3f5f\", \"gridcolor\": \"white\", \"linecolor\": \"white\", \"minorgridcolor\": \"white\", \"startlinecolor\": \"#2a3f5f\"}, \"baxis\": {\"endlinecolor\": \"#2a3f5f\", \"gridcolor\": \"white\", \"linecolor\": \"white\", \"minorgridcolor\": \"white\", \"startlinecolor\": \"#2a3f5f\"}, \"type\": \"carpet\"}], \"choropleth\": [{\"colorbar\": {\"outlinewidth\": 0, \"ticks\": \"\"}, \"type\": \"choropleth\"}], \"contour\": [{\"colorbar\": {\"outlinewidth\": 0, \"ticks\": \"\"}, \"colorscale\": [[0.0, \"#0d0887\"], [0.1111111111111111, \"#46039f\"], [0.2222222222222222, \"#7201a8\"], [0.3333333333333333, \"#9c179e\"], [0.4444444444444444, \"#bd3786\"], [0.5555555555555556, \"#d8576b\"], [0.6666666666666666, \"#ed7953\"], [0.7777777777777778, \"#fb9f3a\"], [0.8888888888888888, \"#fdca26\"], [1.0, \"#f0f921\"]], \"type\": \"contour\"}], \"contourcarpet\": [{\"colorbar\": {\"outlinewidth\": 0, \"ticks\": \"\"}, \"type\": \"contourcarpet\"}], \"heatmap\": [{\"colorbar\": {\"outlinewidth\": 0, \"ticks\": \"\"}, \"colorscale\": [[0.0, \"#0d0887\"], [0.1111111111111111, \"#46039f\"], [0.2222222222222222, \"#7201a8\"], [0.3333333333333333, \"#9c179e\"], [0.4444444444444444, \"#bd3786\"], [0.5555555555555556, \"#d8576b\"], [0.6666666666666666, \"#ed7953\"], [0.7777777777777778, \"#fb9f3a\"], [0.8888888888888888, \"#fdca26\"], [1.0, \"#f0f921\"]], \"type\": \"heatmap\"}], \"heatmapgl\": [{\"colorbar\": {\"outlinewidth\": 0, \"ticks\": \"\"}, \"colorscale\": [[0.0, \"#0d0887\"], [0.1111111111111111, \"#46039f\"], [0.2222222222222222, \"#7201a8\"], [0.3333333333333333, \"#9c179e\"], [0.4444444444444444, \"#bd3786\"], [0.5555555555555556, \"#d8576b\"], [0.6666666666666666, \"#ed7953\"], [0.7777777777777778, \"#fb9f3a\"], [0.8888888888888888, \"#fdca26\"], [1.0, \"#f0f921\"]], \"type\": \"heatmapgl\"}], \"histogram\": [{\"marker\": {\"colorbar\": {\"outlinewidth\": 0, \"ticks\": \"\"}}, \"type\": \"histogram\"}], \"histogram2d\": [{\"colorbar\": {\"outlinewidth\": 0, \"ticks\": \"\"}, \"colorscale\": [[0.0, \"#0d0887\"], [0.1111111111111111, \"#46039f\"], [0.2222222222222222, \"#7201a8\"], [0.3333333333333333, \"#9c179e\"], [0.4444444444444444, \"#bd3786\"], [0.5555555555555556, \"#d8576b\"], [0.6666666666666666, \"#ed7953\"], [0.7777777777777778, \"#fb9f3a\"], [0.8888888888888888, \"#fdca26\"], [1.0, \"#f0f921\"]], \"type\": \"histogram2d\"}], \"histogram2dcontour\": [{\"colorbar\": {\"outlinewidth\": 0, \"ticks\": \"\"}, \"colorscale\": [[0.0, \"#0d0887\"], [0.1111111111111111, \"#46039f\"], [0.2222222222222222, \"#7201a8\"], [0.3333333333333333, \"#9c179e\"], [0.4444444444444444, \"#bd3786\"], [0.5555555555555556, \"#d8576b\"], [0.6666666666666666, \"#ed7953\"], [0.7777777777777778, \"#fb9f3a\"], [0.8888888888888888, \"#fdca26\"], [1.0, \"#f0f921\"]], \"type\": \"histogram2dcontour\"}], \"mesh3d\": [{\"colorbar\": {\"outlinewidth\": 0, \"ticks\": \"\"}, \"type\": \"mesh3d\"}], \"parcoords\": [{\"line\": {\"colorbar\": {\"outlinewidth\": 0, \"ticks\": \"\"}}, \"type\": \"parcoords\"}], \"pie\": [{\"automargin\": true, \"type\": \"pie\"}], \"scatter\": [{\"marker\": {\"colorbar\": {\"outlinewidth\": 0, \"ticks\": \"\"}}, \"type\": \"scatter\"}], \"scatter3d\": [{\"line\": {\"colorbar\": {\"outlinewidth\": 0, \"ticks\": \"\"}}, \"marker\": {\"colorbar\": {\"outlinewidth\": 0, \"ticks\": \"\"}}, \"type\": \"scatter3d\"}], \"scattercarpet\": [{\"marker\": {\"colorbar\": {\"outlinewidth\": 0, \"ticks\": \"\"}}, \"type\": \"scattercarpet\"}], \"scattergeo\": [{\"marker\": {\"colorbar\": {\"outlinewidth\": 0, \"ticks\": \"\"}}, \"type\": \"scattergeo\"}], \"scattergl\": [{\"marker\": {\"colorbar\": {\"outlinewidth\": 0, \"ticks\": \"\"}}, \"type\": \"scattergl\"}], \"scattermapbox\": [{\"marker\": {\"colorbar\": {\"outlinewidth\": 0, \"ticks\": \"\"}}, \"type\": \"scattermapbox\"}], \"scatterpolar\": [{\"marker\": {\"colorbar\": {\"outlinewidth\": 0, \"ticks\": \"\"}}, \"type\": \"scatterpolar\"}], \"scatterpolargl\": [{\"marker\": {\"colorbar\": {\"outlinewidth\": 0, \"ticks\": \"\"}}, \"type\": \"scatterpolargl\"}], \"scatterternary\": [{\"marker\": {\"colorbar\": {\"outlinewidth\": 0, \"ticks\": \"\"}}, \"type\": \"scatterternary\"}], \"surface\": [{\"colorbar\": {\"outlinewidth\": 0, \"ticks\": \"\"}, \"colorscale\": [[0.0, \"#0d0887\"], [0.1111111111111111, \"#46039f\"], [0.2222222222222222, \"#7201a8\"], [0.3333333333333333, \"#9c179e\"], [0.4444444444444444, \"#bd3786\"], [0.5555555555555556, \"#d8576b\"], [0.6666666666666666, \"#ed7953\"], [0.7777777777777778, \"#fb9f3a\"], [0.8888888888888888, \"#fdca26\"], [1.0, \"#f0f921\"]], \"type\": \"surface\"}], \"table\": [{\"cells\": {\"fill\": {\"color\": \"#EBF0F8\"}, \"line\": {\"color\": \"white\"}}, \"header\": {\"fill\": {\"color\": \"#C8D4E3\"}, \"line\": {\"color\": \"white\"}}, \"type\": \"table\"}]}, \"layout\": {\"annotationdefaults\": {\"arrowcolor\": \"#2a3f5f\", \"arrowhead\": 0, \"arrowwidth\": 1}, \"coloraxis\": {\"colorbar\": {\"outlinewidth\": 0, \"ticks\": \"\"}}, \"colorscale\": {\"diverging\": [[0, \"#8e0152\"], [0.1, \"#c51b7d\"], [0.2, \"#de77ae\"], [0.3, \"#f1b6da\"], [0.4, \"#fde0ef\"], [0.5, \"#f7f7f7\"], [0.6, \"#e6f5d0\"], [0.7, \"#b8e186\"], [0.8, \"#7fbc41\"], [0.9, \"#4d9221\"], [1, \"#276419\"]], \"sequential\": [[0.0, \"#0d0887\"], [0.1111111111111111, \"#46039f\"], [0.2222222222222222, \"#7201a8\"], [0.3333333333333333, \"#9c179e\"], [0.4444444444444444, \"#bd3786\"], [0.5555555555555556, \"#d8576b\"], [0.6666666666666666, \"#ed7953\"], [0.7777777777777778, \"#fb9f3a\"], [0.8888888888888888, \"#fdca26\"], [1.0, \"#f0f921\"]], \"sequentialminus\": [[0.0, \"#0d0887\"], [0.1111111111111111, \"#46039f\"], [0.2222222222222222, \"#7201a8\"], [0.3333333333333333, \"#9c179e\"], [0.4444444444444444, \"#bd3786\"], [0.5555555555555556, \"#d8576b\"], [0.6666666666666666, \"#ed7953\"], [0.7777777777777778, \"#fb9f3a\"], [0.8888888888888888, \"#fdca26\"], [1.0, \"#f0f921\"]]}, \"colorway\": [\"#636efa\", \"#EF553B\", \"#00cc96\", \"#ab63fa\", \"#FFA15A\", \"#19d3f3\", \"#FF6692\", \"#B6E880\", \"#FF97FF\", \"#FECB52\"], \"font\": {\"color\": \"#2a3f5f\"}, \"geo\": {\"bgcolor\": \"white\", \"lakecolor\": \"white\", \"landcolor\": \"#E5ECF6\", \"showlakes\": true, \"showland\": true, \"subunitcolor\": \"white\"}, \"hoverlabel\": {\"align\": \"left\"}, \"hovermode\": \"closest\", \"mapbox\": {\"style\": \"light\"}, \"paper_bgcolor\": \"white\", \"plot_bgcolor\": \"#E5ECF6\", \"polar\": {\"angularaxis\": {\"gridcolor\": \"white\", \"linecolor\": \"white\", \"ticks\": \"\"}, \"bgcolor\": \"#E5ECF6\", \"radialaxis\": {\"gridcolor\": \"white\", \"linecolor\": \"white\", \"ticks\": \"\"}}, \"scene\": {\"xaxis\": {\"backgroundcolor\": \"#E5ECF6\", \"gridcolor\": \"white\", \"gridwidth\": 2, \"linecolor\": \"white\", \"showbackground\": true, \"ticks\": \"\", \"zerolinecolor\": \"white\"}, \"yaxis\": {\"backgroundcolor\": \"#E5ECF6\", \"gridcolor\": \"white\", \"gridwidth\": 2, \"linecolor\": \"white\", \"showbackground\": true, \"ticks\": \"\", \"zerolinecolor\": \"white\"}, \"zaxis\": {\"backgroundcolor\": \"#E5ECF6\", \"gridcolor\": \"white\", \"gridwidth\": 2, \"linecolor\": \"white\", \"showbackground\": true, \"ticks\": \"\", \"zerolinecolor\": \"white\"}}, \"shapedefaults\": {\"line\": {\"color\": \"#2a3f5f\"}}, \"ternary\": {\"aaxis\": {\"gridcolor\": \"white\", \"linecolor\": \"white\", \"ticks\": \"\"}, \"baxis\": {\"gridcolor\": \"white\", \"linecolor\": \"white\", \"ticks\": \"\"}, \"bgcolor\": \"#E5ECF6\", \"caxis\": {\"gridcolor\": \"white\", \"linecolor\": \"white\", \"ticks\": \"\"}}, \"title\": {\"x\": 0.05}, \"xaxis\": {\"automargin\": true, \"gridcolor\": \"white\", \"linecolor\": \"white\", \"ticks\": \"\", \"title\": {\"standoff\": 15}, \"zerolinecolor\": \"white\", \"zerolinewidth\": 2}, \"yaxis\": {\"automargin\": true, \"gridcolor\": \"white\", \"linecolor\": \"white\", \"ticks\": \"\", \"title\": {\"standoff\": 15}, \"zerolinecolor\": \"white\", \"zerolinewidth\": 2}}}},\n",
       "                        {\"responsive\": true}\n",
       "                    ).then(function(){\n",
       "                            \n",
       "var gd = document.getElementById('a32f64a8-e544-4111-aff2-e176b2bca523');\n",
       "var x = new MutationObserver(function (mutations, observer) {{\n",
       "        var display = window.getComputedStyle(gd).display;\n",
       "        if (!display || display === 'none') {{\n",
       "            console.log([gd, 'removed!']);\n",
       "            Plotly.purge(gd);\n",
       "            observer.disconnect();\n",
       "        }}\n",
       "}});\n",
       "\n",
       "// Listen for the removal of the full notebook cells\n",
       "var notebookContainer = gd.closest('#notebook-container');\n",
       "if (notebookContainer) {{\n",
       "    x.observe(notebookContainer, {childList: true});\n",
       "}}\n",
       "\n",
       "// Listen for the clearing of the current output cell\n",
       "var outputEl = gd.closest('.output');\n",
       "if (outputEl) {{\n",
       "    x.observe(outputEl, {childList: true});\n",
       "}}\n",
       "\n",
       "                        })\n",
       "                };\n",
       "                });\n",
       "            </script>\n",
       "        </div>"
      ]
     },
     "metadata": {},
     "output_type": "display_data"
    }
   ],
   "source": [
    "import plotly.express as px\n",
    "\n",
    "fig = px.scatter_mapbox(df, lat=\"Latitude\", lon=\"Longitude\", color=\"machine_vision_prediction\", size=\"AVERAGE WIDTH (FT)\"\n",
    "                        ,hover_name=\"ROAD NAME\",hover_data=[\"machine_vision_prediction\", \"Pavement Rate Total\", \"PCI\"],color_discrete_sequence=[\"fuchsia\"], zoom=12\n",
    "                          )\n",
    "fig.update_layout(mapbox_style=\"open-street-map\")\n",
    "fig.update_layout(margin={\"r\":0,\"t\":0,\"l\":0,\"b\":0})\n",
    "fig.show()\n"
   ]
  },
  {
   "cell_type": "code",
   "execution_count": 46,
   "metadata": {},
   "outputs": [
    {
     "data": {
      "application/vnd.plotly.v1+json": {
       "config": {
        "plotlyServerURL": "https://plot.ly"
       },
       "data": [
        {
         "customdata": [
          [
           8.143536762323636,
           9.35,
           "very good: no maintenance"
          ],
          [
           8.143536762323636,
           5,
           "very good: no maintenance"
          ],
          [
           9,
           8.3,
           "very good: no maintenance"
          ],
          [
           8.143536762323636,
           4.25,
           "very good: no maintenance"
          ],
          [
           9,
           6.5431578947368445,
           "very good: no maintenance"
          ],
          [
           9,
           5,
           "very good: no maintenance"
          ],
          [
           9,
           6.6,
           "very good: no maintenance"
          ],
          [
           9,
           5.95,
           "very good: no maintenance"
          ],
          [
           8.143536762323636,
           7.65,
           "very good: no maintenance"
          ],
          [
           8.143536762323636,
           7.65,
           "very good: no maintenance"
          ]
         ],
         "hovertemplate": "<b>%{hovertext}</b><br><br>PCI=%{customdata[2]}<br>AVERAGE WIDTH (FT)=%{marker.size}<br>Latitude=%{lat}<br>Longitude=%{lon}<br>machine_vision_prediction=%{customdata[0]}<br>Pavement Rate Total=%{customdata[1]}<extra></extra>",
         "hovertext": [
          "AQUEDUCT LANE",
          "CLIFfON  PLACE",
          "COTTONET STREET NORTH",
          "DUNHAM PLACE*",
          "FARGO LANE",
          "FERRIS STREET NORTH",
          "HALSEY POND ROAD",
          "HUDSON ROAD WEST",
          "MATHIESSEN PARK",
          "WOODBINE ROAD*"
         ],
         "lat": [
          41.039262,
          41.024615000000004,
          41.039995000000005,
          41.035227,
          41.044558,
          41.040765,
          41.029021,
          41.023734000000005,
          41.041392,
          41.035891
         ],
         "legendgroup": "very good: no maintenance",
         "lon": [
          -73.866576,
          -73.873604,
          -73.87089499999999,
          -73.855468,
          -73.86654,
          -73.867956,
          -73.85427800000001,
          -73.873176,
          -73.866937,
          -73.87015699999999
         ],
         "marker": {
          "color": "#636efa",
          "size": [
           21,
           18,
           27,
           30,
           18,
           29,
           14,
           19,
           10,
           19
          ],
          "sizemode": "area",
          "sizeref": 0.1175
         },
         "mode": "markers",
         "name": "very good: no maintenance",
         "showlegend": true,
         "subplot": "mapbox",
         "type": "scattermapbox"
        },
        {
         "customdata": [
          [
           2.7107479072098184,
           4.5,
           "poor: Rehabilitation"
          ],
          [
           3.659126937665392,
           5.1,
           "poor: Rehabilitation"
          ],
          [
           3.3109149705429815,
           6.5431578947368445,
           "poor: Rehabilitation"
          ],
          [
           0.8164615796047122,
           3.75,
           "poor: Rehabilitation"
          ],
          [
           2.9958397532827163,
           5,
           "poor: Rehabilitation"
          ],
          [
           2.9958397532827163,
           7.65,
           "poor: Rehabilitation"
          ],
          [
           2.219372675474458,
           6.6,
           "poor: Rehabilitation"
          ],
          [
           2.7107479072098184,
           6.6,
           "poor: Rehabilitation"
          ],
          [
           0.2717764508008665,
           7.65,
           "poor: Rehabilitation"
          ],
          [
           2.9958397532827163,
           7,
           "poor: Rehabilitation"
          ],
          [
           3.3109149705429815,
           6.5431578947368445,
           "poor: Rehabilitation"
          ],
          [
           2.219372675474458,
           7.25,
           "poor: Rehabilitation"
          ],
          [
           3.659126937665392,
           6.6,
           "poor: Rehabilitation"
          ],
          [
           1.8170686619518983,
           7.55,
           "poor: Rehabilitation"
          ],
          [
           2.4527861373061133,
           7.55,
           "poor: Rehabilitation"
          ],
          [
           3.659126937665392,
           5.85,
           "poor: Rehabilitation"
          ],
          [
           1.6441517164746116,
           8.3,
           "poor: Rehabilitation"
          ],
          [
           2.008171441335868,
           6.6,
           "poor: Rehabilitation"
          ],
          [
           1.2180175491295144,
           4.8,
           "poor: Rehabilitation"
          ],
          [
           1.4876899939942787,
           8.3,
           "poor: Rehabilitation"
          ],
          [
           1.4876899939942787,
           8.3,
           "poor: Rehabilitation"
          ],
          [
           3.659126937665392,
           8.3,
           "poor: Rehabilitation"
          ],
          [
           2.9958397532827163,
           8.3,
           "poor: Rehabilitation"
          ],
          [
           3.3109149705429815,
           6.9,
           "poor: Rehabilitation"
          ],
          [
           3.659126937665392,
           6.9,
           "poor: Rehabilitation"
          ],
          [
           2.219372675474458,
           7.55,
           "poor: Rehabilitation"
          ],
          [
           3.659126937665392,
           6.9,
           "poor: Rehabilitation"
          ]
         ],
         "hovertemplate": "<b>%{hovertext}</b><br><br>PCI=%{customdata[2]}<br>AVERAGE WIDTH (FT)=%{marker.size}<br>Latitude=%{lat}<br>Longitude=%{lon}<br>machine_vision_prediction=%{customdata[0]}<br>Pavement Rate Total=%{customdata[1]}<extra></extra>",
         "hovertext": [
          "ARDSLEY AVE. EAST",
          "BUCKHOUTSTREET  NORTH",
          "CARLA LANE*",
          "CEDAR LAWN ROAD",
          "DEARMAN STREET NORTH",
          "DUTCHER STREET NORTH",
          "DUTCHER STREET SOUTH",
          "EAST CLINTON AVE.",
          "ECKAR STREET NORTH",
          "ECKAR STREET SOUTH",
          "FIELDPOINT DRIVE (800-4,500 ft.)",
          "FIELD TERRACE",
          "GRINNEL STREET",
          "HALFMOON LANE",
          "HAMILTON ROAD",
          "HAVERMEYER ROAD*",
          "HENDRICK SOUTH*",
          "HILLSIDE TERRACE",
          "HUDSON VIEW PARK",
          "HUGH HILL LANE*",
          "ILINKA LANE",
          "MAIN STREET WEST",
          "MAPLE STREET",
          "NORTH BROOK LANE",
          "PALLISER ROAD",
          "PARK AVENUE",
          "SYCAMORE LANE"
         ],
         "lat": [
          41.025517,
          41.040975,
          41.033971,
          41.03593,
          41.039123,
          41.040171,
          41.038565999999996,
          41.030871999999995,
          41.040057,
          41.038665,
          41.039464,
          41.026044,
          41.038864000000004,
          41.030695,
          41.029573,
          41.025343,
          41.029014000000004,
          41.03621,
          41.048105,
          41.033893,
          41.02964,
          41.039805,
          41.037034999999996,
          41.027784999999994,
          41.032176,
          41.047022999999996,
          41.03672
         ],
         "legendgroup": "poor: Rehabilitation",
         "lon": [
          -73.866235,
          -73.87227299999999,
          -73.861377,
          -73.859023,
          -73.865873,
          -73.86992099999999,
          -73.870295,
          -73.864509,
          -73.86904100000001,
          -73.86935799999999,
          -73.86315400000001,
          -73.864142,
          -73.867519,
          -73.874773,
          -73.86443299999999,
          -73.860833,
          -73.87481899999999,
          -73.857129,
          -73.85588299999999,
          -73.85848100000001,
          -73.86155,
          -73.872617,
          -73.87171500000001,
          -73.853706,
          -73.857407,
          -73.855664,
          -73.86274300000001
         ],
         "marker": {
          "color": "#EF553B",
          "size": [
           20,
           28,
           29,
           19,
           27,
           28,
           29,
           27,
           29,
           30,
           20,
           17,
           18,
           24,
           24,
           24,
           20,
           18,
           20,
           24,
           20,
           47,
           18,
           22,
           19,
           19,
           29
          ],
          "sizemode": "area",
          "sizeref": 0.1175
         },
         "mode": "markers",
         "name": "poor: Rehabilitation",
         "showlegend": true,
         "subplot": "mapbox",
         "type": "scattermapbox"
        },
        {
         "customdata": [
          [
           7.368576777701835,
           6.8,
           "good:  routine maintenance"
          ],
          [
           7.368576777701835,
           8.3,
           "good:  routine maintenance"
          ],
          [
           6.667363986135461,
           8.3,
           "good:  routine maintenance"
          ],
          [
           6.667363986135461,
           6.9,
           "good:  routine maintenance"
          ],
          [
           7.368576777701835,
           6.5,
           "good:  routine maintenance"
          ],
          [
           7.368576777701835,
           6.8,
           "good:  routine maintenance"
          ],
          [
           6.032880414320754,
           6.6,
           "good:  routine maintenance"
          ],
          [
           6.667363986135461,
           6.9,
           "good:  routine maintenance"
          ],
          [
           7.368576777701835,
           3,
           "good:  routine maintenance"
          ],
          [
           6.032880414320754,
           7.65,
           "good:  routine maintenance"
          ],
          [
           6.667363986135461,
           6.5431578947368445,
           "good:  routine maintenance"
          ],
          [
           6.032880414320754,
           5,
           "good:  routine maintenance"
          ],
          [
           6.032880414320754,
           6.5431578947368445,
           "good:  routine maintenance"
          ],
          [
           7.368576777701835,
           7.65,
           "good:  routine maintenance"
          ],
          [
           6.032880414320754,
           6.6,
           "good:  routine maintenance"
          ],
          [
           6.032880414320754,
           5.85,
           "good:  routine maintenance"
          ],
          [
           6.667363986135461,
           7.65,
           "good:  routine maintenance"
          ],
          [
           6.667363986135461,
           7.65,
           "good:  routine maintenance"
          ],
          [
           6.667363986135461,
           7,
           "good:  routine maintenance"
          ],
          [
           6.032880414320754,
           5.85,
           "good:  routine maintenance"
          ],
          [
           7.368576777701835,
           5.85,
           "good:  routine maintenance"
          ],
          [
           6.667363986135461,
           6.6,
           "good:  routine maintenance"
          ],
          [
           7.368576777701835,
           8.3,
           "good:  routine maintenance"
          ],
          [
           7.368576777701835,
           5.85,
           "good:  routine maintenance"
          ],
          [
           6.667363986135461,
           6.9,
           "good:  routine maintenance"
          ],
          [
           7.368576777701835,
           4.15,
           "good:  routine maintenance"
          ],
          [
           6.667363986135461,
           5.1,
           "good:  routine maintenance"
          ],
          [
           6.032880414320754,
           5.85,
           "good:  routine maintenance"
          ],
          [
           7.368576777701835,
           4.8,
           "good:  routine maintenance"
          ],
          [
           6.032880414320754,
           3.5,
           "good:  routine maintenance"
          ],
          [
           6.667363986135461,
           7.55,
           "good:  routine maintenance"
          ],
          [
           7.368576777701835,
           6.5431578947368445,
           "good:  routine maintenance"
          ],
          [
           7.368576777701835,
           6.6,
           "good:  routine maintenance"
          ],
          [
           7.368576777701835,
           5.85,
           "good:  routine maintenance"
          ]
         ],
         "hovertemplate": "<b>%{hovertext}</b><br><br>PCI=%{customdata[2]}<br>AVERAGE WIDTH (FT)=%{marker.size}<br>Latitude=%{lat}<br>Longitude=%{lon}<br>machine_vision_prediction=%{customdata[0]}<br>Pavement Rate Total=%{customdata[1]}<extra></extra>",
         "hovertext": [
          "ARDSLEY AVE. WEST*",
          "BARBARA LANE*",
          "BEECHWOOD LANE*",
          "BELMONT DRIVE SOUTH",
          "BERTHA PLACE",
          "BRIDGE STREET",
          "BUTTERWOOD EAST*",
          "CIRCLE DRIVE",
          "CYRUS FIELD ROAD (3,200-5,744 ft.)",
          "DEEP HOLLOW CLOSE",
          "EAST SUNNYSIDE LANE",
          "ERIE STREET",
          "EMORY ROAD",
          "FIELDPOINT DRIVE (0-800 ft.)",
          "GREY ROCK TERRACE",
          "HANCOCK PLACE",
          "HENDRICK NORTH *",
          "HERMITS ROAD",
          "HOME PLACE WEST",
          "HUDSON AVENUE",
          "HUDSON ROAD EAST",
          "IRVING PLACE",
          "JAFFREY PARK",
          "LEWIS ROAD",
          "MANOR POND LANE",
          "MEADOW WAY",
          "NORTH ASTOR STREET",
          "OSCEOLA AVENUE",
          "PARK ROAD",
          "PETER BONT ROAD (0-2,000 ft.)'",
          "RIVER ROAD",
          "VICTOR DRIVE*",
          "WASHINGTON AVENUE",
          "WEST SUNNYSIDE LANE"
         ],
         "lat": [
          41.025593,
          41.042896999999996,
          41.027831,
          41.023928999999995,
          41.02489,
          41.040372999999995,
          41.029098,
          41.042116,
          41.034269,
          41.025465999999994,
          41.048575,
          41.024404,
          41.034215,
          41.038053000000005,
          41.036319,
          41.024433,
          41.03014,
          41.039099,
          41.038391,
          41.046238,
          41.023252,
          41.042336999999996,
          41.037673,
          41.03285,
          41.029537,
          41.035983,
          41.040469,
          41.025706,
          41.033525,
          41.04257,
          41.037483,
          41.034067,
          41.023962,
          41.047124
         ],
         "legendgroup": "good:  routine maintenance",
         "lon": [
          -73.872857,
          -73.854404,
          -73.865263,
          -73.863462,
          -73.86993199999999,
          -73.87326,
          -73.863353,
          -73.862375,
          -73.848475,
          -73.859628,
          -73.856275,
          -73.866733,
          -73.853358,
          -73.85422,
          -73.857991,
          -73.871521,
          -73.87474,
          -73.843161,
          -73.868288,
          -73.854231,
          -73.866458,
          -73.859586,
          -73.868022,
          -73.853874,
          -73.85031,
          -73.856204,
          -73.872665,
          -73.861711,
          -73.857787,
          -73.838365,
          -73.873786,
          -73.861836,
          -73.864951,
          -73.866099
         ],
         "marker": {
          "color": "#00cc96",
          "size": [
           20,
           23,
           24,
           20,
           18,
           40,
           20,
           21,
           20,
           21,
           10,
           20,
           16,
           20,
           18,
           17,
           20,
           10,
           18,
           20,
           17,
           18,
           29,
           18,
           22,
           20,
           40,
           19,
           20,
           10,
           35,
           28,
           23,
           10
          ],
          "sizemode": "area",
          "sizeref": 0.1175
         },
         "mode": "markers",
         "name": "good:  routine maintenance",
         "showlegend": true,
         "subplot": "mapbox",
         "type": "scattermapbox"
        },
        {
         "customdata": [
          [
           5.458775937413701,
           4.9,
           "fair:  preventative maintenance"
          ],
          [
           4.939304724846237,
           8.3,
           "fair:  preventative maintenance"
          ],
          [
           4.4692677341226865,
           4.9,
           "fair:  preventative maintenance"
          ],
          [
           5.458775937413701,
           6.6,
           "fair:  preventative maintenance"
          ],
          [
           4.939304724846237,
           8.3,
           "fair:  preventative maintenance"
          ],
          [
           5.458775937413701,
           6.9,
           "fair:  preventative maintenance"
          ],
          [
           4.939304724846237,
           8.3,
           "fair:  preventative maintenance"
          ],
          [
           5.458775937413701,
           7.65,
           "fair:  preventative maintenance"
          ],
          [
           4.939304724846237,
           7.25,
           "fair:  preventative maintenance"
          ],
          [
           4.939304724846237,
           3,
           "fair:  preventative maintenance"
          ],
          [
           4.043960677054994,
           5,
           "fair:  preventative maintenance"
          ],
          [
           5.458775937413701,
           8.3,
           "fair:  preventative maintenance"
          ],
          [
           4.4692677341226865,
           6.8,
           "fair:  preventative maintenance"
          ],
          [
           4.043960677054994,
           5,
           "fair:  preventative maintenance"
          ],
          [
           4.043960677054994,
           6.5431578947368445,
           "fair:  preventative maintenance"
          ],
          [
           4.939304724846237,
           6.6,
           "fair:  preventative maintenance"
          ],
          [
           4.939304724846237,
           7.55,
           "fair:  preventative maintenance"
          ],
          [
           4.939304724846237,
           8.3,
           "fair:  preventative maintenance"
          ],
          [
           4.939304724846237,
           5.1,
           "fair:  preventative maintenance"
          ],
          [
           4.939304724846237,
           8.3,
           "fair:  preventative maintenance"
          ],
          [
           4.043960677054994,
           6.5431578947368445,
           "fair:  preventative maintenance"
          ],
          [
           5.458775937413701,
           5.85,
           "fair:  preventative maintenance"
          ],
          [
           5.458775937413701,
           8.95,
           "fair:  preventative maintenance"
          ],
          [
           4.4692677341226865,
           4.15,
           "fair:  preventative maintenance"
          ],
          [
           4.4692677341226865,
           3.5,
           "fair:  preventative maintenance"
          ],
          [
           5.458775937413701,
           6.9,
           "fair:  preventative maintenance"
          ],
          [
           4.043960677054994,
           6.6,
           "fair:  preventative maintenance"
          ],
          [
           4.043960677054994,
           6.9,
           "fair:  preventative maintenance"
          ],
          [
           4.939304724846237,
           5.1,
           "fair:  preventative maintenance"
          ],
          [
           4.4692677341226865,
           6.8,
           "fair:  preventative maintenance"
          ],
          [
           5.458775937413701,
           3.4,
           "fair:  preventative maintenance"
          ],
          [
           5.458775937413701,
           8.95,
           "fair:  preventative maintenance"
          ]
         ],
         "hovertemplate": "<b>%{hovertext}</b><br><br>PCI=%{customdata[2]}<br>AVERAGE WIDTH (FT)=%{marker.size}<br>Latitude=%{lat}<br>Longitude=%{lon}<br>machine_vision_prediction=%{customdata[0]}<br>Pavement Rate Total=%{customdata[1]}<extra></extra>",
         "hovertext": [
          "BELMONT DRIVE NORTH",
          "BROOK PLACE",
          "BUCKHOUT STREET SOUTH",
          "BUTTERWOOD WEST*",
          "CASTLE ROAD*",
          "CENTER STREET",
          "CINDY LANE",
          "COTTONET STREET SOUTH",
          "CROTON PLACE",
          "CYRUS FIELD ROAD (0-3,200 ft.)",
          "DEARMAN STREET SOUTH",
          "DOGWOOD LANE*",
          "DOWS LANE",
          "FERRIS STREET SOUTH",
          "HARRIMAN ROAD",
          "HOME PLACE EAST",
          "IRVINGTON MANOR DRIVE",
          "JANET TERRACE*",
          "LANGDON AVENUE",
          "LEAFWOOD TERRACE*",
          "MAIN STREET",
          "MEADOW BROOK ROAD",
          "OAK STREET",
          "PARKSIDE WAY",
          "PETER BONT ROAD (2,000-4,799 ft.)'",
          "RIVERVIEW ROAD",
          "RIVERVIEW TERRACE",
          "ROLAND ROAD",
          "SOUTH ASTOR STREET",
          "STATION ROAD",
          "WEST CLINTON AVENUE*",
          "WILLOW STREET"
         ],
         "lat": [
          41.022799,
          41.036612,
          41.035629,
          41.029214,
          41.031132,
          41.046367,
          41.026502,
          41.038362,
          41.038789,
          41.024836,
          41.038729,
          41.037303,
          41.033153000000006,
          41.038446,
          41.034890999999995,
          41.038277,
          41.030021000000005,
          41.042543,
          41.022464,
          41.032415,
          41.039406,
          41.044903999999995,
          41.036076,
          41.035373,
          41.04679,
          41.04333,
          41.036651,
          41.024033,
          41.038833000000004,
          41.0361,
          41.031256,
          41.0361
         ],
         "legendgroup": "fair:  preventative maintenance",
         "lon": [
          -73.863148,
          -73.86980600000001,
          -73.87302700000001,
          -73.86614,
          -73.857641,
          -73.855205,
          -73.867808,
          -73.871266,
          -73.866959,
          -73.848653,
          -73.865961,
          -73.86224399999999,
          -73.868674,
          -73.86846700000001,
          -73.85906999999999,
          -73.86716,
          -73.848591,
          -73.855203,
          -73.86580500000001,
          -73.856952,
          -73.869548,
          -73.863683,
          -73.870586,
          -73.859852,
          -73.849577,
          -73.855637,
          -73.858929,
          -73.867284,
          -73.872973,
          -73.869206,
          -73.87116,
          -73.871086
         ],
         "marker": {
          "color": "#ab63fa",
          "size": [
           20,
           18,
           24,
           20,
           19,
           19,
           26,
           28,
           18,
           20,
           27,
           29,
           20,
           29,
           31,
           16,
           16,
           23,
           18,
           20,
           44,
           20,
           17,
           19,
           10,
           22,
           20,
           17,
           34,
           21,
           28,
           17
          ],
          "sizemode": "area",
          "sizeref": 0.1175
         },
         "mode": "markers",
         "name": "fair:  preventative maintenance",
         "showlegend": true,
         "subplot": "mapbox",
         "type": "scattermapbox"
        }
       ],
       "layout": {
        "legend": {
         "itemsizing": "constant",
         "title": {
          "text": "PCI"
         },
         "tracegroupgap": 0
        },
        "mapbox": {
         "center": {
          "lat": 41.034911640776706,
          "lon": -73.86342273786407
         },
         "domain": {
          "x": [
           0,
           1
          ],
          "y": [
           0,
           1
          ]
         },
         "style": "open-street-map",
         "zoom": 12
        },
        "margin": {
         "b": 0,
         "l": 0,
         "r": 0,
         "t": 0
        },
        "template": {
         "data": {
          "bar": [
           {
            "error_x": {
             "color": "#2a3f5f"
            },
            "error_y": {
             "color": "#2a3f5f"
            },
            "marker": {
             "line": {
              "color": "#E5ECF6",
              "width": 0.5
             }
            },
            "type": "bar"
           }
          ],
          "barpolar": [
           {
            "marker": {
             "line": {
              "color": "#E5ECF6",
              "width": 0.5
             }
            },
            "type": "barpolar"
           }
          ],
          "carpet": [
           {
            "aaxis": {
             "endlinecolor": "#2a3f5f",
             "gridcolor": "white",
             "linecolor": "white",
             "minorgridcolor": "white",
             "startlinecolor": "#2a3f5f"
            },
            "baxis": {
             "endlinecolor": "#2a3f5f",
             "gridcolor": "white",
             "linecolor": "white",
             "minorgridcolor": "white",
             "startlinecolor": "#2a3f5f"
            },
            "type": "carpet"
           }
          ],
          "choropleth": [
           {
            "colorbar": {
             "outlinewidth": 0,
             "ticks": ""
            },
            "type": "choropleth"
           }
          ],
          "contour": [
           {
            "colorbar": {
             "outlinewidth": 0,
             "ticks": ""
            },
            "colorscale": [
             [
              0,
              "#0d0887"
             ],
             [
              0.1111111111111111,
              "#46039f"
             ],
             [
              0.2222222222222222,
              "#7201a8"
             ],
             [
              0.3333333333333333,
              "#9c179e"
             ],
             [
              0.4444444444444444,
              "#bd3786"
             ],
             [
              0.5555555555555556,
              "#d8576b"
             ],
             [
              0.6666666666666666,
              "#ed7953"
             ],
             [
              0.7777777777777778,
              "#fb9f3a"
             ],
             [
              0.8888888888888888,
              "#fdca26"
             ],
             [
              1,
              "#f0f921"
             ]
            ],
            "type": "contour"
           }
          ],
          "contourcarpet": [
           {
            "colorbar": {
             "outlinewidth": 0,
             "ticks": ""
            },
            "type": "contourcarpet"
           }
          ],
          "heatmap": [
           {
            "colorbar": {
             "outlinewidth": 0,
             "ticks": ""
            },
            "colorscale": [
             [
              0,
              "#0d0887"
             ],
             [
              0.1111111111111111,
              "#46039f"
             ],
             [
              0.2222222222222222,
              "#7201a8"
             ],
             [
              0.3333333333333333,
              "#9c179e"
             ],
             [
              0.4444444444444444,
              "#bd3786"
             ],
             [
              0.5555555555555556,
              "#d8576b"
             ],
             [
              0.6666666666666666,
              "#ed7953"
             ],
             [
              0.7777777777777778,
              "#fb9f3a"
             ],
             [
              0.8888888888888888,
              "#fdca26"
             ],
             [
              1,
              "#f0f921"
             ]
            ],
            "type": "heatmap"
           }
          ],
          "heatmapgl": [
           {
            "colorbar": {
             "outlinewidth": 0,
             "ticks": ""
            },
            "colorscale": [
             [
              0,
              "#0d0887"
             ],
             [
              0.1111111111111111,
              "#46039f"
             ],
             [
              0.2222222222222222,
              "#7201a8"
             ],
             [
              0.3333333333333333,
              "#9c179e"
             ],
             [
              0.4444444444444444,
              "#bd3786"
             ],
             [
              0.5555555555555556,
              "#d8576b"
             ],
             [
              0.6666666666666666,
              "#ed7953"
             ],
             [
              0.7777777777777778,
              "#fb9f3a"
             ],
             [
              0.8888888888888888,
              "#fdca26"
             ],
             [
              1,
              "#f0f921"
             ]
            ],
            "type": "heatmapgl"
           }
          ],
          "histogram": [
           {
            "marker": {
             "colorbar": {
              "outlinewidth": 0,
              "ticks": ""
             }
            },
            "type": "histogram"
           }
          ],
          "histogram2d": [
           {
            "colorbar": {
             "outlinewidth": 0,
             "ticks": ""
            },
            "colorscale": [
             [
              0,
              "#0d0887"
             ],
             [
              0.1111111111111111,
              "#46039f"
             ],
             [
              0.2222222222222222,
              "#7201a8"
             ],
             [
              0.3333333333333333,
              "#9c179e"
             ],
             [
              0.4444444444444444,
              "#bd3786"
             ],
             [
              0.5555555555555556,
              "#d8576b"
             ],
             [
              0.6666666666666666,
              "#ed7953"
             ],
             [
              0.7777777777777778,
              "#fb9f3a"
             ],
             [
              0.8888888888888888,
              "#fdca26"
             ],
             [
              1,
              "#f0f921"
             ]
            ],
            "type": "histogram2d"
           }
          ],
          "histogram2dcontour": [
           {
            "colorbar": {
             "outlinewidth": 0,
             "ticks": ""
            },
            "colorscale": [
             [
              0,
              "#0d0887"
             ],
             [
              0.1111111111111111,
              "#46039f"
             ],
             [
              0.2222222222222222,
              "#7201a8"
             ],
             [
              0.3333333333333333,
              "#9c179e"
             ],
             [
              0.4444444444444444,
              "#bd3786"
             ],
             [
              0.5555555555555556,
              "#d8576b"
             ],
             [
              0.6666666666666666,
              "#ed7953"
             ],
             [
              0.7777777777777778,
              "#fb9f3a"
             ],
             [
              0.8888888888888888,
              "#fdca26"
             ],
             [
              1,
              "#f0f921"
             ]
            ],
            "type": "histogram2dcontour"
           }
          ],
          "mesh3d": [
           {
            "colorbar": {
             "outlinewidth": 0,
             "ticks": ""
            },
            "type": "mesh3d"
           }
          ],
          "parcoords": [
           {
            "line": {
             "colorbar": {
              "outlinewidth": 0,
              "ticks": ""
             }
            },
            "type": "parcoords"
           }
          ],
          "pie": [
           {
            "automargin": true,
            "type": "pie"
           }
          ],
          "scatter": [
           {
            "marker": {
             "colorbar": {
              "outlinewidth": 0,
              "ticks": ""
             }
            },
            "type": "scatter"
           }
          ],
          "scatter3d": [
           {
            "line": {
             "colorbar": {
              "outlinewidth": 0,
              "ticks": ""
             }
            },
            "marker": {
             "colorbar": {
              "outlinewidth": 0,
              "ticks": ""
             }
            },
            "type": "scatter3d"
           }
          ],
          "scattercarpet": [
           {
            "marker": {
             "colorbar": {
              "outlinewidth": 0,
              "ticks": ""
             }
            },
            "type": "scattercarpet"
           }
          ],
          "scattergeo": [
           {
            "marker": {
             "colorbar": {
              "outlinewidth": 0,
              "ticks": ""
             }
            },
            "type": "scattergeo"
           }
          ],
          "scattergl": [
           {
            "marker": {
             "colorbar": {
              "outlinewidth": 0,
              "ticks": ""
             }
            },
            "type": "scattergl"
           }
          ],
          "scattermapbox": [
           {
            "marker": {
             "colorbar": {
              "outlinewidth": 0,
              "ticks": ""
             }
            },
            "type": "scattermapbox"
           }
          ],
          "scatterpolar": [
           {
            "marker": {
             "colorbar": {
              "outlinewidth": 0,
              "ticks": ""
             }
            },
            "type": "scatterpolar"
           }
          ],
          "scatterpolargl": [
           {
            "marker": {
             "colorbar": {
              "outlinewidth": 0,
              "ticks": ""
             }
            },
            "type": "scatterpolargl"
           }
          ],
          "scatterternary": [
           {
            "marker": {
             "colorbar": {
              "outlinewidth": 0,
              "ticks": ""
             }
            },
            "type": "scatterternary"
           }
          ],
          "surface": [
           {
            "colorbar": {
             "outlinewidth": 0,
             "ticks": ""
            },
            "colorscale": [
             [
              0,
              "#0d0887"
             ],
             [
              0.1111111111111111,
              "#46039f"
             ],
             [
              0.2222222222222222,
              "#7201a8"
             ],
             [
              0.3333333333333333,
              "#9c179e"
             ],
             [
              0.4444444444444444,
              "#bd3786"
             ],
             [
              0.5555555555555556,
              "#d8576b"
             ],
             [
              0.6666666666666666,
              "#ed7953"
             ],
             [
              0.7777777777777778,
              "#fb9f3a"
             ],
             [
              0.8888888888888888,
              "#fdca26"
             ],
             [
              1,
              "#f0f921"
             ]
            ],
            "type": "surface"
           }
          ],
          "table": [
           {
            "cells": {
             "fill": {
              "color": "#EBF0F8"
             },
             "line": {
              "color": "white"
             }
            },
            "header": {
             "fill": {
              "color": "#C8D4E3"
             },
             "line": {
              "color": "white"
             }
            },
            "type": "table"
           }
          ]
         },
         "layout": {
          "annotationdefaults": {
           "arrowcolor": "#2a3f5f",
           "arrowhead": 0,
           "arrowwidth": 1
          },
          "coloraxis": {
           "colorbar": {
            "outlinewidth": 0,
            "ticks": ""
           }
          },
          "colorscale": {
           "diverging": [
            [
             0,
             "#8e0152"
            ],
            [
             0.1,
             "#c51b7d"
            ],
            [
             0.2,
             "#de77ae"
            ],
            [
             0.3,
             "#f1b6da"
            ],
            [
             0.4,
             "#fde0ef"
            ],
            [
             0.5,
             "#f7f7f7"
            ],
            [
             0.6,
             "#e6f5d0"
            ],
            [
             0.7,
             "#b8e186"
            ],
            [
             0.8,
             "#7fbc41"
            ],
            [
             0.9,
             "#4d9221"
            ],
            [
             1,
             "#276419"
            ]
           ],
           "sequential": [
            [
             0,
             "#0d0887"
            ],
            [
             0.1111111111111111,
             "#46039f"
            ],
            [
             0.2222222222222222,
             "#7201a8"
            ],
            [
             0.3333333333333333,
             "#9c179e"
            ],
            [
             0.4444444444444444,
             "#bd3786"
            ],
            [
             0.5555555555555556,
             "#d8576b"
            ],
            [
             0.6666666666666666,
             "#ed7953"
            ],
            [
             0.7777777777777778,
             "#fb9f3a"
            ],
            [
             0.8888888888888888,
             "#fdca26"
            ],
            [
             1,
             "#f0f921"
            ]
           ],
           "sequentialminus": [
            [
             0,
             "#0d0887"
            ],
            [
             0.1111111111111111,
             "#46039f"
            ],
            [
             0.2222222222222222,
             "#7201a8"
            ],
            [
             0.3333333333333333,
             "#9c179e"
            ],
            [
             0.4444444444444444,
             "#bd3786"
            ],
            [
             0.5555555555555556,
             "#d8576b"
            ],
            [
             0.6666666666666666,
             "#ed7953"
            ],
            [
             0.7777777777777778,
             "#fb9f3a"
            ],
            [
             0.8888888888888888,
             "#fdca26"
            ],
            [
             1,
             "#f0f921"
            ]
           ]
          },
          "colorway": [
           "#636efa",
           "#EF553B",
           "#00cc96",
           "#ab63fa",
           "#FFA15A",
           "#19d3f3",
           "#FF6692",
           "#B6E880",
           "#FF97FF",
           "#FECB52"
          ],
          "font": {
           "color": "#2a3f5f"
          },
          "geo": {
           "bgcolor": "white",
           "lakecolor": "white",
           "landcolor": "#E5ECF6",
           "showlakes": true,
           "showland": true,
           "subunitcolor": "white"
          },
          "hoverlabel": {
           "align": "left"
          },
          "hovermode": "closest",
          "mapbox": {
           "style": "light"
          },
          "paper_bgcolor": "white",
          "plot_bgcolor": "#E5ECF6",
          "polar": {
           "angularaxis": {
            "gridcolor": "white",
            "linecolor": "white",
            "ticks": ""
           },
           "bgcolor": "#E5ECF6",
           "radialaxis": {
            "gridcolor": "white",
            "linecolor": "white",
            "ticks": ""
           }
          },
          "scene": {
           "xaxis": {
            "backgroundcolor": "#E5ECF6",
            "gridcolor": "white",
            "gridwidth": 2,
            "linecolor": "white",
            "showbackground": true,
            "ticks": "",
            "zerolinecolor": "white"
           },
           "yaxis": {
            "backgroundcolor": "#E5ECF6",
            "gridcolor": "white",
            "gridwidth": 2,
            "linecolor": "white",
            "showbackground": true,
            "ticks": "",
            "zerolinecolor": "white"
           },
           "zaxis": {
            "backgroundcolor": "#E5ECF6",
            "gridcolor": "white",
            "gridwidth": 2,
            "linecolor": "white",
            "showbackground": true,
            "ticks": "",
            "zerolinecolor": "white"
           }
          },
          "shapedefaults": {
           "line": {
            "color": "#2a3f5f"
           }
          },
          "ternary": {
           "aaxis": {
            "gridcolor": "white",
            "linecolor": "white",
            "ticks": ""
           },
           "baxis": {
            "gridcolor": "white",
            "linecolor": "white",
            "ticks": ""
           },
           "bgcolor": "#E5ECF6",
           "caxis": {
            "gridcolor": "white",
            "linecolor": "white",
            "ticks": ""
           }
          },
          "title": {
           "x": 0.05
          },
          "xaxis": {
           "automargin": true,
           "gridcolor": "white",
           "linecolor": "white",
           "ticks": "",
           "title": {
            "standoff": 15
           },
           "zerolinecolor": "white",
           "zerolinewidth": 2
          },
          "yaxis": {
           "automargin": true,
           "gridcolor": "white",
           "linecolor": "white",
           "ticks": "",
           "title": {
            "standoff": 15
           },
           "zerolinecolor": "white",
           "zerolinewidth": 2
          }
         }
        }
       }
      },
      "text/html": [
       "<div>\n",
       "        \n",
       "        \n",
       "            <div id=\"4dcbd2cf-2bc9-4fee-9b4f-1e71634009ba\" class=\"plotly-graph-div\" style=\"height:525px; width:100%;\"></div>\n",
       "            <script type=\"text/javascript\">\n",
       "                require([\"plotly\"], function(Plotly) {\n",
       "                    window.PLOTLYENV=window.PLOTLYENV || {};\n",
       "                    \n",
       "                if (document.getElementById(\"4dcbd2cf-2bc9-4fee-9b4f-1e71634009ba\")) {\n",
       "                    Plotly.newPlot(\n",
       "                        '4dcbd2cf-2bc9-4fee-9b4f-1e71634009ba',\n",
       "                        [{\"customdata\": [[8.143536762323636, 9.35, \"very good: no maintenance\"], [8.143536762323636, 5.0, \"very good: no maintenance\"], [9.0, 8.3, \"very good: no maintenance\"], [8.143536762323636, 4.25, \"very good: no maintenance\"], [9.0, 6.5431578947368445, \"very good: no maintenance\"], [9.0, 5.0, \"very good: no maintenance\"], [9.0, 6.6, \"very good: no maintenance\"], [9.0, 5.95, \"very good: no maintenance\"], [8.143536762323636, 7.65, \"very good: no maintenance\"], [8.143536762323636, 7.65, \"very good: no maintenance\"]], \"hovertemplate\": \"<b>%{hovertext}</b><br><br>PCI=%{customdata[2]}<br>AVERAGE WIDTH (FT)=%{marker.size}<br>Latitude=%{lat}<br>Longitude=%{lon}<br>machine_vision_prediction=%{customdata[0]}<br>Pavement Rate Total=%{customdata[1]}<extra></extra>\", \"hovertext\": [\"AQUEDUCT LANE\", \"CLIFfON  PLACE\", \"COTTONET STREET NORTH\", \"DUNHAM PLACE*\", \"FARGO LANE\", \"FERRIS STREET NORTH\", \"HALSEY POND ROAD\", \"HUDSON ROAD WEST\", \"MATHIESSEN PARK\", \"WOODBINE ROAD*\"], \"lat\": [41.039262, 41.024615000000004, 41.039995000000005, 41.035227, 41.044558, 41.040765, 41.029021, 41.023734000000005, 41.041392, 41.035891], \"legendgroup\": \"very good: no maintenance\", \"lon\": [-73.866576, -73.873604, -73.87089499999999, -73.855468, -73.86654, -73.867956, -73.85427800000001, -73.873176, -73.866937, -73.87015699999999], \"marker\": {\"color\": \"#636efa\", \"size\": [21.0, 18.0, 27.0, 30.0, 18.0, 29.0, 14.0, 19.0, 10.0, 19.0], \"sizemode\": \"area\", \"sizeref\": 0.1175}, \"mode\": \"markers\", \"name\": \"very good: no maintenance\", \"showlegend\": true, \"subplot\": \"mapbox\", \"type\": \"scattermapbox\"}, {\"customdata\": [[2.7107479072098184, 4.5, \"poor: Rehabilitation\"], [3.659126937665392, 5.1, \"poor: Rehabilitation\"], [3.3109149705429815, 6.5431578947368445, \"poor: Rehabilitation\"], [0.8164615796047122, 3.75, \"poor: Rehabilitation\"], [2.9958397532827163, 5.0, \"poor: Rehabilitation\"], [2.9958397532827163, 7.65, \"poor: Rehabilitation\"], [2.219372675474458, 6.6, \"poor: Rehabilitation\"], [2.7107479072098184, 6.6, \"poor: Rehabilitation\"], [0.2717764508008665, 7.65, \"poor: Rehabilitation\"], [2.9958397532827163, 7.0, \"poor: Rehabilitation\"], [3.3109149705429815, 6.5431578947368445, \"poor: Rehabilitation\"], [2.219372675474458, 7.25, \"poor: Rehabilitation\"], [3.659126937665392, 6.6, \"poor: Rehabilitation\"], [1.8170686619518983, 7.55, \"poor: Rehabilitation\"], [2.4527861373061133, 7.55, \"poor: Rehabilitation\"], [3.659126937665392, 5.85, \"poor: Rehabilitation\"], [1.6441517164746116, 8.3, \"poor: Rehabilitation\"], [2.008171441335868, 6.6, \"poor: Rehabilitation\"], [1.2180175491295144, 4.8, \"poor: Rehabilitation\"], [1.4876899939942787, 8.3, \"poor: Rehabilitation\"], [1.4876899939942787, 8.3, \"poor: Rehabilitation\"], [3.659126937665392, 8.3, \"poor: Rehabilitation\"], [2.9958397532827163, 8.3, \"poor: Rehabilitation\"], [3.3109149705429815, 6.9, \"poor: Rehabilitation\"], [3.659126937665392, 6.9, \"poor: Rehabilitation\"], [2.219372675474458, 7.55, \"poor: Rehabilitation\"], [3.659126937665392, 6.9, \"poor: Rehabilitation\"]], \"hovertemplate\": \"<b>%{hovertext}</b><br><br>PCI=%{customdata[2]}<br>AVERAGE WIDTH (FT)=%{marker.size}<br>Latitude=%{lat}<br>Longitude=%{lon}<br>machine_vision_prediction=%{customdata[0]}<br>Pavement Rate Total=%{customdata[1]}<extra></extra>\", \"hovertext\": [\"ARDSLEY AVE. EAST\", \"BUCKHOUTSTREET  NORTH\", \"CARLA LANE*\", \"CEDAR LAWN ROAD\", \"DEARMAN STREET NORTH\", \"DUTCHER STREET NORTH\", \"DUTCHER STREET SOUTH\", \"EAST CLINTON AVE.\", \"ECKAR STREET NORTH\", \"ECKAR STREET SOUTH\", \"FIELDPOINT DRIVE (800-4,500 ft.)\", \"FIELD TERRACE\", \"GRINNEL STREET\", \"HALFMOON LANE\", \"HAMILTON ROAD\", \"HAVERMEYER ROAD*\", \"HENDRICK SOUTH*\", \"HILLSIDE TERRACE\", \"HUDSON VIEW PARK\", \"HUGH HILL LANE*\", \"ILINKA LANE\", \"MAIN STREET WEST\", \"MAPLE STREET\", \"NORTH BROOK LANE\", \"PALLISER ROAD\", \"PARK AVENUE\", \"SYCAMORE LANE\"], \"lat\": [41.025517, 41.040975, 41.033971, 41.03593, 41.039123, 41.040171, 41.038565999999996, 41.030871999999995, 41.040057, 41.038665, 41.039464, 41.026044, 41.038864000000004, 41.030695, 41.029573, 41.025343, 41.029014000000004, 41.03621, 41.048105, 41.033893, 41.02964, 41.039805, 41.037034999999996, 41.027784999999994, 41.032176, 41.047022999999996, 41.03672], \"legendgroup\": \"poor: Rehabilitation\", \"lon\": [-73.866235, -73.87227299999999, -73.861377, -73.859023, -73.865873, -73.86992099999999, -73.870295, -73.864509, -73.86904100000001, -73.86935799999999, -73.86315400000001, -73.864142, -73.867519, -73.874773, -73.86443299999999, -73.860833, -73.87481899999999, -73.857129, -73.85588299999999, -73.85848100000001, -73.86155, -73.872617, -73.87171500000001, -73.853706, -73.857407, -73.855664, -73.86274300000001], \"marker\": {\"color\": \"#EF553B\", \"size\": [20.0, 28.0, 29.0, 19.0, 27.0, 28.0, 29.0, 27.0, 29.0, 30.0, 20.0, 17.0, 18.0, 24.0, 24.0, 24.0, 20.0, 18.0, 20.0, 24.0, 20.0, 47.0, 18.0, 22.0, 19.0, 19.0, 29.0], \"sizemode\": \"area\", \"sizeref\": 0.1175}, \"mode\": \"markers\", \"name\": \"poor: Rehabilitation\", \"showlegend\": true, \"subplot\": \"mapbox\", \"type\": \"scattermapbox\"}, {\"customdata\": [[7.368576777701835, 6.8, \"good:  routine maintenance\"], [7.368576777701835, 8.3, \"good:  routine maintenance\"], [6.667363986135461, 8.3, \"good:  routine maintenance\"], [6.667363986135461, 6.9, \"good:  routine maintenance\"], [7.368576777701835, 6.5, \"good:  routine maintenance\"], [7.368576777701835, 6.8, \"good:  routine maintenance\"], [6.032880414320754, 6.6, \"good:  routine maintenance\"], [6.667363986135461, 6.9, \"good:  routine maintenance\"], [7.368576777701835, 3.0, \"good:  routine maintenance\"], [6.032880414320754, 7.65, \"good:  routine maintenance\"], [6.667363986135461, 6.5431578947368445, \"good:  routine maintenance\"], [6.032880414320754, 5.0, \"good:  routine maintenance\"], [6.032880414320754, 6.5431578947368445, \"good:  routine maintenance\"], [7.368576777701835, 7.65, \"good:  routine maintenance\"], [6.032880414320754, 6.6, \"good:  routine maintenance\"], [6.032880414320754, 5.85, \"good:  routine maintenance\"], [6.667363986135461, 7.65, \"good:  routine maintenance\"], [6.667363986135461, 7.65, \"good:  routine maintenance\"], [6.667363986135461, 7.0, \"good:  routine maintenance\"], [6.032880414320754, 5.85, \"good:  routine maintenance\"], [7.368576777701835, 5.85, \"good:  routine maintenance\"], [6.667363986135461, 6.6, \"good:  routine maintenance\"], [7.368576777701835, 8.3, \"good:  routine maintenance\"], [7.368576777701835, 5.85, \"good:  routine maintenance\"], [6.667363986135461, 6.9, \"good:  routine maintenance\"], [7.368576777701835, 4.15, \"good:  routine maintenance\"], [6.667363986135461, 5.1, \"good:  routine maintenance\"], [6.032880414320754, 5.85, \"good:  routine maintenance\"], [7.368576777701835, 4.8, \"good:  routine maintenance\"], [6.032880414320754, 3.5, \"good:  routine maintenance\"], [6.667363986135461, 7.55, \"good:  routine maintenance\"], [7.368576777701835, 6.5431578947368445, \"good:  routine maintenance\"], [7.368576777701835, 6.6, \"good:  routine maintenance\"], [7.368576777701835, 5.85, \"good:  routine maintenance\"]], \"hovertemplate\": \"<b>%{hovertext}</b><br><br>PCI=%{customdata[2]}<br>AVERAGE WIDTH (FT)=%{marker.size}<br>Latitude=%{lat}<br>Longitude=%{lon}<br>machine_vision_prediction=%{customdata[0]}<br>Pavement Rate Total=%{customdata[1]}<extra></extra>\", \"hovertext\": [\"ARDSLEY AVE. WEST*\", \"BARBARA LANE*\", \"BEECHWOOD LANE*\", \"BELMONT DRIVE SOUTH\", \"BERTHA PLACE\", \"BRIDGE STREET\", \"BUTTERWOOD EAST*\", \"CIRCLE DRIVE\", \"CYRUS FIELD ROAD (3,200-5,744 ft.)\", \"DEEP HOLLOW CLOSE\", \"EAST SUNNYSIDE LANE\", \"ERIE STREET\", \"EMORY ROAD\", \"FIELDPOINT DRIVE (0-800 ft.)\", \"GREY ROCK TERRACE\", \"HANCOCK PLACE\", \"HENDRICK NORTH *\", \"HERMITS ROAD\", \"HOME PLACE WEST\", \"HUDSON AVENUE\", \"HUDSON ROAD EAST\", \"IRVING PLACE\", \"JAFFREY PARK\", \"LEWIS ROAD\", \"MANOR POND LANE\", \"MEADOW WAY\", \"NORTH ASTOR STREET\", \"OSCEOLA AVENUE\", \"PARK ROAD\", \"PETER BONT ROAD (0-2,000 ft.)'\", \"RIVER ROAD\", \"VICTOR DRIVE*\", \"WASHINGTON AVENUE\", \"WEST SUNNYSIDE LANE\"], \"lat\": [41.025593, 41.042896999999996, 41.027831, 41.023928999999995, 41.02489, 41.040372999999995, 41.029098, 41.042116, 41.034269, 41.025465999999994, 41.048575, 41.024404, 41.034215, 41.038053000000005, 41.036319, 41.024433, 41.03014, 41.039099, 41.038391, 41.046238, 41.023252, 41.042336999999996, 41.037673, 41.03285, 41.029537, 41.035983, 41.040469, 41.025706, 41.033525, 41.04257, 41.037483, 41.034067, 41.023962, 41.047124], \"legendgroup\": \"good:  routine maintenance\", \"lon\": [-73.872857, -73.854404, -73.865263, -73.863462, -73.86993199999999, -73.87326, -73.863353, -73.862375, -73.848475, -73.859628, -73.856275, -73.866733, -73.853358, -73.85422, -73.857991, -73.871521, -73.87474, -73.843161, -73.868288, -73.854231, -73.866458, -73.859586, -73.868022, -73.853874, -73.85031, -73.856204, -73.872665, -73.861711, -73.857787, -73.838365, -73.873786, -73.861836, -73.864951, -73.866099], \"marker\": {\"color\": \"#00cc96\", \"size\": [20.0, 23.0, 24.0, 20.0, 18.0, 40.0, 20.0, 21.0, 20.0, 21.0, 10.0, 20.0, 16.0, 20.0, 18.0, 17.0, 20.0, 10.0, 18.0, 20.0, 17.0, 18.0, 29.0, 18.0, 22.0, 20.0, 40.0, 19.0, 20.0, 10.0, 35.0, 28.0, 23.0, 10.0], \"sizemode\": \"area\", \"sizeref\": 0.1175}, \"mode\": \"markers\", \"name\": \"good:  routine maintenance\", \"showlegend\": true, \"subplot\": \"mapbox\", \"type\": \"scattermapbox\"}, {\"customdata\": [[5.458775937413701, 4.9, \"fair:  preventative maintenance\"], [4.939304724846237, 8.3, \"fair:  preventative maintenance\"], [4.4692677341226865, 4.9, \"fair:  preventative maintenance\"], [5.458775937413701, 6.6, \"fair:  preventative maintenance\"], [4.939304724846237, 8.3, \"fair:  preventative maintenance\"], [5.458775937413701, 6.9, \"fair:  preventative maintenance\"], [4.939304724846237, 8.3, \"fair:  preventative maintenance\"], [5.458775937413701, 7.65, \"fair:  preventative maintenance\"], [4.939304724846237, 7.25, \"fair:  preventative maintenance\"], [4.939304724846237, 3.0, \"fair:  preventative maintenance\"], [4.043960677054994, 5.0, \"fair:  preventative maintenance\"], [5.458775937413701, 8.3, \"fair:  preventative maintenance\"], [4.4692677341226865, 6.8, \"fair:  preventative maintenance\"], [4.043960677054994, 5.0, \"fair:  preventative maintenance\"], [4.043960677054994, 6.5431578947368445, \"fair:  preventative maintenance\"], [4.939304724846237, 6.6, \"fair:  preventative maintenance\"], [4.939304724846237, 7.55, \"fair:  preventative maintenance\"], [4.939304724846237, 8.3, \"fair:  preventative maintenance\"], [4.939304724846237, 5.1, \"fair:  preventative maintenance\"], [4.939304724846237, 8.3, \"fair:  preventative maintenance\"], [4.043960677054994, 6.5431578947368445, \"fair:  preventative maintenance\"], [5.458775937413701, 5.85, \"fair:  preventative maintenance\"], [5.458775937413701, 8.95, \"fair:  preventative maintenance\"], [4.4692677341226865, 4.15, \"fair:  preventative maintenance\"], [4.4692677341226865, 3.5, \"fair:  preventative maintenance\"], [5.458775937413701, 6.9, \"fair:  preventative maintenance\"], [4.043960677054994, 6.6, \"fair:  preventative maintenance\"], [4.043960677054994, 6.9, \"fair:  preventative maintenance\"], [4.939304724846237, 5.1, \"fair:  preventative maintenance\"], [4.4692677341226865, 6.8, \"fair:  preventative maintenance\"], [5.458775937413701, 3.4, \"fair:  preventative maintenance\"], [5.458775937413701, 8.95, \"fair:  preventative maintenance\"]], \"hovertemplate\": \"<b>%{hovertext}</b><br><br>PCI=%{customdata[2]}<br>AVERAGE WIDTH (FT)=%{marker.size}<br>Latitude=%{lat}<br>Longitude=%{lon}<br>machine_vision_prediction=%{customdata[0]}<br>Pavement Rate Total=%{customdata[1]}<extra></extra>\", \"hovertext\": [\"BELMONT DRIVE NORTH\", \"BROOK PLACE\", \"BUCKHOUT STREET SOUTH\", \"BUTTERWOOD WEST*\", \"CASTLE ROAD*\", \"CENTER STREET\", \"CINDY LANE\", \"COTTONET STREET SOUTH\", \"CROTON PLACE\", \"CYRUS FIELD ROAD (0-3,200 ft.)\", \"DEARMAN STREET SOUTH\", \"DOGWOOD LANE*\", \"DOWS LANE\", \"FERRIS STREET SOUTH\", \"HARRIMAN ROAD\", \"HOME PLACE EAST\", \"IRVINGTON MANOR DRIVE\", \"JANET TERRACE*\", \"LANGDON AVENUE\", \"LEAFWOOD TERRACE*\", \"MAIN STREET\", \"MEADOW BROOK ROAD\", \"OAK STREET\", \"PARKSIDE WAY\", \"PETER BONT ROAD (2,000-4,799 ft.)'\", \"RIVERVIEW ROAD\", \"RIVERVIEW TERRACE\", \"ROLAND ROAD\", \"SOUTH ASTOR STREET\", \"STATION ROAD\", \"WEST CLINTON AVENUE*\", \"WILLOW STREET\"], \"lat\": [41.022799, 41.036612, 41.035629, 41.029214, 41.031132, 41.046367, 41.026502, 41.038362, 41.038789, 41.024836, 41.038729, 41.037303, 41.033153000000006, 41.038446, 41.034890999999995, 41.038277, 41.030021000000005, 41.042543, 41.022464, 41.032415, 41.039406, 41.044903999999995, 41.036076, 41.035373, 41.04679, 41.04333, 41.036651, 41.024033, 41.038833000000004, 41.0361, 41.031256, 41.0361], \"legendgroup\": \"fair:  preventative maintenance\", \"lon\": [-73.863148, -73.86980600000001, -73.87302700000001, -73.86614, -73.857641, -73.855205, -73.867808, -73.871266, -73.866959, -73.848653, -73.865961, -73.86224399999999, -73.868674, -73.86846700000001, -73.85906999999999, -73.86716, -73.848591, -73.855203, -73.86580500000001, -73.856952, -73.869548, -73.863683, -73.870586, -73.859852, -73.849577, -73.855637, -73.858929, -73.867284, -73.872973, -73.869206, -73.87116, -73.871086], \"marker\": {\"color\": \"#ab63fa\", \"size\": [20.0, 18.0, 24.0, 20.0, 19.0, 19.0, 26.0, 28.0, 18.0, 20.0, 27.0, 29.0, 20.0, 29.0, 31.0, 16.0, 16.0, 23.0, 18.0, 20.0, 44.0, 20.0, 17.0, 19.0, 10.0, 22.0, 20.0, 17.0, 34.0, 21.0, 28.0, 17.0], \"sizemode\": \"area\", \"sizeref\": 0.1175}, \"mode\": \"markers\", \"name\": \"fair:  preventative maintenance\", \"showlegend\": true, \"subplot\": \"mapbox\", \"type\": \"scattermapbox\"}],\n",
       "                        {\"legend\": {\"itemsizing\": \"constant\", \"title\": {\"text\": \"PCI\"}, \"tracegroupgap\": 0}, \"mapbox\": {\"center\": {\"lat\": 41.034911640776706, \"lon\": -73.86342273786407}, \"domain\": {\"x\": [0.0, 1.0], \"y\": [0.0, 1.0]}, \"style\": \"open-street-map\", \"zoom\": 12}, \"margin\": {\"b\": 0, \"l\": 0, \"r\": 0, \"t\": 0}, \"template\": {\"data\": {\"bar\": [{\"error_x\": {\"color\": \"#2a3f5f\"}, \"error_y\": {\"color\": \"#2a3f5f\"}, \"marker\": {\"line\": {\"color\": \"#E5ECF6\", \"width\": 0.5}}, \"type\": \"bar\"}], \"barpolar\": [{\"marker\": {\"line\": {\"color\": \"#E5ECF6\", \"width\": 0.5}}, \"type\": \"barpolar\"}], \"carpet\": [{\"aaxis\": {\"endlinecolor\": \"#2a3f5f\", \"gridcolor\": \"white\", \"linecolor\": \"white\", \"minorgridcolor\": \"white\", \"startlinecolor\": \"#2a3f5f\"}, \"baxis\": {\"endlinecolor\": \"#2a3f5f\", \"gridcolor\": \"white\", \"linecolor\": \"white\", \"minorgridcolor\": \"white\", \"startlinecolor\": \"#2a3f5f\"}, \"type\": \"carpet\"}], \"choropleth\": [{\"colorbar\": {\"outlinewidth\": 0, \"ticks\": \"\"}, \"type\": \"choropleth\"}], \"contour\": [{\"colorbar\": {\"outlinewidth\": 0, \"ticks\": \"\"}, \"colorscale\": [[0.0, \"#0d0887\"], [0.1111111111111111, \"#46039f\"], [0.2222222222222222, \"#7201a8\"], [0.3333333333333333, \"#9c179e\"], [0.4444444444444444, \"#bd3786\"], [0.5555555555555556, \"#d8576b\"], [0.6666666666666666, \"#ed7953\"], [0.7777777777777778, \"#fb9f3a\"], [0.8888888888888888, \"#fdca26\"], [1.0, \"#f0f921\"]], \"type\": \"contour\"}], \"contourcarpet\": [{\"colorbar\": {\"outlinewidth\": 0, \"ticks\": \"\"}, \"type\": \"contourcarpet\"}], \"heatmap\": [{\"colorbar\": {\"outlinewidth\": 0, \"ticks\": \"\"}, \"colorscale\": [[0.0, \"#0d0887\"], [0.1111111111111111, \"#46039f\"], [0.2222222222222222, \"#7201a8\"], [0.3333333333333333, \"#9c179e\"], [0.4444444444444444, \"#bd3786\"], [0.5555555555555556, \"#d8576b\"], [0.6666666666666666, \"#ed7953\"], [0.7777777777777778, \"#fb9f3a\"], [0.8888888888888888, \"#fdca26\"], [1.0, \"#f0f921\"]], \"type\": \"heatmap\"}], \"heatmapgl\": [{\"colorbar\": {\"outlinewidth\": 0, \"ticks\": \"\"}, \"colorscale\": [[0.0, \"#0d0887\"], [0.1111111111111111, \"#46039f\"], [0.2222222222222222, \"#7201a8\"], [0.3333333333333333, \"#9c179e\"], [0.4444444444444444, \"#bd3786\"], [0.5555555555555556, \"#d8576b\"], [0.6666666666666666, \"#ed7953\"], [0.7777777777777778, \"#fb9f3a\"], [0.8888888888888888, \"#fdca26\"], [1.0, \"#f0f921\"]], \"type\": \"heatmapgl\"}], \"histogram\": [{\"marker\": {\"colorbar\": {\"outlinewidth\": 0, \"ticks\": \"\"}}, \"type\": \"histogram\"}], \"histogram2d\": [{\"colorbar\": {\"outlinewidth\": 0, \"ticks\": \"\"}, \"colorscale\": [[0.0, \"#0d0887\"], [0.1111111111111111, \"#46039f\"], [0.2222222222222222, \"#7201a8\"], [0.3333333333333333, \"#9c179e\"], [0.4444444444444444, \"#bd3786\"], [0.5555555555555556, \"#d8576b\"], [0.6666666666666666, \"#ed7953\"], [0.7777777777777778, \"#fb9f3a\"], [0.8888888888888888, \"#fdca26\"], [1.0, \"#f0f921\"]], \"type\": \"histogram2d\"}], \"histogram2dcontour\": [{\"colorbar\": {\"outlinewidth\": 0, \"ticks\": \"\"}, \"colorscale\": [[0.0, \"#0d0887\"], [0.1111111111111111, \"#46039f\"], [0.2222222222222222, \"#7201a8\"], [0.3333333333333333, \"#9c179e\"], [0.4444444444444444, \"#bd3786\"], [0.5555555555555556, \"#d8576b\"], [0.6666666666666666, \"#ed7953\"], [0.7777777777777778, \"#fb9f3a\"], [0.8888888888888888, \"#fdca26\"], [1.0, \"#f0f921\"]], \"type\": \"histogram2dcontour\"}], \"mesh3d\": [{\"colorbar\": {\"outlinewidth\": 0, \"ticks\": \"\"}, \"type\": \"mesh3d\"}], \"parcoords\": [{\"line\": {\"colorbar\": {\"outlinewidth\": 0, \"ticks\": \"\"}}, \"type\": \"parcoords\"}], \"pie\": [{\"automargin\": true, \"type\": \"pie\"}], \"scatter\": [{\"marker\": {\"colorbar\": {\"outlinewidth\": 0, \"ticks\": \"\"}}, \"type\": \"scatter\"}], \"scatter3d\": [{\"line\": {\"colorbar\": {\"outlinewidth\": 0, \"ticks\": \"\"}}, \"marker\": {\"colorbar\": {\"outlinewidth\": 0, \"ticks\": \"\"}}, \"type\": \"scatter3d\"}], \"scattercarpet\": [{\"marker\": {\"colorbar\": {\"outlinewidth\": 0, \"ticks\": \"\"}}, \"type\": \"scattercarpet\"}], \"scattergeo\": [{\"marker\": {\"colorbar\": {\"outlinewidth\": 0, \"ticks\": \"\"}}, \"type\": \"scattergeo\"}], \"scattergl\": [{\"marker\": {\"colorbar\": {\"outlinewidth\": 0, \"ticks\": \"\"}}, \"type\": \"scattergl\"}], \"scattermapbox\": [{\"marker\": {\"colorbar\": {\"outlinewidth\": 0, \"ticks\": \"\"}}, \"type\": \"scattermapbox\"}], \"scatterpolar\": [{\"marker\": {\"colorbar\": {\"outlinewidth\": 0, \"ticks\": \"\"}}, \"type\": \"scatterpolar\"}], \"scatterpolargl\": [{\"marker\": {\"colorbar\": {\"outlinewidth\": 0, \"ticks\": \"\"}}, \"type\": \"scatterpolargl\"}], \"scatterternary\": [{\"marker\": {\"colorbar\": {\"outlinewidth\": 0, \"ticks\": \"\"}}, \"type\": \"scatterternary\"}], \"surface\": [{\"colorbar\": {\"outlinewidth\": 0, \"ticks\": \"\"}, \"colorscale\": [[0.0, \"#0d0887\"], [0.1111111111111111, \"#46039f\"], [0.2222222222222222, \"#7201a8\"], [0.3333333333333333, \"#9c179e\"], [0.4444444444444444, \"#bd3786\"], [0.5555555555555556, \"#d8576b\"], [0.6666666666666666, \"#ed7953\"], [0.7777777777777778, \"#fb9f3a\"], [0.8888888888888888, \"#fdca26\"], [1.0, \"#f0f921\"]], \"type\": \"surface\"}], \"table\": [{\"cells\": {\"fill\": {\"color\": \"#EBF0F8\"}, \"line\": {\"color\": \"white\"}}, \"header\": {\"fill\": {\"color\": \"#C8D4E3\"}, \"line\": {\"color\": \"white\"}}, \"type\": \"table\"}]}, \"layout\": {\"annotationdefaults\": {\"arrowcolor\": \"#2a3f5f\", \"arrowhead\": 0, \"arrowwidth\": 1}, \"coloraxis\": {\"colorbar\": {\"outlinewidth\": 0, \"ticks\": \"\"}}, \"colorscale\": {\"diverging\": [[0, \"#8e0152\"], [0.1, \"#c51b7d\"], [0.2, \"#de77ae\"], [0.3, \"#f1b6da\"], [0.4, \"#fde0ef\"], [0.5, \"#f7f7f7\"], [0.6, \"#e6f5d0\"], [0.7, \"#b8e186\"], [0.8, \"#7fbc41\"], [0.9, \"#4d9221\"], [1, \"#276419\"]], \"sequential\": [[0.0, \"#0d0887\"], [0.1111111111111111, \"#46039f\"], [0.2222222222222222, \"#7201a8\"], [0.3333333333333333, \"#9c179e\"], [0.4444444444444444, \"#bd3786\"], [0.5555555555555556, \"#d8576b\"], [0.6666666666666666, \"#ed7953\"], [0.7777777777777778, \"#fb9f3a\"], [0.8888888888888888, \"#fdca26\"], [1.0, \"#f0f921\"]], \"sequentialminus\": [[0.0, \"#0d0887\"], [0.1111111111111111, \"#46039f\"], [0.2222222222222222, \"#7201a8\"], [0.3333333333333333, \"#9c179e\"], [0.4444444444444444, \"#bd3786\"], [0.5555555555555556, \"#d8576b\"], [0.6666666666666666, \"#ed7953\"], [0.7777777777777778, \"#fb9f3a\"], [0.8888888888888888, \"#fdca26\"], [1.0, \"#f0f921\"]]}, \"colorway\": [\"#636efa\", \"#EF553B\", \"#00cc96\", \"#ab63fa\", \"#FFA15A\", \"#19d3f3\", \"#FF6692\", \"#B6E880\", \"#FF97FF\", \"#FECB52\"], \"font\": {\"color\": \"#2a3f5f\"}, \"geo\": {\"bgcolor\": \"white\", \"lakecolor\": \"white\", \"landcolor\": \"#E5ECF6\", \"showlakes\": true, \"showland\": true, \"subunitcolor\": \"white\"}, \"hoverlabel\": {\"align\": \"left\"}, \"hovermode\": \"closest\", \"mapbox\": {\"style\": \"light\"}, \"paper_bgcolor\": \"white\", \"plot_bgcolor\": \"#E5ECF6\", \"polar\": {\"angularaxis\": {\"gridcolor\": \"white\", \"linecolor\": \"white\", \"ticks\": \"\"}, \"bgcolor\": \"#E5ECF6\", \"radialaxis\": {\"gridcolor\": \"white\", \"linecolor\": \"white\", \"ticks\": \"\"}}, \"scene\": {\"xaxis\": {\"backgroundcolor\": \"#E5ECF6\", \"gridcolor\": \"white\", \"gridwidth\": 2, \"linecolor\": \"white\", \"showbackground\": true, \"ticks\": \"\", \"zerolinecolor\": \"white\"}, \"yaxis\": {\"backgroundcolor\": \"#E5ECF6\", \"gridcolor\": \"white\", \"gridwidth\": 2, \"linecolor\": \"white\", \"showbackground\": true, \"ticks\": \"\", \"zerolinecolor\": \"white\"}, \"zaxis\": {\"backgroundcolor\": \"#E5ECF6\", \"gridcolor\": \"white\", \"gridwidth\": 2, \"linecolor\": \"white\", \"showbackground\": true, \"ticks\": \"\", \"zerolinecolor\": \"white\"}}, \"shapedefaults\": {\"line\": {\"color\": \"#2a3f5f\"}}, \"ternary\": {\"aaxis\": {\"gridcolor\": \"white\", \"linecolor\": \"white\", \"ticks\": \"\"}, \"baxis\": {\"gridcolor\": \"white\", \"linecolor\": \"white\", \"ticks\": \"\"}, \"bgcolor\": \"#E5ECF6\", \"caxis\": {\"gridcolor\": \"white\", \"linecolor\": \"white\", \"ticks\": \"\"}}, \"title\": {\"x\": 0.05}, \"xaxis\": {\"automargin\": true, \"gridcolor\": \"white\", \"linecolor\": \"white\", \"ticks\": \"\", \"title\": {\"standoff\": 15}, \"zerolinecolor\": \"white\", \"zerolinewidth\": 2}, \"yaxis\": {\"automargin\": true, \"gridcolor\": \"white\", \"linecolor\": \"white\", \"ticks\": \"\", \"title\": {\"standoff\": 15}, \"zerolinecolor\": \"white\", \"zerolinewidth\": 2}}}},\n",
       "                        {\"responsive\": true}\n",
       "                    ).then(function(){\n",
       "                            \n",
       "var gd = document.getElementById('4dcbd2cf-2bc9-4fee-9b4f-1e71634009ba');\n",
       "var x = new MutationObserver(function (mutations, observer) {{\n",
       "        var display = window.getComputedStyle(gd).display;\n",
       "        if (!display || display === 'none') {{\n",
       "            console.log([gd, 'removed!']);\n",
       "            Plotly.purge(gd);\n",
       "            observer.disconnect();\n",
       "        }}\n",
       "}});\n",
       "\n",
       "// Listen for the removal of the full notebook cells\n",
       "var notebookContainer = gd.closest('#notebook-container');\n",
       "if (notebookContainer) {{\n",
       "    x.observe(notebookContainer, {childList: true});\n",
       "}}\n",
       "\n",
       "// Listen for the clearing of the current output cell\n",
       "var outputEl = gd.closest('.output');\n",
       "if (outputEl) {{\n",
       "    x.observe(outputEl, {childList: true});\n",
       "}}\n",
       "\n",
       "                        })\n",
       "                };\n",
       "                });\n",
       "            </script>\n",
       "        </div>"
      ]
     },
     "metadata": {},
     "output_type": "display_data"
    }
   ],
   "source": [
    "import plotly.express as px\n",
    "\n",
    "fig = px.scatter_mapbox(df, lat=\"Latitude\", lon=\"Longitude\", color=\"PCI\", size=\"AVERAGE WIDTH (FT)\"\n",
    "                        ,hover_name=\"ROAD NAME\",hover_data=[\"machine_vision_prediction\", \"Pavement Rate Total\", \"PCI\"], zoom=12\n",
    "                          )\n",
    "fig.update_layout(mapbox_style=\"open-street-map\")\n",
    "fig.update_layout(margin={\"r\":0,\"t\":0,\"l\":0,\"b\":0})\n",
    "fig.show()"
   ]
  },
  {
   "cell_type": "code",
   "execution_count": null,
   "metadata": {},
   "outputs": [],
   "source": []
  },
  {
   "cell_type": "code",
   "execution_count": null,
   "metadata": {},
   "outputs": [],
   "source": []
  },
  {
   "cell_type": "code",
   "execution_count": 14,
   "metadata": {},
   "outputs": [],
   "source": [
    "df['PCI2'] = ['verygood' if (x >= 8) else 'good' if (x >= 6 and x <8) else 'fair' if (x >= 4 and x <6) else 'poor' if (x >= 2 and x <4) else 'verypoor' for x in df['Pavement Rate Total']]\n",
    "\n"
   ]
  },
  {
   "cell_type": "code",
   "execution_count": 15,
   "metadata": {},
   "outputs": [
    {
     "data": {
      "application/vnd.plotly.v1+json": {
       "config": {
        "plotlyServerURL": "https://plot.ly"
       },
       "data": [
        {
         "customdata": [
          [
           8.143536762323636,
           9.35,
           "very good: no maintenance: no cost"
          ],
          [
           7.368576777701835,
           8.3,
           "very good: no maintenance: no cost"
          ],
          [
           6.667363986135461,
           8.3,
           "very good: no maintenance: no cost"
          ],
          [
           4.939304724846237,
           8.3,
           "very good: no maintenance: no cost"
          ],
          [
           4.939304724846237,
           8.3,
           "very good: no maintenance: no cost"
          ],
          [
           4.939304724846237,
           8.3,
           "very good: no maintenance: no cost"
          ],
          [
           9,
           8.3,
           "very good: no maintenance: no cost"
          ],
          [
           5.458775937413701,
           8.3,
           "very good: no maintenance: no cost"
          ],
          [
           1.6441517164746116,
           8.3,
           "very good: no maintenance: no cost"
          ],
          [
           1.4876899939942787,
           8.3,
           "very good: no maintenance: no cost"
          ],
          [
           1.4876899939942787,
           8.3,
           "very good: no maintenance: no cost"
          ],
          [
           7.368576777701835,
           8.3,
           "very good: no maintenance: no cost"
          ],
          [
           4.939304724846237,
           8.3,
           "very good: no maintenance: no cost"
          ],
          [
           4.939304724846237,
           8.3,
           "very good: no maintenance: no cost"
          ],
          [
           3.659126937665392,
           8.3,
           "very good: no maintenance: no cost"
          ],
          [
           2.9958397532827163,
           8.3,
           "very good: no maintenance: no cost"
          ],
          [
           5.458775937413701,
           8.95,
           "very good: no maintenance: no cost"
          ],
          [
           5.458775937413701,
           8.95,
           "very good: no maintenance: no cost"
          ]
         ],
         "hovertemplate": "<b>%{hovertext}</b><br><br>PCI2=verygood<br>AVERAGE WIDTH (FT)=%{marker.size}<br>Latitude=%{lat}<br>Longitude=%{lon}<br>machine_vision_prediction=%{customdata[0]}<br>Pavement Rate Total=%{customdata[1]}<br>PCI=%{customdata[2]}<extra></extra>",
         "hovertext": [
          "AQUEDUCT LANE",
          "BARBARA LANE*",
          "BEECHWOOD LANE*",
          "BROOK PLACE",
          "CASTLE ROAD*",
          "CINDY LANE",
          "COTTONET STREET NORTH",
          "DOGWOOD LANE*",
          "HENDRICK SOUTH*",
          "HUGH HILL LANE*",
          "ILINKA LANE",
          "JAFFREY PARK",
          "JANET TERRACE*",
          "LEAFWOOD TERRACE*",
          "MAIN STREET WEST",
          "MAPLE STREET",
          "OAK STREET",
          "WILLOW STREET"
         ],
         "lat": [
          41.039262,
          41.042896999999996,
          41.027831,
          41.036612,
          41.031132,
          41.026502,
          41.039995000000005,
          41.037303,
          41.029014000000004,
          41.033893,
          41.02964,
          41.037673,
          41.042543,
          41.032415,
          41.039805,
          41.037034999999996,
          41.036076,
          41.0361
         ],
         "legendgroup": "verygood",
         "lon": [
          -73.866576,
          -73.854404,
          -73.865263,
          -73.86980600000001,
          -73.857641,
          -73.867808,
          -73.87089499999999,
          -73.86224399999999,
          -73.87481899999999,
          -73.85848100000001,
          -73.86155,
          -73.868022,
          -73.855203,
          -73.856952,
          -73.872617,
          -73.87171500000001,
          -73.870586,
          -73.871086
         ],
         "marker": {
          "color": "fuchsia",
          "size": [
           21,
           23,
           24,
           18,
           19,
           26,
           27,
           29,
           20,
           24,
           20,
           29,
           23,
           20,
           47,
           18,
           17,
           17
          ],
          "sizemode": "area",
          "sizeref": 0.1175
         },
         "mode": "markers",
         "name": "verygood",
         "showlegend": true,
         "subplot": "mapbox",
         "type": "scattermapbox"
        },
        {
         "customdata": [
          [
           2.7107479072098184,
           4.5,
           "fair: $$ preventative maintenance "
          ],
          [
           5.458775937413701,
           4.9,
           "fair: $$ preventative maintenance "
          ],
          [
           3.659126937665392,
           5.1,
           "fair: $$ preventative maintenance "
          ],
          [
           4.4692677341226865,
           4.9,
           "fair: $$ preventative maintenance "
          ],
          [
           8.143536762323636,
           5,
           "fair: $$ preventative maintenance "
          ],
          [
           2.9958397532827163,
           5,
           "fair: $$ preventative maintenance "
          ],
          [
           4.043960677054994,
           5,
           "fair: $$ preventative maintenance "
          ],
          [
           8.143536762323636,
           4.25,
           "fair: $$ preventative maintenance "
          ],
          [
           6.032880414320754,
           5,
           "fair: $$ preventative maintenance "
          ],
          [
           9,
           5,
           "fair: $$ preventative maintenance "
          ],
          [
           4.043960677054994,
           5,
           "fair: $$ preventative maintenance "
          ],
          [
           6.032880414320754,
           5.85,
           "fair: $$ preventative maintenance "
          ],
          [
           3.659126937665392,
           5.85,
           "fair: $$ preventative maintenance "
          ],
          [
           6.032880414320754,
           5.85,
           "fair: $$ preventative maintenance "
          ],
          [
           7.368576777701835,
           5.85,
           "fair: $$ preventative maintenance "
          ],
          [
           9,
           5.95,
           "fair: $$ preventative maintenance "
          ],
          [
           1.2180175491295144,
           4.8,
           "fair: $$ preventative maintenance "
          ],
          [
           4.939304724846237,
           5.1,
           "fair: $$ preventative maintenance "
          ],
          [
           7.368576777701835,
           5.85,
           "fair: $$ preventative maintenance "
          ],
          [
           5.458775937413701,
           5.85,
           "fair: $$ preventative maintenance "
          ],
          [
           7.368576777701835,
           4.15,
           "fair: $$ preventative maintenance "
          ],
          [
           6.667363986135461,
           5.1,
           "fair: $$ preventative maintenance "
          ],
          [
           6.032880414320754,
           5.85,
           "fair: $$ preventative maintenance "
          ],
          [
           7.368576777701835,
           4.8,
           "fair: $$ preventative maintenance "
          ],
          [
           4.4692677341226865,
           4.15,
           "fair: $$ preventative maintenance "
          ],
          [
           4.939304724846237,
           5.1,
           "fair: $$ preventative maintenance "
          ],
          [
           7.368576777701835,
           5.85,
           "fair: $$ preventative maintenance "
          ]
         ],
         "hovertemplate": "<b>%{hovertext}</b><br><br>PCI2=fair<br>AVERAGE WIDTH (FT)=%{marker.size}<br>Latitude=%{lat}<br>Longitude=%{lon}<br>machine_vision_prediction=%{customdata[0]}<br>Pavement Rate Total=%{customdata[1]}<br>PCI=%{customdata[2]}<extra></extra>",
         "hovertext": [
          "ARDSLEY AVE. EAST",
          "BELMONT DRIVE NORTH",
          "BUCKHOUTSTREET  NORTH",
          "BUCKHOUT STREET SOUTH",
          "CLIFfON  PLACE",
          "DEARMAN STREET NORTH",
          "DEARMAN STREET SOUTH",
          "DUNHAM PLACE*",
          "ERIE STREET",
          "FERRIS STREET NORTH",
          "FERRIS STREET SOUTH",
          "HANCOCK PLACE",
          "HAVERMEYER ROAD*",
          "HUDSON AVENUE",
          "HUDSON ROAD EAST",
          "HUDSON ROAD WEST",
          "HUDSON VIEW PARK",
          "LANGDON AVENUE",
          "LEWIS ROAD",
          "MEADOW BROOK ROAD",
          "MEADOW WAY",
          "NORTH ASTOR STREET",
          "OSCEOLA AVENUE",
          "PARK ROAD",
          "PARKSIDE WAY",
          "SOUTH ASTOR STREET",
          "WEST SUNNYSIDE LANE"
         ],
         "lat": [
          41.025517,
          41.022799,
          41.040975,
          41.035629,
          41.024615000000004,
          41.039123,
          41.038729,
          41.035227,
          41.024404,
          41.040765,
          41.038446,
          41.024433,
          41.025343,
          41.046238,
          41.023252,
          41.023734000000005,
          41.048105,
          41.022464,
          41.03285,
          41.044903999999995,
          41.035983,
          41.040469,
          41.025706,
          41.033525,
          41.035373,
          41.038833000000004,
          41.047124
         ],
         "legendgroup": "fair",
         "lon": [
          -73.866235,
          -73.863148,
          -73.87227299999999,
          -73.87302700000001,
          -73.873604,
          -73.865873,
          -73.865961,
          -73.855468,
          -73.866733,
          -73.867956,
          -73.86846700000001,
          -73.871521,
          -73.860833,
          -73.854231,
          -73.866458,
          -73.873176,
          -73.85588299999999,
          -73.86580500000001,
          -73.853874,
          -73.863683,
          -73.856204,
          -73.872665,
          -73.861711,
          -73.857787,
          -73.859852,
          -73.872973,
          -73.866099
         ],
         "marker": {
          "color": "fuchsia",
          "size": [
           20,
           20,
           28,
           24,
           18,
           27,
           27,
           30,
           20,
           29,
           29,
           17,
           24,
           20,
           17,
           19,
           20,
           18,
           18,
           20,
           20,
           40,
           19,
           20,
           19,
           34,
           10
          ],
          "sizemode": "area",
          "sizeref": 0.1175
         },
         "mode": "markers",
         "name": "fair",
         "showlegend": true,
         "subplot": "mapbox",
         "type": "scattermapbox"
        },
        {
         "customdata": [
          [
           7.368576777701835,
           6.8,
           "good: $ routine maintenance"
          ],
          [
           6.667363986135461,
           6.9,
           "good: $ routine maintenance"
          ],
          [
           7.368576777701835,
           6.5,
           "good: $ routine maintenance"
          ],
          [
           7.368576777701835,
           6.8,
           "good: $ routine maintenance"
          ],
          [
           6.032880414320754,
           6.6,
           "good: $ routine maintenance"
          ],
          [
           5.458775937413701,
           6.6,
           "good: $ routine maintenance"
          ],
          [
           3.3109149705429815,
           6.5431578947368445,
           "good: $ routine maintenance"
          ],
          [
           5.458775937413701,
           6.9,
           "good: $ routine maintenance"
          ],
          [
           6.667363986135461,
           6.9,
           "good: $ routine maintenance"
          ],
          [
           5.458775937413701,
           7.65,
           "good: $ routine maintenance"
          ],
          [
           4.939304724846237,
           7.25,
           "good: $ routine maintenance"
          ],
          [
           6.032880414320754,
           7.65,
           "good: $ routine maintenance"
          ],
          [
           4.4692677341226865,
           6.8,
           "good: $ routine maintenance"
          ],
          [
           2.9958397532827163,
           7.65,
           "good: $ routine maintenance"
          ],
          [
           2.219372675474458,
           6.6,
           "good: $ routine maintenance"
          ],
          [
           2.7107479072098184,
           6.6,
           "good: $ routine maintenance"
          ],
          [
           6.667363986135461,
           6.5431578947368445,
           "good: $ routine maintenance"
          ],
          [
           0.2717764508008665,
           7.65,
           "good: $ routine maintenance"
          ],
          [
           2.9958397532827163,
           7,
           "good: $ routine maintenance"
          ],
          [
           6.032880414320754,
           6.5431578947368445,
           "good: $ routine maintenance"
          ],
          [
           9,
           6.5431578947368445,
           "good: $ routine maintenance"
          ],
          [
           7.368576777701835,
           7.65,
           "good: $ routine maintenance"
          ],
          [
           3.3109149705429815,
           6.5431578947368445,
           "good: $ routine maintenance"
          ],
          [
           2.219372675474458,
           7.25,
           "good: $ routine maintenance"
          ],
          [
           6.032880414320754,
           6.6,
           "good: $ routine maintenance"
          ],
          [
           3.659126937665392,
           6.6,
           "good: $ routine maintenance"
          ],
          [
           1.8170686619518983,
           7.55,
           "good: $ routine maintenance"
          ],
          [
           9,
           6.6,
           "good: $ routine maintenance"
          ],
          [
           2.4527861373061133,
           7.55,
           "good: $ routine maintenance"
          ],
          [
           4.043960677054994,
           6.5431578947368445,
           "good: $ routine maintenance"
          ],
          [
           6.667363986135461,
           7.65,
           "good: $ routine maintenance"
          ],
          [
           6.667363986135461,
           7.65,
           "good: $ routine maintenance"
          ],
          [
           2.008171441335868,
           6.6,
           "good: $ routine maintenance"
          ],
          [
           4.939304724846237,
           6.6,
           "good: $ routine maintenance"
          ],
          [
           6.667363986135461,
           7,
           "good: $ routine maintenance"
          ],
          [
           6.667363986135461,
           6.6,
           "good: $ routine maintenance"
          ],
          [
           4.939304724846237,
           7.55,
           "good: $ routine maintenance"
          ],
          [
           4.043960677054994,
           6.5431578947368445,
           "good: $ routine maintenance"
          ],
          [
           6.667363986135461,
           6.9,
           "good: $ routine maintenance"
          ],
          [
           8.143536762323636,
           7.65,
           "good: $ routine maintenance"
          ],
          [
           3.3109149705429815,
           6.9,
           "good: $ routine maintenance"
          ],
          [
           3.659126937665392,
           6.9,
           "good: $ routine maintenance"
          ],
          [
           2.219372675474458,
           7.55,
           "good: $ routine maintenance"
          ],
          [
           6.667363986135461,
           7.55,
           "good: $ routine maintenance"
          ],
          [
           5.458775937413701,
           6.9,
           "good: $ routine maintenance"
          ],
          [
           4.043960677054994,
           6.6,
           "good: $ routine maintenance"
          ],
          [
           4.043960677054994,
           6.9,
           "good: $ routine maintenance"
          ],
          [
           4.4692677341226865,
           6.8,
           "good: $ routine maintenance"
          ],
          [
           3.659126937665392,
           6.9,
           "good: $ routine maintenance"
          ],
          [
           7.368576777701835,
           6.5431578947368445,
           "good: $ routine maintenance"
          ],
          [
           7.368576777701835,
           6.6,
           "good: $ routine maintenance"
          ],
          [
           8.143536762323636,
           7.65,
           "good: $ routine maintenance"
          ]
         ],
         "hovertemplate": "<b>%{hovertext}</b><br><br>PCI2=good<br>AVERAGE WIDTH (FT)=%{marker.size}<br>Latitude=%{lat}<br>Longitude=%{lon}<br>machine_vision_prediction=%{customdata[0]}<br>Pavement Rate Total=%{customdata[1]}<br>PCI=%{customdata[2]}<extra></extra>",
         "hovertext": [
          "ARDSLEY AVE. WEST*",
          "BELMONT DRIVE SOUTH",
          "BERTHA PLACE",
          "BRIDGE STREET",
          "BUTTERWOOD EAST*",
          "BUTTERWOOD WEST*",
          "CARLA LANE*",
          "CENTER STREET",
          "CIRCLE DRIVE",
          "COTTONET STREET SOUTH",
          "CROTON PLACE",
          "DEEP HOLLOW CLOSE",
          "DOWS LANE",
          "DUTCHER STREET NORTH",
          "DUTCHER STREET SOUTH",
          "EAST CLINTON AVE.",
          "EAST SUNNYSIDE LANE",
          "ECKAR STREET NORTH",
          "ECKAR STREET SOUTH",
          "EMORY ROAD",
          "FARGO LANE",
          "FIELDPOINT DRIVE (0-800 ft.)",
          "FIELDPOINT DRIVE (800-4,500 ft.)",
          "FIELD TERRACE",
          "GREY ROCK TERRACE",
          "GRINNEL STREET",
          "HALFMOON LANE",
          "HALSEY POND ROAD",
          "HAMILTON ROAD",
          "HARRIMAN ROAD",
          "HENDRICK NORTH *",
          "HERMITS ROAD",
          "HILLSIDE TERRACE",
          "HOME PLACE EAST",
          "HOME PLACE WEST",
          "IRVING PLACE",
          "IRVINGTON MANOR DRIVE",
          "MAIN STREET",
          "MANOR POND LANE",
          "MATHIESSEN PARK",
          "NORTH BROOK LANE",
          "PALLISER ROAD",
          "PARK AVENUE",
          "RIVER ROAD",
          "RIVERVIEW ROAD",
          "RIVERVIEW TERRACE",
          "ROLAND ROAD",
          "STATION ROAD",
          "SYCAMORE LANE",
          "VICTOR DRIVE*",
          "WASHINGTON AVENUE",
          "WOODBINE ROAD*"
         ],
         "lat": [
          41.025593,
          41.023928999999995,
          41.02489,
          41.040372999999995,
          41.029098,
          41.029214,
          41.033971,
          41.046367,
          41.042116,
          41.038362,
          41.038789,
          41.025465999999994,
          41.033153000000006,
          41.040171,
          41.038565999999996,
          41.030871999999995,
          41.048575,
          41.040057,
          41.038665,
          41.034215,
          41.044558,
          41.038053000000005,
          41.039464,
          41.026044,
          41.036319,
          41.038864000000004,
          41.030695,
          41.029021,
          41.029573,
          41.034890999999995,
          41.03014,
          41.039099,
          41.03621,
          41.038277,
          41.038391,
          41.042336999999996,
          41.030021000000005,
          41.039406,
          41.029537,
          41.041392,
          41.027784999999994,
          41.032176,
          41.047022999999996,
          41.037483,
          41.04333,
          41.036651,
          41.024033,
          41.0361,
          41.03672,
          41.034067,
          41.023962,
          41.035891
         ],
         "legendgroup": "good",
         "lon": [
          -73.872857,
          -73.863462,
          -73.86993199999999,
          -73.87326,
          -73.863353,
          -73.86614,
          -73.861377,
          -73.855205,
          -73.862375,
          -73.871266,
          -73.866959,
          -73.859628,
          -73.868674,
          -73.86992099999999,
          -73.870295,
          -73.864509,
          -73.856275,
          -73.86904100000001,
          -73.86935799999999,
          -73.853358,
          -73.86654,
          -73.85422,
          -73.86315400000001,
          -73.864142,
          -73.857991,
          -73.867519,
          -73.874773,
          -73.85427800000001,
          -73.86443299999999,
          -73.85906999999999,
          -73.87474,
          -73.843161,
          -73.857129,
          -73.86716,
          -73.868288,
          -73.859586,
          -73.848591,
          -73.869548,
          -73.85031,
          -73.866937,
          -73.853706,
          -73.857407,
          -73.855664,
          -73.873786,
          -73.855637,
          -73.858929,
          -73.867284,
          -73.869206,
          -73.86274300000001,
          -73.861836,
          -73.864951,
          -73.87015699999999
         ],
         "marker": {
          "color": "fuchsia",
          "size": [
           20,
           20,
           18,
           40,
           20,
           20,
           29,
           19,
           21,
           28,
           18,
           21,
           20,
           28,
           29,
           27,
           10,
           29,
           30,
           16,
           18,
           20,
           20,
           17,
           18,
           18,
           24,
           14,
           24,
           31,
           20,
           10,
           18,
           16,
           18,
           18,
           16,
           44,
           22,
           10,
           22,
           19,
           19,
           35,
           22,
           20,
           17,
           21,
           29,
           28,
           23,
           19
          ],
          "sizemode": "area",
          "sizeref": 0.1175
         },
         "mode": "markers",
         "name": "good",
         "showlegend": true,
         "subplot": "mapbox",
         "type": "scattermapbox"
        },
        {
         "customdata": [
          [
           0.8164615796047122,
           3.75,
           "poor: $$$ Rehabilitation"
          ],
          [
           4.939304724846237,
           3,
           "poor: $$$ Rehabilitation"
          ],
          [
           7.368576777701835,
           3,
           "poor: $$$ Rehabilitation"
          ],
          [
           6.032880414320754,
           3.5,
           "poor: $$$ Rehabilitation"
          ],
          [
           4.4692677341226865,
           3.5,
           "poor: $$$ Rehabilitation"
          ],
          [
           5.458775937413701,
           3.4,
           "poor: $$$ Rehabilitation"
          ]
         ],
         "hovertemplate": "<b>%{hovertext}</b><br><br>PCI2=poor<br>AVERAGE WIDTH (FT)=%{marker.size}<br>Latitude=%{lat}<br>Longitude=%{lon}<br>machine_vision_prediction=%{customdata[0]}<br>Pavement Rate Total=%{customdata[1]}<br>PCI=%{customdata[2]}<extra></extra>",
         "hovertext": [
          "CEDAR LAWN ROAD",
          "CYRUS FIELD ROAD (0-3,200 ft.)",
          "CYRUS FIELD ROAD (3,200-5,744 ft.)",
          "PETER BONT ROAD (0-2,000 ft.)'",
          "PETER BONT ROAD (2,000-4,799 ft.)'",
          "WEST CLINTON AVENUE*"
         ],
         "lat": [
          41.03593,
          41.024836,
          41.034269,
          41.04257,
          41.04679,
          41.031256
         ],
         "legendgroup": "poor",
         "lon": [
          -73.859023,
          -73.848653,
          -73.848475,
          -73.838365,
          -73.849577,
          -73.87116
         ],
         "marker": {
          "color": "fuchsia",
          "size": [
           19,
           20,
           20,
           10,
           10,
           28
          ],
          "sizemode": "area",
          "sizeref": 0.1175
         },
         "mode": "markers",
         "name": "poor",
         "showlegend": true,
         "subplot": "mapbox",
         "type": "scattermapbox"
        }
       ],
       "layout": {
        "legend": {
         "itemsizing": "constant",
         "title": {
          "text": "PCI2"
         },
         "tracegroupgap": 0
        },
        "mapbox": {
         "center": {
          "lat": 41.034911640776706,
          "lon": -73.86342273786407
         },
         "domain": {
          "x": [
           0,
           1
          ],
          "y": [
           0,
           1
          ]
         },
         "style": "open-street-map",
         "zoom": 12
        },
        "margin": {
         "b": 0,
         "l": 0,
         "r": 0,
         "t": 0
        },
        "template": {
         "data": {
          "bar": [
           {
            "error_x": {
             "color": "#2a3f5f"
            },
            "error_y": {
             "color": "#2a3f5f"
            },
            "marker": {
             "line": {
              "color": "#E5ECF6",
              "width": 0.5
             }
            },
            "type": "bar"
           }
          ],
          "barpolar": [
           {
            "marker": {
             "line": {
              "color": "#E5ECF6",
              "width": 0.5
             }
            },
            "type": "barpolar"
           }
          ],
          "carpet": [
           {
            "aaxis": {
             "endlinecolor": "#2a3f5f",
             "gridcolor": "white",
             "linecolor": "white",
             "minorgridcolor": "white",
             "startlinecolor": "#2a3f5f"
            },
            "baxis": {
             "endlinecolor": "#2a3f5f",
             "gridcolor": "white",
             "linecolor": "white",
             "minorgridcolor": "white",
             "startlinecolor": "#2a3f5f"
            },
            "type": "carpet"
           }
          ],
          "choropleth": [
           {
            "colorbar": {
             "outlinewidth": 0,
             "ticks": ""
            },
            "type": "choropleth"
           }
          ],
          "contour": [
           {
            "colorbar": {
             "outlinewidth": 0,
             "ticks": ""
            },
            "colorscale": [
             [
              0,
              "#0d0887"
             ],
             [
              0.1111111111111111,
              "#46039f"
             ],
             [
              0.2222222222222222,
              "#7201a8"
             ],
             [
              0.3333333333333333,
              "#9c179e"
             ],
             [
              0.4444444444444444,
              "#bd3786"
             ],
             [
              0.5555555555555556,
              "#d8576b"
             ],
             [
              0.6666666666666666,
              "#ed7953"
             ],
             [
              0.7777777777777778,
              "#fb9f3a"
             ],
             [
              0.8888888888888888,
              "#fdca26"
             ],
             [
              1,
              "#f0f921"
             ]
            ],
            "type": "contour"
           }
          ],
          "contourcarpet": [
           {
            "colorbar": {
             "outlinewidth": 0,
             "ticks": ""
            },
            "type": "contourcarpet"
           }
          ],
          "heatmap": [
           {
            "colorbar": {
             "outlinewidth": 0,
             "ticks": ""
            },
            "colorscale": [
             [
              0,
              "#0d0887"
             ],
             [
              0.1111111111111111,
              "#46039f"
             ],
             [
              0.2222222222222222,
              "#7201a8"
             ],
             [
              0.3333333333333333,
              "#9c179e"
             ],
             [
              0.4444444444444444,
              "#bd3786"
             ],
             [
              0.5555555555555556,
              "#d8576b"
             ],
             [
              0.6666666666666666,
              "#ed7953"
             ],
             [
              0.7777777777777778,
              "#fb9f3a"
             ],
             [
              0.8888888888888888,
              "#fdca26"
             ],
             [
              1,
              "#f0f921"
             ]
            ],
            "type": "heatmap"
           }
          ],
          "heatmapgl": [
           {
            "colorbar": {
             "outlinewidth": 0,
             "ticks": ""
            },
            "colorscale": [
             [
              0,
              "#0d0887"
             ],
             [
              0.1111111111111111,
              "#46039f"
             ],
             [
              0.2222222222222222,
              "#7201a8"
             ],
             [
              0.3333333333333333,
              "#9c179e"
             ],
             [
              0.4444444444444444,
              "#bd3786"
             ],
             [
              0.5555555555555556,
              "#d8576b"
             ],
             [
              0.6666666666666666,
              "#ed7953"
             ],
             [
              0.7777777777777778,
              "#fb9f3a"
             ],
             [
              0.8888888888888888,
              "#fdca26"
             ],
             [
              1,
              "#f0f921"
             ]
            ],
            "type": "heatmapgl"
           }
          ],
          "histogram": [
           {
            "marker": {
             "colorbar": {
              "outlinewidth": 0,
              "ticks": ""
             }
            },
            "type": "histogram"
           }
          ],
          "histogram2d": [
           {
            "colorbar": {
             "outlinewidth": 0,
             "ticks": ""
            },
            "colorscale": [
             [
              0,
              "#0d0887"
             ],
             [
              0.1111111111111111,
              "#46039f"
             ],
             [
              0.2222222222222222,
              "#7201a8"
             ],
             [
              0.3333333333333333,
              "#9c179e"
             ],
             [
              0.4444444444444444,
              "#bd3786"
             ],
             [
              0.5555555555555556,
              "#d8576b"
             ],
             [
              0.6666666666666666,
              "#ed7953"
             ],
             [
              0.7777777777777778,
              "#fb9f3a"
             ],
             [
              0.8888888888888888,
              "#fdca26"
             ],
             [
              1,
              "#f0f921"
             ]
            ],
            "type": "histogram2d"
           }
          ],
          "histogram2dcontour": [
           {
            "colorbar": {
             "outlinewidth": 0,
             "ticks": ""
            },
            "colorscale": [
             [
              0,
              "#0d0887"
             ],
             [
              0.1111111111111111,
              "#46039f"
             ],
             [
              0.2222222222222222,
              "#7201a8"
             ],
             [
              0.3333333333333333,
              "#9c179e"
             ],
             [
              0.4444444444444444,
              "#bd3786"
             ],
             [
              0.5555555555555556,
              "#d8576b"
             ],
             [
              0.6666666666666666,
              "#ed7953"
             ],
             [
              0.7777777777777778,
              "#fb9f3a"
             ],
             [
              0.8888888888888888,
              "#fdca26"
             ],
             [
              1,
              "#f0f921"
             ]
            ],
            "type": "histogram2dcontour"
           }
          ],
          "mesh3d": [
           {
            "colorbar": {
             "outlinewidth": 0,
             "ticks": ""
            },
            "type": "mesh3d"
           }
          ],
          "parcoords": [
           {
            "line": {
             "colorbar": {
              "outlinewidth": 0,
              "ticks": ""
             }
            },
            "type": "parcoords"
           }
          ],
          "pie": [
           {
            "automargin": true,
            "type": "pie"
           }
          ],
          "scatter": [
           {
            "marker": {
             "colorbar": {
              "outlinewidth": 0,
              "ticks": ""
             }
            },
            "type": "scatter"
           }
          ],
          "scatter3d": [
           {
            "line": {
             "colorbar": {
              "outlinewidth": 0,
              "ticks": ""
             }
            },
            "marker": {
             "colorbar": {
              "outlinewidth": 0,
              "ticks": ""
             }
            },
            "type": "scatter3d"
           }
          ],
          "scattercarpet": [
           {
            "marker": {
             "colorbar": {
              "outlinewidth": 0,
              "ticks": ""
             }
            },
            "type": "scattercarpet"
           }
          ],
          "scattergeo": [
           {
            "marker": {
             "colorbar": {
              "outlinewidth": 0,
              "ticks": ""
             }
            },
            "type": "scattergeo"
           }
          ],
          "scattergl": [
           {
            "marker": {
             "colorbar": {
              "outlinewidth": 0,
              "ticks": ""
             }
            },
            "type": "scattergl"
           }
          ],
          "scattermapbox": [
           {
            "marker": {
             "colorbar": {
              "outlinewidth": 0,
              "ticks": ""
             }
            },
            "type": "scattermapbox"
           }
          ],
          "scatterpolar": [
           {
            "marker": {
             "colorbar": {
              "outlinewidth": 0,
              "ticks": ""
             }
            },
            "type": "scatterpolar"
           }
          ],
          "scatterpolargl": [
           {
            "marker": {
             "colorbar": {
              "outlinewidth": 0,
              "ticks": ""
             }
            },
            "type": "scatterpolargl"
           }
          ],
          "scatterternary": [
           {
            "marker": {
             "colorbar": {
              "outlinewidth": 0,
              "ticks": ""
             }
            },
            "type": "scatterternary"
           }
          ],
          "surface": [
           {
            "colorbar": {
             "outlinewidth": 0,
             "ticks": ""
            },
            "colorscale": [
             [
              0,
              "#0d0887"
             ],
             [
              0.1111111111111111,
              "#46039f"
             ],
             [
              0.2222222222222222,
              "#7201a8"
             ],
             [
              0.3333333333333333,
              "#9c179e"
             ],
             [
              0.4444444444444444,
              "#bd3786"
             ],
             [
              0.5555555555555556,
              "#d8576b"
             ],
             [
              0.6666666666666666,
              "#ed7953"
             ],
             [
              0.7777777777777778,
              "#fb9f3a"
             ],
             [
              0.8888888888888888,
              "#fdca26"
             ],
             [
              1,
              "#f0f921"
             ]
            ],
            "type": "surface"
           }
          ],
          "table": [
           {
            "cells": {
             "fill": {
              "color": "#EBF0F8"
             },
             "line": {
              "color": "white"
             }
            },
            "header": {
             "fill": {
              "color": "#C8D4E3"
             },
             "line": {
              "color": "white"
             }
            },
            "type": "table"
           }
          ]
         },
         "layout": {
          "annotationdefaults": {
           "arrowcolor": "#2a3f5f",
           "arrowhead": 0,
           "arrowwidth": 1
          },
          "coloraxis": {
           "colorbar": {
            "outlinewidth": 0,
            "ticks": ""
           }
          },
          "colorscale": {
           "diverging": [
            [
             0,
             "#8e0152"
            ],
            [
             0.1,
             "#c51b7d"
            ],
            [
             0.2,
             "#de77ae"
            ],
            [
             0.3,
             "#f1b6da"
            ],
            [
             0.4,
             "#fde0ef"
            ],
            [
             0.5,
             "#f7f7f7"
            ],
            [
             0.6,
             "#e6f5d0"
            ],
            [
             0.7,
             "#b8e186"
            ],
            [
             0.8,
             "#7fbc41"
            ],
            [
             0.9,
             "#4d9221"
            ],
            [
             1,
             "#276419"
            ]
           ],
           "sequential": [
            [
             0,
             "#0d0887"
            ],
            [
             0.1111111111111111,
             "#46039f"
            ],
            [
             0.2222222222222222,
             "#7201a8"
            ],
            [
             0.3333333333333333,
             "#9c179e"
            ],
            [
             0.4444444444444444,
             "#bd3786"
            ],
            [
             0.5555555555555556,
             "#d8576b"
            ],
            [
             0.6666666666666666,
             "#ed7953"
            ],
            [
             0.7777777777777778,
             "#fb9f3a"
            ],
            [
             0.8888888888888888,
             "#fdca26"
            ],
            [
             1,
             "#f0f921"
            ]
           ],
           "sequentialminus": [
            [
             0,
             "#0d0887"
            ],
            [
             0.1111111111111111,
             "#46039f"
            ],
            [
             0.2222222222222222,
             "#7201a8"
            ],
            [
             0.3333333333333333,
             "#9c179e"
            ],
            [
             0.4444444444444444,
             "#bd3786"
            ],
            [
             0.5555555555555556,
             "#d8576b"
            ],
            [
             0.6666666666666666,
             "#ed7953"
            ],
            [
             0.7777777777777778,
             "#fb9f3a"
            ],
            [
             0.8888888888888888,
             "#fdca26"
            ],
            [
             1,
             "#f0f921"
            ]
           ]
          },
          "colorway": [
           "#636efa",
           "#EF553B",
           "#00cc96",
           "#ab63fa",
           "#FFA15A",
           "#19d3f3",
           "#FF6692",
           "#B6E880",
           "#FF97FF",
           "#FECB52"
          ],
          "font": {
           "color": "#2a3f5f"
          },
          "geo": {
           "bgcolor": "white",
           "lakecolor": "white",
           "landcolor": "#E5ECF6",
           "showlakes": true,
           "showland": true,
           "subunitcolor": "white"
          },
          "hoverlabel": {
           "align": "left"
          },
          "hovermode": "closest",
          "mapbox": {
           "style": "light"
          },
          "paper_bgcolor": "white",
          "plot_bgcolor": "#E5ECF6",
          "polar": {
           "angularaxis": {
            "gridcolor": "white",
            "linecolor": "white",
            "ticks": ""
           },
           "bgcolor": "#E5ECF6",
           "radialaxis": {
            "gridcolor": "white",
            "linecolor": "white",
            "ticks": ""
           }
          },
          "scene": {
           "xaxis": {
            "backgroundcolor": "#E5ECF6",
            "gridcolor": "white",
            "gridwidth": 2,
            "linecolor": "white",
            "showbackground": true,
            "ticks": "",
            "zerolinecolor": "white"
           },
           "yaxis": {
            "backgroundcolor": "#E5ECF6",
            "gridcolor": "white",
            "gridwidth": 2,
            "linecolor": "white",
            "showbackground": true,
            "ticks": "",
            "zerolinecolor": "white"
           },
           "zaxis": {
            "backgroundcolor": "#E5ECF6",
            "gridcolor": "white",
            "gridwidth": 2,
            "linecolor": "white",
            "showbackground": true,
            "ticks": "",
            "zerolinecolor": "white"
           }
          },
          "shapedefaults": {
           "line": {
            "color": "#2a3f5f"
           }
          },
          "ternary": {
           "aaxis": {
            "gridcolor": "white",
            "linecolor": "white",
            "ticks": ""
           },
           "baxis": {
            "gridcolor": "white",
            "linecolor": "white",
            "ticks": ""
           },
           "bgcolor": "#E5ECF6",
           "caxis": {
            "gridcolor": "white",
            "linecolor": "white",
            "ticks": ""
           }
          },
          "title": {
           "x": 0.05
          },
          "xaxis": {
           "automargin": true,
           "gridcolor": "white",
           "linecolor": "white",
           "ticks": "",
           "title": {
            "standoff": 15
           },
           "zerolinecolor": "white",
           "zerolinewidth": 2
          },
          "yaxis": {
           "automargin": true,
           "gridcolor": "white",
           "linecolor": "white",
           "ticks": "",
           "title": {
            "standoff": 15
           },
           "zerolinecolor": "white",
           "zerolinewidth": 2
          }
         }
        }
       }
      },
      "text/html": [
       "<div>\n",
       "        \n",
       "        \n",
       "            <div id=\"82b1f958-46fa-4c97-bff5-62fa2ff42f7f\" class=\"plotly-graph-div\" style=\"height:525px; width:100%;\"></div>\n",
       "            <script type=\"text/javascript\">\n",
       "                require([\"plotly\"], function(Plotly) {\n",
       "                    window.PLOTLYENV=window.PLOTLYENV || {};\n",
       "                    \n",
       "                if (document.getElementById(\"82b1f958-46fa-4c97-bff5-62fa2ff42f7f\")) {\n",
       "                    Plotly.newPlot(\n",
       "                        '82b1f958-46fa-4c97-bff5-62fa2ff42f7f',\n",
       "                        [{\"customdata\": [[8.143536762323636, 9.35, \"very good: no maintenance: no cost\"], [7.368576777701835, 8.3, \"very good: no maintenance: no cost\"], [6.667363986135461, 8.3, \"very good: no maintenance: no cost\"], [4.939304724846237, 8.3, \"very good: no maintenance: no cost\"], [4.939304724846237, 8.3, \"very good: no maintenance: no cost\"], [4.939304724846237, 8.3, \"very good: no maintenance: no cost\"], [9.0, 8.3, \"very good: no maintenance: no cost\"], [5.458775937413701, 8.3, \"very good: no maintenance: no cost\"], [1.6441517164746116, 8.3, \"very good: no maintenance: no cost\"], [1.4876899939942787, 8.3, \"very good: no maintenance: no cost\"], [1.4876899939942787, 8.3, \"very good: no maintenance: no cost\"], [7.368576777701835, 8.3, \"very good: no maintenance: no cost\"], [4.939304724846237, 8.3, \"very good: no maintenance: no cost\"], [4.939304724846237, 8.3, \"very good: no maintenance: no cost\"], [3.659126937665392, 8.3, \"very good: no maintenance: no cost\"], [2.9958397532827163, 8.3, \"very good: no maintenance: no cost\"], [5.458775937413701, 8.95, \"very good: no maintenance: no cost\"], [5.458775937413701, 8.95, \"very good: no maintenance: no cost\"]], \"hovertemplate\": \"<b>%{hovertext}</b><br><br>PCI2=verygood<br>AVERAGE WIDTH (FT)=%{marker.size}<br>Latitude=%{lat}<br>Longitude=%{lon}<br>machine_vision_prediction=%{customdata[0]}<br>Pavement Rate Total=%{customdata[1]}<br>PCI=%{customdata[2]}<extra></extra>\", \"hovertext\": [\"AQUEDUCT LANE\", \"BARBARA LANE*\", \"BEECHWOOD LANE*\", \"BROOK PLACE\", \"CASTLE ROAD*\", \"CINDY LANE\", \"COTTONET STREET NORTH\", \"DOGWOOD LANE*\", \"HENDRICK SOUTH*\", \"HUGH HILL LANE*\", \"ILINKA LANE\", \"JAFFREY PARK\", \"JANET TERRACE*\", \"LEAFWOOD TERRACE*\", \"MAIN STREET WEST\", \"MAPLE STREET\", \"OAK STREET\", \"WILLOW STREET\"], \"lat\": [41.039262, 41.042896999999996, 41.027831, 41.036612, 41.031132, 41.026502, 41.039995000000005, 41.037303, 41.029014000000004, 41.033893, 41.02964, 41.037673, 41.042543, 41.032415, 41.039805, 41.037034999999996, 41.036076, 41.0361], \"legendgroup\": \"verygood\", \"lon\": [-73.866576, -73.854404, -73.865263, -73.86980600000001, -73.857641, -73.867808, -73.87089499999999, -73.86224399999999, -73.87481899999999, -73.85848100000001, -73.86155, -73.868022, -73.855203, -73.856952, -73.872617, -73.87171500000001, -73.870586, -73.871086], \"marker\": {\"color\": \"fuchsia\", \"size\": [21.0, 23.0, 24.0, 18.0, 19.0, 26.0, 27.0, 29.0, 20.0, 24.0, 20.0, 29.0, 23.0, 20.0, 47.0, 18.0, 17.0, 17.0], \"sizemode\": \"area\", \"sizeref\": 0.1175}, \"mode\": \"markers\", \"name\": \"verygood\", \"showlegend\": true, \"subplot\": \"mapbox\", \"type\": \"scattermapbox\"}, {\"customdata\": [[2.7107479072098184, 4.5, \"fair: $$ preventative maintenance \"], [5.458775937413701, 4.9, \"fair: $$ preventative maintenance \"], [3.659126937665392, 5.1, \"fair: $$ preventative maintenance \"], [4.4692677341226865, 4.9, \"fair: $$ preventative maintenance \"], [8.143536762323636, 5.0, \"fair: $$ preventative maintenance \"], [2.9958397532827163, 5.0, \"fair: $$ preventative maintenance \"], [4.043960677054994, 5.0, \"fair: $$ preventative maintenance \"], [8.143536762323636, 4.25, \"fair: $$ preventative maintenance \"], [6.032880414320754, 5.0, \"fair: $$ preventative maintenance \"], [9.0, 5.0, \"fair: $$ preventative maintenance \"], [4.043960677054994, 5.0, \"fair: $$ preventative maintenance \"], [6.032880414320754, 5.85, \"fair: $$ preventative maintenance \"], [3.659126937665392, 5.85, \"fair: $$ preventative maintenance \"], [6.032880414320754, 5.85, \"fair: $$ preventative maintenance \"], [7.368576777701835, 5.85, \"fair: $$ preventative maintenance \"], [9.0, 5.95, \"fair: $$ preventative maintenance \"], [1.2180175491295144, 4.8, \"fair: $$ preventative maintenance \"], [4.939304724846237, 5.1, \"fair: $$ preventative maintenance \"], [7.368576777701835, 5.85, \"fair: $$ preventative maintenance \"], [5.458775937413701, 5.85, \"fair: $$ preventative maintenance \"], [7.368576777701835, 4.15, \"fair: $$ preventative maintenance \"], [6.667363986135461, 5.1, \"fair: $$ preventative maintenance \"], [6.032880414320754, 5.85, \"fair: $$ preventative maintenance \"], [7.368576777701835, 4.8, \"fair: $$ preventative maintenance \"], [4.4692677341226865, 4.15, \"fair: $$ preventative maintenance \"], [4.939304724846237, 5.1, \"fair: $$ preventative maintenance \"], [7.368576777701835, 5.85, \"fair: $$ preventative maintenance \"]], \"hovertemplate\": \"<b>%{hovertext}</b><br><br>PCI2=fair<br>AVERAGE WIDTH (FT)=%{marker.size}<br>Latitude=%{lat}<br>Longitude=%{lon}<br>machine_vision_prediction=%{customdata[0]}<br>Pavement Rate Total=%{customdata[1]}<br>PCI=%{customdata[2]}<extra></extra>\", \"hovertext\": [\"ARDSLEY AVE. EAST\", \"BELMONT DRIVE NORTH\", \"BUCKHOUTSTREET  NORTH\", \"BUCKHOUT STREET SOUTH\", \"CLIFfON  PLACE\", \"DEARMAN STREET NORTH\", \"DEARMAN STREET SOUTH\", \"DUNHAM PLACE*\", \"ERIE STREET\", \"FERRIS STREET NORTH\", \"FERRIS STREET SOUTH\", \"HANCOCK PLACE\", \"HAVERMEYER ROAD*\", \"HUDSON AVENUE\", \"HUDSON ROAD EAST\", \"HUDSON ROAD WEST\", \"HUDSON VIEW PARK\", \"LANGDON AVENUE\", \"LEWIS ROAD\", \"MEADOW BROOK ROAD\", \"MEADOW WAY\", \"NORTH ASTOR STREET\", \"OSCEOLA AVENUE\", \"PARK ROAD\", \"PARKSIDE WAY\", \"SOUTH ASTOR STREET\", \"WEST SUNNYSIDE LANE\"], \"lat\": [41.025517, 41.022799, 41.040975, 41.035629, 41.024615000000004, 41.039123, 41.038729, 41.035227, 41.024404, 41.040765, 41.038446, 41.024433, 41.025343, 41.046238, 41.023252, 41.023734000000005, 41.048105, 41.022464, 41.03285, 41.044903999999995, 41.035983, 41.040469, 41.025706, 41.033525, 41.035373, 41.038833000000004, 41.047124], \"legendgroup\": \"fair\", \"lon\": [-73.866235, -73.863148, -73.87227299999999, -73.87302700000001, -73.873604, -73.865873, -73.865961, -73.855468, -73.866733, -73.867956, -73.86846700000001, -73.871521, -73.860833, -73.854231, -73.866458, -73.873176, -73.85588299999999, -73.86580500000001, -73.853874, -73.863683, -73.856204, -73.872665, -73.861711, -73.857787, -73.859852, -73.872973, -73.866099], \"marker\": {\"color\": \"fuchsia\", \"size\": [20.0, 20.0, 28.0, 24.0, 18.0, 27.0, 27.0, 30.0, 20.0, 29.0, 29.0, 17.0, 24.0, 20.0, 17.0, 19.0, 20.0, 18.0, 18.0, 20.0, 20.0, 40.0, 19.0, 20.0, 19.0, 34.0, 10.0], \"sizemode\": \"area\", \"sizeref\": 0.1175}, \"mode\": \"markers\", \"name\": \"fair\", \"showlegend\": true, \"subplot\": \"mapbox\", \"type\": \"scattermapbox\"}, {\"customdata\": [[7.368576777701835, 6.8, \"good: $ routine maintenance\"], [6.667363986135461, 6.9, \"good: $ routine maintenance\"], [7.368576777701835, 6.5, \"good: $ routine maintenance\"], [7.368576777701835, 6.8, \"good: $ routine maintenance\"], [6.032880414320754, 6.6, \"good: $ routine maintenance\"], [5.458775937413701, 6.6, \"good: $ routine maintenance\"], [3.3109149705429815, 6.5431578947368445, \"good: $ routine maintenance\"], [5.458775937413701, 6.9, \"good: $ routine maintenance\"], [6.667363986135461, 6.9, \"good: $ routine maintenance\"], [5.458775937413701, 7.65, \"good: $ routine maintenance\"], [4.939304724846237, 7.25, \"good: $ routine maintenance\"], [6.032880414320754, 7.65, \"good: $ routine maintenance\"], [4.4692677341226865, 6.8, \"good: $ routine maintenance\"], [2.9958397532827163, 7.65, \"good: $ routine maintenance\"], [2.219372675474458, 6.6, \"good: $ routine maintenance\"], [2.7107479072098184, 6.6, \"good: $ routine maintenance\"], [6.667363986135461, 6.5431578947368445, \"good: $ routine maintenance\"], [0.2717764508008665, 7.65, \"good: $ routine maintenance\"], [2.9958397532827163, 7.0, \"good: $ routine maintenance\"], [6.032880414320754, 6.5431578947368445, \"good: $ routine maintenance\"], [9.0, 6.5431578947368445, \"good: $ routine maintenance\"], [7.368576777701835, 7.65, \"good: $ routine maintenance\"], [3.3109149705429815, 6.5431578947368445, \"good: $ routine maintenance\"], [2.219372675474458, 7.25, \"good: $ routine maintenance\"], [6.032880414320754, 6.6, \"good: $ routine maintenance\"], [3.659126937665392, 6.6, \"good: $ routine maintenance\"], [1.8170686619518983, 7.55, \"good: $ routine maintenance\"], [9.0, 6.6, \"good: $ routine maintenance\"], [2.4527861373061133, 7.55, \"good: $ routine maintenance\"], [4.043960677054994, 6.5431578947368445, \"good: $ routine maintenance\"], [6.667363986135461, 7.65, \"good: $ routine maintenance\"], [6.667363986135461, 7.65, \"good: $ routine maintenance\"], [2.008171441335868, 6.6, \"good: $ routine maintenance\"], [4.939304724846237, 6.6, \"good: $ routine maintenance\"], [6.667363986135461, 7.0, \"good: $ routine maintenance\"], [6.667363986135461, 6.6, \"good: $ routine maintenance\"], [4.939304724846237, 7.55, \"good: $ routine maintenance\"], [4.043960677054994, 6.5431578947368445, \"good: $ routine maintenance\"], [6.667363986135461, 6.9, \"good: $ routine maintenance\"], [8.143536762323636, 7.65, \"good: $ routine maintenance\"], [3.3109149705429815, 6.9, \"good: $ routine maintenance\"], [3.659126937665392, 6.9, \"good: $ routine maintenance\"], [2.219372675474458, 7.55, \"good: $ routine maintenance\"], [6.667363986135461, 7.55, \"good: $ routine maintenance\"], [5.458775937413701, 6.9, \"good: $ routine maintenance\"], [4.043960677054994, 6.6, \"good: $ routine maintenance\"], [4.043960677054994, 6.9, \"good: $ routine maintenance\"], [4.4692677341226865, 6.8, \"good: $ routine maintenance\"], [3.659126937665392, 6.9, \"good: $ routine maintenance\"], [7.368576777701835, 6.5431578947368445, \"good: $ routine maintenance\"], [7.368576777701835, 6.6, \"good: $ routine maintenance\"], [8.143536762323636, 7.65, \"good: $ routine maintenance\"]], \"hovertemplate\": \"<b>%{hovertext}</b><br><br>PCI2=good<br>AVERAGE WIDTH (FT)=%{marker.size}<br>Latitude=%{lat}<br>Longitude=%{lon}<br>machine_vision_prediction=%{customdata[0]}<br>Pavement Rate Total=%{customdata[1]}<br>PCI=%{customdata[2]}<extra></extra>\", \"hovertext\": [\"ARDSLEY AVE. WEST*\", \"BELMONT DRIVE SOUTH\", \"BERTHA PLACE\", \"BRIDGE STREET\", \"BUTTERWOOD EAST*\", \"BUTTERWOOD WEST*\", \"CARLA LANE*\", \"CENTER STREET\", \"CIRCLE DRIVE\", \"COTTONET STREET SOUTH\", \"CROTON PLACE\", \"DEEP HOLLOW CLOSE\", \"DOWS LANE\", \"DUTCHER STREET NORTH\", \"DUTCHER STREET SOUTH\", \"EAST CLINTON AVE.\", \"EAST SUNNYSIDE LANE\", \"ECKAR STREET NORTH\", \"ECKAR STREET SOUTH\", \"EMORY ROAD\", \"FARGO LANE\", \"FIELDPOINT DRIVE (0-800 ft.)\", \"FIELDPOINT DRIVE (800-4,500 ft.)\", \"FIELD TERRACE\", \"GREY ROCK TERRACE\", \"GRINNEL STREET\", \"HALFMOON LANE\", \"HALSEY POND ROAD\", \"HAMILTON ROAD\", \"HARRIMAN ROAD\", \"HENDRICK NORTH *\", \"HERMITS ROAD\", \"HILLSIDE TERRACE\", \"HOME PLACE EAST\", \"HOME PLACE WEST\", \"IRVING PLACE\", \"IRVINGTON MANOR DRIVE\", \"MAIN STREET\", \"MANOR POND LANE\", \"MATHIESSEN PARK\", \"NORTH BROOK LANE\", \"PALLISER ROAD\", \"PARK AVENUE\", \"RIVER ROAD\", \"RIVERVIEW ROAD\", \"RIVERVIEW TERRACE\", \"ROLAND ROAD\", \"STATION ROAD\", \"SYCAMORE LANE\", \"VICTOR DRIVE*\", \"WASHINGTON AVENUE\", \"WOODBINE ROAD*\"], \"lat\": [41.025593, 41.023928999999995, 41.02489, 41.040372999999995, 41.029098, 41.029214, 41.033971, 41.046367, 41.042116, 41.038362, 41.038789, 41.025465999999994, 41.033153000000006, 41.040171, 41.038565999999996, 41.030871999999995, 41.048575, 41.040057, 41.038665, 41.034215, 41.044558, 41.038053000000005, 41.039464, 41.026044, 41.036319, 41.038864000000004, 41.030695, 41.029021, 41.029573, 41.034890999999995, 41.03014, 41.039099, 41.03621, 41.038277, 41.038391, 41.042336999999996, 41.030021000000005, 41.039406, 41.029537, 41.041392, 41.027784999999994, 41.032176, 41.047022999999996, 41.037483, 41.04333, 41.036651, 41.024033, 41.0361, 41.03672, 41.034067, 41.023962, 41.035891], \"legendgroup\": \"good\", \"lon\": [-73.872857, -73.863462, -73.86993199999999, -73.87326, -73.863353, -73.86614, -73.861377, -73.855205, -73.862375, -73.871266, -73.866959, -73.859628, -73.868674, -73.86992099999999, -73.870295, -73.864509, -73.856275, -73.86904100000001, -73.86935799999999, -73.853358, -73.86654, -73.85422, -73.86315400000001, -73.864142, -73.857991, -73.867519, -73.874773, -73.85427800000001, -73.86443299999999, -73.85906999999999, -73.87474, -73.843161, -73.857129, -73.86716, -73.868288, -73.859586, -73.848591, -73.869548, -73.85031, -73.866937, -73.853706, -73.857407, -73.855664, -73.873786, -73.855637, -73.858929, -73.867284, -73.869206, -73.86274300000001, -73.861836, -73.864951, -73.87015699999999], \"marker\": {\"color\": \"fuchsia\", \"size\": [20.0, 20.0, 18.0, 40.0, 20.0, 20.0, 29.0, 19.0, 21.0, 28.0, 18.0, 21.0, 20.0, 28.0, 29.0, 27.0, 10.0, 29.0, 30.0, 16.0, 18.0, 20.0, 20.0, 17.0, 18.0, 18.0, 24.0, 14.0, 24.0, 31.0, 20.0, 10.0, 18.0, 16.0, 18.0, 18.0, 16.0, 44.0, 22.0, 10.0, 22.0, 19.0, 19.0, 35.0, 22.0, 20.0, 17.0, 21.0, 29.0, 28.0, 23.0, 19.0], \"sizemode\": \"area\", \"sizeref\": 0.1175}, \"mode\": \"markers\", \"name\": \"good\", \"showlegend\": true, \"subplot\": \"mapbox\", \"type\": \"scattermapbox\"}, {\"customdata\": [[0.8164615796047122, 3.75, \"poor: $$$ Rehabilitation\"], [4.939304724846237, 3.0, \"poor: $$$ Rehabilitation\"], [7.368576777701835, 3.0, \"poor: $$$ Rehabilitation\"], [6.032880414320754, 3.5, \"poor: $$$ Rehabilitation\"], [4.4692677341226865, 3.5, \"poor: $$$ Rehabilitation\"], [5.458775937413701, 3.4, \"poor: $$$ Rehabilitation\"]], \"hovertemplate\": \"<b>%{hovertext}</b><br><br>PCI2=poor<br>AVERAGE WIDTH (FT)=%{marker.size}<br>Latitude=%{lat}<br>Longitude=%{lon}<br>machine_vision_prediction=%{customdata[0]}<br>Pavement Rate Total=%{customdata[1]}<br>PCI=%{customdata[2]}<extra></extra>\", \"hovertext\": [\"CEDAR LAWN ROAD\", \"CYRUS FIELD ROAD (0-3,200 ft.)\", \"CYRUS FIELD ROAD (3,200-5,744 ft.)\", \"PETER BONT ROAD (0-2,000 ft.)'\", \"PETER BONT ROAD (2,000-4,799 ft.)'\", \"WEST CLINTON AVENUE*\"], \"lat\": [41.03593, 41.024836, 41.034269, 41.04257, 41.04679, 41.031256], \"legendgroup\": \"poor\", \"lon\": [-73.859023, -73.848653, -73.848475, -73.838365, -73.849577, -73.87116], \"marker\": {\"color\": \"fuchsia\", \"size\": [19.0, 20.0, 20.0, 10.0, 10.0, 28.0], \"sizemode\": \"area\", \"sizeref\": 0.1175}, \"mode\": \"markers\", \"name\": \"poor\", \"showlegend\": true, \"subplot\": \"mapbox\", \"type\": \"scattermapbox\"}],\n",
       "                        {\"legend\": {\"itemsizing\": \"constant\", \"title\": {\"text\": \"PCI2\"}, \"tracegroupgap\": 0}, \"mapbox\": {\"center\": {\"lat\": 41.034911640776706, \"lon\": -73.86342273786407}, \"domain\": {\"x\": [0.0, 1.0], \"y\": [0.0, 1.0]}, \"style\": \"open-street-map\", \"zoom\": 12}, \"margin\": {\"b\": 0, \"l\": 0, \"r\": 0, \"t\": 0}, \"template\": {\"data\": {\"bar\": [{\"error_x\": {\"color\": \"#2a3f5f\"}, \"error_y\": {\"color\": \"#2a3f5f\"}, \"marker\": {\"line\": {\"color\": \"#E5ECF6\", \"width\": 0.5}}, \"type\": \"bar\"}], \"barpolar\": [{\"marker\": {\"line\": {\"color\": \"#E5ECF6\", \"width\": 0.5}}, \"type\": \"barpolar\"}], \"carpet\": [{\"aaxis\": {\"endlinecolor\": \"#2a3f5f\", \"gridcolor\": \"white\", \"linecolor\": \"white\", \"minorgridcolor\": \"white\", \"startlinecolor\": \"#2a3f5f\"}, \"baxis\": {\"endlinecolor\": \"#2a3f5f\", \"gridcolor\": \"white\", \"linecolor\": \"white\", \"minorgridcolor\": \"white\", \"startlinecolor\": \"#2a3f5f\"}, \"type\": \"carpet\"}], \"choropleth\": [{\"colorbar\": {\"outlinewidth\": 0, \"ticks\": \"\"}, \"type\": \"choropleth\"}], \"contour\": [{\"colorbar\": {\"outlinewidth\": 0, \"ticks\": \"\"}, \"colorscale\": [[0.0, \"#0d0887\"], [0.1111111111111111, \"#46039f\"], [0.2222222222222222, \"#7201a8\"], [0.3333333333333333, \"#9c179e\"], [0.4444444444444444, \"#bd3786\"], [0.5555555555555556, \"#d8576b\"], [0.6666666666666666, \"#ed7953\"], [0.7777777777777778, \"#fb9f3a\"], [0.8888888888888888, \"#fdca26\"], [1.0, \"#f0f921\"]], \"type\": \"contour\"}], \"contourcarpet\": [{\"colorbar\": {\"outlinewidth\": 0, \"ticks\": \"\"}, \"type\": \"contourcarpet\"}], \"heatmap\": [{\"colorbar\": {\"outlinewidth\": 0, \"ticks\": \"\"}, \"colorscale\": [[0.0, \"#0d0887\"], [0.1111111111111111, \"#46039f\"], [0.2222222222222222, \"#7201a8\"], [0.3333333333333333, \"#9c179e\"], [0.4444444444444444, \"#bd3786\"], [0.5555555555555556, \"#d8576b\"], [0.6666666666666666, \"#ed7953\"], [0.7777777777777778, \"#fb9f3a\"], [0.8888888888888888, \"#fdca26\"], [1.0, \"#f0f921\"]], \"type\": \"heatmap\"}], \"heatmapgl\": [{\"colorbar\": {\"outlinewidth\": 0, \"ticks\": \"\"}, \"colorscale\": [[0.0, \"#0d0887\"], [0.1111111111111111, \"#46039f\"], [0.2222222222222222, \"#7201a8\"], [0.3333333333333333, \"#9c179e\"], [0.4444444444444444, \"#bd3786\"], [0.5555555555555556, \"#d8576b\"], [0.6666666666666666, \"#ed7953\"], [0.7777777777777778, \"#fb9f3a\"], [0.8888888888888888, \"#fdca26\"], [1.0, \"#f0f921\"]], \"type\": \"heatmapgl\"}], \"histogram\": [{\"marker\": {\"colorbar\": {\"outlinewidth\": 0, \"ticks\": \"\"}}, \"type\": \"histogram\"}], \"histogram2d\": [{\"colorbar\": {\"outlinewidth\": 0, \"ticks\": \"\"}, \"colorscale\": [[0.0, \"#0d0887\"], [0.1111111111111111, \"#46039f\"], [0.2222222222222222, \"#7201a8\"], [0.3333333333333333, \"#9c179e\"], [0.4444444444444444, \"#bd3786\"], [0.5555555555555556, \"#d8576b\"], [0.6666666666666666, \"#ed7953\"], [0.7777777777777778, \"#fb9f3a\"], [0.8888888888888888, \"#fdca26\"], [1.0, \"#f0f921\"]], \"type\": \"histogram2d\"}], \"histogram2dcontour\": [{\"colorbar\": {\"outlinewidth\": 0, \"ticks\": \"\"}, \"colorscale\": [[0.0, \"#0d0887\"], [0.1111111111111111, \"#46039f\"], [0.2222222222222222, \"#7201a8\"], [0.3333333333333333, \"#9c179e\"], [0.4444444444444444, \"#bd3786\"], [0.5555555555555556, \"#d8576b\"], [0.6666666666666666, \"#ed7953\"], [0.7777777777777778, \"#fb9f3a\"], [0.8888888888888888, \"#fdca26\"], [1.0, \"#f0f921\"]], \"type\": \"histogram2dcontour\"}], \"mesh3d\": [{\"colorbar\": {\"outlinewidth\": 0, \"ticks\": \"\"}, \"type\": \"mesh3d\"}], \"parcoords\": [{\"line\": {\"colorbar\": {\"outlinewidth\": 0, \"ticks\": \"\"}}, \"type\": \"parcoords\"}], \"pie\": [{\"automargin\": true, \"type\": \"pie\"}], \"scatter\": [{\"marker\": {\"colorbar\": {\"outlinewidth\": 0, \"ticks\": \"\"}}, \"type\": \"scatter\"}], \"scatter3d\": [{\"line\": {\"colorbar\": {\"outlinewidth\": 0, \"ticks\": \"\"}}, \"marker\": {\"colorbar\": {\"outlinewidth\": 0, \"ticks\": \"\"}}, \"type\": \"scatter3d\"}], \"scattercarpet\": [{\"marker\": {\"colorbar\": {\"outlinewidth\": 0, \"ticks\": \"\"}}, \"type\": \"scattercarpet\"}], \"scattergeo\": [{\"marker\": {\"colorbar\": {\"outlinewidth\": 0, \"ticks\": \"\"}}, \"type\": \"scattergeo\"}], \"scattergl\": [{\"marker\": {\"colorbar\": {\"outlinewidth\": 0, \"ticks\": \"\"}}, \"type\": \"scattergl\"}], \"scattermapbox\": [{\"marker\": {\"colorbar\": {\"outlinewidth\": 0, \"ticks\": \"\"}}, \"type\": \"scattermapbox\"}], \"scatterpolar\": [{\"marker\": {\"colorbar\": {\"outlinewidth\": 0, \"ticks\": \"\"}}, \"type\": \"scatterpolar\"}], \"scatterpolargl\": [{\"marker\": {\"colorbar\": {\"outlinewidth\": 0, \"ticks\": \"\"}}, \"type\": \"scatterpolargl\"}], \"scatterternary\": [{\"marker\": {\"colorbar\": {\"outlinewidth\": 0, \"ticks\": \"\"}}, \"type\": \"scatterternary\"}], \"surface\": [{\"colorbar\": {\"outlinewidth\": 0, \"ticks\": \"\"}, \"colorscale\": [[0.0, \"#0d0887\"], [0.1111111111111111, \"#46039f\"], [0.2222222222222222, \"#7201a8\"], [0.3333333333333333, \"#9c179e\"], [0.4444444444444444, \"#bd3786\"], [0.5555555555555556, \"#d8576b\"], [0.6666666666666666, \"#ed7953\"], [0.7777777777777778, \"#fb9f3a\"], [0.8888888888888888, \"#fdca26\"], [1.0, \"#f0f921\"]], \"type\": \"surface\"}], \"table\": [{\"cells\": {\"fill\": {\"color\": \"#EBF0F8\"}, \"line\": {\"color\": \"white\"}}, \"header\": {\"fill\": {\"color\": \"#C8D4E3\"}, \"line\": {\"color\": \"white\"}}, \"type\": \"table\"}]}, \"layout\": {\"annotationdefaults\": {\"arrowcolor\": \"#2a3f5f\", \"arrowhead\": 0, \"arrowwidth\": 1}, \"coloraxis\": {\"colorbar\": {\"outlinewidth\": 0, \"ticks\": \"\"}}, \"colorscale\": {\"diverging\": [[0, \"#8e0152\"], [0.1, \"#c51b7d\"], [0.2, \"#de77ae\"], [0.3, \"#f1b6da\"], [0.4, \"#fde0ef\"], [0.5, \"#f7f7f7\"], [0.6, \"#e6f5d0\"], [0.7, \"#b8e186\"], [0.8, \"#7fbc41\"], [0.9, \"#4d9221\"], [1, \"#276419\"]], \"sequential\": [[0.0, \"#0d0887\"], [0.1111111111111111, \"#46039f\"], [0.2222222222222222, \"#7201a8\"], [0.3333333333333333, \"#9c179e\"], [0.4444444444444444, \"#bd3786\"], [0.5555555555555556, \"#d8576b\"], [0.6666666666666666, \"#ed7953\"], [0.7777777777777778, \"#fb9f3a\"], [0.8888888888888888, \"#fdca26\"], [1.0, \"#f0f921\"]], \"sequentialminus\": [[0.0, \"#0d0887\"], [0.1111111111111111, \"#46039f\"], [0.2222222222222222, \"#7201a8\"], [0.3333333333333333, \"#9c179e\"], [0.4444444444444444, \"#bd3786\"], [0.5555555555555556, \"#d8576b\"], [0.6666666666666666, \"#ed7953\"], [0.7777777777777778, \"#fb9f3a\"], [0.8888888888888888, \"#fdca26\"], [1.0, \"#f0f921\"]]}, \"colorway\": [\"#636efa\", \"#EF553B\", \"#00cc96\", \"#ab63fa\", \"#FFA15A\", \"#19d3f3\", \"#FF6692\", \"#B6E880\", \"#FF97FF\", \"#FECB52\"], \"font\": {\"color\": \"#2a3f5f\"}, \"geo\": {\"bgcolor\": \"white\", \"lakecolor\": \"white\", \"landcolor\": \"#E5ECF6\", \"showlakes\": true, \"showland\": true, \"subunitcolor\": \"white\"}, \"hoverlabel\": {\"align\": \"left\"}, \"hovermode\": \"closest\", \"mapbox\": {\"style\": \"light\"}, \"paper_bgcolor\": \"white\", \"plot_bgcolor\": \"#E5ECF6\", \"polar\": {\"angularaxis\": {\"gridcolor\": \"white\", \"linecolor\": \"white\", \"ticks\": \"\"}, \"bgcolor\": \"#E5ECF6\", \"radialaxis\": {\"gridcolor\": \"white\", \"linecolor\": \"white\", \"ticks\": \"\"}}, \"scene\": {\"xaxis\": {\"backgroundcolor\": \"#E5ECF6\", \"gridcolor\": \"white\", \"gridwidth\": 2, \"linecolor\": \"white\", \"showbackground\": true, \"ticks\": \"\", \"zerolinecolor\": \"white\"}, \"yaxis\": {\"backgroundcolor\": \"#E5ECF6\", \"gridcolor\": \"white\", \"gridwidth\": 2, \"linecolor\": \"white\", \"showbackground\": true, \"ticks\": \"\", \"zerolinecolor\": \"white\"}, \"zaxis\": {\"backgroundcolor\": \"#E5ECF6\", \"gridcolor\": \"white\", \"gridwidth\": 2, \"linecolor\": \"white\", \"showbackground\": true, \"ticks\": \"\", \"zerolinecolor\": \"white\"}}, \"shapedefaults\": {\"line\": {\"color\": \"#2a3f5f\"}}, \"ternary\": {\"aaxis\": {\"gridcolor\": \"white\", \"linecolor\": \"white\", \"ticks\": \"\"}, \"baxis\": {\"gridcolor\": \"white\", \"linecolor\": \"white\", \"ticks\": \"\"}, \"bgcolor\": \"#E5ECF6\", \"caxis\": {\"gridcolor\": \"white\", \"linecolor\": \"white\", \"ticks\": \"\"}}, \"title\": {\"x\": 0.05}, \"xaxis\": {\"automargin\": true, \"gridcolor\": \"white\", \"linecolor\": \"white\", \"ticks\": \"\", \"title\": {\"standoff\": 15}, \"zerolinecolor\": \"white\", \"zerolinewidth\": 2}, \"yaxis\": {\"automargin\": true, \"gridcolor\": \"white\", \"linecolor\": \"white\", \"ticks\": \"\", \"title\": {\"standoff\": 15}, \"zerolinecolor\": \"white\", \"zerolinewidth\": 2}}}},\n",
       "                        {\"responsive\": true}\n",
       "                    ).then(function(){\n",
       "                            \n",
       "var gd = document.getElementById('82b1f958-46fa-4c97-bff5-62fa2ff42f7f');\n",
       "var x = new MutationObserver(function (mutations, observer) {{\n",
       "        var display = window.getComputedStyle(gd).display;\n",
       "        if (!display || display === 'none') {{\n",
       "            console.log([gd, 'removed!']);\n",
       "            Plotly.purge(gd);\n",
       "            observer.disconnect();\n",
       "        }}\n",
       "}});\n",
       "\n",
       "// Listen for the removal of the full notebook cells\n",
       "var notebookContainer = gd.closest('#notebook-container');\n",
       "if (notebookContainer) {{\n",
       "    x.observe(notebookContainer, {childList: true});\n",
       "}}\n",
       "\n",
       "// Listen for the clearing of the current output cell\n",
       "var outputEl = gd.closest('.output');\n",
       "if (outputEl) {{\n",
       "    x.observe(outputEl, {childList: true});\n",
       "}}\n",
       "\n",
       "                        })\n",
       "                };\n",
       "                });\n",
       "            </script>\n",
       "        </div>"
      ]
     },
     "metadata": {},
     "output_type": "display_data"
    }
   ],
   "source": [
    "import plotly.express as px\n",
    "\n",
    "fig = px.scatter_mapbox(df, lat=\"Latitude\", lon=\"Longitude\", color=\"PCI2\", size=\"AVERAGE WIDTH (FT)\"\n",
    "                        ,hover_name=\"ROAD NAME\",hover_data=[\"machine_vision_prediction\", \"Pavement Rate Total\", \"PCI\"],color_discrete_sequence=[\"fuchsia\"], zoom=12\n",
    "                          )\n",
    "fig.update_layout(mapbox_style=\"open-street-map\")\n",
    "fig.update_layout(margin={\"r\":0,\"t\":0,\"l\":0,\"b\":0})\n",
    "fig.show()"
   ]
  },
  {
   "cell_type": "code",
   "execution_count": 50,
   "metadata": {},
   "outputs": [
    {
     "name": "stdout",
     "output_type": "stream",
     "text": [
      "/bin/sh: free: command not found\r\n"
     ]
    }
   ],
   "source": [
    "!free"
   ]
  },
  {
   "cell_type": "code",
   "execution_count": 51,
   "metadata": {},
   "outputs": [
    {
     "name": "stdout",
     "output_type": "stream",
     "text": [
      "Mach Virtual Memory Statistics: (page size of 4096 bytes)\r\n",
      "Pages free:                                7087.\r\n",
      "Pages active:                           1409226.\r\n",
      "Pages inactive:                         1407719.\r\n",
      "Pages speculative:                          249.\r\n",
      "Pages throttled:                              0.\r\n",
      "Pages wired down:                        668094.\r\n",
      "Pages purgeable:                          26709.\r\n",
      "\"Translation faults\":                 540643726.\r\n",
      "Pages copy-on-write:                   10593077.\r\n",
      "Pages zero filled:                    217120442.\r\n",
      "Pages reactivated:                      4922822.\r\n",
      "Pages purged:                           7478029.\r\n",
      "File-backed pages:                       391978.\r\n",
      "Anonymous pages:                        2425216.\r\n",
      "Pages stored in compressor:             1818030.\r\n",
      "Pages occupied by compressor:            700906.\r\n",
      "Decompressions:                         6709164.\r\n",
      "Compressions:                          11840826.\r\n",
      "Pageins:                                8300544.\r\n",
      "Pageouts:                                 15546.\r\n",
      "Swapins:                                8072785.\r\n",
      "Swapouts:                               8547616.\r\n"
     ]
    }
   ],
   "source": [
    "!vm_stat"
   ]
  },
  {
   "cell_type": "code",
   "execution_count": 84,
   "metadata": {},
   "outputs": [
    {
     "name": "stdout",
     "output_type": "stream",
     "text": [
      "Wired Memory:\t\t2885 MB\n",
      "Active Memory:\t\t3729 MB\n",
      "Inactive Memory:\t3654 MB\n",
      "Free Memory:\t\t1157 MB\n",
      "Real Mem Total (ps):\t10554.719 MB\n"
     ]
    }
   ],
   "source": [
    "import subprocess\n",
    "import re\n",
    "\n",
    "# Get process info\n",
    "ps = subprocess.Popen(['ps', '-caxm', '-orss,comm'], stdout=subprocess.PIPE).communicate()[0].decode()\n",
    "vm = subprocess.Popen(['vm_stat'], stdout=subprocess.PIPE).communicate()[0].decode()\n",
    "\n",
    "# Iterate processes\n",
    "processLines = ps.split('\\n')\n",
    "sep = re.compile('[\\s]+')\n",
    "rssTotal = 0 # kB\n",
    "for row in range(1,len(processLines)):\n",
    "    rowText = processLines[row].strip()\n",
    "    rowElements = sep.split(rowText)\n",
    "    try:\n",
    "        rss = float(rowElements[0]) * 1024\n",
    "    except:\n",
    "        rss = 0 # ignore...\n",
    "    rssTotal += rss\n",
    "\n",
    "# Process vm_stat\n",
    "vmLines = vm.split('\\n')\n",
    "sep = re.compile(':[\\s]+')\n",
    "vmStats = {}\n",
    "for row in range(1,len(vmLines)-2):\n",
    "    rowText = vmLines[row].strip()\n",
    "    rowElements = sep.split(rowText)\n",
    "    vmStats[(rowElements[0])] = int(rowElements[1].strip('\\.')) * 4096\n",
    "\n",
    "print('Wired Memory:\\t\\t%d MB' % ( vmStats[\"Pages wired down\"]/1024/1024 ))\n",
    "print('Active Memory:\\t\\t%d MB' % ( vmStats[\"Pages active\"]/1024/1024 ))\n",
    "print('Inactive Memory:\\t%d MB' % ( vmStats[\"Pages inactive\"]/1024/1024 ))\n",
    "print('Free Memory:\\t\\t%d MB' % ( vmStats[\"Pages free\"]/1024/1024 ))\n",
    "print('Real Mem Total (ps):\\t%.3f MB' % ( rssTotal/1024/1024 ))"
   ]
  },
  {
   "cell_type": "code",
   "execution_count": 55,
   "metadata": {},
   "outputs": [
    {
     "name": "stdout",
     "output_type": "stream",
     "text": [
      "Mach Virtual Memory Statistics: (page size of 4096 bytes)\r\n",
      "Pages free:                                4616.\r\n",
      "Pages active:                           1274134.\r\n",
      "Pages inactive:                         1266437.\r\n",
      "Pages speculative:                         6172.\r\n",
      "Pages throttled:                              0.\r\n",
      "Pages wired down:                        667509.\r\n",
      "Pages purgeable:                           4898.\r\n",
      "\"Translation faults\":                 547099305.\r\n",
      "Pages copy-on-write:                   10858834.\r\n",
      "Pages zero filled:                    220063664.\r\n",
      "Pages reactivated:                      5442549.\r\n",
      "Pages purged:                           7499301.\r\n",
      "File-backed pages:                       404322.\r\n",
      "Anonymous pages:                        2142421.\r\n",
      "Pages stored in compressor:             2489116.\r\n",
      "Pages occupied by compressor:            974480.\r\n",
      "Decompressions:                         6813067.\r\n",
      "Compressions:                          12641811.\r\n",
      "Pageins:                                8732502.\r\n",
      "Pageouts:                                 16720.\r\n",
      "Swapins:                                8074021.\r\n",
      "Swapouts:                               8547616.\r\n"
     ]
    }
   ],
   "source": [
    "!vm_stat"
   ]
  },
  {
   "cell_type": "code",
   "execution_count": null,
   "metadata": {},
   "outputs": [],
   "source": []
  }
 ],
 "metadata": {
  "kernelspec": {
   "display_name": "Python 3",
   "language": "python",
   "name": "python3"
  },
  "language_info": {
   "codemirror_mode": {
    "name": "ipython",
    "version": 3
   },
   "file_extension": ".py",
   "mimetype": "text/x-python",
   "name": "python",
   "nbconvert_exporter": "python",
   "pygments_lexer": "ipython3",
   "version": "3.6.10"
  }
 },
 "nbformat": 4,
 "nbformat_minor": 4
}
