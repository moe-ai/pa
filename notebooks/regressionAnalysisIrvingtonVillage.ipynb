{
  "nbformat": 4,
  "nbformat_minor": 0,
  "metadata": {
    "colab": {
      "name": "regressionAnalysisIrvingtonVillage.ipynb",
      "provenance": [],
      "collapsed_sections": [],
      "toc_visible": true,
      "mount_file_id": "https://github.com/mounesi/pa/blob/master/notebooks/regressionAnalysisIrvingtonVillage.ipynb",
      "authorship_tag": "ABX9TyOmRUntQPVJee4SWh0xLAmS",
      "include_colab_link": true
    },
    "kernelspec": {
      "name": "python3",
      "display_name": "Python 3"
    }
  },
  "cells": [
    {
      "cell_type": "markdown",
      "metadata": {
        "id": "view-in-github",
        "colab_type": "text"
      },
      "source": [
        "<a href=\"https://colab.research.google.com/github/mounesi/pa/blob/master/notebooks/regressionAnalysisIrvingtonVillage.ipynb\" target=\"_parent\"><img src=\"https://colab.research.google.com/assets/colab-badge.svg\" alt=\"Open In Colab\"/></a>"
      ]
    },
    {
      "cell_type": "code",
      "metadata": {
        "id": "lku5leeHm6_6",
        "colab_type": "code",
        "colab": {}
      },
      "source": [
        "cp drive/My\\ Drive/data/pa/dataIrvingtonVillage/data_count_mv.csv ./data.csv"
      ],
      "execution_count": 2,
      "outputs": []
    },
    {
      "cell_type": "code",
      "metadata": {
        "id": "qJEDmRzk2qpG",
        "colab_type": "code",
        "colab": {
          "base_uri": "https://localhost:8080/",
          "height": 391
        },
        "outputId": "8c23cd1b-26a7-42d6-9dd8-f8db5d2c8d1d"
      },
      "source": [
        "import pandas as pd\n",
        "df = pd.read_csv('data.csv', index_col=0)\n",
        "df['PCI'] = ['great' if (x > 8) else 'good' if (x > 6 and x <= 8) else 'fine' if (x > 4 and x <= 6) else 'poor' for x in df['Pavement Rate Overall']]\n",
        "df['maintenance level'] = ['intact road' if (x > 8) else 'routine maintenance' if (x > 6 and x <= 8) else 'rehabilitation' if (x > 4 and x <= 6) else 'reconstruction' for x in df['Pavement Rate Overall']]\n",
        "\n",
        "df.head()"
      ],
      "execution_count": 3,
      "outputs": [
        {
          "output_type": "execute_result",
          "data": {
            "text/html": [
              "<div>\n",
              "<style scoped>\n",
              "    .dataframe tbody tr th:only-of-type {\n",
              "        vertical-align: middle;\n",
              "    }\n",
              "\n",
              "    .dataframe tbody tr th {\n",
              "        vertical-align: top;\n",
              "    }\n",
              "\n",
              "    .dataframe thead th {\n",
              "        text-align: right;\n",
              "    }\n",
              "</style>\n",
              "<table border=\"1\" class=\"dataframe\">\n",
              "  <thead>\n",
              "    <tr style=\"text-align: right;\">\n",
              "      <th></th>\n",
              "      <th>ROAD NAME</th>\n",
              "      <th>geo_loc</th>\n",
              "      <th>crack_count</th>\n",
              "      <th>machine_vision_prediction</th>\n",
              "      <th>LENGTH\\n(FT)</th>\n",
              "      <th>AVERAGE WIDTH (FT)</th>\n",
              "      <th>AREA (SF)</th>\n",
              "      <th>AREA (SY)</th>\n",
              "      <th>Year RESURFACED</th>\n",
              "      <th>Pavement Rate Total</th>\n",
              "      <th>Pavement Rate Overall</th>\n",
              "      <th>Latitude</th>\n",
              "      <th>Longitude</th>\n",
              "      <th>coords</th>\n",
              "      <th>geometry</th>\n",
              "      <th>PCI</th>\n",
              "      <th>maintenance level</th>\n",
              "    </tr>\n",
              "    <tr>\n",
              "      <th>num</th>\n",
              "      <th></th>\n",
              "      <th></th>\n",
              "      <th></th>\n",
              "      <th></th>\n",
              "      <th></th>\n",
              "      <th></th>\n",
              "      <th></th>\n",
              "      <th></th>\n",
              "      <th></th>\n",
              "      <th></th>\n",
              "      <th></th>\n",
              "      <th></th>\n",
              "      <th></th>\n",
              "      <th></th>\n",
              "      <th></th>\n",
              "      <th></th>\n",
              "      <th></th>\n",
              "    </tr>\n",
              "  </thead>\n",
              "  <tbody>\n",
              "    <tr>\n",
              "      <th>I</th>\n",
              "      <td>AQUEDUCT LANE</td>\n",
              "      <td>41.039262, -73.866576</td>\n",
              "      <td>1</td>\n",
              "      <td>8.143537</td>\n",
              "      <td>215.0</td>\n",
              "      <td>21.0</td>\n",
              "      <td>4515.0</td>\n",
              "      <td>501.67</td>\n",
              "      <td>1993.0</td>\n",
              "      <td>9.35</td>\n",
              "      <td>9.0</td>\n",
              "      <td>41.039262</td>\n",
              "      <td>-73.866576</td>\n",
              "      <td>(-73.866576, 41.039262)</td>\n",
              "      <td>POINT (-73.86657599999999 41.039262)</td>\n",
              "      <td>great</td>\n",
              "      <td>intact road</td>\n",
              "    </tr>\n",
              "    <tr>\n",
              "      <th>2</th>\n",
              "      <td>ARDSLEY AVE. EAST</td>\n",
              "      <td>41.025517, -73.866235</td>\n",
              "      <td>12</td>\n",
              "      <td>2.710748</td>\n",
              "      <td>885.0</td>\n",
              "      <td>20.0</td>\n",
              "      <td>17700.0</td>\n",
              "      <td>1966.67</td>\n",
              "      <td>1994.0</td>\n",
              "      <td>4.50</td>\n",
              "      <td>5.0</td>\n",
              "      <td>41.025517</td>\n",
              "      <td>-73.866235</td>\n",
              "      <td>(-73.866235, 41.025517)</td>\n",
              "      <td>POINT (-73.866235 41.025517)</td>\n",
              "      <td>fine</td>\n",
              "      <td>rehabilitation</td>\n",
              "    </tr>\n",
              "    <tr>\n",
              "      <th>3</th>\n",
              "      <td>ARDSLEY AVE. WEST*</td>\n",
              "      <td>41.025593, -73.872857</td>\n",
              "      <td>2</td>\n",
              "      <td>7.368577</td>\n",
              "      <td>2764.0</td>\n",
              "      <td>20.0</td>\n",
              "      <td>55280.0</td>\n",
              "      <td>6142.22</td>\n",
              "      <td>1992.0</td>\n",
              "      <td>6.80</td>\n",
              "      <td>7.0</td>\n",
              "      <td>41.025593</td>\n",
              "      <td>-73.872857</td>\n",
              "      <td>(-73.872857, 41.025593)</td>\n",
              "      <td>POINT (-73.872857 41.025593)</td>\n",
              "      <td>good</td>\n",
              "      <td>routine maintenance</td>\n",
              "    </tr>\n",
              "    <tr>\n",
              "      <th>4</th>\n",
              "      <td>BARBARA LANE*</td>\n",
              "      <td>41.042897, -73.854404</td>\n",
              "      <td>2</td>\n",
              "      <td>7.368577</td>\n",
              "      <td>591.0</td>\n",
              "      <td>23.0</td>\n",
              "      <td>13593.0</td>\n",
              "      <td>1510.33</td>\n",
              "      <td>2009.0</td>\n",
              "      <td>8.30</td>\n",
              "      <td>8.0</td>\n",
              "      <td>41.042897</td>\n",
              "      <td>-73.854404</td>\n",
              "      <td>(-73.854404, 41.042897)</td>\n",
              "      <td>POINT (-73.854404 41.042897)</td>\n",
              "      <td>good</td>\n",
              "      <td>routine maintenance</td>\n",
              "    </tr>\n",
              "    <tr>\n",
              "      <th>5</th>\n",
              "      <td>BEECHWOOD LANE*</td>\n",
              "      <td>41.027831, -73.865263</td>\n",
              "      <td>3</td>\n",
              "      <td>6.667364</td>\n",
              "      <td>1636.0</td>\n",
              "      <td>24.0</td>\n",
              "      <td>39264.0</td>\n",
              "      <td>4362.67</td>\n",
              "      <td>2001.0</td>\n",
              "      <td>8.30</td>\n",
              "      <td>8.0</td>\n",
              "      <td>41.027831</td>\n",
              "      <td>-73.865263</td>\n",
              "      <td>(-73.865263, 41.027831)</td>\n",
              "      <td>POINT (-73.865263 41.027831)</td>\n",
              "      <td>good</td>\n",
              "      <td>routine maintenance</td>\n",
              "    </tr>\n",
              "  </tbody>\n",
              "</table>\n",
              "</div>"
            ],
            "text/plain": [
              "              ROAD NAME                geo_loc  ...    PCI    maintenance level\n",
              "num                                             ...                            \n",
              "I         AQUEDUCT LANE  41.039262, -73.866576  ...  great          intact road\n",
              "2     ARDSLEY AVE. EAST  41.025517, -73.866235  ...   fine       rehabilitation\n",
              "3    ARDSLEY AVE. WEST*  41.025593, -73.872857  ...   good  routine maintenance\n",
              "4         BARBARA LANE*  41.042897, -73.854404  ...   good  routine maintenance\n",
              "5       BEECHWOOD LANE*  41.027831, -73.865263  ...   good  routine maintenance\n",
              "\n",
              "[5 rows x 17 columns]"
            ]
          },
          "metadata": {
            "tags": []
          },
          "execution_count": 3
        }
      ]
    },
    {
      "cell_type": "code",
      "metadata": {
        "id": "xT7T1_abYJB3",
        "colab_type": "code",
        "colab": {
          "base_uri": "https://localhost:8080/",
          "height": 303
        },
        "outputId": "6f2a00fb-01c5-45f7-e3a8-c6149921b727"
      },
      "source": [
        "#df3 = df\n",
        "#df3.set_index('PCI')\n",
        "df3 = df['maintenance level'].value_counts()\n",
        "df3['intact road']\n",
        "coef = round(df3['intact road']/len(df['maintenance level']),4)*100\n",
        "df3.rename(index = {'intact road': f'intact road {coef}%'}, inplace = True)\n",
        "coef = round(df3['routine maintenance']/len(df['maintenance level']),4)*100\n",
        "df3.rename(index = {'routine maintenance': f'routine maintenance {coef}%'}, inplace = True)\n",
        "coef = round(df3['rehabilitation']/len(df['maintenance level']),4)*100\n",
        "df3.rename(index = {'rehabilitation': f'rehabilitation {coef}%'}, inplace = True)\n",
        "coef = round(df3['reconstruction']/len(df['maintenance level']),4)*100\n",
        "df3.rename(index = {'reconstruction': f'reconstruction {coef}%'}, inplace = True)\n",
        "\n",
        "\n",
        "plot = df3.plot.pie(y='Pavement Rate Overall', figsize=(5, 5))"
      ],
      "execution_count": 4,
      "outputs": [
        {
          "output_type": "display_data",
          "data": {
            "image/png": "[encoded data removed]",
            "text/plain": [
              "<Figure size 360x360 with 1 Axes>"
            ]
          },
          "metadata": {
            "tags": []
          }
        }
      ]
    },
    {
      "cell_type": "code",
      "metadata": {
        "id": "ULdaylCDbLLN",
        "colab_type": "code",
        "colab": {}
      },
      "source": [
        "df3 = df['maintenance level'].value_counts()"
      ],
      "execution_count": 5,
      "outputs": []
    },
    {
      "cell_type": "code",
      "metadata": {
        "id": "V6_RWoiH2v9m",
        "colab_type": "code",
        "colab": {
          "base_uri": "https://localhost:8080/",
          "height": 235
        },
        "outputId": "9d784a96-7f9f-4130-f569-467140b73ed8"
      },
      "source": [
        "# Use numpy to convert to arrays\n",
        "import numpy as np\n",
        "# Labels are the values we want to predict\n",
        "labels = np.array(df['Pavement Rate Overall']) # Regression\n",
        "#labels = np.array(df['PCI']) # classification\n",
        "#df2= df[['Year RESURFACED']]\n",
        "df2= df[['crack_count']]\n",
        "#df2= df[['Year RESURFACED']]\n",
        "df2.head()"
      ],
      "execution_count": 91,
      "outputs": [
        {
          "output_type": "execute_result",
          "data": {
            "text/html": [
              "<div>\n",
              "<style scoped>\n",
              "    .dataframe tbody tr th:only-of-type {\n",
              "        vertical-align: middle;\n",
              "    }\n",
              "\n",
              "    .dataframe tbody tr th {\n",
              "        vertical-align: top;\n",
              "    }\n",
              "\n",
              "    .dataframe thead th {\n",
              "        text-align: right;\n",
              "    }\n",
              "</style>\n",
              "<table border=\"1\" class=\"dataframe\">\n",
              "  <thead>\n",
              "    <tr style=\"text-align: right;\">\n",
              "      <th></th>\n",
              "      <th>crack_count</th>\n",
              "    </tr>\n",
              "    <tr>\n",
              "      <th>num</th>\n",
              "      <th></th>\n",
              "    </tr>\n",
              "  </thead>\n",
              "  <tbody>\n",
              "    <tr>\n",
              "      <th>I</th>\n",
              "      <td>1</td>\n",
              "    </tr>\n",
              "    <tr>\n",
              "      <th>2</th>\n",
              "      <td>12</td>\n",
              "    </tr>\n",
              "    <tr>\n",
              "      <th>3</th>\n",
              "      <td>2</td>\n",
              "    </tr>\n",
              "    <tr>\n",
              "      <th>4</th>\n",
              "      <td>2</td>\n",
              "    </tr>\n",
              "    <tr>\n",
              "      <th>5</th>\n",
              "      <td>3</td>\n",
              "    </tr>\n",
              "  </tbody>\n",
              "</table>\n",
              "</div>"
            ],
            "text/plain": [
              "     crack_count\n",
              "num             \n",
              "I              1\n",
              "2             12\n",
              "3              2\n",
              "4              2\n",
              "5              3"
            ]
          },
          "metadata": {
            "tags": []
          },
          "execution_count": 91
        }
      ]
    },
    {
      "cell_type": "code",
      "metadata": {
        "id": "U3IP8nMV3ya9",
        "colab_type": "code",
        "colab": {}
      },
      "source": [
        "# Saving feature names for later use\n",
        "feature_list = list(df2.columns)\n",
        "# Convert to numpy array\n",
        "df2 = np.array(df2)"
      ],
      "execution_count": 92,
      "outputs": []
    },
    {
      "cell_type": "code",
      "metadata": {
        "id": "RJK1uYUL3ydD",
        "colab_type": "code",
        "colab": {}
      },
      "source": [
        "# Using Skicit-learn to split data into training and testing sets\n",
        "from sklearn.model_selection import train_test_split\n",
        "# Split the data into training and testing sets\n",
        "train_features, test_features, train_labels, test_labels = train_test_split(df2, labels, test_size = 0.5, random_state = 42)"
      ],
      "execution_count": 93,
      "outputs": []
    },
    {
      "cell_type": "code",
      "metadata": {
        "id": "REY3k0AZ3yfL",
        "colab_type": "code",
        "colab": {
          "base_uri": "https://localhost:8080/",
          "height": 85
        },
        "outputId": "8b61d1ea-4c39-4b3a-be63-947cfe610e66"
      },
      "source": [
        "print('Training Features Shape:', train_features.shape)\n",
        "print('Training Labels Shape:', train_labels.shape)\n",
        "print('Testing Features Shape:', test_features.shape)\n",
        "print('Testing Labels Shape:', test_labels.shape)"
      ],
      "execution_count": 94,
      "outputs": [
        {
          "output_type": "stream",
          "text": [
            "Training Features Shape: (51, 1)\n",
            "Training Labels Shape: (51,)\n",
            "Testing Features Shape: (52, 1)\n",
            "Testing Labels Shape: (52,)\n"
          ],
          "name": "stdout"
        }
      ]
    },
    {
      "cell_type": "markdown",
      "metadata": {
        "id": "s8nu866KNYJM",
        "colab_type": "text"
      },
      "source": [
        "#Regression"
      ]
    },
    {
      "cell_type": "code",
      "metadata": {
        "id": "qge12Jxx7919",
        "colab_type": "code",
        "colab": {
          "base_uri": "https://localhost:8080/",
          "height": 51
        },
        "outputId": "33fce71d-edd9-4d78-c64f-a418c4bb2a65"
      },
      "source": [
        "# Random Forest Regression\n",
        "\n",
        "# Import the model we are using\n",
        "from sklearn.ensemble import RandomForestRegressor\n",
        "# Instantiate model with 1000 decision trees\n",
        "rf = RandomForestRegressor(n_estimators = 1000, random_state = 42)\n",
        "# Train the model on training data\n",
        "rf.fit(train_features, train_labels);\n",
        "# Use the forest's predict method on the test data\n",
        "predictions = rf.predict(test_features)\n",
        "# Calculate the absolute errors\n",
        "errors = abs(predictions - test_labels)\n",
        "# Print out the mean absolute error (mae)\n",
        "print('Mean Absolute Error:', round(np.mean(errors), 2), 'rate.')\n",
        "# Calculate mean absolute percentage error (MAPE)\n",
        "mape = 100 * (errors / test_labels)\n",
        "# Calculate and display accuracy\n",
        "accuracy = 100 - np.mean(mape)\n",
        "print('Accuracy:', round(accuracy, 2), '%.')"
      ],
      "execution_count": 95,
      "outputs": [
        {
          "output_type": "stream",
          "text": [
            "Mean Absolute Error: 1.35 rate.\n",
            "Accuracy: 77.93 %.\n"
          ],
          "name": "stdout"
        }
      ]
    },
    {
      "cell_type": "code",
      "metadata": {
        "id": "kW_1GlOSOi0h",
        "colab_type": "code",
        "colab": {
          "base_uri": "https://localhost:8080/",
          "height": 51
        },
        "outputId": "99816516-7c9e-4f62-ef25-628292cdf3cb"
      },
      "source": [
        "# Linear Regression\n",
        "from sklearn.linear_model import LinearRegression\n",
        "lr = LinearRegression()\n",
        "lr.fit(train_features, train_labels)\n",
        "predictions = lr.predict(test_features)\n",
        "errors = abs(predictions - test_labels)\n",
        "print('Mean Absolute Error:', round(np.mean(errors), 2), 'rate.')\n",
        "# Calculate mean absolute percentage error (MAPE)\n",
        "mape = 100 * (errors / test_labels)\n",
        "# Calculate and display accuracy\n",
        "accuracy = 100 - np.mean(mape)\n",
        "print('Accuracy:', round(accuracy, 2), '%.')"
      ],
      "execution_count": 96,
      "outputs": [
        {
          "output_type": "stream",
          "text": [
            "Mean Absolute Error: 1.15 rate.\n",
            "Accuracy: 80.63 %.\n"
          ],
          "name": "stdout"
        }
      ]
    },
    {
      "cell_type": "code",
      "metadata": {
        "id": "NgAb7DC2Q1FW",
        "colab_type": "code",
        "colab": {
          "base_uri": "https://localhost:8080/",
          "height": 51
        },
        "outputId": "9f66d7e3-a82f-4501-a041-d4703553eec8"
      },
      "source": [
        "# Logistic Regression\n",
        "from sklearn.linear_model import LogisticRegression\n",
        "clf = LogisticRegression(random_state=0)\n",
        "clf.fit(train_features, train_labels)\n",
        "\n",
        "predictions = clf.predict(test_features)\n",
        "errors = abs(predictions - test_labels)\n",
        "print('Mean Absolute Error:', round(np.mean(errors), 2), 'rate.')\n",
        "# Calculate mean absolute percentage error (MAPE)\n",
        "mape = 100 * (errors / test_labels)\n",
        "# Calculate and display accuracy\n",
        "accuracy = 100 - np.mean(mape)\n",
        "print('Accuracy:', round(accuracy, 2), '%.')"
      ],
      "execution_count": 97,
      "outputs": [
        {
          "output_type": "stream",
          "text": [
            "Mean Absolute Error: 0.92 rate.\n",
            "Accuracy: 82.35 %.\n"
          ],
          "name": "stdout"
        }
      ]
    },
    {
      "cell_type": "code",
      "metadata": {
        "id": "0qbu-jpon-_e",
        "colab_type": "code",
        "colab": {}
      },
      "source": [
        "#predictions = clf.predict(test_features)\n",
        "predictions = clf.predict(df2)"
      ],
      "execution_count": 98,
      "outputs": []
    },
    {
      "cell_type": "code",
      "metadata": {
        "id": "z9U6YaJdoObS",
        "colab_type": "code",
        "colab": {}
      },
      "source": [
        "#predictions"
      ],
      "execution_count": 99,
      "outputs": []
    },
    {
      "cell_type": "code",
      "metadata": {
        "id": "dkxAGzj3RDd7",
        "colab_type": "code",
        "colab": {
          "base_uri": "https://localhost:8080/",
          "height": 391
        },
        "outputId": "6390a4e1-f258-4dc7-ce54-43c91ce3283e"
      },
      "source": [
        "df.head()"
      ],
      "execution_count": 100,
      "outputs": [
        {
          "output_type": "execute_result",
          "data": {
            "text/html": [
              "<div>\n",
              "<style scoped>\n",
              "    .dataframe tbody tr th:only-of-type {\n",
              "        vertical-align: middle;\n",
              "    }\n",
              "\n",
              "    .dataframe tbody tr th {\n",
              "        vertical-align: top;\n",
              "    }\n",
              "\n",
              "    .dataframe thead th {\n",
              "        text-align: right;\n",
              "    }\n",
              "</style>\n",
              "<table border=\"1\" class=\"dataframe\">\n",
              "  <thead>\n",
              "    <tr style=\"text-align: right;\">\n",
              "      <th></th>\n",
              "      <th>ROAD NAME</th>\n",
              "      <th>geo_loc</th>\n",
              "      <th>crack_count</th>\n",
              "      <th>machine_vision_prediction</th>\n",
              "      <th>LENGTH\\n(FT)</th>\n",
              "      <th>AVERAGE WIDTH (FT)</th>\n",
              "      <th>AREA (SF)</th>\n",
              "      <th>AREA (SY)</th>\n",
              "      <th>Year RESURFACED</th>\n",
              "      <th>Pavement Rate Total</th>\n",
              "      <th>Pavement Rate Overall</th>\n",
              "      <th>Latitude</th>\n",
              "      <th>Longitude</th>\n",
              "      <th>coords</th>\n",
              "      <th>geometry</th>\n",
              "      <th>PCI</th>\n",
              "      <th>maintenance level</th>\n",
              "    </tr>\n",
              "    <tr>\n",
              "      <th>num</th>\n",
              "      <th></th>\n",
              "      <th></th>\n",
              "      <th></th>\n",
              "      <th></th>\n",
              "      <th></th>\n",
              "      <th></th>\n",
              "      <th></th>\n",
              "      <th></th>\n",
              "      <th></th>\n",
              "      <th></th>\n",
              "      <th></th>\n",
              "      <th></th>\n",
              "      <th></th>\n",
              "      <th></th>\n",
              "      <th></th>\n",
              "      <th></th>\n",
              "      <th></th>\n",
              "    </tr>\n",
              "  </thead>\n",
              "  <tbody>\n",
              "    <tr>\n",
              "      <th>I</th>\n",
              "      <td>AQUEDUCT LANE</td>\n",
              "      <td>41.039262, -73.866576</td>\n",
              "      <td>1</td>\n",
              "      <td>8.143537</td>\n",
              "      <td>215.0</td>\n",
              "      <td>21.0</td>\n",
              "      <td>4515.0</td>\n",
              "      <td>501.67</td>\n",
              "      <td>1993.0</td>\n",
              "      <td>9.35</td>\n",
              "      <td>9.0</td>\n",
              "      <td>41.039262</td>\n",
              "      <td>-73.866576</td>\n",
              "      <td>(-73.866576, 41.039262)</td>\n",
              "      <td>POINT (-73.86657599999999 41.039262)</td>\n",
              "      <td>great</td>\n",
              "      <td>intact road</td>\n",
              "    </tr>\n",
              "    <tr>\n",
              "      <th>2</th>\n",
              "      <td>ARDSLEY AVE. EAST</td>\n",
              "      <td>41.025517, -73.866235</td>\n",
              "      <td>12</td>\n",
              "      <td>2.710748</td>\n",
              "      <td>885.0</td>\n",
              "      <td>20.0</td>\n",
              "      <td>17700.0</td>\n",
              "      <td>1966.67</td>\n",
              "      <td>1994.0</td>\n",
              "      <td>4.50</td>\n",
              "      <td>5.0</td>\n",
              "      <td>41.025517</td>\n",
              "      <td>-73.866235</td>\n",
              "      <td>(-73.866235, 41.025517)</td>\n",
              "      <td>POINT (-73.866235 41.025517)</td>\n",
              "      <td>fine</td>\n",
              "      <td>rehabilitation</td>\n",
              "    </tr>\n",
              "    <tr>\n",
              "      <th>3</th>\n",
              "      <td>ARDSLEY AVE. WEST*</td>\n",
              "      <td>41.025593, -73.872857</td>\n",
              "      <td>2</td>\n",
              "      <td>7.368577</td>\n",
              "      <td>2764.0</td>\n",
              "      <td>20.0</td>\n",
              "      <td>55280.0</td>\n",
              "      <td>6142.22</td>\n",
              "      <td>1992.0</td>\n",
              "      <td>6.80</td>\n",
              "      <td>7.0</td>\n",
              "      <td>41.025593</td>\n",
              "      <td>-73.872857</td>\n",
              "      <td>(-73.872857, 41.025593)</td>\n",
              "      <td>POINT (-73.872857 41.025593)</td>\n",
              "      <td>good</td>\n",
              "      <td>routine maintenance</td>\n",
              "    </tr>\n",
              "    <tr>\n",
              "      <th>4</th>\n",
              "      <td>BARBARA LANE*</td>\n",
              "      <td>41.042897, -73.854404</td>\n",
              "      <td>2</td>\n",
              "      <td>7.368577</td>\n",
              "      <td>591.0</td>\n",
              "      <td>23.0</td>\n",
              "      <td>13593.0</td>\n",
              "      <td>1510.33</td>\n",
              "      <td>2009.0</td>\n",
              "      <td>8.30</td>\n",
              "      <td>8.0</td>\n",
              "      <td>41.042897</td>\n",
              "      <td>-73.854404</td>\n",
              "      <td>(-73.854404, 41.042897)</td>\n",
              "      <td>POINT (-73.854404 41.042897)</td>\n",
              "      <td>good</td>\n",
              "      <td>routine maintenance</td>\n",
              "    </tr>\n",
              "    <tr>\n",
              "      <th>5</th>\n",
              "      <td>BEECHWOOD LANE*</td>\n",
              "      <td>41.027831, -73.865263</td>\n",
              "      <td>3</td>\n",
              "      <td>6.667364</td>\n",
              "      <td>1636.0</td>\n",
              "      <td>24.0</td>\n",
              "      <td>39264.0</td>\n",
              "      <td>4362.67</td>\n",
              "      <td>2001.0</td>\n",
              "      <td>8.30</td>\n",
              "      <td>8.0</td>\n",
              "      <td>41.027831</td>\n",
              "      <td>-73.865263</td>\n",
              "      <td>(-73.865263, 41.027831)</td>\n",
              "      <td>POINT (-73.865263 41.027831)</td>\n",
              "      <td>good</td>\n",
              "      <td>routine maintenance</td>\n",
              "    </tr>\n",
              "  </tbody>\n",
              "</table>\n",
              "</div>"
            ],
            "text/plain": [
              "              ROAD NAME                geo_loc  ...    PCI    maintenance level\n",
              "num                                             ...                            \n",
              "I         AQUEDUCT LANE  41.039262, -73.866576  ...  great          intact road\n",
              "2     ARDSLEY AVE. EAST  41.025517, -73.866235  ...   fine       rehabilitation\n",
              "3    ARDSLEY AVE. WEST*  41.025593, -73.872857  ...   good  routine maintenance\n",
              "4         BARBARA LANE*  41.042897, -73.854404  ...   good  routine maintenance\n",
              "5       BEECHWOOD LANE*  41.027831, -73.865263  ...   good  routine maintenance\n",
              "\n",
              "[5 rows x 17 columns]"
            ]
          },
          "metadata": {
            "tags": []
          },
          "execution_count": 100
        }
      ]
    },
    {
      "cell_type": "code",
      "metadata": {
        "id": "cVpEzPvjRtZZ",
        "colab_type": "code",
        "colab": {
          "base_uri": "https://localhost:8080/",
          "height": 51
        },
        "outputId": "44d5dc20-f512-4707-92b9-7aebacfdc378"
      },
      "source": [
        "# SGD Regression\n",
        "from sklearn.linear_model import SGDRegressor\n",
        "from sklearn.pipeline import make_pipeline\n",
        "from sklearn.preprocessing import StandardScaler\n",
        "reg = make_pipeline(StandardScaler(), SGDRegressor(max_iter=1000, tol=1e-3))\n",
        "\n",
        "reg.fit(train_features, train_labels)\n",
        "\n",
        "predictions = reg.predict(test_features)\n",
        "errors = abs(predictions - test_labels)\n",
        "print('Mean Absolute Error:', round(np.mean(errors), 2), 'rate.')\n",
        "# Calculate mean absolute percentage error (MAPE)\n",
        "mape = 100 * (errors / test_labels)\n",
        "# Calculate and display accuracy\n",
        "accuracy = 100 - np.mean(mape)\n",
        "print('Accuracy:', round(accuracy, 2), '%.')"
      ],
      "execution_count": 101,
      "outputs": [
        {
          "output_type": "stream",
          "text": [
            "Mean Absolute Error: 1.18 rate.\n",
            "Accuracy: 80.41 %.\n"
          ],
          "name": "stdout"
        }
      ]
    },
    {
      "cell_type": "code",
      "metadata": {
        "id": "toE-mdgLqVse",
        "colab_type": "code",
        "colab": {
          "base_uri": "https://localhost:8080/",
          "height": 88
        },
        "outputId": "656ba6f0-b7c4-4a46-f9d0-4f52ec16d3d0"
      },
      "source": [
        "from sklearn import svm\n",
        "from sklearn.model_selection import cross_val_score\n",
        "clf = svm.SVC(random_state=0)\n",
        "cross_val_score(clf, train_features, train_labels, cv=5, scoring='recall_macro')"
      ],
      "execution_count": 66,
      "outputs": [
        {
          "output_type": "stream",
          "text": [
            "[0.20833333 0.25       0.25       0.25       0.21666667]\n"
          ],
          "name": "stdout"
        },
        {
          "output_type": "stream",
          "text": [
            "/usr/local/lib/python3.6/dist-packages/sklearn/model_selection/_split.py:667: UserWarning: The least populated class in y has only 1 members, which is less than n_splits=5.\n",
            "  % (min_groups, self.n_splits)), UserWarning)\n"
          ],
          "name": "stderr"
        }
      ]
    },
    {
      "cell_type": "code",
      "metadata": {
        "id": "Pq3NYEtkU_vF",
        "colab_type": "code",
        "colab": {
          "base_uri": "https://localhost:8080/",
          "height": 145
        },
        "outputId": "640c1c75-f343-4122-cb77-1ace14dc2653"
      },
      "source": [
        "df_scores = pd.DataFrame()\n",
        "df_scores['Random Forest Regression'] = 1.37, 77.24\n",
        "df_scores['Linear Regression'] = 1.1, 81.31\n",
        "df_scores['Logistic Regression'] = 0.92, 81.8\n",
        "df_scores['SGD Regression'] = 1.13, 81.06\n",
        "df_scores.rename(index = {0: 'Mean Absolute Error[rate]'}, inplace = True)\n",
        "df_scores.rename(index = {1: 'Accuracy[%]'}, inplace = True)\n",
        "\n",
        "#df_new = df.rename(columns={'A': 'a'}, index={'ONE': 'one'})\n",
        "df_scores"
      ],
      "execution_count": 17,
      "outputs": [
        {
          "output_type": "execute_result",
          "data": {
            "text/html": [
              "<div>\n",
              "<style scoped>\n",
              "    .dataframe tbody tr th:only-of-type {\n",
              "        vertical-align: middle;\n",
              "    }\n",
              "\n",
              "    .dataframe tbody tr th {\n",
              "        vertical-align: top;\n",
              "    }\n",
              "\n",
              "    .dataframe thead th {\n",
              "        text-align: right;\n",
              "    }\n",
              "</style>\n",
              "<table border=\"1\" class=\"dataframe\">\n",
              "  <thead>\n",
              "    <tr style=\"text-align: right;\">\n",
              "      <th></th>\n",
              "      <th>Random Forest Regression</th>\n",
              "      <th>Linear Regression</th>\n",
              "      <th>Logistic Regression</th>\n",
              "      <th>SGD Regression</th>\n",
              "    </tr>\n",
              "  </thead>\n",
              "  <tbody>\n",
              "    <tr>\n",
              "      <th>Mean Absolute Error[rate]</th>\n",
              "      <td>1.37</td>\n",
              "      <td>1.10</td>\n",
              "      <td>0.92</td>\n",
              "      <td>1.13</td>\n",
              "    </tr>\n",
              "    <tr>\n",
              "      <th>Accuracy[%]</th>\n",
              "      <td>77.24</td>\n",
              "      <td>81.31</td>\n",
              "      <td>81.80</td>\n",
              "      <td>81.06</td>\n",
              "    </tr>\n",
              "  </tbody>\n",
              "</table>\n",
              "</div>"
            ],
            "text/plain": [
              "                           Random Forest Regression  ...  SGD Regression\n",
              "Mean Absolute Error[rate]                      1.37  ...            1.13\n",
              "Accuracy[%]                                   77.24  ...           81.06\n",
              "\n",
              "[2 rows x 4 columns]"
            ]
          },
          "metadata": {
            "tags": []
          },
          "execution_count": 17
        }
      ]
    },
    {
      "cell_type": "code",
      "metadata": {
        "id": "BaJgtOrbXkuH",
        "colab_type": "code",
        "colab": {}
      },
      "source": [
        "df_scores.to_csv('model rates')"
      ],
      "execution_count": 18,
      "outputs": []
    },
    {
      "cell_type": "code",
      "metadata": {
        "id": "8XD6oT8WXkwn",
        "colab_type": "code",
        "colab": {
          "base_uri": "https://localhost:8080/",
          "height": 51
        },
        "outputId": "8e4599cf-1788-4a53-97b3-49a0c5647c6e"
      },
      "source": [
        "# Linear Regression\n",
        "from sklearn.linear_model import LinearRegression\n",
        "lr = LinearRegression()\n",
        "lr.fit(train_features, train_labels)\n",
        "predictions = lr.predict(test_features)\n",
        "errors = abs(predictions - test_labels)\n",
        "print('Mean Absolute Error:', round(np.mean(errors), 2), 'rate.')\n",
        "# Calculate mean absolute percentage error (MAPE)\n",
        "mape = 100 * (errors / test_labels)\n",
        "# Calculate and display accuracy\n",
        "accuracy = 100 - np.mean(mape)\n",
        "print('Accuracy:', round(accuracy, 2), '%.')"
      ],
      "execution_count": 45,
      "outputs": [
        {
          "output_type": "stream",
          "text": [
            "Mean Absolute Error: 1.15 rate.\n",
            "Accuracy: 80.63 %.\n"
          ],
          "name": "stdout"
        }
      ]
    },
    {
      "cell_type": "code",
      "metadata": {
        "id": "whXMfz8XXk02",
        "colab_type": "code",
        "colab": {
          "base_uri": "https://localhost:8080/",
          "height": 204
        },
        "outputId": "7ee0811c-70a3-46b5-992b-3b9dea9ab4db"
      },
      "source": [
        "predictions"
      ],
      "execution_count": 46,
      "outputs": [
        {
          "output_type": "execute_result",
          "data": {
            "text/plain": [
              "array([6.50620556, 6.53614369, 6.35274576, 6.56885907, 6.59820208,\n",
              "       6.34857991, 6.44414717, 6.74987651, 6.65966535, 6.38427089,\n",
              "       6.4748788 , 6.3834774 , 6.41004318, 6.81312514, 6.68821487,\n",
              "       6.44414717, 6.4152009 , 6.75186025, 6.4144074 , 6.75324887,\n",
              "       6.3834774 , 6.53852418, 6.47527555, 6.44573416, 6.65609462,\n",
              "       6.3501669 , 6.53852418, 6.66065722, 6.4748788 , 6.56528834,\n",
              "       6.63071908, 6.5678672 , 6.47309343, 6.90670866, 6.47686254,\n",
              "       6.93585331, 6.47309343, 6.41420903, 6.93684518, 6.50223808,\n",
              "       7.06036683, 6.53475508, 6.752257  , 6.38327902, 6.44097318,\n",
              "       6.44256017, 6.56885907, 6.41182854, 6.47329181, 6.4423618 ,\n",
              "       6.3826839 , 6.35175389])"
            ]
          },
          "metadata": {
            "tags": []
          },
          "execution_count": 46
        }
      ]
    },
    {
      "cell_type": "code",
      "metadata": {
        "id": "0_zBN5pXXk3b",
        "colab_type": "code",
        "colab": {
          "base_uri": "https://localhost:8080/",
          "height": 136
        },
        "outputId": "f9f7cfec-da75-4ec6-ea1d-9054103a9c00"
      },
      "source": [
        "labels"
      ],
      "execution_count": 47,
      "outputs": [
        {
          "output_type": "execute_result",
          "data": {
            "text/plain": [
              "array([9., 5., 7., 8., 8., 5., 7., 7., 7., 8., 5., 5., 7., 7., 7., 8., 4.,\n",
              "       7., 8., 7., 5., 8., 8., 7., 3., 3., 5., 5., 8., 8., 7., 4., 8., 7.,\n",
              "       7., 7., 8., 7., 5., 7., 7., 5., 5., 8., 7., 7., 7., 7., 8., 7., 8.,\n",
              "       6., 7., 6., 8., 8., 8., 7., 7., 7., 6., 6., 6., 5., 8., 8., 7., 8.,\n",
              "       8., 8., 5., 8., 6., 7., 8., 7., 8., 8., 6., 4., 5., 7., 9., 6., 7.,\n",
              "       8., 5., 4., 4., 4., 8., 7., 7., 7., 5., 7., 7., 7., 7., 3., 6., 9.,\n",
              "       8.])"
            ]
          },
          "metadata": {
            "tags": []
          },
          "execution_count": 47
        }
      ]
    },
    {
      "cell_type": "code",
      "metadata": {
        "id": "0zUBY0wWXkzM",
        "colab_type": "code",
        "colab": {}
      },
      "source": [
        ""
      ],
      "execution_count": null,
      "outputs": []
    },
    {
      "cell_type": "code",
      "metadata": {
        "id": "XhVMWPgv8N8d",
        "colab_type": "code",
        "colab": {
          "base_uri": "https://localhost:8080/",
          "height": 51
        },
        "outputId": "cdef2603-871e-427b-cd1a-4b9f931b83fd"
      },
      "source": [
        "# Get numerical feature importances\n",
        "importances = list(rf.feature_importances_)\n",
        "# List of tuples with variable and importance\n",
        "feature_importances = [(feature, round(importance, 2)) for feature, importance in zip(feature_list, importances)]\n",
        "# Sort the feature importances by most important first\n",
        "feature_importances = sorted(feature_importances, key = lambda x: x[1], reverse = True)\n",
        "# Print out the feature and importances \n",
        "[print('Variable: {:20} Importance: {}'.format(*pair)) for pair in feature_importances];"
      ],
      "execution_count": null,
      "outputs": [
        {
          "output_type": "stream",
          "text": [
            "Variable: Year RESURFACED      Importance: 0.51\n",
            "Variable: crack_count          Importance: 0.49\n"
          ],
          "name": "stdout"
        }
      ]
    },
    {
      "cell_type": "code",
      "metadata": {
        "id": "ZN0byqZ2Rr2l",
        "colab_type": "code",
        "colab": {}
      },
      "source": [
        ""
      ],
      "execution_count": null,
      "outputs": []
    },
    {
      "cell_type": "code",
      "metadata": {
        "id": "gjF1lSwe8OEA",
        "colab_type": "code",
        "colab": {
          "base_uri": "https://localhost:8080/",
          "height": 493
        },
        "outputId": "87b5d760-2c4e-4a18-9c1b-778c0aab9abb"
      },
      "source": [
        "# Import matplotlib for plotting and use magic command for Jupyter Notebooks\n",
        "import matplotlib.pyplot as plt\n",
        "%matplotlib inline\n",
        "# Set the style\n",
        "plt.style.use('fivethirtyeight')\n",
        "# list of x locations for plotting\n",
        "x_values = list(range(len(importances)))\n",
        "# Make a bar chart\n",
        "plt.bar(x_values, importances, orientation = 'vertical')\n",
        "# Tick labels for x axis\n",
        "plt.xticks(x_values, feature_list, rotation='vertical', fontsize=20)\n",
        "# Axis labels and title\n",
        "plt.ylabel('Importance', fontsize=20); plt.xlabel('Variable', fontsize=20); plt.title('Variable Importances', fontsize=20);\n",
        "#plt.xlabel('xlabel', fontsize=18)\n",
        "#plt.ylabel('ylabel', fontsize=16)\n"
      ],
      "execution_count": null,
      "outputs": [
        {
          "output_type": "display_data",
          "data": {
            "image/png": "[encoded data removed]",
            "text/plain": [
              "<Figure size 432x288 with 1 Axes>"
            ]
          },
          "metadata": {
            "tags": []
          }
        }
      ]
    },
    {
      "cell_type": "code",
      "metadata": {
        "id": "7jIeHJ-u8CTz",
        "colab_type": "code",
        "colab": {}
      },
      "source": [
        "\n",
        "# Import tools needed for visualization\n",
        "from sklearn.tree import export_graphviz\n",
        "import pydot\n",
        "# Pull out one tree from the forest\n",
        "tree = rf.estimators_[5]\n",
        "# Import tools needed for visualization\n",
        "from sklearn.tree import export_graphviz\n",
        "import pydot\n",
        "# Pull out one tree from the forest\n",
        "tree = rf.estimators_[5]\n",
        "# Export the image to a dot file\n",
        "export_graphviz(tree, out_file = 'tree.dot', feature_names = feature_list, rounded = True, precision = 1)\n",
        "# Use dot file to create a graph\n",
        "(graph, ) = pydot.graph_from_dot_file('tree.dot')\n",
        "# Write graph to a png file\n",
        "graph.write_png('tree.png')"
      ],
      "execution_count": null,
      "outputs": []
    },
    {
      "cell_type": "code",
      "metadata": {
        "id": "LCRRiFxM8CV6",
        "colab_type": "code",
        "colab": {}
      },
      "source": [
        "# Limit depth of tree to 3 levels\n",
        "rf_small = RandomForestRegressor(n_estimators=10, max_depth = 3)\n",
        "rf_small.fit(train_features, train_labels)\n",
        "# Extract the small tree\n",
        "tree_small = rf_small.estimators_[5]\n",
        "# Save the tree as a png image\n",
        "export_graphviz(tree_small, out_file = 'small_tree.dot', feature_names = feature_list, rounded = True, precision = 1)\n",
        "(graph, ) = pydot.graph_from_dot_file('small_tree.dot')\n",
        "graph.write_png('/content/small_tree.png');"
      ],
      "execution_count": null,
      "outputs": []
    },
    {
      "cell_type": "code",
      "metadata": {
        "id": "MM4_P4WWM6Zf",
        "colab_type": "code",
        "colab": {}
      },
      "source": [
        ""
      ],
      "execution_count": null,
      "outputs": []
    }
  ]
}