{
  "nbformat": 4,
  "nbformat_minor": 0,
  "metadata": {
    "colab": {
      "name": "regressionAnalysisIrvingtonVillage.ipynb",
      "provenance": [],
      "collapsed_sections": [],
      "toc_visible": true,
      "mount_file_id": "1E1YvZiMeBDM507c8-MGx0RKFGsugTS9m",
      "authorship_tag": "ABX9TyNNoA8pNkloSNRt7vo+I5Df",
      "include_colab_link": true
    },
    "kernelspec": {
      "name": "python3",
      "display_name": "Python 3"
    }
  },
  "cells": [
    {
      "cell_type": "markdown",
      "metadata": {
        "id": "view-in-github",
        "colab_type": "text"
      },
      "source": [
        "<a href=\"https://colab.research.google.com/github/mounesi/pa/blob/master/notebooks/regressionAnalysisIrvingtonVillage.ipynb\" target=\"_parent\"><img src=\"https://colab.research.google.com/assets/colab-badge.svg\" alt=\"Open In Colab\"/></a>"
      ]
    },
    {
      "cell_type": "code",
      "metadata": {
        "id": "lku5leeHm6_6",
        "colab_type": "code",
        "colab": {}
      },
      "source": [
        "cp drive/My\\ Drive/data/pa/dataIrvingtonVillage/data_count_mv.csv ./data.csv"
      ],
      "execution_count": null,
      "outputs": []
    },
    {
      "cell_type": "code",
      "metadata": {
        "id": "qJEDmRzk2qpG",
        "colab_type": "code",
        "colab": {
          "base_uri": "https://localhost:8080/",
          "height": 391
        },
        "outputId": "29b00304-78a8-4880-c5f6-12221fad1238"
      },
      "source": [
        "import pandas as pd\n",
        "df = pd.read_csv('data.csv', index_col=0)\n",
        "df['PCI'] = ['great' if (x > 8) else 'good' if (x > 6 and x <= 8) else 'fine' if (x > 4 and x <= 6) else 'poor' for x in df['Pavement Rate Overall']]\n",
        "df['maintenance level'] = ['intact road' if (x > 8) else 'routine maintenance' if (x > 6 and x <= 8) else 'rehabilitation' if (x > 4 and x <= 6) else 'reconstruction' for x in df['Pavement Rate Overall']]\n",
        "\n",
        "df.head()"
      ],
      "execution_count": null,
      "outputs": [
        {
          "output_type": "execute_result",
          "data": {
            "text/html": [
              "<div>\n",
              "<style scoped>\n",
              "    .dataframe tbody tr th:only-of-type {\n",
              "        vertical-align: middle;\n",
              "    }\n",
              "\n",
              "    .dataframe tbody tr th {\n",
              "        vertical-align: top;\n",
              "    }\n",
              "\n",
              "    .dataframe thead th {\n",
              "        text-align: right;\n",
              "    }\n",
              "</style>\n",
              "<table border=\"1\" class=\"dataframe\">\n",
              "  <thead>\n",
              "    <tr style=\"text-align: right;\">\n",
              "      <th></th>\n",
              "      <th>ROAD NAME</th>\n",
              "      <th>geo_loc</th>\n",
              "      <th>crack_count</th>\n",
              "      <th>machine_vision_prediction</th>\n",
              "      <th>LENGTH\\n(FT)</th>\n",
              "      <th>AVERAGE WIDTH (FT)</th>\n",
              "      <th>AREA (SF)</th>\n",
              "      <th>AREA (SY)</th>\n",
              "      <th>Year RESURFACED</th>\n",
              "      <th>Pavement Rate Total</th>\n",
              "      <th>Pavement Rate Overall</th>\n",
              "      <th>Latitude</th>\n",
              "      <th>Longitude</th>\n",
              "      <th>coords</th>\n",
              "      <th>geometry</th>\n",
              "      <th>PCI</th>\n",
              "      <th>maintenance level</th>\n",
              "    </tr>\n",
              "    <tr>\n",
              "      <th>num</th>\n",
              "      <th></th>\n",
              "      <th></th>\n",
              "      <th></th>\n",
              "      <th></th>\n",
              "      <th></th>\n",
              "      <th></th>\n",
              "      <th></th>\n",
              "      <th></th>\n",
              "      <th></th>\n",
              "      <th></th>\n",
              "      <th></th>\n",
              "      <th></th>\n",
              "      <th></th>\n",
              "      <th></th>\n",
              "      <th></th>\n",
              "      <th></th>\n",
              "      <th></th>\n",
              "    </tr>\n",
              "  </thead>\n",
              "  <tbody>\n",
              "    <tr>\n",
              "      <th>I</th>\n",
              "      <td>AQUEDUCT LANE</td>\n",
              "      <td>41.039262, -73.866576</td>\n",
              "      <td>1</td>\n",
              "      <td>8.143537</td>\n",
              "      <td>215.0</td>\n",
              "      <td>21.0</td>\n",
              "      <td>4515.0</td>\n",
              "      <td>501.67</td>\n",
              "      <td>1993.0</td>\n",
              "      <td>9.35</td>\n",
              "      <td>9.0</td>\n",
              "      <td>41.039262</td>\n",
              "      <td>-73.866576</td>\n",
              "      <td>(-73.866576, 41.039262)</td>\n",
              "      <td>POINT (-73.86657599999999 41.039262)</td>\n",
              "      <td>great</td>\n",
              "      <td>intact road</td>\n",
              "    </tr>\n",
              "    <tr>\n",
              "      <th>2</th>\n",
              "      <td>ARDSLEY AVE. EAST</td>\n",
              "      <td>41.025517, -73.866235</td>\n",
              "      <td>12</td>\n",
              "      <td>2.710748</td>\n",
              "      <td>885.0</td>\n",
              "      <td>20.0</td>\n",
              "      <td>17700.0</td>\n",
              "      <td>1966.67</td>\n",
              "      <td>1994.0</td>\n",
              "      <td>4.50</td>\n",
              "      <td>5.0</td>\n",
              "      <td>41.025517</td>\n",
              "      <td>-73.866235</td>\n",
              "      <td>(-73.866235, 41.025517)</td>\n",
              "      <td>POINT (-73.866235 41.025517)</td>\n",
              "      <td>fine</td>\n",
              "      <td>rehabilitation</td>\n",
              "    </tr>\n",
              "    <tr>\n",
              "      <th>3</th>\n",
              "      <td>ARDSLEY AVE. WEST*</td>\n",
              "      <td>41.025593, -73.872857</td>\n",
              "      <td>2</td>\n",
              "      <td>7.368577</td>\n",
              "      <td>2764.0</td>\n",
              "      <td>20.0</td>\n",
              "      <td>55280.0</td>\n",
              "      <td>6142.22</td>\n",
              "      <td>1992.0</td>\n",
              "      <td>6.80</td>\n",
              "      <td>7.0</td>\n",
              "      <td>41.025593</td>\n",
              "      <td>-73.872857</td>\n",
              "      <td>(-73.872857, 41.025593)</td>\n",
              "      <td>POINT (-73.872857 41.025593)</td>\n",
              "      <td>good</td>\n",
              "      <td>routine maintenance</td>\n",
              "    </tr>\n",
              "    <tr>\n",
              "      <th>4</th>\n",
              "      <td>BARBARA LANE*</td>\n",
              "      <td>41.042897, -73.854404</td>\n",
              "      <td>2</td>\n",
              "      <td>7.368577</td>\n",
              "      <td>591.0</td>\n",
              "      <td>23.0</td>\n",
              "      <td>13593.0</td>\n",
              "      <td>1510.33</td>\n",
              "      <td>2009.0</td>\n",
              "      <td>8.30</td>\n",
              "      <td>8.0</td>\n",
              "      <td>41.042897</td>\n",
              "      <td>-73.854404</td>\n",
              "      <td>(-73.854404, 41.042897)</td>\n",
              "      <td>POINT (-73.854404 41.042897)</td>\n",
              "      <td>good</td>\n",
              "      <td>routine maintenance</td>\n",
              "    </tr>\n",
              "    <tr>\n",
              "      <th>5</th>\n",
              "      <td>BEECHWOOD LANE*</td>\n",
              "      <td>41.027831, -73.865263</td>\n",
              "      <td>3</td>\n",
              "      <td>6.667364</td>\n",
              "      <td>1636.0</td>\n",
              "      <td>24.0</td>\n",
              "      <td>39264.0</td>\n",
              "      <td>4362.67</td>\n",
              "      <td>2001.0</td>\n",
              "      <td>8.30</td>\n",
              "      <td>8.0</td>\n",
              "      <td>41.027831</td>\n",
              "      <td>-73.865263</td>\n",
              "      <td>(-73.865263, 41.027831)</td>\n",
              "      <td>POINT (-73.865263 41.027831)</td>\n",
              "      <td>good</td>\n",
              "      <td>routine maintenance</td>\n",
              "    </tr>\n",
              "  </tbody>\n",
              "</table>\n",
              "</div>"
            ],
            "text/plain": [
              "              ROAD NAME                geo_loc  ...    PCI    maintenance level\n",
              "num                                             ...                            \n",
              "I         AQUEDUCT LANE  41.039262, -73.866576  ...  great          intact road\n",
              "2     ARDSLEY AVE. EAST  41.025517, -73.866235  ...   fine       rehabilitation\n",
              "3    ARDSLEY AVE. WEST*  41.025593, -73.872857  ...   good  routine maintenance\n",
              "4         BARBARA LANE*  41.042897, -73.854404  ...   good  routine maintenance\n",
              "5       BEECHWOOD LANE*  41.027831, -73.865263  ...   good  routine maintenance\n",
              "\n",
              "[5 rows x 17 columns]"
            ]
          },
          "metadata": {
            "tags": []
          },
          "execution_count": 54
        }
      ]
    },
    {
      "cell_type": "code",
      "metadata": {
        "id": "xT7T1_abYJB3",
        "colab_type": "code",
        "colab": {
          "base_uri": "https://localhost:8080/",
          "height": 323
        },
        "outputId": "3e7b3cd4-3e69-42ae-965c-8429c9065a24"
      },
      "source": [
        "#df3 = df\n",
        "#df3.set_index('PCI')\n",
        "df3 = df['maintenance level'].value_counts()\n",
        "df3['intact road']\n",
        "coef = round(df3['intact road']/len(df['maintenance level']),4)*100\n",
        "df3.rename(index = {'intact road': f'intact road {coef}%'}, inplace = True)\n",
        "coef = round(df3['routine maintenance']/len(df['maintenance level']),4)*100\n",
        "df3.rename(index = {'routine maintenance': f'routine maintenance {coef}%'}, inplace = True)\n",
        "coef = round(df3['rehabilitation']/len(df['maintenance level']),4)*100\n",
        "df3.rename(index = {'rehabilitation': f'rehabilitation {coef}%'}, inplace = True)\n",
        "coef = round(df3['reconstruction']/len(df['maintenance level']),4)*100\n",
        "df3.rename(index = {'reconstruction': f'reconstruction {coef}%'}, inplace = True)\n",
        "\n",
        "\n",
        "plot = df3.plot.pie(y='Pavement Rate Overall', figsize=(5, 5))"
      ],
      "execution_count": null,
      "outputs": [
        {
          "output_type": "display_data",
          "data": {
            "image/png": "[encoded data removed]",
            "text/plain": [
              "<Figure size 360x360 with 1 Axes>"
            ]
          },
          "metadata": {
            "tags": []
          }
        }
      ]
    },
    {
      "cell_type": "code",
      "metadata": {
        "id": "ULdaylCDbLLN",
        "colab_type": "code",
        "colab": {
          "base_uri": "https://localhost:8080/",
          "height": 34
        },
        "outputId": "6dbad9eb-d60a-4c8a-ec66-c934441bf07a"
      },
      "source": [
        "df3 = df['maintenance level'].value_counts()"
      ],
      "execution_count": null,
      "outputs": [
        {
          "output_type": "execute_result",
          "data": {
            "text/plain": [
              "23.3"
            ]
          },
          "metadata": {
            "tags": []
          },
          "execution_count": 190
        }
      ]
    },
    {
      "cell_type": "code",
      "metadata": {
        "id": "VhnHPSEPG6u-",
        "colab_type": "code",
        "colab": {}
      },
      "source": [
        ""
      ],
      "execution_count": null,
      "outputs": []
    },
    {
      "cell_type": "code",
      "metadata": {
        "id": "V6_RWoiH2v9m",
        "colab_type": "code",
        "colab": {
          "base_uri": "https://localhost:8080/",
          "height": 235
        },
        "outputId": "9ef34ffc-e294-47c3-c1d4-779d13d29ec0"
      },
      "source": [
        "# Use numpy to convert to arrays\n",
        "import numpy as np\n",
        "# Labels are the values we want to predict\n",
        "labels = np.array(df['Pavement Rate Overall']) # Regression\n",
        "#labels = np.array(df['PCI']) # classification\n",
        "df2= df[['AREA (SF)','crack_count','Year RESURFACED']]\n",
        "\n",
        "df2.head()"
      ],
      "execution_count": 126,
      "outputs": [
        {
          "output_type": "execute_result",
          "data": {
            "text/html": [
              "<div>\n",
              "<style scoped>\n",
              "    .dataframe tbody tr th:only-of-type {\n",
              "        vertical-align: middle;\n",
              "    }\n",
              "\n",
              "    .dataframe tbody tr th {\n",
              "        vertical-align: top;\n",
              "    }\n",
              "\n",
              "    .dataframe thead th {\n",
              "        text-align: right;\n",
              "    }\n",
              "</style>\n",
              "<table border=\"1\" class=\"dataframe\">\n",
              "  <thead>\n",
              "    <tr style=\"text-align: right;\">\n",
              "      <th></th>\n",
              "      <th>AREA (SF)</th>\n",
              "      <th>crack_count</th>\n",
              "      <th>Year RESURFACED</th>\n",
              "    </tr>\n",
              "    <tr>\n",
              "      <th>num</th>\n",
              "      <th></th>\n",
              "      <th></th>\n",
              "      <th></th>\n",
              "    </tr>\n",
              "  </thead>\n",
              "  <tbody>\n",
              "    <tr>\n",
              "      <th>I</th>\n",
              "      <td>4515.0</td>\n",
              "      <td>1</td>\n",
              "      <td>1993.0</td>\n",
              "    </tr>\n",
              "    <tr>\n",
              "      <th>2</th>\n",
              "      <td>17700.0</td>\n",
              "      <td>12</td>\n",
              "      <td>1994.0</td>\n",
              "    </tr>\n",
              "    <tr>\n",
              "      <th>3</th>\n",
              "      <td>55280.0</td>\n",
              "      <td>2</td>\n",
              "      <td>1992.0</td>\n",
              "    </tr>\n",
              "    <tr>\n",
              "      <th>4</th>\n",
              "      <td>13593.0</td>\n",
              "      <td>2</td>\n",
              "      <td>2009.0</td>\n",
              "    </tr>\n",
              "    <tr>\n",
              "      <th>5</th>\n",
              "      <td>39264.0</td>\n",
              "      <td>3</td>\n",
              "      <td>2001.0</td>\n",
              "    </tr>\n",
              "  </tbody>\n",
              "</table>\n",
              "</div>"
            ],
            "text/plain": [
              "     AREA (SF)  crack_count  Year RESURFACED\n",
              "num                                         \n",
              "I       4515.0            1           1993.0\n",
              "2      17700.0           12           1994.0\n",
              "3      55280.0            2           1992.0\n",
              "4      13593.0            2           2009.0\n",
              "5      39264.0            3           2001.0"
            ]
          },
          "metadata": {
            "tags": []
          },
          "execution_count": 126
        }
      ]
    },
    {
      "cell_type": "code",
      "metadata": {
        "id": "U3IP8nMV3ya9",
        "colab_type": "code",
        "colab": {}
      },
      "source": [
        "# Saving feature names for later use\n",
        "feature_list = list(df2.columns)\n",
        "# Convert to numpy array\n",
        "df2 = np.array(df2)"
      ],
      "execution_count": 127,
      "outputs": []
    },
    {
      "cell_type": "code",
      "metadata": {
        "id": "RJK1uYUL3ydD",
        "colab_type": "code",
        "colab": {}
      },
      "source": [
        "# Using Skicit-learn to split data into training and testing sets\n",
        "from sklearn.model_selection import train_test_split\n",
        "# Split the data into training and testing sets\n",
        "train_features, test_features, train_labels, test_labels = train_test_split(df2, labels, test_size = 0.5, random_state = 42)"
      ],
      "execution_count": 128,
      "outputs": []
    },
    {
      "cell_type": "code",
      "metadata": {
        "id": "REY3k0AZ3yfL",
        "colab_type": "code",
        "colab": {
          "base_uri": "https://localhost:8080/",
          "height": 85
        },
        "outputId": "f43a2021-42b6-4220-ca2a-15b9eade4d8c"
      },
      "source": [
        "print('Training Features Shape:', train_features.shape)\n",
        "print('Training Labels Shape:', train_labels.shape)\n",
        "print('Testing Features Shape:', test_features.shape)\n",
        "print('Testing Labels Shape:', test_labels.shape)"
      ],
      "execution_count": 129,
      "outputs": [
        {
          "output_type": "stream",
          "text": [
            "Training Features Shape: (51, 3)\n",
            "Training Labels Shape: (51,)\n",
            "Testing Features Shape: (52, 3)\n",
            "Testing Labels Shape: (52,)\n"
          ],
          "name": "stdout"
        }
      ]
    },
    {
      "cell_type": "markdown",
      "metadata": {
        "id": "s8nu866KNYJM",
        "colab_type": "text"
      },
      "source": [
        "#Regression"
      ]
    },
    {
      "cell_type": "code",
      "metadata": {
        "id": "qge12Jxx7919",
        "colab_type": "code",
        "colab": {
          "base_uri": "https://localhost:8080/",
          "height": 68
        },
        "outputId": "53c73da4-3a8a-4981-f842-00c19b19778f"
      },
      "source": [
        "# Random Forest Regression\n",
        "\n",
        "# Import the model we are using\n",
        "from sklearn.ensemble import RandomForestRegressor\n",
        "# Instantiate model with 1000 decision trees\n",
        "rf = RandomForestRegressor(n_estimators = 1000, random_state = 42)\n",
        "# Train the model on training data\n",
        "rf.fit(train_features, train_labels);\n",
        "# Use the forest's predict method on the test data\n",
        "predictions = rf.predict(test_features)\n",
        "# Calculate the absolute errors\n",
        "errors = abs(predictions - test_labels)\n",
        "# Print out the mean absolute error (mae)\n",
        "print('Mean Absolute Error:', round(np.mean(errors), 2), 'rate.')\n",
        "# Calculate mean absolute percentage error (MAPE)\n",
        "mape = 100 * (errors / test_labels)\n",
        "# Calculate and display accuracy\n",
        "accuracy = 100 - np.mean(mape)\n",
        "print('Accuracy:', round(accuracy, 2), '%.')\n",
        "\n",
        "\n",
        "from sklearn.metrics import r2_score\n",
        "print(f'r2: {r2_score(test_labels, predictions)}')"
      ],
      "execution_count": 133,
      "outputs": [
        {
          "output_type": "stream",
          "text": [
            "Mean Absolute Error: 1.37 rate.\n",
            "Accuracy: 77.24 %.\n",
            "r2: -0.49874750680479374\n"
          ],
          "name": "stdout"
        }
      ]
    },
    {
      "cell_type": "code",
      "metadata": {
        "id": "kW_1GlOSOi0h",
        "colab_type": "code",
        "colab": {
          "base_uri": "https://localhost:8080/",
          "height": 68
        },
        "outputId": "6e56203d-6653-4e7d-bca3-6998d412a6e2"
      },
      "source": [
        "# Linear Regression\n",
        "from sklearn.linear_model import LinearRegression\n",
        "lr = LinearRegression()\n",
        "lr.fit(train_features, train_labels)\n",
        "predictions = lr.predict(test_features)\n",
        "errors = abs(predictions - test_labels)\n",
        "print('Mean Absolute Error:', round(np.mean(errors), 2), 'rate.')\n",
        "# Calculate mean absolute percentage error (MAPE)\n",
        "mape = 100 * (errors / test_labels)\n",
        "# Calculate and display accuracy\n",
        "accuracy = 100 - np.mean(mape)\n",
        "print('Accuracy:', round(accuracy, 2), '%.')\n",
        "from sklearn.metrics import r2_score\n",
        "print(f'r2: {r2_score(test_labels, predictions)}')"
      ],
      "execution_count": 131,
      "outputs": [
        {
          "output_type": "stream",
          "text": [
            "Mean Absolute Error: 1.1 rate.\n",
            "Accuracy: 81.31 %.\n",
            "r2: 0.00607058715558495\n"
          ],
          "name": "stdout"
        }
      ]
    },
    {
      "cell_type": "code",
      "metadata": {
        "id": "NgAb7DC2Q1FW",
        "colab_type": "code",
        "colab": {
          "base_uri": "https://localhost:8080/",
          "height": 224
        },
        "outputId": "ac42fa9d-4ec4-4304-a663-893ea294c715"
      },
      "source": [
        "# Logistic Regression\n",
        "from sklearn.linear_model import LogisticRegression\n",
        "clf = LogisticRegression(random_state=0)\n",
        "clf.fit(train_features, train_labels)\n",
        "\n",
        "predictions = clf.predict(test_features)\n",
        "errors = abs(predictions - test_labels)\n",
        "print('Mean Absolute Error:', round(np.mean(errors), 2), 'rate.')\n",
        "# Calculate mean absolute percentage error (MAPE)\n",
        "mape = 100 * (errors / test_labels)\n",
        "# Calculate and display accuracy\n",
        "accuracy = 100 - np.mean(mape)\n",
        "print('Accuracy:', round(accuracy, 2), '%.')\n",
        "from sklearn.metrics import r2_score\n",
        "print(f'r2: {r2_score(test_labels, predictions)}')"
      ],
      "execution_count": 132,
      "outputs": [
        {
          "output_type": "stream",
          "text": [
            "Mean Absolute Error: 0.92 rate.\n",
            "Accuracy: 81.8 %.\n",
            "r2: -0.1407678244972579\n"
          ],
          "name": "stdout"
        },
        {
          "output_type": "stream",
          "text": [
            "/usr/local/lib/python3.6/dist-packages/sklearn/linear_model/_logistic.py:940: ConvergenceWarning: lbfgs failed to converge (status=1):\n",
            "STOP: TOTAL NO. of ITERATIONS REACHED LIMIT.\n",
            "\n",
            "Increase the number of iterations (max_iter) or scale the data as shown in:\n",
            "    https://scikit-learn.org/stable/modules/preprocessing.html\n",
            "Please also refer to the documentation for alternative solver options:\n",
            "    https://scikit-learn.org/stable/modules/linear_model.html#logistic-regression\n",
            "  extra_warning_msg=_LOGISTIC_SOLVER_CONVERGENCE_MSG)\n"
          ],
          "name": "stderr"
        }
      ]
    },
    {
      "cell_type": "code",
      "metadata": {
        "id": "0qbu-jpon-_e",
        "colab_type": "code",
        "colab": {}
      },
      "source": [
        "#predictions = clf.predict(test_features)\n",
        "predictions = rf.predict(df2)"
      ],
      "execution_count": 134,
      "outputs": []
    },
    {
      "cell_type": "code",
      "metadata": {
        "id": "z9U6YaJdoObS",
        "colab_type": "code",
        "colab": {
          "base_uri": "https://localhost:8080/",
          "height": 221
        },
        "outputId": "b5b95864-620c-4c3b-b9b8-f757152e55c6"
      },
      "source": [
        "predictions"
      ],
      "execution_count": 135,
      "outputs": [
        {
          "output_type": "execute_result",
          "data": {
            "text/plain": [
              "array([6.352, 5.864, 6.651, 7.253, 6.63 , 7.415, 7.318, 5.43 , 6.919,\n",
              "       7.324, 7.718, 4.49 , 6.878, 6.431, 7.256, 5.464, 6.811, 7.055,\n",
              "       7.131, 5.698, 5.611, 7.814, 6.906, 6.959, 4.107, 6.669, 6.951,\n",
              "       6.959, 7.582, 7.394, 6.987, 6.586, 7.72 , 7.299, 6.638, 5.662,\n",
              "       7.347, 7.176, 5.217, 7.726, 6.512, 5.541, 6.691, 5.779, 5.366,\n",
              "       6.419, 7.013, 7.399, 7.192, 5.534, 7.585, 6.382, 5.775, 6.565,\n",
              "       7.726, 6.511, 7.951, 6.753, 6.963, 7.055, 5.664, 5.652, 6.733,\n",
              "       5.938, 6.593, 6.396, 6.971, 7.657, 5.782, 7.623, 5.484, 7.314,\n",
              "       5.147, 5.157, 7.112, 6.626, 8.271, 5.045, 5.962, 6.068, 5.471,\n",
              "       7.153, 8.457, 6.88 , 6.153, 7.299, 5.398, 5.268, 4.73 , 4.416,\n",
              "       4.797, 4.127, 7.16 , 6.317, 4.969, 6.7  , 6.982, 5.893, 5.4  ,\n",
              "       3.934, 5.798, 8.252, 7.247])"
            ]
          },
          "metadata": {
            "tags": []
          },
          "execution_count": 135
        }
      ]
    },
    {
      "cell_type": "code",
      "metadata": {
        "id": "oXh6_lIdz4YE",
        "colab_type": "code",
        "colab": {}
      },
      "source": [
        ""
      ],
      "execution_count": null,
      "outputs": []
    },
    {
      "cell_type": "code",
      "metadata": {
        "id": "cVpEzPvjRtZZ",
        "colab_type": "code",
        "colab": {
          "base_uri": "https://localhost:8080/",
          "height": 68
        },
        "outputId": "ab7c679c-cc0e-4146-e6d4-d4b056d73ba9"
      },
      "source": [
        "# SGD Regression\n",
        "from sklearn.linear_model import SGDRegressor\n",
        "from sklearn.pipeline import make_pipeline\n",
        "from sklearn.preprocessing import StandardScaler\n",
        "reg = make_pipeline(StandardScaler(), SGDRegressor(max_iter=1000, tol=1e-3))\n",
        "\n",
        "reg.fit(train_features, train_labels)\n",
        "\n",
        "predictions = reg.predict(test_features)\n",
        "errors = abs(predictions - test_labels)\n",
        "print('Mean Absolute Error:', round(np.mean(errors), 2), 'rate.')\n",
        "# Calculate mean absolute percentage error (MAPE)\n",
        "mape = 100 * (errors / test_labels)\n",
        "# Calculate and display accuracy\n",
        "accuracy = 100 - np.mean(mape)\n",
        "print('Accuracy:', round(accuracy, 2), '%.')\n",
        "\n",
        "from sklearn.metrics import r2_score\n",
        "print(f'r2: {r2_score(test_labels, predictions)}')"
      ],
      "execution_count": 120,
      "outputs": [
        {
          "output_type": "stream",
          "text": [
            "Mean Absolute Error: 1.18 rate.\n",
            "Accuracy: 80.4 %.\n",
            "r2: -0.07265053548993494\n"
          ],
          "name": "stdout"
        }
      ]
    },
    {
      "cell_type": "code",
      "metadata": {
        "id": "toE-mdgLqVse",
        "colab_type": "code",
        "colab": {
          "base_uri": "https://localhost:8080/",
          "height": 88
        },
        "outputId": "15ab5dc6-0ad1-4e67-9657-afdf9876e5ce"
      },
      "source": [
        "from sklearn import svm\n",
        "from sklearn.model_selection import cross_val_score\n",
        "clf = svm.SVC(random_state=0)\n",
        "cross_val_score(clf, train_features, train_labels, cv=5, scoring='recall_macro')"
      ],
      "execution_count": null,
      "outputs": [
        {
          "output_type": "stream",
          "text": [
            "/usr/local/lib/python3.6/dist-packages/sklearn/model_selection/_split.py:667: UserWarning: The least populated class in y has only 1 members, which is less than n_splits=5.\n",
            "  % (min_groups, self.n_splits)), UserWarning)\n"
          ],
          "name": "stderr"
        },
        {
          "output_type": "execute_result",
          "data": {
            "text/plain": [
              "array([0.16666667, 0.2       , 0.25      , 0.25      , 0.2       ])"
            ]
          },
          "metadata": {
            "tags": []
          },
          "execution_count": 215
        }
      ]
    },
    {
      "cell_type": "code",
      "metadata": {
        "id": "Pq3NYEtkU_vF",
        "colab_type": "code",
        "colab": {
          "base_uri": "https://localhost:8080/",
          "height": 111
        },
        "outputId": "e7e04f7f-9a9b-409a-f759-205c2ef02fed"
      },
      "source": [
        "df_scores = pd.DataFrame()\n",
        "df_scores['Random Forest Regression'] = 1.37, 77.24\n",
        "df_scores['Linear Regression'] = 1.1, 81.31\n",
        "df_scores['Logistic Regression'] = 0.92, 81.8\n",
        "df_scores['SGD Regression'] = 1.13, 81.06\n",
        "df_scores.rename(index = {0: 'Mean Absolute Error[rate]'}, inplace = True)\n",
        "df_scores.rename(index = {1: 'Accuracy[%]'}, inplace = True)\n",
        "\n",
        "#df_new = df.rename(columns={'A': 'a'}, index={'ONE': 'one'})\n",
        "\n",
        "df_scores"
      ],
      "execution_count": null,
      "outputs": [
        {
          "output_type": "execute_result",
          "data": {
            "text/html": [
              "<div>\n",
              "<style scoped>\n",
              "    .dataframe tbody tr th:only-of-type {\n",
              "        vertical-align: middle;\n",
              "    }\n",
              "\n",
              "    .dataframe tbody tr th {\n",
              "        vertical-align: top;\n",
              "    }\n",
              "\n",
              "    .dataframe thead th {\n",
              "        text-align: right;\n",
              "    }\n",
              "</style>\n",
              "<table border=\"1\" class=\"dataframe\">\n",
              "  <thead>\n",
              "    <tr style=\"text-align: right;\">\n",
              "      <th></th>\n",
              "      <th>Random Forest Regression</th>\n",
              "      <th>Linear Regression</th>\n",
              "      <th>Logistic Regression</th>\n",
              "      <th>SGD Regression</th>\n",
              "    </tr>\n",
              "  </thead>\n",
              "  <tbody>\n",
              "    <tr>\n",
              "      <th>Mean Absolute Error[rate]</th>\n",
              "      <td>1.37</td>\n",
              "      <td>1.10</td>\n",
              "      <td>0.92</td>\n",
              "      <td>1.13</td>\n",
              "    </tr>\n",
              "    <tr>\n",
              "      <th>Accuracy[%]</th>\n",
              "      <td>77.24</td>\n",
              "      <td>81.31</td>\n",
              "      <td>81.80</td>\n",
              "      <td>81.06</td>\n",
              "    </tr>\n",
              "  </tbody>\n",
              "</table>\n",
              "</div>"
            ],
            "text/plain": [
              "                           Random Forest Regression  ...  SGD Regression\n",
              "Mean Absolute Error[rate]                      1.37  ...            1.13\n",
              "Accuracy[%]                                   77.24  ...           81.06\n",
              "\n",
              "[2 rows x 4 columns]"
            ]
          },
          "metadata": {
            "tags": []
          },
          "execution_count": 216
        }
      ]
    },
    {
      "cell_type": "code",
      "metadata": {
        "id": "BaJgtOrbXkuH",
        "colab_type": "code",
        "colab": {}
      },
      "source": [
        "df_scores.to_csv('model rates')"
      ],
      "execution_count": null,
      "outputs": []
    },
    {
      "cell_type": "code",
      "metadata": {
        "id": "8XD6oT8WXkwn",
        "colab_type": "code",
        "colab": {
          "base_uri": "https://localhost:8080/",
          "height": 51
        },
        "outputId": "aa561f67-67f0-4de2-d4a5-d6f381e3a7b5"
      },
      "source": [
        "# Linear Regression\n",
        "from sklearn.linear_model import LinearRegression\n",
        "lr = LinearRegression()\n",
        "lr.fit(train_features, train_labels)\n",
        "predictions = lr.predict(test_features)\n",
        "errors = abs(predictions - test_labels)\n",
        "print('Mean Absolute Error:', round(np.mean(errors), 2), 'rate.')\n",
        "# Calculate mean absolute percentage error (MAPE)\n",
        "mape = 100 * (errors / test_labels)\n",
        "# Calculate and display accuracy\n",
        "accuracy = 100 - np.mean(mape)\n",
        "print('Accuracy:', round(accuracy, 2), '%.')"
      ],
      "execution_count": null,
      "outputs": [
        {
          "output_type": "stream",
          "text": [
            "Mean Absolute Error: 1.07 rate.\n",
            "Accuracy: 82.24 %.\n"
          ],
          "name": "stdout"
        }
      ]
    },
    {
      "cell_type": "code",
      "metadata": {
        "id": "whXMfz8XXk02",
        "colab_type": "code",
        "colab": {
          "base_uri": "https://localhost:8080/",
          "height": 119
        },
        "outputId": "bc4ee8e1-90dc-4404-8318-d94f056b16b1"
      },
      "source": [
        "predictions"
      ],
      "execution_count": null,
      "outputs": [
        {
          "output_type": "execute_result",
          "data": {
            "text/plain": [
              "array([6.77270829, 6.88388677, 5.98535528, 6.82335694, 6.78167574,\n",
              "       6.06851249, 6.50161144, 6.87608127, 6.87929083, 6.74939266,\n",
              "       6.87272531, 6.74306373, 6.83523758, 7.00983442, 7.05630691,\n",
              "       6.27646413, 6.52029026, 6.91871054, 6.65245098, 6.97809319,\n",
              "       6.51850463, 6.27294894, 6.73218406, 6.33545243, 5.99465747,\n",
              "       6.56461252])"
            ]
          },
          "metadata": {
            "tags": []
          },
          "execution_count": 193
        }
      ]
    },
    {
      "cell_type": "code",
      "metadata": {
        "id": "0_zBN5pXXk3b",
        "colab_type": "code",
        "colab": {}
      },
      "source": [
        ""
      ],
      "execution_count": null,
      "outputs": []
    },
    {
      "cell_type": "code",
      "metadata": {
        "id": "0zUBY0wWXkzM",
        "colab_type": "code",
        "colab": {}
      },
      "source": [
        ""
      ],
      "execution_count": null,
      "outputs": []
    },
    {
      "cell_type": "code",
      "metadata": {
        "id": "XhVMWPgv8N8d",
        "colab_type": "code",
        "colab": {
          "base_uri": "https://localhost:8080/",
          "height": 51
        },
        "outputId": "cdef2603-871e-427b-cd1a-4b9f931b83fd"
      },
      "source": [
        "# Get numerical feature importances\n",
        "importances = list(rf.feature_importances_)\n",
        "# List of tuples with variable and importance\n",
        "feature_importances = [(feature, round(importance, 2)) for feature, importance in zip(feature_list, importances)]\n",
        "# Sort the feature importances by most important first\n",
        "feature_importances = sorted(feature_importances, key = lambda x: x[1], reverse = True)\n",
        "# Print out the feature and importances \n",
        "[print('Variable: {:20} Importance: {}'.format(*pair)) for pair in feature_importances];"
      ],
      "execution_count": null,
      "outputs": [
        {
          "output_type": "stream",
          "text": [
            "Variable: Year RESURFACED      Importance: 0.51\n",
            "Variable: crack_count          Importance: 0.49\n"
          ],
          "name": "stdout"
        }
      ]
    },
    {
      "cell_type": "code",
      "metadata": {
        "id": "ZN0byqZ2Rr2l",
        "colab_type": "code",
        "colab": {}
      },
      "source": [
        ""
      ],
      "execution_count": null,
      "outputs": []
    },
    {
      "cell_type": "code",
      "metadata": {
        "id": "gjF1lSwe8OEA",
        "colab_type": "code",
        "colab": {
          "base_uri": "https://localhost:8080/",
          "height": 493
        },
        "outputId": "87b5d760-2c4e-4a18-9c1b-778c0aab9abb"
      },
      "source": [
        "# Import matplotlib for plotting and use magic command for Jupyter Notebooks\n",
        "import matplotlib.pyplot as plt\n",
        "%matplotlib inline\n",
        "# Set the style\n",
        "plt.style.use('fivethirtyeight')\n",
        "# list of x locations for plotting\n",
        "x_values = list(range(len(importances)))\n",
        "# Make a bar chart\n",
        "plt.bar(x_values, importances, orientation = 'vertical')\n",
        "# Tick labels for x axis\n",
        "plt.xticks(x_values, feature_list, rotation='vertical', fontsize=20)\n",
        "# Axis labels and title\n",
        "plt.ylabel('Importance', fontsize=20); plt.xlabel('Variable', fontsize=20); plt.title('Variable Importances', fontsize=20);\n",
        "#plt.xlabel('xlabel', fontsize=18)\n",
        "#plt.ylabel('ylabel', fontsize=16)\n"
      ],
      "execution_count": null,
      "outputs": [
        {
          "output_type": "display_data",
          "data": {
            "image/png": "[encoded data removed]",
            "text/plain": [
              "<Figure size 432x288 with 1 Axes>"
            ]
          },
          "metadata": {
            "tags": []
          }
        }
      ]
    },
    {
      "cell_type": "code",
      "metadata": {
        "id": "7jIeHJ-u8CTz",
        "colab_type": "code",
        "colab": {}
      },
      "source": [
        "\n",
        "# Import tools needed for visualization\n",
        "from sklearn.tree import export_graphviz\n",
        "import pydot\n",
        "# Pull out one tree from the forest\n",
        "tree = rf.estimators_[5]\n",
        "# Import tools needed for visualization\n",
        "from sklearn.tree import export_graphviz\n",
        "import pydot\n",
        "# Pull out one tree from the forest\n",
        "tree = rf.estimators_[5]\n",
        "# Export the image to a dot file\n",
        "export_graphviz(tree, out_file = 'tree.dot', feature_names = feature_list, rounded = True, precision = 1)\n",
        "# Use dot file to create a graph\n",
        "(graph, ) = pydot.graph_from_dot_file('tree.dot')\n",
        "# Write graph to a png file\n",
        "graph.write_png('tree.png')"
      ],
      "execution_count": null,
      "outputs": []
    },
    {
      "cell_type": "code",
      "metadata": {
        "id": "LCRRiFxM8CV6",
        "colab_type": "code",
        "colab": {}
      },
      "source": [
        "# Limit depth of tree to 3 levels\n",
        "rf_small = RandomForestRegressor(n_estimators=10, max_depth = 3)\n",
        "rf_small.fit(train_features, train_labels)\n",
        "# Extract the small tree\n",
        "tree_small = rf_small.estimators_[5]\n",
        "# Save the tree as a png image\n",
        "export_graphviz(tree_small, out_file = 'small_tree.dot', feature_names = feature_list, rounded = True, precision = 1)\n",
        "(graph, ) = pydot.graph_from_dot_file('small_tree.dot')\n",
        "graph.write_png('/content/small_tree.png');"
      ],
      "execution_count": null,
      "outputs": []
    },
    {
      "cell_type": "markdown",
      "metadata": {
        "id": "RX_TtZEjK4sR",
        "colab_type": "text"
      },
      "source": [
        "#Classification"
      ]
    },
    {
      "cell_type": "code",
      "metadata": {
        "id": "U5PA9PX5JiI7",
        "colab_type": "code",
        "colab": {}
      },
      "source": [
        "from sklearn.ensemble import GradientBoostingClassifier\n",
        "X_train = train_features\n",
        "y_train = train_labels\n",
        "X_test = test_features\n",
        "y_test = test_labels\n",
        "\n",
        "\n",
        "clf = GradientBoostingClassifier(random_state=0)\n",
        "clf.fit(X_train, y_train)\n",
        "#clf.predict(X_test[:2])\n",
        "\n",
        "predictions = clf.predict(test_features)\n",
        "\n",
        "# Calculate the absolute errors\n",
        "#errors = abs(predictions - test_labels)\n",
        "# Print out the mean absolute error (mae)\n",
        "#print('Mean Absolute Error:', round(np.mean(errors), 2), 'rate.')"
      ],
      "execution_count": null,
      "outputs": []
    },
    {
      "cell_type": "code",
      "metadata": {
        "id": "h15OU3-ULwHE",
        "colab_type": "code",
        "colab": {
          "base_uri": "https://localhost:8080/",
          "height": 85
        },
        "outputId": "b12c21fd-b89f-4aee-c931-2d8d61baac8e"
      },
      "source": [
        "import sklearn\n",
        "sklearn.metrics.confusion_matrix(y_test, predictions)"
      ],
      "execution_count": null,
      "outputs": [
        {
          "output_type": "execute_result",
          "data": {
            "text/plain": [
              "array([[ 1,  5,  0,  0],\n",
              "       [ 2, 15,  0,  0],\n",
              "       [ 0,  1,  0,  0],\n",
              "       [ 0,  2,  0,  0]])"
            ]
          },
          "metadata": {
            "tags": []
          },
          "execution_count": 50
        }
      ]
    },
    {
      "cell_type": "code",
      "metadata": {
        "id": "00sY-VqTL4Pb",
        "colab_type": "code",
        "colab": {
          "base_uri": "https://localhost:8080/",
          "height": 34
        },
        "outputId": "68d171f3-f020-442f-e813-011799c0749e"
      },
      "source": [
        "from sklearn.metrics import accuracy_score\n",
        "acc_clf = accuracy_score(y_test, predictions)\n",
        "print(f'accuracy of naive bayes ba is {acc_clf} ')"
      ],
      "execution_count": null,
      "outputs": [
        {
          "output_type": "stream",
          "text": [
            "accuracy of naive bayes ba is 0.6153846153846154 \n"
          ],
          "name": "stdout"
        }
      ]
    },
    {
      "cell_type": "code",
      "metadata": {
        "id": "WZ01adIrMcHc",
        "colab_type": "code",
        "colab": {
          "base_uri": "https://localhost:8080/",
          "height": 258
        },
        "outputId": "bd1fcdef-8f66-4d23-d20d-da59ab257607"
      },
      "source": [
        "from sklearn.metrics import classification_report\n",
        "print(classification_report(y_test, predictions))"
      ],
      "execution_count": null,
      "outputs": [
        {
          "output_type": "stream",
          "text": [
            "              precision    recall  f1-score   support\n",
            "\n",
            "        fine       0.33      0.17      0.22         6\n",
            "        good       0.65      0.88      0.75        17\n",
            "       great       0.00      0.00      0.00         1\n",
            "        poor       0.00      0.00      0.00         2\n",
            "\n",
            "    accuracy                           0.62        26\n",
            "   macro avg       0.25      0.26      0.24        26\n",
            "weighted avg       0.50      0.62      0.54        26\n",
            "\n"
          ],
          "name": "stdout"
        },
        {
          "output_type": "stream",
          "text": [
            "/usr/local/lib/python3.6/dist-packages/sklearn/metrics/_classification.py:1272: UndefinedMetricWarning: Precision and F-score are ill-defined and being set to 0.0 in labels with no predicted samples. Use `zero_division` parameter to control this behavior.\n",
            "  _warn_prf(average, modifier, msg_start, len(result))\n"
          ],
          "name": "stderr"
        }
      ]
    },
    {
      "cell_type": "code",
      "metadata": {
        "id": "MM4_P4WWM6Zf",
        "colab_type": "code",
        "colab": {}
      },
      "source": [
        ""
      ],
      "execution_count": null,
      "outputs": []
    },
    {
      "cell_type": "code",
      "metadata": {
        "id": "BYvsycmMU-iK",
        "colab_type": "code",
        "colab": {}
      },
      "source": [
        ""
      ],
      "execution_count": null,
      "outputs": []
    },
    {
      "cell_type": "code",
      "metadata": {
        "id": "4qEdZTXvU-kV",
        "colab_type": "code",
        "colab": {
          "base_uri": "https://localhost:8080/",
          "height": 145
        },
        "outputId": "0f73cc44-07c5-462b-851a-16b994576a41"
      },
      "source": [
        "df_acc = pd.DataFrame()\n",
        "df_acc['Random Forest Regression'] = 75.29, 77.93\n",
        "df_acc['Linear Regression'] = 80.52, 80.63 \n",
        "df_acc['Logsitc Regression'] = 81.87, 82.35\n",
        "df_acc['SGD Regression'] = 80.63, 80.41\n",
        "\n",
        "df_acc.rename(index = {0: 'municipality'}, inplace = True)\n",
        "df_acc.rename(index = {1: 'machine vision'}, inplace = True)\n",
        "\n",
        "df_acc"
      ],
      "execution_count": 106,
      "outputs": [
        {
          "output_type": "execute_result",
          "data": {
            "text/html": [
              "<div>\n",
              "<style scoped>\n",
              "    .dataframe tbody tr th:only-of-type {\n",
              "        vertical-align: middle;\n",
              "    }\n",
              "\n",
              "    .dataframe tbody tr th {\n",
              "        vertical-align: top;\n",
              "    }\n",
              "\n",
              "    .dataframe thead th {\n",
              "        text-align: right;\n",
              "    }\n",
              "</style>\n",
              "<table border=\"1\" class=\"dataframe\">\n",
              "  <thead>\n",
              "    <tr style=\"text-align: right;\">\n",
              "      <th></th>\n",
              "      <th>Random Forest Regression</th>\n",
              "      <th>Linear Regression</th>\n",
              "      <th>Logsitc Regression</th>\n",
              "      <th>SGD Regression</th>\n",
              "    </tr>\n",
              "  </thead>\n",
              "  <tbody>\n",
              "    <tr>\n",
              "      <th>municipality</th>\n",
              "      <td>75.29</td>\n",
              "      <td>80.52</td>\n",
              "      <td>81.87</td>\n",
              "      <td>80.63</td>\n",
              "    </tr>\n",
              "    <tr>\n",
              "      <th>machine vision</th>\n",
              "      <td>77.93</td>\n",
              "      <td>80.63</td>\n",
              "      <td>82.35</td>\n",
              "      <td>80.41</td>\n",
              "    </tr>\n",
              "  </tbody>\n",
              "</table>\n",
              "</div>"
            ],
            "text/plain": [
              "                Random Forest Regression  ...  SGD Regression\n",
              "municipality                       75.29  ...           80.63\n",
              "machine vision                     77.93  ...           80.41\n",
              "\n",
              "[2 rows x 4 columns]"
            ]
          },
          "metadata": {
            "tags": []
          },
          "execution_count": 106
        }
      ]
    },
    {
      "cell_type": "code",
      "metadata": {
        "id": "5aDXI8BEVOc9",
        "colab_type": "code",
        "colab": {
          "base_uri": "https://localhost:8080/",
          "height": 145
        },
        "outputId": "cf1563e1-27e1-48f3-d75d-c3441ed75283"
      },
      "source": [
        "df_mape = pd.DataFrame()\n",
        "df_mape['Random Forest Regression'] = 1.45, 1.35\n",
        "df_mape['Linear Regression'] = 1.16, 1.15\n",
        "df_mape['Logsitc Regression'] = 0.98, 0.92\n",
        "df_mape['SGD Regression'] = 1.19, 1.18\n",
        "\n",
        "df_mape.rename(index = {0: 'municipality'}, inplace = True)\n",
        "df_mape.rename(index = {1: 'machine vision'}, inplace = True)\n",
        "\n",
        "df_mape.head()"
      ],
      "execution_count": 107,
      "outputs": [
        {
          "output_type": "execute_result",
          "data": {
            "text/html": [
              "<div>\n",
              "<style scoped>\n",
              "    .dataframe tbody tr th:only-of-type {\n",
              "        vertical-align: middle;\n",
              "    }\n",
              "\n",
              "    .dataframe tbody tr th {\n",
              "        vertical-align: top;\n",
              "    }\n",
              "\n",
              "    .dataframe thead th {\n",
              "        text-align: right;\n",
              "    }\n",
              "</style>\n",
              "<table border=\"1\" class=\"dataframe\">\n",
              "  <thead>\n",
              "    <tr style=\"text-align: right;\">\n",
              "      <th></th>\n",
              "      <th>Random Forest Regression</th>\n",
              "      <th>Linear Regression</th>\n",
              "      <th>Logsitc Regression</th>\n",
              "      <th>SGD Regression</th>\n",
              "    </tr>\n",
              "  </thead>\n",
              "  <tbody>\n",
              "    <tr>\n",
              "      <th>municipality</th>\n",
              "      <td>1.45</td>\n",
              "      <td>1.16</td>\n",
              "      <td>0.98</td>\n",
              "      <td>1.19</td>\n",
              "    </tr>\n",
              "    <tr>\n",
              "      <th>machine vision</th>\n",
              "      <td>1.35</td>\n",
              "      <td>1.15</td>\n",
              "      <td>0.92</td>\n",
              "      <td>1.18</td>\n",
              "    </tr>\n",
              "  </tbody>\n",
              "</table>\n",
              "</div>"
            ],
            "text/plain": [
              "                Random Forest Regression  ...  SGD Regression\n",
              "municipality                        1.45  ...            1.19\n",
              "machine vision                      1.35  ...            1.18\n",
              "\n",
              "[2 rows x 4 columns]"
            ]
          },
          "metadata": {
            "tags": []
          },
          "execution_count": 107
        }
      ]
    },
    {
      "cell_type": "code",
      "metadata": {
        "id": "Tfg9OY22bI0w",
        "colab_type": "code",
        "colab": {}
      },
      "source": [
        "df_mape.to_csv('mape.csv', index=True)"
      ],
      "execution_count": 114,
      "outputs": []
    },
    {
      "cell_type": "code",
      "metadata": {
        "id": "4njh2sFpbuun",
        "colab_type": "code",
        "colab": {}
      },
      "source": [
        "df_acc.to_csv('acc.csv', index = True)"
      ],
      "execution_count": 115,
      "outputs": []
    },
    {
      "cell_type": "markdown",
      "metadata": {
        "id": "SBtK6dbXWWFR",
        "colab_type": "text"
      },
      "source": [
        ""
      ]
    },
    {
      "cell_type": "code",
      "metadata": {
        "id": "GE9n6kaN0A16",
        "colab_type": "code",
        "colab": {}
      },
      "source": [
        ""
      ],
      "execution_count": null,
      "outputs": []
    },
    {
      "cell_type": "code",
      "metadata": {
        "id": "OjcJe6810A5C",
        "colab_type": "code",
        "colab": {}
      },
      "source": [
        ""
      ],
      "execution_count": null,
      "outputs": []
    },
    {
      "cell_type": "code",
      "metadata": {
        "id": "mEEhkad30BDL",
        "colab_type": "code",
        "colab": {}
      },
      "source": [
        "pred = np.array([6.352, 5.864, 6.651, 7.253, 6.63 , 7.415, 7.318, 5.43 , 6.919,\n",
        "       7.324, 7.718, 4.49 , 6.878, 6.431, 7.256, 5.464, 6.811, 7.055,\n",
        "       7.131, 5.698, 5.611, 7.814, 6.906, 6.959, 4.107, 6.669, 6.951,\n",
        "       6.959, 7.582, 7.394, 6.987, 6.586, 7.72 , 7.299, 6.638, 5.662,\n",
        "       7.347, 7.176, 5.217, 7.726, 6.512, 5.541, 6.691, 5.779, 5.366,\n",
        "       6.419, 7.013, 7.399, 7.192, 5.534, 7.585, 6.382, 5.775, 6.565,\n",
        "       7.726, 6.511, 7.951, 6.753, 6.963, 7.055, 5.664, 5.652, 6.733,\n",
        "       5.938, 6.593, 6.396, 6.971, 7.657, 5.782, 7.623, 5.484, 7.314,\n",
        "       5.147, 5.157, 7.112, 6.626, 8.271, 5.045, 5.962, 6.068, 5.471,\n",
        "       7.153, 8.457, 6.88 , 6.153, 7.299, 5.398, 5.268, 4.73 , 4.416,\n",
        "       4.797, 4.127, 7.16 , 6.317, 4.969, 6.7  , 6.982, 5.893, 5.4  ,\n",
        "       3.934, 5.798, 8.252, 7.247])"
      ],
      "execution_count": 137,
      "outputs": []
    },
    {
      "cell_type": "code",
      "metadata": {
        "id": "3V47HLqW0RM0",
        "colab_type": "code",
        "colab": {
          "base_uri": "https://localhost:8080/",
          "height": 34
        },
        "outputId": "7342edee-2114-48bf-d33f-b4c7b1508387"
      },
      "source": [
        "len(pred)"
      ],
      "execution_count": 139,
      "outputs": [
        {
          "output_type": "execute_result",
          "data": {
            "text/plain": [
              "103"
            ]
          },
          "metadata": {
            "tags": []
          },
          "execution_count": 139
        }
      ]
    },
    {
      "cell_type": "code",
      "metadata": {
        "id": "M9bpmuCJ0DsY",
        "colab_type": "code",
        "colab": {
          "base_uri": "https://localhost:8080/",
          "height": 34
        },
        "outputId": "3ed8190a-ed5a-491f-fcf3-37dcd0243567"
      },
      "source": [
        "len(labels)"
      ],
      "execution_count": 141,
      "outputs": [
        {
          "output_type": "execute_result",
          "data": {
            "text/plain": [
              "103"
            ]
          },
          "metadata": {
            "tags": []
          },
          "execution_count": 141
        }
      ]
    },
    {
      "cell_type": "code",
      "metadata": {
        "id": "eDvdeuWB0PSv",
        "colab_type": "code",
        "colab": {
          "base_uri": "https://localhost:8080/",
          "height": 466
        },
        "outputId": "5845bf3d-3672-4f26-8e02-32483117cba6"
      },
      "source": [
        "import numpy as np\n",
        "import matplotlib.pyplot as plt\n",
        "\n",
        "fig,ax = plt.subplots(1)\n",
        "\n",
        "# create some x data and some integers for the y axis\n",
        "#x = np.array([3,5,2,4])\n",
        "#y = np.arange(4)\n",
        "\n",
        "# plot the data\n",
        "ax.plot(labels,pred, '*')\n"
      ],
      "execution_count": 152,
      "outputs": [
        {
          "output_type": "error",
          "ename": "AttributeError",
          "evalue": "ignored",
          "traceback": [
            "\u001b[0;31m---------------------------------------------------------------------------\u001b[0m",
            "\u001b[0;31mAttributeError\u001b[0m                            Traceback (most recent call last)",
            "\u001b[0;32m<ipython-input-152-7d87e61f2741>\u001b[0m in \u001b[0;36m<module>\u001b[0;34m()\u001b[0m\n\u001b[1;32m     10\u001b[0m \u001b[0;31m# plot the data\u001b[0m\u001b[0;34m\u001b[0m\u001b[0;34m\u001b[0m\u001b[0;34m\u001b[0m\u001b[0m\n\u001b[1;32m     11\u001b[0m \u001b[0max\u001b[0m\u001b[0;34m.\u001b[0m\u001b[0mplot\u001b[0m\u001b[0;34m(\u001b[0m\u001b[0mlabels\u001b[0m\u001b[0;34m,\u001b[0m\u001b[0mpred\u001b[0m\u001b[0;34m,\u001b[0m \u001b[0;34m'*'\u001b[0m\u001b[0;34m)\u001b[0m\u001b[0;34m\u001b[0m\u001b[0;34m\u001b[0m\u001b[0m\n\u001b[0;32m---> 12\u001b[0;31m \u001b[0max\u001b[0m\u001b[0;34m.\u001b[0m\u001b[0mlabel\u001b[0m\u001b[0;34m(\u001b[0m\u001b[0;34m'x'\u001b[0m\u001b[0;34m)\u001b[0m\u001b[0;34m\u001b[0m\u001b[0;34m\u001b[0m\u001b[0m\n\u001b[0m",
            "\u001b[0;31mAttributeError\u001b[0m: 'AxesSubplot' object has no attribute 'label'"
          ]
        },
        {
          "output_type": "display_data",
          "data": {
            "image/png": "[encoded data removed]",
            "text/plain": [
              "<Figure size 432x288 with 1 Axes>"
            ]
          },
          "metadata": {
            "tags": [],
            "needs_background": "light"
          }
        }
      ]
    },
    {
      "cell_type": "code",
      "metadata": {
        "id": "RuP-ESsH0ihc",
        "colab_type": "code",
        "colab": {
          "base_uri": "https://localhost:8080/",
          "height": 282
        },
        "outputId": "0dd168f7-2f5a-41c3-de00-2329431ef76e"
      },
      "source": [
        "import numpy as np\n",
        "import matplotlib.pyplot as plt\n",
        "\n",
        "fig,ax = plt.subplots(1)\n",
        "\n",
        "# create some x data and some integers for the y axis\n",
        "#x = np.array([3,5,2,4])\n",
        "#y = np.arange(4)\n",
        "\n",
        "# plot the data\n",
        "\n",
        "ax.plot(pred,labels, '*')"
      ],
      "execution_count": 151,
      "outputs": [
        {
          "output_type": "execute_result",
          "data": {
            "text/plain": [
              "[<matplotlib.lines.Line2D at 0x7f9af64c9518>]"
            ]
          },
          "metadata": {
            "tags": []
          },
          "execution_count": 151
        },
        {
          "output_type": "display_data",
          "data": {
            "image/png": "[encoded data removed]",
            "text/plain": [
              "<Figure size 432x288 with 1 Axes>"
            ]
          },
          "metadata": {
            "tags": [],
            "needs_background": "light"
          }
        }
      ]
    },
    {
      "cell_type": "code",
      "metadata": {
        "id": "4badUUKp05NN",
        "colab_type": "code",
        "colab": {}
      },
      "source": [
        ""
      ],
      "execution_count": null,
      "outputs": []
    }
  ]
}