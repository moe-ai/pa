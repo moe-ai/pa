{
  "nbformat": 4,
  "nbformat_minor": 0,
  "metadata": {
    "colab": {
      "name": "Distress_Detection_generate_TFRECORD.ipynb",
      "provenance": [],
      "collapsed_sections": [
        "bbg5Ibauz9VQ",
        "xrmywow9a6Lm",
        "mdVQHCMgeu5c",
        "z1BvgZsTe3ey",
        "ubCRznr4e7h4",
        "cfaKXxAznfKb",
        "6pv8uSVQY7nD"
      ],
      "toc_visible": true,
      "machine_shape": "hm",
      "mount_file_id": "1uvvbQZUVFCqvcsU4GeezTt-OjNp88gMi",
      "authorship_tag": "ABX9TyMX8hPMrFUHXlEIFaaeZDyk",
      "include_colab_link": true
    },
    "kernelspec": {
      "name": "python3",
      "display_name": "Python 3"
    },
    "accelerator": "GPU"
  },
  "cells": [
    {
      "cell_type": "markdown",
      "metadata": {
        "id": "view-in-github",
        "colab_type": "text"
      },
      "source": [
        "<a href=\"https://colab.research.google.com/github/mounesi/pa/blob/master/Distress_Detection_generate_TFRECORD.ipynb\" target=\"_parent\"><img src=\"https://colab.research.google.com/assets/colab-badge.svg\" alt=\"Open In Colab\"/></a>"
      ]
    },
    {
      "cell_type": "code",
      "metadata": {
        "id": "2y4roXb8Jjb_",
        "colab_type": "code",
        "colab": {
          "base_uri": "https://localhost:8080/",
          "height": 67
        },
        "outputId": "13abf348-1003-4f3d-acc1-a6c13e9de9a5"
      },
      "source": [
        "%tensorflow_version 1.x\n",
        "from __future__ import division, print_function, absolute_import\n",
        "\n",
        "import os\n",
        "from google.colab import drive\n",
        "import tensorflow.compat.v1 as tf\n",
        "\n",
        "import urllib.request\n",
        "import tarfile\n",
        "import numpy as np\n",
        "\n",
        "if np.__version__ != '1.17.0':\n",
        "  ! pip install numpy==1.17\n",
        "  os.kill(os.getpid(), 9)\n",
        "\n",
        "# check the versions\n",
        "print(f'np version is {np.__version__} shall match with 1.17.0')\n",
        "print(f'tf version is {tf.__version__} shall match with 1.15.2')"
      ],
      "execution_count": 1,
      "outputs": [
        {
          "output_type": "stream",
          "text": [
            "TensorFlow 1.x selected.\n",
            "np version is 1.17.0 shall match with 1.17.0\n",
            "tf version is 1.15.2 shall match with 1.15.2\n"
          ],
          "name": "stdout"
        }
      ]
    },
    {
      "cell_type": "code",
      "metadata": {
        "id": "SNN5DP1ZJibr",
        "colab_type": "code",
        "colab": {}
      },
      "source": [
        ""
      ],
      "execution_count": 0,
      "outputs": []
    },
    {
      "cell_type": "code",
      "metadata": {
        "id": "HJvaJh2l-n4D",
        "colab_type": "code",
        "colab": {}
      },
      "source": [
        "# imports \n",
        "\n",
        "from PIL import Image\n",
        "import os\n",
        "import io\n",
        "import glob\n",
        "import pandas as pd\n",
        "import xml.etree.ElementTree as ET\n",
        "import csv\n",
        "import cv2\n",
        "import pandas as pd"
      ],
      "execution_count": 0,
      "outputs": []
    },
    {
      "cell_type": "code",
      "metadata": {
        "id": "zeTUWiDKJrpC",
        "colab_type": "code",
        "colab": {
          "base_uri": "https://localhost:8080/",
          "height": 655
        },
        "outputId": "74d650c3-035d-4845-9c11-3b569c77084d"
      },
      "source": [
        "# MODEL DIRECTORY\n",
        "!apt-get install -qq protobuf-compiler python-pil python-lxml python-tk\n",
        "\n",
        "!pip install -qq Cython contextlib2 pillow lxml matplotlib\n",
        "\n",
        "!pip install -qq pycocotools\n",
        "\n",
        "# Downlaods Tenorflow\n",
        "!git clone --q https://github.com/tensorflow/models.git"
      ],
      "execution_count": 3,
      "outputs": [
        {
          "output_type": "stream",
          "text": [
            "Selecting previously unselected package python-bs4.\n",
            "(Reading database ... 144467 files and directories currently installed.)\n",
            "Preparing to unpack .../0-python-bs4_4.6.0-1_all.deb ...\n",
            "Unpacking python-bs4 (4.6.0-1) ...\n",
            "Selecting previously unselected package python-pkg-resources.\n",
            "Preparing to unpack .../1-python-pkg-resources_39.0.1-2_all.deb ...\n",
            "Unpacking python-pkg-resources (39.0.1-2) ...\n",
            "Selecting previously unselected package python-chardet.\n",
            "Preparing to unpack .../2-python-chardet_3.0.4-1_all.deb ...\n",
            "Unpacking python-chardet (3.0.4-1) ...\n",
            "Selecting previously unselected package python-six.\n",
            "Preparing to unpack .../3-python-six_1.11.0-2_all.deb ...\n",
            "Unpacking python-six (1.11.0-2) ...\n",
            "Selecting previously unselected package python-webencodings.\n",
            "Preparing to unpack .../4-python-webencodings_0.5-2_all.deb ...\n",
            "Unpacking python-webencodings (0.5-2) ...\n",
            "Selecting previously unselected package python-html5lib.\n",
            "Preparing to unpack .../5-python-html5lib_0.999999999-1_all.deb ...\n",
            "Unpacking python-html5lib (0.999999999-1) ...\n",
            "Selecting previously unselected package python-lxml:amd64.\n",
            "Preparing to unpack .../6-python-lxml_4.2.1-1ubuntu0.1_amd64.deb ...\n",
            "Unpacking python-lxml:amd64 (4.2.1-1ubuntu0.1) ...\n",
            "Selecting previously unselected package python-olefile.\n",
            "Preparing to unpack .../7-python-olefile_0.45.1-1_all.deb ...\n",
            "Unpacking python-olefile (0.45.1-1) ...\n",
            "Selecting previously unselected package python-pil:amd64.\n",
            "Preparing to unpack .../8-python-pil_5.1.0-1ubuntu0.2_amd64.deb ...\n",
            "Unpacking python-pil:amd64 (5.1.0-1ubuntu0.2) ...\n",
            "Setting up python-pkg-resources (39.0.1-2) ...\n",
            "Setting up python-six (1.11.0-2) ...\n",
            "Setting up python-bs4 (4.6.0-1) ...\n",
            "Setting up python-lxml:amd64 (4.2.1-1ubuntu0.1) ...\n",
            "Setting up python-olefile (0.45.1-1) ...\n",
            "Setting up python-pil:amd64 (5.1.0-1ubuntu0.2) ...\n",
            "Setting up python-webencodings (0.5-2) ...\n",
            "Setting up python-chardet (3.0.4-1) ...\n",
            "Setting up python-html5lib (0.999999999-1) ...\n",
            "Processing triggers for man-db (2.8.3-2ubuntu0.1) ...\n"
          ],
          "name": "stdout"
        }
      ]
    },
    {
      "cell_type": "code",
      "metadata": {
        "id": "v6GvOrCZJrq-",
        "colab_type": "code",
        "colab": {
          "base_uri": "https://localhost:8080/",
          "height": 34
        },
        "outputId": "ddcaeb53-fd26-4ae3-f419-dcec935a839e"
      },
      "source": [
        "cd models/research"
      ],
      "execution_count": 4,
      "outputs": [
        {
          "output_type": "stream",
          "text": [
            "/content/models/research\n"
          ],
          "name": "stdout"
        }
      ]
    },
    {
      "cell_type": "code",
      "metadata": {
        "id": "t6rKNt8iJrtV",
        "colab_type": "code",
        "colab": {
          "base_uri": "https://localhost:8080/",
          "height": 54
        },
        "outputId": "27cde52f-c550-4b78-a503-5d53009976dd"
      },
      "source": [
        "# exports the PYTHONPATH environment variable with the reasearch and slim folders' paths\n",
        "!protoc object_detection/protos/*.proto --python_out=.\n",
        "#os.environ['PYTHONPATH'] += ':/content/models/research/:/content/models/research/slim/'"
      ],
      "execution_count": 5,
      "outputs": [
        {
          "output_type": "stream",
          "text": [
            "object_detection/protos/input_reader.proto: warning: Import object_detection/protos/image_resizer.proto but not used.\n"
          ],
          "name": "stdout"
        }
      ]
    },
    {
      "cell_type": "code",
      "metadata": {
        "id": "XCnmK1nQLFZy",
        "colab_type": "code",
        "colab": {
          "base_uri": "https://localhost:8080/",
          "height": 34
        },
        "outputId": "f6257cee-c8c3-457f-afed-695d9f591f30"
      },
      "source": [
        "pwd"
      ],
      "execution_count": 6,
      "outputs": [
        {
          "output_type": "execute_result",
          "data": {
            "text/plain": [
              "'/content/models/research'"
            ]
          },
          "metadata": {
            "tags": []
          },
          "execution_count": 6
        }
      ]
    },
    {
      "cell_type": "code",
      "metadata": {
        "id": "hd5IRuCJJ-q8",
        "colab_type": "code",
        "colab": {}
      },
      "source": [
        "os.environ['PYTHONPATH'] += ':/content/models/research/:/content/models/research/slim/'\n",
        "#os.environ['PYTHONPATH'] += ':./:./slim/'"
      ],
      "execution_count": 0,
      "outputs": []
    },
    {
      "cell_type": "code",
      "metadata": {
        "id": "Q1z4HNakLQGW",
        "colab_type": "code",
        "colab": {
          "base_uri": "https://localhost:8080/",
          "height": 154
        },
        "outputId": "f4466b82-3f91-40e8-8def-ce1332473765"
      },
      "source": [
        "!pip install tf_slim"
      ],
      "execution_count": 8,
      "outputs": [
        {
          "output_type": "stream",
          "text": [
            "Collecting tf_slim\n",
            "\u001b[?25l  Downloading https://files.pythonhosted.org/packages/02/97/b0f4a64df018ca018cc035d44f2ef08f91e2e8aa67271f6f19633a015ff7/tf_slim-1.1.0-py2.py3-none-any.whl (352kB)\n",
            "\u001b[K     |████████████████████████████████| 358kB 2.8MB/s \n",
            "\u001b[?25hRequirement already satisfied: absl-py>=0.2.2 in /usr/local/lib/python3.6/dist-packages (from tf_slim) (0.9.0)\n",
            "Requirement already satisfied: six in /usr/local/lib/python3.6/dist-packages (from absl-py>=0.2.2->tf_slim) (1.12.0)\n",
            "Installing collected packages: tf-slim\n",
            "Successfully installed tf-slim-1.1.0\n"
          ],
          "name": "stdout"
        }
      ]
    },
    {
      "cell_type": "code",
      "metadata": {
        "id": "LldWMndWJ4kS",
        "colab_type": "code",
        "colab": {}
      },
      "source": [
        "!python object_detection/builders/model_builder_test.py"
      ],
      "execution_count": 0,
      "outputs": []
    },
    {
      "cell_type": "code",
      "metadata": {
        "id": "af16S6-_JrwA",
        "colab_type": "code",
        "colab": {
          "base_uri": "https://localhost:8080/",
          "height": 34
        },
        "outputId": "4502ded6-20fe-40fb-f73b-5f2b58d029b8"
      },
      "source": [
        "pwd"
      ],
      "execution_count": 10,
      "outputs": [
        {
          "output_type": "execute_result",
          "data": {
            "text/plain": [
              "'/content/models/research'"
            ]
          },
          "metadata": {
            "tags": []
          },
          "execution_count": 10
        }
      ]
    },
    {
      "cell_type": "code",
      "metadata": {
        "id": "8KFIH7DGKCPi",
        "colab_type": "code",
        "colab": {}
      },
      "source": [
        "from object_detection.utils import dataset_util"
      ],
      "execution_count": 0,
      "outputs": []
    },
    {
      "cell_type": "markdown",
      "metadata": {
        "id": "6pv8uSVQY7nD",
        "colab_type": "text"
      },
      "source": [
        "# Data Pre-Processing to Generate TF Record File:\n"
      ]
    },
    {
      "cell_type": "markdown",
      "metadata": {
        "id": "NRK9-BvHZ855",
        "colab_type": "text"
      },
      "source": [
        "## Organizing Image Dataset and Associated Labels\n",
        "\n",
        "1. The images are collected from the highway in New York \n",
        "2. The images are labeled using LabelImg [source](https://github.com/SkalskiP/make-sense)  \n",
        "3. make a directory of the project\n",
        "4. splitting the data for train and test separately."
      ]
    },
    {
      "cell_type": "markdown",
      "metadata": {
        "id": "Htf3LAwrQsfv",
        "colab_type": "text"
      },
      "source": [
        "## Downloading the Data and lables"
      ]
    },
    {
      "cell_type": "code",
      "metadata": {
        "id": "qMm_uNby60rc",
        "colab_type": "code",
        "colab": {
          "base_uri": "https://localhost:8080/",
          "height": 34
        },
        "outputId": "88b378db-b6ae-450d-feb0-5f9cd75bcaa5"
      },
      "source": [
        "cd /content"
      ],
      "execution_count": 20,
      "outputs": [
        {
          "output_type": "stream",
          "text": [
            "/content\n"
          ],
          "name": "stdout"
        }
      ]
    },
    {
      "cell_type": "code",
      "metadata": {
        "id": "kM3bMyGky7pa",
        "colab_type": "code",
        "colab": {}
      },
      "source": [
        "cp drive/My\\ Drive/data/pa/labels.zip ."
      ],
      "execution_count": 0,
      "outputs": []
    },
    {
      "cell_type": "code",
      "metadata": {
        "id": "_0JKY7ObzwtW",
        "colab_type": "code",
        "colab": {}
      },
      "source": [
        "cp drive/My\\ Drive/data/pa/street_dataset.zip ."
      ],
      "execution_count": 0,
      "outputs": []
    },
    {
      "cell_type": "code",
      "metadata": {
        "id": "Wq1HdOJQFVjP",
        "colab_type": "code",
        "colab": {}
      },
      "source": [
        "# create subdirectories for test and train\n",
        "!mkdir data\n",
        "!mkdir data/images data/train_labels data/test_labels"
      ],
      "execution_count": 0,
      "outputs": []
    },
    {
      "cell_type": "code",
      "metadata": {
        "id": "VUAv6bL1d8zL",
        "colab_type": "code",
        "outputId": "b7aa8720-6b60-4dc7-c520-5919c365b36d",
        "colab": {
          "base_uri": "https://localhost:8080/",
          "height": 34
        }
      },
      "source": [
        "pwd"
      ],
      "execution_count": 24,
      "outputs": [
        {
          "output_type": "execute_result",
          "data": {
            "text/plain": [
              "'/content'"
            ]
          },
          "metadata": {
            "tags": []
          },
          "execution_count": 24
        }
      ]
    },
    {
      "cell_type": "code",
      "metadata": {
        "id": "BKM4PzdfvTlv",
        "colab_type": "code",
        "outputId": "c092139f-fcb9-42ea-9e91-b495522fbb14",
        "colab": {
          "base_uri": "https://localhost:8080/",
          "height": 722
        }
      },
      "source": [
        "!unzip street_dataset.zip\n",
        "!mv street_dataset/* data/images/"
      ],
      "execution_count": 25,
      "outputs": [
        {
          "output_type": "stream",
          "text": [
            "Archive:  street_dataset.zip\n",
            "   creating: street_dataset/\n",
            "  inflating: street_dataset/image8.jpg  \n",
            "  inflating: street_dataset/image9.jpg  \n",
            "  inflating: street_dataset/image14.jpg  \n",
            "  inflating: street_dataset/image28.jpg  \n",
            "  inflating: street_dataset/image29.jpg  \n",
            "  inflating: street_dataset/image15.jpg  \n",
            "  inflating: street_dataset/image17.jpg  \n",
            "  inflating: street_dataset/image16.jpg  \n",
            "  inflating: street_dataset/image12.jpg  \n",
            "  inflating: street_dataset/image13.jpg  \n",
            "  inflating: street_dataset/image39.jpg  \n",
            "  inflating: street_dataset/image11.jpg  \n",
            "  inflating: street_dataset/image10.jpg  \n",
            "  inflating: street_dataset/image38.jpg  \n",
            "  inflating: street_dataset/image21.jpg  \n",
            "  inflating: street_dataset/image35.jpg  \n",
            "  inflating: street_dataset/image34.jpg  \n",
            "  inflating: street_dataset/image20.jpg  \n",
            "  inflating: street_dataset/image36.jpg  \n",
            "  inflating: street_dataset/image22.jpg  \n",
            "  inflating: street_dataset/image23.jpg  \n",
            "  inflating: street_dataset/image37.jpg  \n",
            "  inflating: street_dataset/image33.jpg  \n",
            "  inflating: street_dataset/image27.jpg  \n",
            "  inflating: street_dataset/image26.jpg  \n",
            "  inflating: street_dataset/image32.jpg  \n",
            "  inflating: street_dataset/image18.jpg  \n",
            "  inflating: street_dataset/image24.jpg  \n",
            "  inflating: street_dataset/image30.jpg  \n",
            "  inflating: street_dataset/image31.jpg  \n",
            "  inflating: street_dataset/image25.jpg  \n",
            "  inflating: street_dataset/image19.jpg  \n",
            "  inflating: street_dataset/image7.jpg  \n",
            "  inflating: street_dataset/image6.jpg  \n",
            "  inflating: street_dataset/image4.jpg  \n",
            "  inflating: street_dataset/image5.jpg  \n",
            "  inflating: street_dataset/image1.jpg  \n",
            "  inflating: street_dataset/image0.jpg  \n",
            "  inflating: street_dataset/image2.jpg  \n",
            "  inflating: street_dataset/image3.jpg  \n"
          ],
          "name": "stdout"
        }
      ]
    },
    {
      "cell_type": "code",
      "metadata": {
        "id": "C-KoLk7BiGaI",
        "colab_type": "code",
        "outputId": "5eda2706-8b7c-45b8-b742-381cf106a98b",
        "colab": {
          "base_uri": "https://localhost:8080/",
          "height": 1000
        }
      },
      "source": [
        "!unzip labels.zip\n",
        "!mv labels/* data/train_labels"
      ],
      "execution_count": 26,
      "outputs": [
        {
          "output_type": "stream",
          "text": [
            "Archive:  labels.zip\n",
            "   creating: labels/\n",
            "  inflating: __MACOSX/._labels       \n",
            "  inflating: labels/image8.xml       \n",
            "  inflating: __MACOSX/labels/._image8.xml  \n",
            "  inflating: labels/image9.xml       \n",
            "  inflating: __MACOSX/labels/._image9.xml  \n",
            "  inflating: labels/image28.xml      \n",
            "  inflating: __MACOSX/labels/._image28.xml  \n",
            "  inflating: labels/image14.xml      \n",
            "  inflating: __MACOSX/labels/._image14.xml  \n",
            "  inflating: labels/image15.xml      \n",
            "  inflating: __MACOSX/labels/._image15.xml  \n",
            "  inflating: labels/image29.xml      \n",
            "  inflating: __MACOSX/labels/._image29.xml  \n",
            "  inflating: labels/image16.xml      \n",
            "  inflating: __MACOSX/labels/._image16.xml  \n",
            "  inflating: labels/image12.xml      \n",
            "  inflating: __MACOSX/labels/._image12.xml  \n",
            "  inflating: labels/image11.xml      \n",
            "  inflating: __MACOSX/labels/._image11.xml  \n",
            "  inflating: labels/image39.xml      \n",
            "  inflating: __MACOSX/labels/._image39.xml  \n",
            "  inflating: labels/image38.xml      \n",
            "  inflating: __MACOSX/labels/._image38.xml  \n",
            "  inflating: labels/image10.xml      \n",
            "  inflating: __MACOSX/labels/._image10.xml  \n",
            "  inflating: labels/image21.xml      \n",
            "  inflating: __MACOSX/labels/._image21.xml  \n",
            "  inflating: labels/image35.xml      \n",
            "  inflating: __MACOSX/labels/._image35.xml  \n",
            "  inflating: labels/image34.xml      \n",
            "  inflating: __MACOSX/labels/._image34.xml  \n",
            "  inflating: labels/image20.xml      \n",
            "  inflating: __MACOSX/labels/._image20.xml  \n",
            "  inflating: labels/image36.xml      \n",
            "  inflating: __MACOSX/labels/._image36.xml  \n",
            "  inflating: labels/image22.xml      \n",
            "  inflating: __MACOSX/labels/._image22.xml  \n",
            "  inflating: labels/image23.xml      \n",
            "  inflating: __MACOSX/labels/._image23.xml  \n",
            "  inflating: labels/image37.xml      \n",
            "  inflating: __MACOSX/labels/._image37.xml  \n",
            "  inflating: labels/image33.xml      \n",
            "  inflating: __MACOSX/labels/._image33.xml  \n",
            "  inflating: labels/image27.xml      \n",
            "  inflating: __MACOSX/labels/._image27.xml  \n",
            "  inflating: labels/image26.xml      \n",
            "  inflating: __MACOSX/labels/._image26.xml  \n",
            "  inflating: labels/image32.xml      \n",
            "  inflating: __MACOSX/labels/._image32.xml  \n",
            "  inflating: labels/image24.xml      \n",
            "  inflating: __MACOSX/labels/._image24.xml  \n",
            "  inflating: labels/image30.xml      \n",
            "  inflating: __MACOSX/labels/._image30.xml  \n",
            "  inflating: labels/image18.xml      \n",
            "  inflating: __MACOSX/labels/._image18.xml  \n",
            "  inflating: labels/image19.xml      \n",
            "  inflating: __MACOSX/labels/._image19.xml  \n",
            "  inflating: labels/image31.xml      \n",
            "  inflating: __MACOSX/labels/._image31.xml  \n",
            "  inflating: labels/image25.xml      \n",
            "  inflating: __MACOSX/labels/._image25.xml  \n",
            "  inflating: labels/image7.xml       \n",
            "  inflating: __MACOSX/labels/._image7.xml  \n",
            "  inflating: labels/image6.xml       \n",
            "  inflating: __MACOSX/labels/._image6.xml  \n",
            "  inflating: labels/image4.xml       \n",
            "  inflating: __MACOSX/labels/._image4.xml  \n",
            "  inflating: labels/image5.xml       \n",
            "  inflating: __MACOSX/labels/._image5.xml  \n",
            "  inflating: labels/image1.xml       \n",
            "  inflating: __MACOSX/labels/._image1.xml  \n",
            "  inflating: labels/image0.xml       \n",
            "  inflating: __MACOSX/labels/._image0.xml  \n",
            "  inflating: labels/image2.xml       \n",
            "  inflating: __MACOSX/labels/._image2.xml  \n",
            "  inflating: labels/image3.xml       \n",
            "  inflating: __MACOSX/labels/._image3.xml  \n"
          ],
          "name": "stdout"
        }
      ]
    },
    {
      "cell_type": "code",
      "metadata": {
        "id": "pyC3CDYLpnCI",
        "colab_type": "code",
        "outputId": "1f2248f4-086e-42e9-d0b0-85b983151e21",
        "colab": {
          "base_uri": "https://localhost:8080/",
          "height": 134
        }
      },
      "source": [
        "ls data/train_labels/"
      ],
      "execution_count": 27,
      "outputs": [
        {
          "output_type": "stream",
          "text": [
            "image0.xml   image18.xml  image24.xml  image30.xml  image37.xml  image7.xml\n",
            "image10.xml  image19.xml  image25.xml  image31.xml  image38.xml  image8.xml\n",
            "image11.xml  image1.xml   image26.xml  image32.xml  image39.xml  image9.xml\n",
            "image12.xml  image20.xml  image27.xml  image33.xml  image3.xml\n",
            "image14.xml  image21.xml  image28.xml  image34.xml  image4.xml\n",
            "image15.xml  image22.xml  image29.xml  image35.xml  image5.xml\n",
            "image16.xml  image23.xml  image2.xml   image36.xml  image6.xml\n"
          ],
          "name": "stdout"
        }
      ]
    },
    {
      "cell_type": "code",
      "metadata": {
        "id": "mr9rw1tzwnlA",
        "colab_type": "code",
        "colab": {}
      },
      "source": [
        "# remove the zip files and extracted files\n",
        "!rm -rf labels.zip labels/ street_dataset.zip street_dataset/"
      ],
      "execution_count": 0,
      "outputs": []
    },
    {
      "cell_type": "code",
      "metadata": {
        "id": "UBO8ee8dxQZ6",
        "colab_type": "code",
        "outputId": "7b19725b-960b-4013-ea58-6d9b420b7cfd",
        "colab": {
          "base_uri": "https://localhost:8080/",
          "height": 34
        }
      },
      "source": [
        "#  38 all training labels\n",
        "!ls -1 data/train_labels/ | wc -l"
      ],
      "execution_count": 29,
      "outputs": [
        {
          "output_type": "stream",
          "text": [
            "38\n"
          ],
          "name": "stdout"
        }
      ]
    },
    {
      "cell_type": "code",
      "metadata": {
        "id": "aQ5kfPl7pURP",
        "colab_type": "code",
        "colab": {}
      },
      "source": [
        "# move 20 percent to the test dataset randomly\n",
        "!ls data/train_labels/* | sort -R | head -8 | xargs -I{} mv {} data/test_labels"
      ],
      "execution_count": 0,
      "outputs": []
    },
    {
      "cell_type": "code",
      "metadata": {
        "id": "HfnADVtRx1kb",
        "colab_type": "code",
        "outputId": "c92d6415-ad21-4c75-b007-4879eefdb343",
        "colab": {
          "base_uri": "https://localhost:8080/",
          "height": 34
        }
      },
      "source": [
        "# 30 \"images\"(xml) for training\n",
        "!ls -1 data/train_labels/ | wc -l"
      ],
      "execution_count": 31,
      "outputs": [
        {
          "output_type": "stream",
          "text": [
            "30\n"
          ],
          "name": "stdout"
        }
      ]
    },
    {
      "cell_type": "code",
      "metadata": {
        "id": "hWKVqY6Ux9-s",
        "colab_type": "code",
        "outputId": "01355c57-4003-4398-bb0e-0e86a76a4f05",
        "colab": {
          "base_uri": "https://localhost:8080/",
          "height": 34
        }
      },
      "source": [
        "# 8 \"images\"(xml) for testing\n",
        "!ls -1 data/test_labels/ | wc -l"
      ],
      "execution_count": 32,
      "outputs": [
        {
          "output_type": "stream",
          "text": [
            "8\n"
          ],
          "name": "stdout"
        }
      ]
    },
    {
      "cell_type": "markdown",
      "metadata": {
        "id": "0Cs2EwPCzbUu",
        "colab_type": "text"
      },
      "source": [
        "## Preprocessing Images and Labels\n",
        "1. Converting the annotations from xml files to two csv files for each `train_labels/` and `train_labels/`.\n",
        "2. Creating a pbtxt file that specifies the number of class (one class in this case)\n",
        "3. Checking if the annotations for each object are placed within the range of the image width and height."
      ]
    },
    {
      "cell_type": "code",
      "metadata": {
        "id": "pw_mvoOf4-57",
        "colab_type": "code",
        "colab": {
          "base_uri": "https://localhost:8080/",
          "height": 34
        },
        "outputId": "bb22d41b-2ee0-4ba9-f9ac-3d22cc0c8c1f"
      },
      "source": [
        "cd data"
      ],
      "execution_count": 33,
      "outputs": [
        {
          "output_type": "stream",
          "text": [
            "/content/data\n"
          ],
          "name": "stdout"
        }
      ]
    },
    {
      "cell_type": "markdown",
      "metadata": {
        "id": "8nI3EIyt5nt2",
        "colab_type": "text"
      },
      "source": [
        "\n",
        "\n",
        "```\n",
        "item {\n",
        "    id: 1\n",
        "    name: 'distress'\n",
        "}\n",
        "\n",
        "```"
      ]
    },
    {
      "cell_type": "code",
      "metadata": {
        "id": "c-mE7DwSzeEZ",
        "colab_type": "code",
        "outputId": "501ccc85-5cbb-4e93-aa2b-85e3f54f833c",
        "colab": {
          "base_uri": "https://localhost:8080/",
          "height": 50
        }
      },
      "source": [
        "# ONCE ONCE ONCE\n",
        "#adjusted from: https://github.com/datitran/raccoon_dataset\n",
        "def xml_to_csv(path):\n",
        "  classes_names = []\n",
        "  xml_list = []\n",
        "\n",
        "  for xml_file in glob.glob(path + '/*.xml'):\n",
        "    #print(xml_file)\n",
        "    tree = ET.parse(xml_file)\n",
        "    root = tree.getroot()\n",
        "    for member in root.findall('object'):\n",
        "      classes_names.append(member[0].text)\n",
        "#      value = (root.find('filename').text + '.jpg',\n",
        "      value = (root.find('filename').text,\n",
        "               int(root.find('size')[0].text),\n",
        "               int(root.find('size')[1].text),\n",
        "               member[0].text,\n",
        "               int(member[4][0].text),\n",
        "               int(member[4][1].text),\n",
        "               int(member[4][2].text),\n",
        "               int(member[4][3].text))\n",
        "      xml_list.append(value)\n",
        "  column_name = ['filename', 'width', 'height', 'class', 'xmin', 'ymin', 'xmax', 'ymax']\n",
        "  xml_df = pd.DataFrame(xml_list, columns=column_name) \n",
        "  classes_names = list(set(classes_names))\n",
        "  classes_names.sort()\n",
        "  return xml_df, classes_names\n",
        "\n",
        "for label_path in ['train_labels', 'test_labels']:\n",
        "  image_path = os.path.join(os.getcwd(), label_path)\n",
        "  xml_df, classes = xml_to_csv(label_path)\n",
        "  xml_df.to_csv(f'{label_path}.csv', index=None)\n",
        "  print(f'Successfully converted {label_path} xml to csv.')\n",
        "\n",
        "label_map_path = os.path.join(\"label_map.pbtxt\")\n",
        "pbtxt_content = \"\"\n",
        "\n",
        "for i, class_name in enumerate(classes):\n",
        "    pbtxt_content = (\n",
        "        pbtxt_content\n",
        "        + \"item {{\\n    id: {0}\\n    name: '{1}'\\n}}\\n\\n\".format(i + 1, class_name)\n",
        "    )\n",
        "pbtxt_content = pbtxt_content.strip()\n",
        "with open(label_map_path, \"w\") as f:\n",
        "    f.write(pbtxt_content)"
      ],
      "execution_count": 34,
      "outputs": [
        {
          "output_type": "stream",
          "text": [
            "Successfully converted train_labels xml to csv.\n",
            "Successfully converted test_labels xml to csv.\n"
          ],
          "name": "stdout"
        }
      ]
    },
    {
      "cell_type": "code",
      "metadata": {
        "id": "SC8iePKTz4wx",
        "colab_type": "code",
        "colab": {
          "base_uri": "https://localhost:8080/",
          "height": 84
        },
        "outputId": "1fa7626e-ceba-49f1-e5f9-cbc7395ca84d"
      },
      "source": [
        "#checking the pbtxt file\n",
        "!cat label_map.pbtxt"
      ],
      "execution_count": 35,
      "outputs": [
        {
          "output_type": "stream",
          "text": [
            "item {\n",
            "    id: 1\n",
            "    name: 'distress'\n",
            "}"
          ],
          "name": "stdout"
        }
      ]
    },
    {
      "cell_type": "code",
      "metadata": {
        "id": "GEUOb0J6z_y2",
        "colab_type": "code",
        "colab": {
          "base_uri": "https://localhost:8080/",
          "height": 134
        },
        "outputId": "09ac974d-6fbf-46db-9d50-4359646cfcc4"
      },
      "source": [
        "# they are there!\n",
        "!ls -l"
      ],
      "execution_count": 36,
      "outputs": [
        {
          "output_type": "stream",
          "text": [
            "total 48\n",
            "drwxr-xr-x 2 root root  4096 Jun  6 09:19 images\n",
            "-rw-r--r-- 1 root root    39 Jun  6 09:19 label_map.pbtxt\n",
            "drwxr-xr-x 2 root root  4096 Jun  6 09:19 test_labels\n",
            "-rw-r--r-- 1 root root  8907 Jun  6 09:19 test_labels.csv\n",
            "drwxr-xr-x 2 root root  4096 Jun  6 09:19 train_labels\n",
            "-rw-r--r-- 1 root root 18830 Jun  6 09:19 train_labels.csv\n"
          ],
          "name": "stdout"
        }
      ]
    },
    {
      "cell_type": "code",
      "metadata": {
        "id": "7dKhIRM30fEQ",
        "colab_type": "code",
        "colab": {}
      },
      "source": [
        ""
      ],
      "execution_count": 0,
      "outputs": []
    },
    {
      "cell_type": "markdown",
      "metadata": {
        "id": "l3kbetdsQa9G",
        "colab_type": "text"
      },
      "source": [
        "## Catch Errors in the Data"
      ]
    },
    {
      "cell_type": "code",
      "metadata": {
        "id": "rB98IfnO0i4w",
        "colab_type": "code",
        "colab": {
          "base_uri": "https://localhost:8080/",
          "height": 1000
        },
        "outputId": "22b86c52-8b9f-440e-b05f-8c20d82542a1"
      },
      "source": [
        "#checks if the images box position is placed within the image.\n",
        "\n",
        "#note: while this doesn't checks if the boxes/annotatoins are correctly\n",
        "# placed around the object, Tensorflow will through an error if this occured.\n",
        "#%cd /content/{project}}/data\n",
        "# path to images\n",
        "images_path = 'images'\n",
        "\n",
        "#loops over both train_labels and test_labels csv files to do the check\n",
        "# returns the image name where an error is found \n",
        "# return the incorrect attributes; xmin, ymin, xmax, ymax.\n",
        "for CSV_FILE in ['train_labels.csv', 'test_labels.csv']:\n",
        "  with open(CSV_FILE, 'r') as fid:  \n",
        "      print('[*] Checking file:', CSV_FILE) \n",
        "      file = csv.reader(fid, delimiter=',')\n",
        "      first = True \n",
        "      cnt = 0\n",
        "      error_cnt = 0\n",
        "      error = False\n",
        "      for row in file:\n",
        "          if error == True:\n",
        "              error_cnt += 1\n",
        "              error = False         \n",
        "          if first == True:\n",
        "              first = False\n",
        "              continue     \n",
        "          cnt += 1      \n",
        "          name, width, height, xmin, ymin, xmax, ymax = row[0], int(row[1]), int(row[2]), int(row[4]), int(row[5]), int(row[6]), int(row[7])     \n",
        "          path = os.path.join(images_path, name)\n",
        "          print(image_path)\n",
        "          print(name)\n",
        "          img = cv2.imread(path)         \n",
        "          if type(img) == type(None):\n",
        "              error = True\n",
        "              print('Could not read image', img)\n",
        "              continue     \n",
        "          org_height, org_width = img.shape[:2]     \n",
        "          if org_width != width:\n",
        "              error = True\n",
        "              print('Width mismatch for image: ', name, width, '!=', org_width)     \n",
        "          if org_height != height:\n",
        "              error = True\n",
        "              print('Height mismatch for image: ', name, height, '!=', org_height) \n",
        "          if xmin > org_width:\n",
        "              error = True\n",
        "              print('XMIN > org_width for file', name)  \n",
        "          if xmax > org_width:\n",
        "              error = True\n",
        "              print('XMAX > org_width for file', name)\n",
        "          if ymin > org_height:\n",
        "              error = True\n",
        "              print('YMIN > org_height for file', name)\n",
        "          if ymax > org_height:\n",
        "              error = True\n",
        "              print('YMAX > org_height for file', name)\n",
        "          if error == True:\n",
        "              print('Error for file: %s' % name)\n",
        "              print()\n",
        "      print()\n",
        "      print('Checked %d files and realized %d errors' % (cnt, error_cnt))\n",
        "      print(\"-----\")"
      ],
      "execution_count": 37,
      "outputs": [
        {
          "output_type": "stream",
          "text": [
            "[*] Checking file: train_labels.csv\n",
            "/content/data/test_labels\n",
            "image4.jpg\n",
            "/content/data/test_labels\n",
            "image4.jpg\n",
            "/content/data/test_labels\n",
            "image4.jpg\n",
            "/content/data/test_labels\n",
            "image4.jpg\n",
            "/content/data/test_labels\n",
            "image4.jpg\n",
            "/content/data/test_labels\n",
            "image4.jpg\n",
            "/content/data/test_labels\n",
            "image4.jpg\n",
            "/content/data/test_labels\n",
            "image4.jpg\n",
            "/content/data/test_labels\n",
            "image4.jpg\n",
            "/content/data/test_labels\n",
            "image4.jpg\n",
            "/content/data/test_labels\n",
            "image4.jpg\n",
            "/content/data/test_labels\n",
            "image4.jpg\n",
            "/content/data/test_labels\n",
            "image4.jpg\n",
            "/content/data/test_labels\n",
            "image4.jpg\n",
            "/content/data/test_labels\n",
            "image4.jpg\n",
            "/content/data/test_labels\n",
            "image4.jpg\n",
            "/content/data/test_labels\n",
            "image4.jpg\n",
            "/content/data/test_labels\n",
            "image4.jpg\n",
            "/content/data/test_labels\n",
            "image4.jpg\n",
            "/content/data/test_labels\n",
            "image18.jpg\n",
            "/content/data/test_labels\n",
            "image18.jpg\n",
            "/content/data/test_labels\n",
            "image26.jpg\n",
            "/content/data/test_labels\n",
            "image26.jpg\n",
            "/content/data/test_labels\n",
            "image26.jpg\n",
            "/content/data/test_labels\n",
            "image26.jpg\n",
            "/content/data/test_labels\n",
            "image26.jpg\n",
            "/content/data/test_labels\n",
            "image26.jpg\n",
            "/content/data/test_labels\n",
            "image26.jpg\n",
            "/content/data/test_labels\n",
            "image26.jpg\n",
            "/content/data/test_labels\n",
            "image26.jpg\n",
            "/content/data/test_labels\n",
            "image26.jpg\n",
            "/content/data/test_labels\n",
            "image26.jpg\n",
            "/content/data/test_labels\n",
            "image26.jpg\n",
            "/content/data/test_labels\n",
            "image26.jpg\n",
            "/content/data/test_labels\n",
            "image26.jpg\n",
            "/content/data/test_labels\n",
            "image26.jpg\n",
            "/content/data/test_labels\n",
            "image26.jpg\n",
            "/content/data/test_labels\n",
            "image26.jpg\n",
            "/content/data/test_labels\n",
            "image26.jpg\n",
            "/content/data/test_labels\n",
            "image26.jpg\n",
            "/content/data/test_labels\n",
            "image26.jpg\n",
            "/content/data/test_labels\n",
            "image26.jpg\n",
            "/content/data/test_labels\n",
            "image26.jpg\n",
            "/content/data/test_labels\n",
            "image26.jpg\n",
            "/content/data/test_labels\n",
            "image26.jpg\n",
            "/content/data/test_labels\n",
            "image26.jpg\n",
            "/content/data/test_labels\n",
            "image26.jpg\n",
            "/content/data/test_labels\n",
            "image26.jpg\n",
            "/content/data/test_labels\n",
            "image26.jpg\n",
            "/content/data/test_labels\n",
            "image26.jpg\n",
            "/content/data/test_labels\n",
            "image26.jpg\n",
            "/content/data/test_labels\n",
            "image26.jpg\n",
            "/content/data/test_labels\n",
            "image26.jpg\n",
            "/content/data/test_labels\n",
            "image26.jpg\n",
            "/content/data/test_labels\n",
            "image6.jpg\n",
            "/content/data/test_labels\n",
            "image6.jpg\n",
            "/content/data/test_labels\n",
            "image6.jpg\n",
            "/content/data/test_labels\n",
            "image6.jpg\n",
            "/content/data/test_labels\n",
            "image6.jpg\n",
            "/content/data/test_labels\n",
            "image6.jpg\n",
            "/content/data/test_labels\n",
            "image6.jpg\n",
            "/content/data/test_labels\n",
            "image6.jpg\n",
            "/content/data/test_labels\n",
            "image6.jpg\n",
            "/content/data/test_labels\n",
            "image6.jpg\n",
            "/content/data/test_labels\n",
            "image6.jpg\n",
            "/content/data/test_labels\n",
            "image6.jpg\n",
            "/content/data/test_labels\n",
            "image6.jpg\n",
            "/content/data/test_labels\n",
            "image6.jpg\n",
            "/content/data/test_labels\n",
            "image6.jpg\n",
            "/content/data/test_labels\n",
            "image6.jpg\n",
            "/content/data/test_labels\n",
            "image10.jpg\n",
            "/content/data/test_labels\n",
            "image10.jpg\n",
            "/content/data/test_labels\n",
            "image10.jpg\n",
            "/content/data/test_labels\n",
            "image10.jpg\n",
            "/content/data/test_labels\n",
            "image10.jpg\n",
            "/content/data/test_labels\n",
            "image10.jpg\n",
            "/content/data/test_labels\n",
            "image10.jpg\n",
            "/content/data/test_labels\n",
            "image10.jpg\n",
            "/content/data/test_labels\n",
            "image10.jpg\n",
            "/content/data/test_labels\n",
            "image10.jpg\n",
            "/content/data/test_labels\n",
            "image21.jpg\n",
            "/content/data/test_labels\n",
            "image21.jpg\n",
            "/content/data/test_labels\n",
            "image21.jpg\n",
            "/content/data/test_labels\n",
            "image21.jpg\n",
            "/content/data/test_labels\n",
            "image21.jpg\n",
            "/content/data/test_labels\n",
            "image21.jpg\n",
            "/content/data/test_labels\n",
            "image21.jpg\n",
            "/content/data/test_labels\n",
            "image21.jpg\n",
            "/content/data/test_labels\n",
            "image21.jpg\n",
            "/content/data/test_labels\n",
            "image21.jpg\n",
            "/content/data/test_labels\n",
            "image21.jpg\n",
            "/content/data/test_labels\n",
            "image21.jpg\n",
            "/content/data/test_labels\n",
            "image21.jpg\n",
            "/content/data/test_labels\n",
            "image21.jpg\n",
            "/content/data/test_labels\n",
            "image21.jpg\n",
            "/content/data/test_labels\n",
            "image21.jpg\n",
            "/content/data/test_labels\n",
            "image21.jpg\n",
            "/content/data/test_labels\n",
            "image21.jpg\n",
            "/content/data/test_labels\n",
            "image21.jpg\n",
            "/content/data/test_labels\n",
            "image21.jpg\n",
            "/content/data/test_labels\n",
            "image21.jpg\n",
            "/content/data/test_labels\n",
            "image21.jpg\n",
            "/content/data/test_labels\n",
            "image21.jpg\n",
            "/content/data/test_labels\n",
            "image21.jpg\n",
            "/content/data/test_labels\n",
            "image21.jpg\n",
            "/content/data/test_labels\n",
            "image11.jpg\n",
            "/content/data/test_labels\n",
            "image11.jpg\n",
            "/content/data/test_labels\n",
            "image11.jpg\n",
            "/content/data/test_labels\n",
            "image11.jpg\n",
            "/content/data/test_labels\n",
            "image11.jpg\n",
            "/content/data/test_labels\n",
            "image11.jpg\n",
            "/content/data/test_labels\n",
            "image11.jpg\n",
            "/content/data/test_labels\n",
            "image30.jpg\n",
            "/content/data/test_labels\n",
            "image30.jpg\n",
            "/content/data/test_labels\n",
            "image30.jpg\n",
            "/content/data/test_labels\n",
            "image30.jpg\n",
            "/content/data/test_labels\n",
            "image30.jpg\n",
            "/content/data/test_labels\n",
            "image30.jpg\n",
            "/content/data/test_labels\n",
            "image30.jpg\n",
            "/content/data/test_labels\n",
            "image30.jpg\n",
            "/content/data/test_labels\n",
            "image30.jpg\n",
            "/content/data/test_labels\n",
            "image30.jpg\n",
            "/content/data/test_labels\n",
            "image30.jpg\n",
            "/content/data/test_labels\n",
            "image30.jpg\n",
            "/content/data/test_labels\n",
            "image30.jpg\n",
            "/content/data/test_labels\n",
            "image30.jpg\n",
            "/content/data/test_labels\n",
            "image30.jpg\n",
            "/content/data/test_labels\n",
            "image30.jpg\n",
            "/content/data/test_labels\n",
            "image30.jpg\n",
            "/content/data/test_labels\n",
            "image30.jpg\n",
            "/content/data/test_labels\n",
            "image25.jpg\n",
            "/content/data/test_labels\n",
            "image25.jpg\n",
            "/content/data/test_labels\n",
            "image25.jpg\n",
            "/content/data/test_labels\n",
            "image25.jpg\n",
            "/content/data/test_labels\n",
            "image25.jpg\n",
            "/content/data/test_labels\n",
            "image25.jpg\n",
            "/content/data/test_labels\n",
            "image25.jpg\n",
            "/content/data/test_labels\n",
            "image25.jpg\n",
            "/content/data/test_labels\n",
            "image25.jpg\n",
            "/content/data/test_labels\n",
            "image25.jpg\n",
            "/content/data/test_labels\n",
            "image25.jpg\n",
            "/content/data/test_labels\n",
            "image25.jpg\n",
            "/content/data/test_labels\n",
            "image25.jpg\n",
            "/content/data/test_labels\n",
            "image25.jpg\n",
            "/content/data/test_labels\n",
            "image25.jpg\n",
            "/content/data/test_labels\n",
            "image25.jpg\n",
            "/content/data/test_labels\n",
            "image25.jpg\n",
            "/content/data/test_labels\n",
            "image25.jpg\n",
            "/content/data/test_labels\n",
            "image25.jpg\n",
            "/content/data/test_labels\n",
            "image25.jpg\n",
            "/content/data/test_labels\n",
            "image25.jpg\n",
            "/content/data/test_labels\n",
            "image25.jpg\n",
            "/content/data/test_labels\n",
            "image25.jpg\n",
            "/content/data/test_labels\n",
            "image25.jpg\n",
            "/content/data/test_labels\n",
            "image25.jpg\n",
            "/content/data/test_labels\n",
            "image25.jpg\n",
            "/content/data/test_labels\n",
            "image25.jpg\n",
            "/content/data/test_labels\n",
            "image25.jpg\n",
            "/content/data/test_labels\n",
            "image25.jpg\n",
            "/content/data/test_labels\n",
            "image25.jpg\n",
            "/content/data/test_labels\n",
            "image25.jpg\n",
            "/content/data/test_labels\n",
            "image25.jpg\n",
            "/content/data/test_labels\n",
            "image25.jpg\n",
            "/content/data/test_labels\n",
            "image25.jpg\n",
            "/content/data/test_labels\n",
            "image25.jpg\n",
            "/content/data/test_labels\n",
            "image25.jpg\n",
            "/content/data/test_labels\n",
            "image25.jpg\n",
            "/content/data/test_labels\n",
            "image25.jpg\n",
            "/content/data/test_labels\n",
            "image25.jpg\n",
            "/content/data/test_labels\n",
            "image25.jpg\n",
            "/content/data/test_labels\n",
            "image25.jpg\n",
            "/content/data/test_labels\n",
            "image25.jpg\n",
            "/content/data/test_labels\n",
            "image25.jpg\n",
            "/content/data/test_labels\n",
            "image25.jpg\n",
            "/content/data/test_labels\n",
            "image25.jpg\n",
            "/content/data/test_labels\n",
            "image25.jpg\n",
            "/content/data/test_labels\n",
            "image16.jpg\n",
            "/content/data/test_labels\n",
            "image16.jpg\n",
            "/content/data/test_labels\n",
            "image16.jpg\n",
            "/content/data/test_labels\n",
            "image16.jpg\n",
            "/content/data/test_labels\n",
            "image16.jpg\n",
            "/content/data/test_labels\n",
            "image20.jpg\n",
            "/content/data/test_labels\n",
            "image20.jpg\n",
            "/content/data/test_labels\n",
            "image20.jpg\n",
            "/content/data/test_labels\n",
            "image20.jpg\n",
            "/content/data/test_labels\n",
            "image20.jpg\n",
            "/content/data/test_labels\n",
            "image20.jpg\n",
            "/content/data/test_labels\n",
            "image20.jpg\n",
            "/content/data/test_labels\n",
            "image12.jpg\n",
            "/content/data/test_labels\n",
            "image12.jpg\n",
            "/content/data/test_labels\n",
            "image8.jpg\n",
            "/content/data/test_labels\n",
            "image8.jpg\n",
            "/content/data/test_labels\n",
            "image8.jpg\n",
            "/content/data/test_labels\n",
            "image8.jpg\n",
            "/content/data/test_labels\n",
            "image8.jpg\n",
            "/content/data/test_labels\n",
            "image8.jpg\n",
            "/content/data/test_labels\n",
            "image8.jpg\n",
            "/content/data/test_labels\n",
            "image8.jpg\n",
            "/content/data/test_labels\n",
            "image8.jpg\n",
            "/content/data/test_labels\n",
            "image8.jpg\n",
            "/content/data/test_labels\n",
            "image8.jpg\n",
            "/content/data/test_labels\n",
            "image8.jpg\n",
            "/content/data/test_labels\n",
            "image8.jpg\n",
            "/content/data/test_labels\n",
            "image8.jpg\n",
            "/content/data/test_labels\n",
            "image8.jpg\n",
            "/content/data/test_labels\n",
            "image8.jpg\n",
            "/content/data/test_labels\n",
            "image8.jpg\n",
            "/content/data/test_labels\n",
            "image8.jpg\n",
            "/content/data/test_labels\n",
            "image8.jpg\n",
            "/content/data/test_labels\n",
            "image2.jpg\n",
            "/content/data/test_labels\n",
            "image2.jpg\n",
            "/content/data/test_labels\n",
            "image2.jpg\n",
            "/content/data/test_labels\n",
            "image2.jpg\n",
            "/content/data/test_labels\n",
            "image2.jpg\n",
            "/content/data/test_labels\n",
            "image2.jpg\n",
            "/content/data/test_labels\n",
            "image2.jpg\n",
            "/content/data/test_labels\n",
            "image2.jpg\n",
            "/content/data/test_labels\n",
            "image2.jpg\n",
            "/content/data/test_labels\n",
            "image2.jpg\n",
            "/content/data/test_labels\n",
            "image1.jpg\n",
            "/content/data/test_labels\n",
            "image1.jpg\n",
            "/content/data/test_labels\n",
            "image1.jpg\n",
            "/content/data/test_labels\n",
            "image1.jpg\n",
            "/content/data/test_labels\n",
            "image1.jpg\n",
            "/content/data/test_labels\n",
            "image1.jpg\n",
            "/content/data/test_labels\n",
            "image7.jpg\n",
            "/content/data/test_labels\n",
            "image7.jpg\n",
            "/content/data/test_labels\n",
            "image7.jpg\n",
            "/content/data/test_labels\n",
            "image7.jpg\n",
            "/content/data/test_labels\n",
            "image7.jpg\n",
            "/content/data/test_labels\n",
            "image7.jpg\n",
            "/content/data/test_labels\n",
            "image7.jpg\n",
            "/content/data/test_labels\n",
            "image7.jpg\n",
            "/content/data/test_labels\n",
            "image7.jpg\n",
            "/content/data/test_labels\n",
            "image7.jpg\n",
            "/content/data/test_labels\n",
            "image7.jpg\n",
            "/content/data/test_labels\n",
            "image7.jpg\n",
            "/content/data/test_labels\n",
            "image7.jpg\n",
            "/content/data/test_labels\n",
            "image7.jpg\n",
            "/content/data/test_labels\n",
            "image7.jpg\n",
            "/content/data/test_labels\n",
            "image7.jpg\n",
            "/content/data/test_labels\n",
            "image7.jpg\n",
            "/content/data/test_labels\n",
            "image7.jpg\n",
            "/content/data/test_labels\n",
            "image5.jpg\n",
            "/content/data/test_labels\n",
            "image5.jpg\n",
            "/content/data/test_labels\n",
            "image5.jpg\n",
            "/content/data/test_labels\n",
            "image5.jpg\n",
            "/content/data/test_labels\n",
            "image15.jpg\n",
            "/content/data/test_labels\n",
            "image15.jpg\n",
            "/content/data/test_labels\n",
            "image15.jpg\n",
            "/content/data/test_labels\n",
            "image31.jpg\n",
            "/content/data/test_labels\n",
            "image31.jpg\n",
            "/content/data/test_labels\n",
            "image28.jpg\n",
            "/content/data/test_labels\n",
            "image28.jpg\n",
            "/content/data/test_labels\n",
            "image28.jpg\n",
            "/content/data/test_labels\n",
            "image28.jpg\n",
            "/content/data/test_labels\n",
            "image28.jpg\n",
            "/content/data/test_labels\n",
            "image28.jpg\n",
            "/content/data/test_labels\n",
            "image28.jpg\n",
            "/content/data/test_labels\n",
            "image28.jpg\n",
            "/content/data/test_labels\n",
            "image28.jpg\n",
            "/content/data/test_labels\n",
            "image28.jpg\n",
            "/content/data/test_labels\n",
            "image28.jpg\n",
            "/content/data/test_labels\n",
            "image28.jpg\n",
            "/content/data/test_labels\n",
            "image28.jpg\n",
            "/content/data/test_labels\n",
            "image28.jpg\n",
            "/content/data/test_labels\n",
            "image28.jpg\n",
            "/content/data/test_labels\n",
            "image28.jpg\n",
            "/content/data/test_labels\n",
            "image28.jpg\n",
            "/content/data/test_labels\n",
            "image28.jpg\n",
            "/content/data/test_labels\n",
            "image28.jpg\n",
            "/content/data/test_labels\n",
            "image28.jpg\n",
            "/content/data/test_labels\n",
            "image34.jpg\n",
            "/content/data/test_labels\n",
            "image34.jpg\n",
            "/content/data/test_labels\n",
            "image34.jpg\n",
            "/content/data/test_labels\n",
            "image34.jpg\n",
            "/content/data/test_labels\n",
            "image34.jpg\n",
            "/content/data/test_labels\n",
            "image34.jpg\n",
            "/content/data/test_labels\n",
            "image34.jpg\n",
            "/content/data/test_labels\n",
            "image34.jpg\n",
            "/content/data/test_labels\n",
            "image34.jpg\n",
            "/content/data/test_labels\n",
            "image34.jpg\n",
            "/content/data/test_labels\n",
            "image34.jpg\n",
            "/content/data/test_labels\n",
            "image34.jpg\n",
            "/content/data/test_labels\n",
            "image34.jpg\n",
            "/content/data/test_labels\n",
            "image34.jpg\n",
            "/content/data/test_labels\n",
            "image34.jpg\n",
            "/content/data/test_labels\n",
            "image34.jpg\n",
            "/content/data/test_labels\n",
            "image34.jpg\n",
            "/content/data/test_labels\n",
            "image34.jpg\n",
            "/content/data/test_labels\n",
            "image34.jpg\n",
            "/content/data/test_labels\n",
            "image34.jpg\n",
            "/content/data/test_labels\n",
            "image34.jpg\n",
            "/content/data/test_labels\n",
            "image34.jpg\n",
            "/content/data/test_labels\n",
            "image34.jpg\n",
            "/content/data/test_labels\n",
            "image34.jpg\n",
            "/content/data/test_labels\n",
            "image34.jpg\n",
            "/content/data/test_labels\n",
            "image34.jpg\n",
            "/content/data/test_labels\n",
            "image34.jpg\n",
            "/content/data/test_labels\n",
            "image34.jpg\n",
            "/content/data/test_labels\n",
            "image34.jpg\n",
            "/content/data/test_labels\n",
            "image34.jpg\n",
            "/content/data/test_labels\n",
            "image34.jpg\n",
            "/content/data/test_labels\n",
            "image34.jpg\n",
            "/content/data/test_labels\n",
            "image14.jpg\n",
            "/content/data/test_labels\n",
            "image29.jpg\n",
            "/content/data/test_labels\n",
            "image29.jpg\n",
            "/content/data/test_labels\n",
            "image29.jpg\n",
            "/content/data/test_labels\n",
            "image29.jpg\n",
            "/content/data/test_labels\n",
            "image29.jpg\n",
            "/content/data/test_labels\n",
            "image29.jpg\n",
            "/content/data/test_labels\n",
            "image29.jpg\n",
            "/content/data/test_labels\n",
            "image29.jpg\n",
            "/content/data/test_labels\n",
            "image29.jpg\n",
            "/content/data/test_labels\n",
            "image29.jpg\n",
            "/content/data/test_labels\n",
            "image29.jpg\n",
            "/content/data/test_labels\n",
            "image29.jpg\n",
            "/content/data/test_labels\n",
            "image29.jpg\n",
            "/content/data/test_labels\n",
            "image29.jpg\n",
            "/content/data/test_labels\n",
            "image29.jpg\n",
            "/content/data/test_labels\n",
            "image29.jpg\n",
            "/content/data/test_labels\n",
            "image29.jpg\n",
            "/content/data/test_labels\n",
            "image29.jpg\n",
            "/content/data/test_labels\n",
            "image29.jpg\n",
            "/content/data/test_labels\n",
            "image32.jpg\n",
            "/content/data/test_labels\n",
            "image32.jpg\n",
            "/content/data/test_labels\n",
            "image32.jpg\n",
            "/content/data/test_labels\n",
            "image32.jpg\n",
            "/content/data/test_labels\n",
            "image32.jpg\n",
            "/content/data/test_labels\n",
            "image32.jpg\n",
            "/content/data/test_labels\n",
            "image32.jpg\n",
            "/content/data/test_labels\n",
            "image32.jpg\n",
            "/content/data/test_labels\n",
            "image32.jpg\n",
            "/content/data/test_labels\n",
            "image32.jpg\n",
            "/content/data/test_labels\n",
            "image32.jpg\n",
            "/content/data/test_labels\n",
            "image32.jpg\n",
            "/content/data/test_labels\n",
            "image32.jpg\n",
            "/content/data/test_labels\n",
            "image35.jpg\n",
            "/content/data/test_labels\n",
            "image35.jpg\n",
            "/content/data/test_labels\n",
            "image35.jpg\n",
            "/content/data/test_labels\n",
            "image35.jpg\n",
            "/content/data/test_labels\n",
            "image35.jpg\n",
            "/content/data/test_labels\n",
            "image35.jpg\n",
            "/content/data/test_labels\n",
            "image35.jpg\n",
            "/content/data/test_labels\n",
            "image35.jpg\n",
            "/content/data/test_labels\n",
            "image35.jpg\n",
            "/content/data/test_labels\n",
            "image35.jpg\n",
            "/content/data/test_labels\n",
            "image35.jpg\n",
            "/content/data/test_labels\n",
            "image35.jpg\n",
            "/content/data/test_labels\n",
            "image35.jpg\n",
            "/content/data/test_labels\n",
            "image35.jpg\n",
            "/content/data/test_labels\n",
            "image35.jpg\n",
            "/content/data/test_labels\n",
            "image35.jpg\n",
            "/content/data/test_labels\n",
            "image0.jpg\n",
            "/content/data/test_labels\n",
            "image0.jpg\n",
            "/content/data/test_labels\n",
            "image0.jpg\n",
            "/content/data/test_labels\n",
            "image0.jpg\n",
            "/content/data/test_labels\n",
            "image0.jpg\n",
            "/content/data/test_labels\n",
            "image0.jpg\n",
            "/content/data/test_labels\n",
            "image0.jpg\n",
            "/content/data/test_labels\n",
            "image0.jpg\n",
            "/content/data/test_labels\n",
            "image0.jpg\n",
            "/content/data/test_labels\n",
            "image36.jpg\n",
            "/content/data/test_labels\n",
            "image36.jpg\n",
            "/content/data/test_labels\n",
            "image36.jpg\n",
            "/content/data/test_labels\n",
            "image36.jpg\n",
            "/content/data/test_labels\n",
            "image36.jpg\n",
            "/content/data/test_labels\n",
            "image36.jpg\n",
            "/content/data/test_labels\n",
            "image36.jpg\n",
            "/content/data/test_labels\n",
            "image36.jpg\n",
            "/content/data/test_labels\n",
            "image36.jpg\n",
            "/content/data/test_labels\n",
            "image36.jpg\n",
            "/content/data/test_labels\n",
            "image36.jpg\n",
            "/content/data/test_labels\n",
            "image9.jpg\n",
            "/content/data/test_labels\n",
            "image9.jpg\n",
            "/content/data/test_labels\n",
            "image9.jpg\n",
            "/content/data/test_labels\n",
            "image9.jpg\n",
            "/content/data/test_labels\n",
            "image9.jpg\n",
            "/content/data/test_labels\n",
            "image9.jpg\n",
            "/content/data/test_labels\n",
            "image9.jpg\n",
            "/content/data/test_labels\n",
            "image9.jpg\n",
            "/content/data/test_labels\n",
            "image9.jpg\n",
            "/content/data/test_labels\n",
            "image9.jpg\n",
            "/content/data/test_labels\n",
            "image9.jpg\n",
            "/content/data/test_labels\n",
            "image9.jpg\n",
            "/content/data/test_labels\n",
            "image9.jpg\n",
            "/content/data/test_labels\n",
            "image9.jpg\n",
            "/content/data/test_labels\n",
            "image9.jpg\n",
            "/content/data/test_labels\n",
            "image9.jpg\n",
            "/content/data/test_labels\n",
            "image9.jpg\n",
            "/content/data/test_labels\n",
            "image9.jpg\n",
            "/content/data/test_labels\n",
            "image9.jpg\n",
            "/content/data/test_labels\n",
            "image9.jpg\n",
            "/content/data/test_labels\n",
            "image33.jpg\n",
            "/content/data/test_labels\n",
            "image33.jpg\n",
            "/content/data/test_labels\n",
            "image33.jpg\n",
            "/content/data/test_labels\n",
            "image33.jpg\n",
            "/content/data/test_labels\n",
            "image33.jpg\n",
            "/content/data/test_labels\n",
            "image33.jpg\n",
            "/content/data/test_labels\n",
            "image33.jpg\n",
            "/content/data/test_labels\n",
            "image33.jpg\n",
            "/content/data/test_labels\n",
            "image33.jpg\n",
            "/content/data/test_labels\n",
            "image33.jpg\n",
            "/content/data/test_labels\n",
            "image33.jpg\n",
            "/content/data/test_labels\n",
            "image33.jpg\n",
            "/content/data/test_labels\n",
            "image33.jpg\n",
            "/content/data/test_labels\n",
            "image33.jpg\n",
            "/content/data/test_labels\n",
            "image33.jpg\n",
            "/content/data/test_labels\n",
            "image33.jpg\n",
            "/content/data/test_labels\n",
            "image33.jpg\n",
            "/content/data/test_labels\n",
            "image33.jpg\n",
            "/content/data/test_labels\n",
            "image33.jpg\n",
            "/content/data/test_labels\n",
            "image33.jpg\n",
            "/content/data/test_labels\n",
            "image33.jpg\n",
            "/content/data/test_labels\n",
            "image33.jpg\n",
            "/content/data/test_labels\n",
            "image33.jpg\n",
            "/content/data/test_labels\n",
            "image33.jpg\n",
            "/content/data/test_labels\n",
            "image33.jpg\n",
            "/content/data/test_labels\n",
            "image38.jpg\n",
            "/content/data/test_labels\n",
            "image38.jpg\n",
            "/content/data/test_labels\n",
            "image38.jpg\n",
            "/content/data/test_labels\n",
            "image38.jpg\n",
            "/content/data/test_labels\n",
            "image38.jpg\n",
            "/content/data/test_labels\n",
            "image38.jpg\n",
            "/content/data/test_labels\n",
            "image38.jpg\n",
            "/content/data/test_labels\n",
            "image38.jpg\n",
            "/content/data/test_labels\n",
            "image38.jpg\n",
            "/content/data/test_labels\n",
            "image38.jpg\n",
            "/content/data/test_labels\n",
            "image38.jpg\n",
            "\n",
            "Checked 429 files and realized 0 errors\n",
            "-----\n",
            "[*] Checking file: test_labels.csv\n",
            "/content/data/test_labels\n",
            "image23.jpg\n",
            "/content/data/test_labels\n",
            "image23.jpg\n",
            "/content/data/test_labels\n",
            "image23.jpg\n",
            "/content/data/test_labels\n",
            "image23.jpg\n",
            "/content/data/test_labels\n",
            "image23.jpg\n",
            "/content/data/test_labels\n",
            "image23.jpg\n",
            "/content/data/test_labels\n",
            "image23.jpg\n",
            "/content/data/test_labels\n",
            "image23.jpg\n",
            "/content/data/test_labels\n",
            "image23.jpg\n",
            "/content/data/test_labels\n",
            "image23.jpg\n",
            "/content/data/test_labels\n",
            "image23.jpg\n",
            "/content/data/test_labels\n",
            "image23.jpg\n",
            "/content/data/test_labels\n",
            "image23.jpg\n",
            "/content/data/test_labels\n",
            "image23.jpg\n",
            "/content/data/test_labels\n",
            "image23.jpg\n",
            "/content/data/test_labels\n",
            "image23.jpg\n",
            "/content/data/test_labels\n",
            "image23.jpg\n",
            "/content/data/test_labels\n",
            "image23.jpg\n",
            "/content/data/test_labels\n",
            "image23.jpg\n",
            "/content/data/test_labels\n",
            "image23.jpg\n",
            "/content/data/test_labels\n",
            "image23.jpg\n",
            "/content/data/test_labels\n",
            "image23.jpg\n",
            "/content/data/test_labels\n",
            "image23.jpg\n",
            "/content/data/test_labels\n",
            "image23.jpg\n",
            "/content/data/test_labels\n",
            "image23.jpg\n",
            "/content/data/test_labels\n",
            "image23.jpg\n",
            "/content/data/test_labels\n",
            "image23.jpg\n",
            "/content/data/test_labels\n",
            "image23.jpg\n",
            "/content/data/test_labels\n",
            "image23.jpg\n",
            "/content/data/test_labels\n",
            "image23.jpg\n",
            "/content/data/test_labels\n",
            "image39.jpg\n",
            "/content/data/test_labels\n",
            "image39.jpg\n",
            "/content/data/test_labels\n",
            "image39.jpg\n",
            "/content/data/test_labels\n",
            "image39.jpg\n",
            "/content/data/test_labels\n",
            "image39.jpg\n",
            "/content/data/test_labels\n",
            "image39.jpg\n",
            "/content/data/test_labels\n",
            "image39.jpg\n",
            "/content/data/test_labels\n",
            "image39.jpg\n",
            "/content/data/test_labels\n",
            "image39.jpg\n",
            "/content/data/test_labels\n",
            "image39.jpg\n",
            "/content/data/test_labels\n",
            "image39.jpg\n",
            "/content/data/test_labels\n",
            "image39.jpg\n",
            "/content/data/test_labels\n",
            "image39.jpg\n",
            "/content/data/test_labels\n",
            "image39.jpg\n",
            "/content/data/test_labels\n",
            "image39.jpg\n",
            "/content/data/test_labels\n",
            "image39.jpg\n",
            "/content/data/test_labels\n",
            "image39.jpg\n",
            "/content/data/test_labels\n",
            "image39.jpg\n",
            "/content/data/test_labels\n",
            "image39.jpg\n",
            "/content/data/test_labels\n",
            "image39.jpg\n",
            "/content/data/test_labels\n",
            "image39.jpg\n",
            "/content/data/test_labels\n",
            "image39.jpg\n",
            "/content/data/test_labels\n",
            "image39.jpg\n",
            "/content/data/test_labels\n",
            "image39.jpg\n",
            "/content/data/test_labels\n",
            "image39.jpg\n",
            "/content/data/test_labels\n",
            "image3.jpg\n",
            "/content/data/test_labels\n",
            "image3.jpg\n",
            "/content/data/test_labels\n",
            "image3.jpg\n",
            "/content/data/test_labels\n",
            "image3.jpg\n",
            "/content/data/test_labels\n",
            "image3.jpg\n",
            "/content/data/test_labels\n",
            "image3.jpg\n",
            "/content/data/test_labels\n",
            "image3.jpg\n",
            "/content/data/test_labels\n",
            "image3.jpg\n",
            "/content/data/test_labels\n",
            "image3.jpg\n",
            "/content/data/test_labels\n",
            "image3.jpg\n",
            "/content/data/test_labels\n",
            "image3.jpg\n",
            "/content/data/test_labels\n",
            "image3.jpg\n",
            "/content/data/test_labels\n",
            "image3.jpg\n",
            "/content/data/test_labels\n",
            "image3.jpg\n",
            "/content/data/test_labels\n",
            "image3.jpg\n",
            "/content/data/test_labels\n",
            "image3.jpg\n",
            "/content/data/test_labels\n",
            "image3.jpg\n",
            "/content/data/test_labels\n",
            "image3.jpg\n",
            "/content/data/test_labels\n",
            "image27.jpg\n",
            "/content/data/test_labels\n",
            "image27.jpg\n",
            "/content/data/test_labels\n",
            "image27.jpg\n",
            "/content/data/test_labels\n",
            "image27.jpg\n",
            "/content/data/test_labels\n",
            "image27.jpg\n",
            "/content/data/test_labels\n",
            "image27.jpg\n",
            "/content/data/test_labels\n",
            "image27.jpg\n",
            "/content/data/test_labels\n",
            "image27.jpg\n",
            "/content/data/test_labels\n",
            "image27.jpg\n",
            "/content/data/test_labels\n",
            "image27.jpg\n",
            "/content/data/test_labels\n",
            "image27.jpg\n",
            "/content/data/test_labels\n",
            "image27.jpg\n",
            "/content/data/test_labels\n",
            "image27.jpg\n",
            "/content/data/test_labels\n",
            "image27.jpg\n",
            "/content/data/test_labels\n",
            "image27.jpg\n",
            "/content/data/test_labels\n",
            "image27.jpg\n",
            "/content/data/test_labels\n",
            "image27.jpg\n",
            "/content/data/test_labels\n",
            "image27.jpg\n",
            "/content/data/test_labels\n",
            "image27.jpg\n",
            "/content/data/test_labels\n",
            "image27.jpg\n",
            "/content/data/test_labels\n",
            "image27.jpg\n",
            "/content/data/test_labels\n",
            "image24.jpg\n",
            "/content/data/test_labels\n",
            "image24.jpg\n",
            "/content/data/test_labels\n",
            "image24.jpg\n",
            "/content/data/test_labels\n",
            "image24.jpg\n",
            "/content/data/test_labels\n",
            "image24.jpg\n",
            "/content/data/test_labels\n",
            "image24.jpg\n",
            "/content/data/test_labels\n",
            "image24.jpg\n",
            "/content/data/test_labels\n",
            "image24.jpg\n",
            "/content/data/test_labels\n",
            "image24.jpg\n",
            "/content/data/test_labels\n",
            "image24.jpg\n",
            "/content/data/test_labels\n",
            "image24.jpg\n",
            "/content/data/test_labels\n",
            "image24.jpg\n",
            "/content/data/test_labels\n",
            "image24.jpg\n",
            "/content/data/test_labels\n",
            "image24.jpg\n",
            "/content/data/test_labels\n",
            "image24.jpg\n",
            "/content/data/test_labels\n",
            "image24.jpg\n",
            "/content/data/test_labels\n",
            "image24.jpg\n",
            "/content/data/test_labels\n",
            "image24.jpg\n",
            "/content/data/test_labels\n",
            "image24.jpg\n",
            "/content/data/test_labels\n",
            "image24.jpg\n",
            "/content/data/test_labels\n",
            "image24.jpg\n",
            "/content/data/test_labels\n",
            "image24.jpg\n",
            "/content/data/test_labels\n",
            "image24.jpg\n",
            "/content/data/test_labels\n",
            "image24.jpg\n",
            "/content/data/test_labels\n",
            "image24.jpg\n",
            "/content/data/test_labels\n",
            "image24.jpg\n",
            "/content/data/test_labels\n",
            "image24.jpg\n",
            "/content/data/test_labels\n",
            "image24.jpg\n",
            "/content/data/test_labels\n",
            "image24.jpg\n",
            "/content/data/test_labels\n",
            "image24.jpg\n",
            "/content/data/test_labels\n",
            "image24.jpg\n",
            "/content/data/test_labels\n",
            "image24.jpg\n",
            "/content/data/test_labels\n",
            "image24.jpg\n",
            "/content/data/test_labels\n",
            "image24.jpg\n",
            "/content/data/test_labels\n",
            "image24.jpg\n",
            "/content/data/test_labels\n",
            "image24.jpg\n",
            "/content/data/test_labels\n",
            "image24.jpg\n",
            "/content/data/test_labels\n",
            "image24.jpg\n",
            "/content/data/test_labels\n",
            "image24.jpg\n",
            "/content/data/test_labels\n",
            "image24.jpg\n",
            "/content/data/test_labels\n",
            "image37.jpg\n",
            "/content/data/test_labels\n",
            "image37.jpg\n",
            "/content/data/test_labels\n",
            "image37.jpg\n",
            "/content/data/test_labels\n",
            "image37.jpg\n",
            "/content/data/test_labels\n",
            "image37.jpg\n",
            "/content/data/test_labels\n",
            "image37.jpg\n",
            "/content/data/test_labels\n",
            "image37.jpg\n",
            "/content/data/test_labels\n",
            "image37.jpg\n",
            "/content/data/test_labels\n",
            "image37.jpg\n",
            "/content/data/test_labels\n",
            "image37.jpg\n",
            "/content/data/test_labels\n",
            "image37.jpg\n",
            "/content/data/test_labels\n",
            "image37.jpg\n",
            "/content/data/test_labels\n",
            "image37.jpg\n",
            "/content/data/test_labels\n",
            "image37.jpg\n",
            "/content/data/test_labels\n",
            "image37.jpg\n",
            "/content/data/test_labels\n",
            "image37.jpg\n",
            "/content/data/test_labels\n",
            "image37.jpg\n",
            "/content/data/test_labels\n",
            "image37.jpg\n",
            "/content/data/test_labels\n",
            "image37.jpg\n",
            "/content/data/test_labels\n",
            "image37.jpg\n",
            "/content/data/test_labels\n",
            "image37.jpg\n",
            "/content/data/test_labels\n",
            "image37.jpg\n",
            "/content/data/test_labels\n",
            "image37.jpg\n",
            "/content/data/test_labels\n",
            "image37.jpg\n",
            "/content/data/test_labels\n",
            "image37.jpg\n",
            "/content/data/test_labels\n",
            "image22.jpg\n",
            "/content/data/test_labels\n",
            "image22.jpg\n",
            "/content/data/test_labels\n",
            "image22.jpg\n",
            "/content/data/test_labels\n",
            "image22.jpg\n",
            "/content/data/test_labels\n",
            "image22.jpg\n",
            "/content/data/test_labels\n",
            "image22.jpg\n",
            "/content/data/test_labels\n",
            "image22.jpg\n",
            "/content/data/test_labels\n",
            "image22.jpg\n",
            "/content/data/test_labels\n",
            "image22.jpg\n",
            "/content/data/test_labels\n",
            "image22.jpg\n",
            "/content/data/test_labels\n",
            "image22.jpg\n",
            "/content/data/test_labels\n",
            "image22.jpg\n",
            "/content/data/test_labels\n",
            "image22.jpg\n",
            "/content/data/test_labels\n",
            "image22.jpg\n",
            "/content/data/test_labels\n",
            "image22.jpg\n",
            "/content/data/test_labels\n",
            "image22.jpg\n",
            "/content/data/test_labels\n",
            "image22.jpg\n",
            "/content/data/test_labels\n",
            "image22.jpg\n",
            "/content/data/test_labels\n",
            "image22.jpg\n",
            "/content/data/test_labels\n",
            "image22.jpg\n",
            "/content/data/test_labels\n",
            "image22.jpg\n",
            "/content/data/test_labels\n",
            "image22.jpg\n",
            "/content/data/test_labels\n",
            "image22.jpg\n",
            "/content/data/test_labels\n",
            "image22.jpg\n",
            "/content/data/test_labels\n",
            "image22.jpg\n",
            "/content/data/test_labels\n",
            "image22.jpg\n",
            "/content/data/test_labels\n",
            "image22.jpg\n",
            "/content/data/test_labels\n",
            "image22.jpg\n",
            "/content/data/test_labels\n",
            "image22.jpg\n",
            "/content/data/test_labels\n",
            "image22.jpg\n",
            "/content/data/test_labels\n",
            "image22.jpg\n",
            "/content/data/test_labels\n",
            "image22.jpg\n",
            "/content/data/test_labels\n",
            "image22.jpg\n",
            "/content/data/test_labels\n",
            "image22.jpg\n",
            "/content/data/test_labels\n",
            "image22.jpg\n",
            "/content/data/test_labels\n",
            "image22.jpg\n",
            "/content/data/test_labels\n",
            "image19.jpg\n",
            "/content/data/test_labels\n",
            "image19.jpg\n",
            "/content/data/test_labels\n",
            "image19.jpg\n",
            "/content/data/test_labels\n",
            "image19.jpg\n",
            "/content/data/test_labels\n",
            "image19.jpg\n",
            "/content/data/test_labels\n",
            "image19.jpg\n",
            "/content/data/test_labels\n",
            "image19.jpg\n",
            "\n",
            "Checked 202 files and realized 0 errors\n",
            "-----\n"
          ],
          "name": "stdout"
        }
      ]
    },
    {
      "cell_type": "markdown",
      "metadata": {
        "id": "WC9LwYj9Q_Ap",
        "colab_type": "text"
      },
      "source": [
        "## Fix Data if Any Error is Found"
      ]
    },
    {
      "cell_type": "code",
      "metadata": {
        "id": "NuypW3tP1M4j",
        "colab_type": "code",
        "colab": {}
      },
      "source": [
        "# if removing needed:\n",
        "#rm images/'image(39).jpg'\n",
        "\n",
        "#removing the entry for it in the csv for that image as well\n",
        "\n",
        "#because we did a random split for the data, we dont know if it ended up being in training or testing\n",
        "# we will remove the image from both.\n",
        "\n",
        "#training\n",
        "#reading the training csv\n",
        "#df = pd.read_csv('/content/{project}}/data/train_labels.csv')\n",
        "# removing image(39).jpg\n",
        "#df = df[df['filename'] != 'image(39).jpg']\n",
        "#reseting the index\n",
        "#df.reset_index(drop=True, inplace=True)\n",
        "#saving the df\n",
        "#df.to_csv('/content/{project}/data/train_labels.csv')\n",
        "\n",
        "\n",
        "#testing\n",
        "#reading the testing csv\n",
        "#df = pd.read_csv('/content/{project}/data/test_labels.csv')\n",
        "# removing image(39).jpg\n",
        "#df = df[df['filename'] != 'image(39)'.jpg']\n",
        "#reseting the index\n",
        "#df.reset_index(drop=True, inplace=True)\n",
        "#saving the df\n",
        "#df.to_csv('/content/{project}/data/test_labels.csv')\n",
        "\n",
        "# Just for the memory\n",
        "#df = None\n"
      ],
      "execution_count": 0,
      "outputs": []
    },
    {
      "cell_type": "code",
      "metadata": {
        "id": "zBx4hY2A7_lI",
        "colab_type": "code",
        "colab": {}
      },
      "source": [
        ""
      ],
      "execution_count": 0,
      "outputs": []
    },
    {
      "cell_type": "code",
      "metadata": {
        "id": "9FDPlk7V7_zQ",
        "colab_type": "code",
        "colab": {
          "base_uri": "https://localhost:8080/",
          "height": 34
        },
        "outputId": "e592b128-b800-4886-d842-b0bf9eb715a1"
      },
      "source": [
        "cd .."
      ],
      "execution_count": 39,
      "outputs": [
        {
          "output_type": "stream",
          "text": [
            "/content\n"
          ],
          "name": "stdout"
        }
      ]
    },
    {
      "cell_type": "markdown",
      "metadata": {
        "id": "jbsnW9nW9PEk",
        "colab_type": "text"
      },
      "source": [
        "## Generating Tf record\n",
        "- Generating two TFRecords files for the training and testing CSVs.\n",
        "- Tensorflow accepts the data as tfrecords which is a binary file that run fast with low memory usage. Instead of loading the full data into memory, Tenorflow breaks the data into batches using these TFRecords automatically"
      ]
    },
    {
      "cell_type": "code",
      "metadata": {
        "id": "uVIRRdVUJgNV",
        "colab_type": "code",
        "colab": {}
      },
      "source": [
        ""
      ],
      "execution_count": 0,
      "outputs": []
    },
    {
      "cell_type": "code",
      "metadata": {
        "id": "SC_l1PP1JgPv",
        "colab_type": "code",
        "colab": {}
      },
      "source": [
        ""
      ],
      "execution_count": 0,
      "outputs": []
    },
    {
      "cell_type": "code",
      "metadata": {
        "id": "KTnAWByoJgR7",
        "colab_type": "code",
        "colab": {
          "base_uri": "https://localhost:8080/",
          "height": 34
        },
        "outputId": "6bd5a54b-f4c9-43a6-d754-b143ca4d0857"
      },
      "source": [
        "cd /content/models/research"
      ],
      "execution_count": 40,
      "outputs": [
        {
          "output_type": "stream",
          "text": [
            "/content/models/research\n"
          ],
          "name": "stdout"
        }
      ]
    },
    {
      "cell_type": "code",
      "metadata": {
        "id": "KEH4DBud9hDH",
        "colab_type": "code",
        "colab": {}
      },
      "source": [
        "from object_detection.utils import dataset_util\n",
        "from collections import namedtuple"
      ],
      "execution_count": 0,
      "outputs": []
    },
    {
      "cell_type": "code",
      "metadata": {
        "id": "nFTP_kdS-BDG",
        "colab_type": "code",
        "colab": {
          "base_uri": "https://localhost:8080/",
          "height": 34
        },
        "outputId": "7045eb0f-8d41-4196-8681-0e889461771d"
      },
      "source": [
        "cd .."
      ],
      "execution_count": 42,
      "outputs": [
        {
          "output_type": "stream",
          "text": [
            "/content/models\n"
          ],
          "name": "stdout"
        }
      ]
    },
    {
      "cell_type": "code",
      "metadata": {
        "id": "vW5wjMpQ_s7w",
        "colab_type": "code",
        "colab": {}
      },
      "source": [
        "DATA_BASE_PATH = \"/content/data/\"\n",
        "image_dir = DATA_BASE_PATH +'images/'"
      ],
      "execution_count": 0,
      "outputs": []
    },
    {
      "cell_type": "code",
      "metadata": {
        "id": "d59h3HO2_xiJ",
        "colab_type": "code",
        "colab": {
          "base_uri": "https://localhost:8080/",
          "height": 34
        },
        "outputId": "0cab6f59-fbf1-4597-8328-c1d20177dc63"
      },
      "source": [
        "image_dir"
      ],
      "execution_count": 44,
      "outputs": [
        {
          "output_type": "execute_result",
          "data": {
            "text/plain": [
              "'/content/data/images/'"
            ]
          },
          "metadata": {
            "tags": []
          },
          "execution_count": 44
        }
      ]
    },
    {
      "cell_type": "code",
      "metadata": {
        "id": "GXt8VE-gM1oR",
        "colab_type": "code",
        "colab": {}
      },
      "source": [
        ""
      ],
      "execution_count": 0,
      "outputs": []
    },
    {
      "cell_type": "code",
      "metadata": {
        "id": "CZCQugvm9XET",
        "colab_type": "code",
        "colab": {
          "base_uri": "https://localhost:8080/",
          "height": 50
        },
        "outputId": "edb89350-355b-48f8-b2b7-9acd0227f4cc"
      },
      "source": [
        "#adjusted from: https://github.com/datitran/raccoon_dataset\n",
        "\n",
        "# converts the csv files for training and testing data to two TFRecords files.\n",
        "# places the output in the same directory as the input\n",
        "#from object_detection.utils import dataset_util\n",
        "#%cd /content/gun_detection/models/\n",
        "\n",
        "#### THIS MUST BE CHANGED FOR DIFFERENT APPLICATION\n",
        "\n",
        "def class_text_to_int(row_label):\n",
        "    if (row_label == 'distress'):\n",
        "\t\t    return 1\n",
        "    else:\n",
        "\t\t    None\n",
        "\n",
        "\n",
        "def split(df, group):\n",
        "\t\tdata = namedtuple('data', ['filename', 'object'])\n",
        "\t\tgb = df.groupby(group)\n",
        "\t\treturn [data(filename, gb.get_group(x)) for filename, x in zip(gb.groups.keys(), gb.groups)]\n",
        "\n",
        "def create_tf_example(group, path):\n",
        "\t\twith tf.io.gfile.GFile(os.path.join(path, '{}'.format(group.filename)), 'rb') as fid:\n",
        "\t\t\t\tencoded_jpg = fid.read()\n",
        "\t\tencoded_jpg_io = io.BytesIO(encoded_jpg)\n",
        "\t\timage = Image.open(encoded_jpg_io)\n",
        "\t\twidth, height = image.size\n",
        "\n",
        "\t\tfilename = group.filename.encode('utf8')\n",
        "\t\timage_format = b'jpg'\n",
        "\t\txmins = []\n",
        "\t\txmaxs = []\n",
        "\t\tymins = []\n",
        "\t\tymaxs = []\n",
        "\t\tclasses_text = []\n",
        "\t\tclasses = []\n",
        "\n",
        "\t\tfor index, row in group.object.iterrows():\n",
        "\t\t\t\txmins.append(row['xmin'] / width)\n",
        "\t\t\t\txmaxs.append(row['xmax'] / width)\n",
        "\t\t\t\tymins.append(row['ymin'] / height)\n",
        "\t\t\t\tymaxs.append(row['ymax'] / height)\n",
        "\t\t\t\tclasses_text.append(row['class'].encode('utf8'))\n",
        "\t\t\t\tclasses.append(class_text_to_int(row['class']))\n",
        "\n",
        "\t\ttf_example = tf.train.Example(features=tf.train.Features(feature={\n",
        "\t\t\t\t'image/height': dataset_util.int64_feature(height),\n",
        "\t\t\t\t'image/width': dataset_util.int64_feature(width),\n",
        "\t\t\t\t'image/filename': dataset_util.bytes_feature(filename),\n",
        "\t\t\t\t'image/source_id': dataset_util.bytes_feature(filename),\n",
        "\t\t\t\t'image/encoded': dataset_util.bytes_feature(encoded_jpg),\n",
        "\t\t\t\t'image/format': dataset_util.bytes_feature(image_format),\n",
        "\t\t\t\t'image/object/bbox/xmin': dataset_util.float_list_feature(xmins),\n",
        "\t\t\t\t'image/object/bbox/xmax': dataset_util.float_list_feature(xmaxs),\n",
        "\t\t\t\t'image/object/bbox/ymin': dataset_util.float_list_feature(ymins),\n",
        "\t\t\t\t'image/object/bbox/ymax': dataset_util.float_list_feature(ymaxs),\n",
        "\t\t\t\t'image/object/class/text': dataset_util.bytes_list_feature(classes_text),\n",
        "\t\t\t\t'image/object/class/label': dataset_util.int64_list_feature(classes),\n",
        "\t\t}))\n",
        "\t\treturn tf_example\n",
        "\n",
        "for csv in ['train_labels', 'test_labels']:\n",
        "  writer = tf.io.TFRecordWriter(DATA_BASE_PATH + csv + '.record')\n",
        "  path = os.path.join(image_dir)\n",
        "  examples = pd.read_csv(DATA_BASE_PATH + csv + '.csv')\n",
        "  grouped = split(examples, 'filename')\n",
        "  for group in grouped:\n",
        "      tf_example = create_tf_example(group, path)\n",
        "      writer.write(tf_example.SerializeToString())\n",
        "    \n",
        "  writer.close()\n",
        "  output_path = os.path.join(os.getcwd(), DATA_BASE_PATH + csv + '.record')\n",
        "  print('Successfully created the TFRecords: {}'.format(DATA_BASE_PATH +csv + '.record'))"
      ],
      "execution_count": 49,
      "outputs": [
        {
          "output_type": "stream",
          "text": [
            "Successfully created the TFRecords: /content/data/train_labels.record\n",
            "Successfully created the TFRecords: /content/data/test_labels.record\n"
          ],
          "name": "stdout"
        }
      ]
    },
    {
      "cell_type": "code",
      "metadata": {
        "id": "YR_6ZoVI78LE",
        "colab_type": "code",
        "colab": {}
      },
      "source": [
        ""
      ],
      "execution_count": 0,
      "outputs": []
    },
    {
      "cell_type": "code",
      "metadata": {
        "id": "PM8CGR_V78Nk",
        "colab_type": "code",
        "colab": {}
      },
      "source": [
        ""
      ],
      "execution_count": 0,
      "outputs": []
    },
    {
      "cell_type": "code",
      "metadata": {
        "id": "xnB6mmJj78Py",
        "colab_type": "code",
        "colab": {}
      },
      "source": [
        ""
      ],
      "execution_count": 0,
      "outputs": []
    }
  ]
}