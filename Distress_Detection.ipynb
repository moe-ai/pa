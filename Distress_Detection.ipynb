{
  "nbformat": 4,
  "nbformat_minor": 0,
  "metadata": {
    "colab": {
      "name": "Longitudinal_Crack_Detection.ipynb",
      "provenance": [],
      "collapsed_sections": [
        "bbg5Ibauz9VQ",
        "xrmywow9a6Lm",
        "mdVQHCMgeu5c",
        "z1BvgZsTe3ey",
        "ubCRznr4e7h4",
        "cfaKXxAznfKb",
        "6pv8uSVQY7nD"
      ],
      "machine_shape": "hm",
      "mount_file_id": "1jbjgIjr1t-5c7_cAU1dPZw0At0hUvv5A",
      "authorship_tag": "ABX9TyN/V58S8++fPKnlPAKpgMrN",
      "include_colab_link": true
    },
    "kernelspec": {
      "name": "python3",
      "display_name": "Python 3"
    },
    "accelerator": "GPU"
  },
  "cells": [
    {
      "cell_type": "markdown",
      "metadata": {
        "id": "view-in-github",
        "colab_type": "text"
      },
      "source": [
        "<a href=\"https://colab.research.google.com/github/mounesi/pa/blob/master/Distress_Detection.ipynb\" target=\"_parent\"><img src=\"https://colab.research.google.com/assets/colab-badge.svg\" alt=\"Open In Colab\"/></a>"
      ]
    },
    {
      "cell_type": "markdown",
      "metadata": {
        "id": "urzBniMg6YBi",
        "colab_type": "text"
      },
      "source": [
        "**READ ME**\n",
        "\n",
        "make three changes before running this notebook.\n",
        "\n",
        "1) set a name for a new_model name in gdrive (**make sure the directory doesn't exist**)\n",
        "\n",
        "2) select the name of the model\n",
        "\n",
        "3) upload and change the config for the model\n",
        "\n",
        "4) check the run untill the training"
      ]
    },
    {
      "cell_type": "markdown",
      "metadata": {
        "id": "gpxxmYCOB-G-",
        "colab_type": "text"
      },
      "source": [
        "**IMPORTS**"
      ]
    },
    {
      "cell_type": "code",
      "metadata": {
        "id": "0zpJUqMKWGWW",
        "colab_type": "code",
        "colab": {}
      },
      "source": [
        "%tensorflow_version 1.x\n",
        "from __future__ import division, print_function, absolute_import\n",
        "\n",
        "import os\n",
        "from google.colab import drive\n",
        "import tensorflow.compat.v1 as tf\n",
        "\n",
        "import urllib.request\n",
        "import tarfile\n",
        "import numpy as np\n",
        "\n",
        "if np.__version__ != '1.17.0':\n",
        "  ! pip install numpy==1.17\n",
        "  os.kill(os.getpid(), 9)\n",
        "\n",
        "# check the versions\n",
        "print(f'np version is {np.__version__} shall match with 1.17.0')\n",
        "print(f'tf version is {tf.__version__} shall match with 1.15.2')"
      ],
      "execution_count": 0,
      "outputs": []
    },
    {
      "cell_type": "markdown",
      "metadata": {
        "id": "yeX8lcUKWbSD",
        "colab_type": "text"
      },
      "source": [
        "#**SET VARIABLES**"
      ]
    },
    {
      "cell_type": "code",
      "metadata": {
        "id": "haVaC4Kc4pGN",
        "colab_type": "code",
        "colab": {}
      },
      "source": [
        "# PLEASE CHANGE\n",
        "selected_model  = 'ssd_mobilenet_v2'\n",
        "batch_size      = 16\n",
        "epochs          = 150000\n",
        "num_examples    = 19\n",
        "\n",
        "# PLEASE CHANGE\n",
        "NEW_MODEL_NAME = f'{selected_model}_batch_Size_{batch_size}_epochs_{epochs}_valid_{num_examples}' \n",
        "print(NEW_MODEL_NAME)\n",
        "\n",
        "PROJECT_DIR_PATH = os.path.join('/', 'content')"
      ],
      "execution_count": 0,
      "outputs": []
    },
    {
      "cell_type": "code",
      "metadata": {
        "id": "7QOGFO7r44qN",
        "colab_type": "code",
        "colab": {}
      },
      "source": [
        "# Some models to train on\n",
        "MODELS_CONFIG = {\n",
        "    'ssd_mobilenet_v2': {\n",
        "        'model_name': 'ssd_mobilenet_v2_coco_2018_03_29',\n",
        "        'pipeline_file': 'ssd_mobilenet_v2_coco.config',\n",
        "    },\n",
        "    'ssd_mobilenet_v2_quantized': {\n",
        "        'model_name': 'ssd_mobilenet_v2_quantized_300x300_coco_2019_01_03',\n",
        "        'pipeline_file': 'ssd_mobilenet_v2_quantized_300x300_coco.config',\n",
        "    },\n",
        "    'faster_rcnn_inception_v2': {\n",
        "        'model_name': 'faster_rcnn_inception_v2_coco_2018_01_28',\n",
        "        'pipeline_file': 'faster_rcnn_inception_v2_pets.config',\n",
        "    },\n",
        "    'rfcn_resnet101': {\n",
        "        'model_name': 'rfcn_resnet101_coco_2018_01_28',\n",
        "        'pipeline_file': 'rfcn_resnet101_pets.config',\n",
        "    }\n",
        "}\n",
        "\n",
        "\n",
        "pipeline_file =           MODELS_CONFIG[selected_model]['pipeline_file']\n",
        "model_pipline_modified =  os.path.join(PROJECT_DIR_PATH, pipeline_file)\n",
        "print( f'please modify the following file: \\n {pipeline_file}')\n",
        "\n",
        "\"\"\"\n",
        "num_steps: 150000\n",
        "num_classes: 3\n",
        "\n",
        "fine_tune_checkpoint: \"./models/research/pretrained_model/model.ckpt\"\n",
        "input_path: \"./data/train_labels.record\" # for train\n",
        "input_path: \"./data/test_labels.record\"  # for test\n",
        "label_map_path: \"./data/label_map.pbtxt\"\n",
        "\n",
        "weight: 0.00004\n",
        "weight: 0.00004\n",
        "classification_weight: 1.0\n",
        "localization_weight: 1.0\n",
        "\n",
        "num_examples: 19 # should be 19 or the max of test dataset\n",
        "batch_size: 16\n",
        "type: 'ssd_mobilenet_v2'\n",
        "\"\"\"\n",
        "print(NEW_MODEL_NAME)"
      ],
      "execution_count": 0,
      "outputs": []
    },
    {
      "cell_type": "code",
      "metadata": {
        "id": "4rVROUCab7u1",
        "colab_type": "code",
        "colab": {}
      },
      "source": [
        "# ssd_mobilenet_v2_coco.config               ################################## CHANGE \n",
        "# SSD with Mobilenet v2 configuration for MSCOCO Dataset.\n",
        "# Users should configure the fine_tune_checkpoint field in the train config as\n",
        "# well as the label_map_path and input_path fields in the train_input_reader and\n",
        "# eval_input_reader. Search for \"PATH_TO_BE_CONFIGURED\" to find the fields that\n",
        "# should be configured.\n",
        "%%writefile {model_pipline_modified}\n",
        "model {\n",
        "  ssd {\n",
        "    num_classes: 3\n",
        "    box_coder {\n",
        "      faster_rcnn_box_coder {\n",
        "        y_scale: 10.0\n",
        "        x_scale: 10.0\n",
        "        height_scale: 5.0\n",
        "        width_scale: 5.0\n",
        "      }\n",
        "    }\n",
        "    matcher {\n",
        "      argmax_matcher {\n",
        "        matched_threshold: 0.5\n",
        "        unmatched_threshold: 0.5\n",
        "        ignore_thresholds: false\n",
        "        negatives_lower_than_unmatched: true\n",
        "        force_match_for_each_row: true\n",
        "      }\n",
        "    }\n",
        "    similarity_calculator {\n",
        "      iou_similarity {\n",
        "      }\n",
        "    }\n",
        "    anchor_generator {\n",
        "      ssd_anchor_generator {\n",
        "        num_layers: 6\n",
        "        min_scale: 0.2\n",
        "        max_scale: 0.95\n",
        "        aspect_ratios: 1.0\n",
        "        aspect_ratios: 2.0\n",
        "        aspect_ratios: 0.5\n",
        "        aspect_ratios: 3.0\n",
        "        aspect_ratios: 0.3333\n",
        "      }\n",
        "    }\n",
        "    image_resizer {\n",
        "      fixed_shape_resizer {\n",
        "        height: 300\n",
        "        width: 300\n",
        "      }\n",
        "    }\n",
        "    box_predictor {\n",
        "      convolutional_box_predictor {\n",
        "        min_depth: 0\n",
        "        max_depth: 0\n",
        "        num_layers_before_predictor: 0\n",
        "        use_dropout: false\n",
        "        dropout_keep_probability: 0.8\n",
        "        kernel_size: 1\n",
        "        box_code_size: 4\n",
        "        apply_sigmoid_to_scores: false\n",
        "        conv_hyperparams {\n",
        "          activation: RELU_6,\n",
        "          regularizer {\n",
        "            l2_regularizer {\n",
        "              weight: 0.00004\n",
        "            }\n",
        "          }\n",
        "          initializer {\n",
        "            truncated_normal_initializer {\n",
        "              stddev: 0.03\n",
        "              mean: 0.0\n",
        "            }\n",
        "          }\n",
        "          batch_norm {\n",
        "            train: true,\n",
        "            scale: true,\n",
        "            center: true,\n",
        "            decay: 0.9997,\n",
        "            epsilon: 0.001,\n",
        "          }\n",
        "        }\n",
        "      }\n",
        "    }\n",
        "    feature_extractor {\n",
        "      type: 'ssd_mobilenet_v2'\n",
        "      min_depth: 16\n",
        "      depth_multiplier: 1.0\n",
        "      conv_hyperparams {\n",
        "        activation: RELU_6,\n",
        "        regularizer {\n",
        "          l2_regularizer {\n",
        "            weight: 0.00004\n",
        "          }\n",
        "        }\n",
        "        initializer {\n",
        "          truncated_normal_initializer {\n",
        "            stddev: 0.03\n",
        "            mean: 0.0\n",
        "          }\n",
        "        }\n",
        "        batch_norm {\n",
        "          train: true,\n",
        "          scale: true,\n",
        "          center: true,\n",
        "          decay: 0.9997,\n",
        "          epsilon: 0.001,\n",
        "        }\n",
        "      }\n",
        "    }\n",
        "    loss {\n",
        "      classification_loss {\n",
        "        weighted_sigmoid {\n",
        "        }\n",
        "      }\n",
        "      localization_loss {\n",
        "        weighted_smooth_l1 {\n",
        "        }\n",
        "      }\n",
        "      hard_example_miner {\n",
        "        num_hard_examples: 3000\n",
        "        iou_threshold: 0.99\n",
        "        loss_type: CLASSIFICATION\n",
        "        max_negatives_per_positive: 3\n",
        "        min_negatives_per_image: 3\n",
        "      }\n",
        "      classification_weight: 1.0\n",
        "      localization_weight: 1.0\n",
        "    }\n",
        "    normalize_loss_by_num_matches: true\n",
        "    post_processing {\n",
        "      batch_non_max_suppression {\n",
        "        score_threshold: 1e-8\n",
        "        iou_threshold: 0.6\n",
        "        max_detections_per_class: 100\n",
        "        max_total_detections: 100\n",
        "      }\n",
        "      score_converter: SIGMOID\n",
        "    }\n",
        "  }\n",
        "}\n",
        "\n",
        "train_config: {\n",
        "  batch_size: 16\n",
        "  optimizer {\n",
        "    rms_prop_optimizer: {\n",
        "      learning_rate: {\n",
        "        exponential_decay_learning_rate {\n",
        "          initial_learning_rate: 0.004\n",
        "          decay_steps: 800720\n",
        "          decay_factor: 0.95\n",
        "        }\n",
        "      }\n",
        "      momentum_optimizer_value: 0.9\n",
        "      decay: 0.9\n",
        "      epsilon: 1.0\n",
        "    }\n",
        "  }\n",
        "  fine_tune_checkpoint: \"./models/research/pretrained_model/model.ckpt\"\n",
        "  fine_tune_checkpoint_type:  \"detection\"\n",
        "  # Note: The below line limits the training process to 200K steps, which we\n",
        "  # empirically found to be sufficient enough to train the pets dataset. This\n",
        "  # effectively bypasses the learning rate schedule (the learning rate will\n",
        "  # never decay). Remove the below line to train indefinitely.\n",
        "  num_steps: 150000\n",
        "  data_augmentation_options {\n",
        "    random_horizontal_flip {\n",
        "    }\n",
        "  }\n",
        "  data_augmentation_options {\n",
        "    ssd_random_crop {\n",
        "    }\n",
        "  }\n",
        "}\n",
        "\n",
        "train_input_reader: {\n",
        "  tf_record_input_reader {\n",
        "    input_path: \"./data/train_labels.record\"\n",
        "  }\n",
        "  label_map_path: \"./data/label_map.pbtxt\"\n",
        "}\n",
        "\n",
        "eval_config: {\n",
        "  num_examples: 19 # should be 19 or the max of test dataset\n",
        "  # Note: The below line limits the evaluation process to 10 evaluations.\n",
        "  # Remove the below line to evaluate indefinitely.\n",
        "  max_evals: 10\n",
        "}\n",
        "\n",
        "eval_input_reader: {\n",
        "  tf_record_input_reader {\n",
        "    input_path: \"./data/test_labels.record\"\n",
        "  }\n",
        "  label_map_path: \"./data/label_map.pbtxt\"\n",
        "  shuffle: false\n",
        "  num_readers: 1\n",
        "}"
      ],
      "execution_count": 0,
      "outputs": []
    },
    {
      "cell_type": "code",
      "metadata": {
        "id": "VFBXdWoIE6Hq",
        "colab_type": "code",
        "colab": {}
      },
      "source": [
        "PROJECT_DIR_PATH"
      ],
      "execution_count": 0,
      "outputs": []
    },
    {
      "cell_type": "code",
      "metadata": {
        "id": "sCTnrJNQ0S00",
        "colab_type": "code",
        "colab": {}
      },
      "source": [
        "#check the modified config which will be used\n",
        "print(NEW_MODEL_NAME)\n",
        "!cat {model_pipline_modified} | grep num_step\n",
        "!cat {model_pipline_modified} | grep num_classes\n",
        "!cat {model_pipline_modified} | grep input_path\n",
        "!cat {model_pipline_modified} | grep abel_map_path\n",
        "!cat {model_pipline_modified} | grep weight:\n",
        "!cat {model_pipline_modified} | grep num_examples\n",
        "!cat {model_pipline_modified} | grep batch_size\n",
        "!cat {model_pipline_modified} | grep \" type:\""
      ],
      "execution_count": 0,
      "outputs": []
    },
    {
      "cell_type": "markdown",
      "metadata": {
        "id": "lcmJkjmUbL64",
        "colab_type": "text"
      },
      "source": [
        "set google drive and path"
      ]
    },
    {
      "cell_type": "code",
      "metadata": {
        "id": "alvfa-QRJLIS",
        "colab_type": "code",
        "colab": {}
      },
      "source": [
        "\"\n",
        "\n",
        "#drive.mount('/content/drive')\n",
        "PROJECT_G_DIR_PATH      = os.path.join(PROJECT_DIR_PATH, 'drive', 'My\\ Drive', 'data', 'cc')\n",
        "\n",
        "# model archive includes all the trained models\n",
        "MODEL_ARCHIVE_G_DIR_PATH = os.path.join(PROJECT_G_DIR_PATH, 'MODEL_ARCHIVE')\n",
        "\n",
        "NEW_MODEL_G_DIR_PATH =  os.path.join(MODEL_ARCHIVE_G_DIR_PATH, NEW_MODEL_NAME)\n",
        "TRAINING_GDRIVE_DIR =   os.path.join(NEW_MODEL_G_DIR_PATH, 'training')\n",
        "\n",
        "print(os.path.isfile(NEW_MODEL_G_DIR_PATH))\n",
        "print(f'after training the model will be saved at \\n {NEW_MODEL_G_DIR_PATH}')"
      ],
      "execution_count": 0,
      "outputs": []
    },
    {
      "cell_type": "markdown",
      "metadata": {
        "id": "rNIWVIDsZMvj",
        "colab_type": "text"
      },
      "source": [
        "# **SET DATA**\n",
        "\n",
        "Keeping most of the imports together at the top of the code."
      ]
    },
    {
      "cell_type": "code",
      "metadata": {
        "id": "piL2eO4DZ9VR",
        "colab_type": "code",
        "colab": {}
      },
      "source": [
        "# CREATE THE PROJECT directory for\n",
        "\n",
        "DATA_DIR_PATH = os.path.join(PROJECT_DIR_PATH, 'data')\n",
        "!mkdir {DATA_DIR_PATH}\n",
        "\n",
        "RESEARCH_DIR_PATH = os.path.join(PROJECT_DIR_PATH, 'models', 'research')\n",
        "MODEL_DIR = os.path.join(RESEARCH_DIR_PATH, 'training')\n",
        "\n",
        "\n",
        "#RAINING_DIR = os.path.join(RESEARCH_DIR_PATH, 'training')\n",
        "#the distination folder where the model will be saved\n"
      ],
      "execution_count": 0,
      "outputs": []
    },
    {
      "cell_type": "code",
      "metadata": {
        "id": "pqqsrXz6xeI9",
        "colab_type": "code",
        "colab": {}
      },
      "source": [
        "TRAIN_RECORD_G_FILE_PATH =  os.path.join(PROJECT_G_DIR_PATH, 'selected_tfrecords', 'train.record')\n",
        "VALID_RECORD_G_FILE_PATH =  os.path.join(PROJECT_G_DIR_PATH, 'selected_tfrecords', 'val.record')\n",
        "LABEL_MAP_G_FILE_PATH =     os.path.join(PROJECT_G_DIR_PATH, 'selected_tfrecords', 'pascal_label_map.pbtxt')\n",
        "\n",
        "TRAIN_RECORD_FILE_PATH =  os.path.join(DATA_DIR_PATH, 'train_labels.record')\n",
        "VALID_RECORD_FILE_PATH =  os.path.join(DATA_DIR_PATH, 'test_labels.record')\n",
        "LABEL_MAP_FILE_PATH =     os.path.join(DATA_DIR_PATH, 'label_map.pbtxt')\n",
        "\n",
        "!cp {TRAIN_RECORD_G_FILE_PATH} {TRAIN_RECORD_FILE_PATH}\n",
        "!cp {VALID_RECORD_G_FILE_PATH} {VALID_RECORD_FILE_PATH}\n",
        "!cp {LABEL_MAP_G_FILE_PATH} {LABEL_MAP_FILE_PATH}\n",
        "\n",
        "!ls {DATA_DIR_PATH}"
      ],
      "execution_count": 0,
      "outputs": []
    },
    {
      "cell_type": "markdown",
      "metadata": {
        "id": "Z_svRlMHZzuQ",
        "colab_type": "text"
      },
      "source": [
        "# **SET MODEL**"
      ]
    },
    {
      "cell_type": "code",
      "metadata": {
        "id": "0JyjIEJ9YRNM",
        "colab_type": "code",
        "colab": {}
      },
      "source": [
        "# MODEL DIRECTORY\n",
        "!apt-get install -qq protobuf-compiler python-pil python-lxml python-tk\n",
        "\n",
        "!pip install -qq Cython contextlib2 pillow lxml matplotlib\n",
        "\n",
        "!pip install -qq pycocotools\n",
        "\n",
        "# Downlaods Tenorflow\n",
        "!git clone --q https://github.com/tensorflow/models.git"
      ],
      "execution_count": 0,
      "outputs": []
    },
    {
      "cell_type": "code",
      "metadata": {
        "id": "Kjb5zzInYr9w",
        "colab_type": "code",
        "colab": {}
      },
      "source": [
        "cd {RESEARCH_DIR_PATH}"
      ],
      "execution_count": 0,
      "outputs": []
    },
    {
      "cell_type": "code",
      "metadata": {
        "id": "HhruVGpjM00r",
        "colab_type": "code",
        "colab": {}
      },
      "source": [
        "# exports the PYTHONPATH environment variable with the reasearch and slim folders' paths\n",
        "!protoc object_detection/protos/*.proto --python_out=.\n",
        "os.environ['PYTHONPATH'] += ':/content/models/research/:/content/models/research/slim/'"
      ],
      "execution_count": 0,
      "outputs": []
    },
    {
      "cell_type": "code",
      "metadata": {
        "id": "z1azfbpuQAa0",
        "colab_type": "code",
        "colab": {}
      },
      "source": [
        "!python object_detection/builders/model_builder_test.py"
      ],
      "execution_count": 0,
      "outputs": []
    },
    {
      "cell_type": "code",
      "metadata": {
        "id": "E_FjTsBsCEeR",
        "colab_type": "code",
        "colab": {}
      },
      "source": [
        "#%cd /models/research\n",
        "\n",
        "# Name of the object detection model to use.\n",
        "MODEL = MODELS_CONFIG[selected_model]['model_name']\n",
        "\n",
        "# Name of the pipline file in tensorflow object detection API.\n",
        "pipeline_file = MODELS_CONFIG[selected_model]['pipeline_file']\n",
        "\n",
        "#selecting the model\n",
        "MODEL_FILE = MODEL + '.tar.gz'\n",
        "\n",
        "#creating the downlaod link for the model selected\n",
        "DOWNLOAD_BASE = 'http://download.tensorflow.org/models/object_detection/'\n",
        "\n",
        "#the distination folder where the model will be saved\n",
        "#fine_tune_dir = './pretrained_model'\n",
        "fine_tune_dir = os.path.join(RESEARCH_DIR_PATH, 'pretrained_model')\n",
        "\n",
        "\n",
        "\n",
        "#checks if the model has already been downloaded\n",
        "if not (os.path.exists(MODEL_FILE)):\n",
        "    urllib.request.urlretrieve(DOWNLOAD_BASE + MODEL_FILE, MODEL_FILE)\n",
        "\n",
        "#unzipping the file and extracting its content\n",
        "tar = tarfile.open(MODEL_FILE)\n",
        "tar.extractall()\n",
        "tar.close()\n",
        "\n",
        "# creating an output file to save the model while training\n",
        "os.remove(MODEL_FILE)\n",
        "if (os.path.exists(fine_tune_dir)):\n",
        "    shutil.rmtree(fine_tune_dir)\n",
        "os.rename(MODEL, fine_tune_dir)\n"
      ],
      "execution_count": 0,
      "outputs": []
    },
    {
      "cell_type": "code",
      "metadata": {
        "id": "bqvjLGCADb2g",
        "colab_type": "code",
        "colab": {}
      },
      "source": [
        "#CONFIG_BASE = '/content/models/research/object_detection/samples/configs/'\n",
        "CONFIG_BASE = os.path.join(RESEARCH_DIR_PATH, 'object_detection', 'samples', 'configs')\n",
        "#path to the specified model's config file\n",
        "model_pipline = os.path.join(CONFIG_BASE, pipeline_file)\n",
        "!cat {model_pipline}"
      ],
      "execution_count": 0,
      "outputs": []
    },
    {
      "cell_type": "markdown",
      "metadata": {
        "id": "hUdobvEv_v_e",
        "colab_type": "text"
      },
      "source": [
        "# **DO TRAINING**\n",
        "\n",
        "check the arguments: \n",
        "\n",
        "1.   selected model\n",
        "2.   model_pipline\n",
        "3.   model_dir\n",
        "\n",
        "check the config file: \n",
        "\n",
        "1.  the number of labels\n",
        "2.  the training weights\n",
        "3. all the paths for inputs and map\n",
        "\n",
        "**if all looks good let's TRAIN**\n",
        "\n",
        "   \n"
      ]
    },
    {
      "cell_type": "code",
      "metadata": {
        "id": "kFf3JxiUVpHr",
        "colab_type": "code",
        "colab": {}
      },
      "source": [
        "print( f'the selected model is \\n \\t\\t\\t\\t\\t  {selected_model}')\n",
        "print( f'the model pipline is \\n \\t\\t\\t\\t\\t  {model_pipline_modified}')\n",
        "print( f'the model directoy (training)is \\n \\t\\t\\t\\t\\t  {MODEL_DIR}')"
      ],
      "execution_count": 0,
      "outputs": []
    },
    {
      "cell_type": "code",
      "metadata": {
        "id": "yu0SVh4NoMRH",
        "colab_type": "code",
        "colab": {}
      },
      "source": [
        "#check the sample config file that is provided by the tf model\n",
        "!cat {model_pipline} | grep num_step\n",
        "!cat {model_pipline} | grep num_classes\n",
        "!cat {model_pipline} | grep input_path\n",
        "!cat {model_pipline} | grep abel_map_path\n",
        "!cat {model_pipline} | grep weight:\n",
        "!cat {model_pipline} | grep num_examples\n",
        "!cat {model_pipline} | grep batch_size\n",
        "!cat {model_pipline} | grep \" type:\""
      ],
      "execution_count": 0,
      "outputs": []
    },
    {
      "cell_type": "code",
      "metadata": {
        "id": "iMcwnMfbkTeB",
        "colab_type": "code",
        "colab": {}
      },
      "source": [
        "#check the modified config which will be used\n",
        "!cat {model_pipline_modified} | grep num_step\n",
        "!cat {model_pipline_modified} | grep num_classes\n",
        "!cat {model_pipline_modified} | grep input_path\n",
        "!cat {model_pipline_modified} | grep abel_map_path\n",
        "!cat {model_pipline_modified} | grep weight:\n",
        "!cat {model_pipline_modified} | grep num_examples\n",
        "!cat {model_pipline_modified} | grep batch_size\n",
        "!cat {model_pipline_modified} | grep \" type:\""
      ],
      "execution_count": 0,
      "outputs": []
    },
    {
      "cell_type": "code",
      "metadata": {
        "id": "zZAXVL37Q9hj",
        "colab_type": "code",
        "colab": {}
      },
      "source": [
        "cd {PROJECT_DIR_PATH}"
      ],
      "execution_count": 0,
      "outputs": []
    },
    {
      "cell_type": "code",
      "metadata": {
        "id": "abEi0pnyG6qr",
        "colab_type": "code",
        "colab": {}
      },
      "source": [
        "!python3 models/research/object_detection/model_main.py \\\n",
        "    --pipeline_config_path={model_pipline_modified}\\\n",
        "    --model_dir={MODEL_DIR} \\\n",
        "    --alsologtostderr \\"
      ],
      "execution_count": 0,
      "outputs": []
    },
    {
      "cell_type": "markdown",
      "metadata": {
        "id": "B5ICPrlPZx2E",
        "colab_type": "text"
      },
      "source": [
        "# **Post Training**\n",
        "\n",
        "1.  Generate frozen graph file\n",
        "2.  check the size of model folders\n",
        "3.  download the frozen file \n",
        "4.  download model directory and fine tune directory entirely to google drive"
      ]
    },
    {
      "cell_type": "markdown",
      "metadata": {
        "id": "AhPJ6un9aDQd",
        "colab_type": "text"
      },
      "source": [
        "## Generate the forzen inference_graph"
      ]
    },
    {
      "cell_type": "code",
      "metadata": {
        "id": "-P3-7RNMHCk3",
        "colab_type": "code",
        "colab": {}
      },
      "source": [
        "#the location where the exported model will be saved in.\n",
        "output_directory = os.path.join(RESEARCH_DIR_PATH, 'fine_tuned_model')\n",
        "\n",
        "# goes through the model is the training/ dir and gets the last one.\n",
        "# you could choose a specfic one instead of the last\n",
        "lst = os.listdir(MODEL_DIR)\n",
        "lst = [l for l in lst if 'model.ckpt-' in l and '.meta' in l]\n",
        "steps=np.array([int(re.findall('\\d+', l)[0]) for l in lst])\n",
        "last_model = lst[steps.argmax()].replace('.meta', '')\n",
        "last_model_path = os.path.join(MODEL_DIR, last_model)\n",
        "print(last_model_path)"
      ],
      "execution_count": 0,
      "outputs": []
    },
    {
      "cell_type": "code",
      "metadata": {
        "id": "dnbG6f3R9V-O",
        "colab_type": "code",
        "colab": {}
      },
      "source": [
        "# create a directory in google drive\n",
        "!mkdir {NEW_MODEL_G_DIR_PATH}\n",
        "!mkdir {TRAINING_GDRIVE_DIR}"
      ],
      "execution_count": 0,
      "outputs": []
    },
    {
      "cell_type": "code",
      "metadata": {
        "id": "YAJfoRoC1xZX",
        "colab_type": "code",
        "colab": {}
      },
      "source": [
        "# copy training folder for visulaization\n",
        "\n",
        "!cp {last_model_path}* {TRAINING_GDRIVE_DIR}/\n",
        "!cp -r {TRAINING_DIR}/eval_0 {TRAINING_GDRIVE_DIR}/\n",
        "!cp {TRAINING_DIR}/graph.pbtxt {TRAINING_GDRIVE_DIR}/\n",
        "!cp {TRAINING_DIR}/checkpoint {TRAINING_GDRIVE_DIR}/\n",
        "!cp {TRAINING_DIR}/event* {TRAINING_GDRIVE_DIR}/\n",
        "\n",
        "print('done')"
      ],
      "execution_count": 0,
      "outputs": []
    },
    {
      "cell_type": "code",
      "metadata": {
        "id": "N8B5aFZHL5-X",
        "colab_type": "code",
        "colab": {}
      },
      "source": [
        "#exports the model specifed and inference graph\n",
        "!python models/research/object_detection/export_inference_graph.py \\\n",
        "    --input_type=image_tensor \\\n",
        "    --pipeline_config_path={model_pipline_modified} \\\n",
        "    --output_directory={output_directory} \\\n",
        "    --trained_checkpoint_prefix={last_model_path}"
      ],
      "execution_count": 0,
      "outputs": []
    },
    {
      "cell_type": "markdown",
      "metadata": {
        "id": "W3Rm1g4hrE7d",
        "colab_type": "text"
      },
      "source": [
        "## Export to the MODEL ARCHIVE G DRIVE"
      ]
    },
    {
      "cell_type": "code",
      "metadata": {
        "id": "lpv5JUxLxsyO",
        "colab_type": "code",
        "colab": {}
      },
      "source": [
        "# copying the label map\n",
        "!cp {LABEL_MAP_FILE_PATH} {output_directory}/\n",
        "\n",
        "# ouput directory is moved\n",
        "#!rm -rf {NEW_MODEL_G_DIR_PATH}/\n",
        "\n",
        "!cp -r {output_directory} {NEW_MODEL_G_DIR_PATH}/\n",
        "\n",
        "print('done')"
      ],
      "execution_count": 0,
      "outputs": []
    },
    {
      "cell_type": "code",
      "metadata": {
        "id": "J8DzSqJ4-ill",
        "colab_type": "code",
        "colab": {}
      },
      "source": [
        "NEW_MODEL_G_DIR_PATH"
      ],
      "execution_count": 0,
      "outputs": []
    },
    {
      "cell_type": "code",
      "metadata": {
        "id": "sIs07Xcq-Rys",
        "colab_type": "code",
        "colab": {}
      },
      "source": [
        ""
      ],
      "execution_count": 0,
      "outputs": []
    },
    {
      "cell_type": "markdown",
      "metadata": {
        "id": "2Z_wf1waMzBp",
        "colab_type": "text"
      },
      "source": [
        "# **VISUALIZATION**\n",
        "\n",
        "1. run tensorboard in colab\n",
        "2. cd to the local system \n",
        "3. activate virtual environment and run tensorboard"
      ]
    },
    {
      "cell_type": "markdown",
      "metadata": {
        "id": "4dY-KTpJNO3f",
        "colab_type": "text"
      },
      "source": [
        "## Tensorboard"
      ]
    },
    {
      "cell_type": "code",
      "metadata": {
        "id": "938gaAWKs8RL",
        "colab_type": "code",
        "colab": {}
      },
      "source": [
        "#LOG_DIR = TRAINING_DIR\n",
        "#LOG_DIR = FINE_TUNE_GDRIVE_DIR\n",
        "LOG_DIR = TRAINING_GDRIVE_DIR\n",
        "#/MODEL_ARCHIVE/SSD_Mobilent_V2/fine_tuned_model\n",
        "\n",
        "get_ipython().system_raw(\n",
        "    'tensorboard --logdir {} --host 0.0.0.0 --port 6006 &'\n",
        "    .format(LOG_DIR)\n",
        ")"
      ],
      "execution_count": 0,
      "outputs": []
    },
    {
      "cell_type": "code",
      "metadata": {
        "id": "j-d1kO4ys8OZ",
        "colab_type": "code",
        "colab": {}
      },
      "source": [
        "! wget https://bin.equinox.io/c/4VmDzA7iaHb/ngrok-stable-linux-amd64.zip\n",
        "! unzip ngrok-stable-linux-amd64.zip"
      ],
      "execution_count": 0,
      "outputs": []
    },
    {
      "cell_type": "code",
      "metadata": {
        "id": "Nol0MPi5s8LZ",
        "colab_type": "code",
        "colab": {}
      },
      "source": [
        "get_ipython().system_raw('./ngrok http 6006 &')"
      ],
      "execution_count": 0,
      "outputs": []
    },
    {
      "cell_type": "code",
      "metadata": {
        "id": "vds0SiWhsON8",
        "colab_type": "code",
        "colab": {}
      },
      "source": [
        "! curl -s http://localhost:4040/api/tunnels | python3 -c \\\n",
        "    \"import sys, json; print(json.load(sys.stdin)['tunnels'][0]['public_url'])\""
      ],
      "execution_count": 0,
      "outputs": []
    },
    {
      "cell_type": "markdown",
      "metadata": {
        "id": "bbg5Ibauz9VQ",
        "colab_type": "text"
      },
      "source": [
        "# **VALIDATION**\n",
        "\n",
        "1. change the dirctory to the google drive\n",
        "2. run the processed video for one the sample models"
      ]
    },
    {
      "cell_type": "code",
      "metadata": {
        "id": "ZtvbmwZAzh1u",
        "colab_type": "code",
        "colab": {}
      },
      "source": [
        "cd /content/drive/My\\ Drive/data/cc"
      ],
      "execution_count": 0,
      "outputs": []
    },
    {
      "cell_type": "code",
      "metadata": {
        "id": "qW-pp456zhzj",
        "colab_type": "code",
        "colab": {}
      },
      "source": [
        "from IPython.display import HTML\n",
        "from base64 import b64encode\n",
        "mp4 = open('results.mp4','rb').read()\n",
        "data_url = \"data:video/mp4;base64,\" + b64encode(mp4).decode()\n",
        "HTML(\"\"\"\n",
        "<video width=400 controls>\n",
        "      <source src=\"%s\" type=\"video/mp4\">\n",
        "</video>\n",
        "\"\"\" % data_url)"
      ],
      "execution_count": 0,
      "outputs": []
    },
    {
      "cell_type": "markdown",
      "metadata": {
        "id": "r1kUHBoX03xZ",
        "colab_type": "text"
      },
      "source": [
        "![picture](https://drive.google.com/uc?id=1hr-ct4EMTGH6dNdHTVrM5AHkQ6soNBIV!)"
      ]
    },
    {
      "cell_type": "markdown",
      "metadata": {
        "id": "qO_ZSwtb2X8U",
        "colab_type": "text"
      },
      "source": [
        "![alt text](https://drive.google.com/uc?id=1hr-ct4EMTGH6dNdHTVrM5AHkQ6soNBIV)"
      ]
    },
    {
      "cell_type": "markdown",
      "metadata": {
        "id": "xrmywow9a6Lm",
        "colab_type": "text"
      },
      "source": [
        "# **Select a Config**\n",
        "\n",
        "1. Storing other configuration files\n",
        "2. some uder test and development codes here"
      ]
    },
    {
      "cell_type": "markdown",
      "metadata": {
        "id": "mdVQHCMgeu5c",
        "colab_type": "text"
      },
      "source": [
        "## Alireza Mobilenet V2"
      ]
    },
    {
      "cell_type": "markdown",
      "metadata": {
        "id": "h0ogXzxMmFfc",
        "colab_type": "text"
      },
      "source": [
        "### mobilenet modified"
      ]
    },
    {
      "cell_type": "code",
      "metadata": {
        "id": "ro4gMRG4mLBX",
        "colab_type": "code",
        "colab": {}
      },
      "source": [
        "# MOBILENET V2\n",
        "# SSD with Mobilenet v2 configuration for MSCOCO Dataset.\n",
        "# Users should configure the fine_tune_checkpoint field in the train config as\n",
        "# well as the label_map_path and input_path fields in the train_input_reader and\n",
        "# eval_input_reader. Search for \"PATH_TO_BE_CONFIGURED\" to find the fields that\n",
        "# should be configured.\n",
        "#%%writefile {model_pipline_modified}\n",
        "model {\n",
        "  ssd {\n",
        "    num_classes: 3\n",
        "    box_coder {\n",
        "      faster_rcnn_box_coder {\n",
        "        y_scale: 10.0\n",
        "        x_scale: 10.0\n",
        "        height_scale: 5.0\n",
        "        width_scale: 5.0\n",
        "      }\n",
        "    }\n",
        "    matcher {\n",
        "      argmax_matcher {\n",
        "        matched_threshold: 0.5\n",
        "        unmatched_threshold: 0.5\n",
        "        ignore_thresholds: false\n",
        "        negatives_lower_than_unmatched: true\n",
        "        force_match_for_each_row: true\n",
        "      }\n",
        "    }\n",
        "    similarity_calculator {\n",
        "      iou_similarity {\n",
        "      }\n",
        "    }\n",
        "    anchor_generator {\n",
        "      ssd_anchor_generator {\n",
        "        num_layers: 6\n",
        "        min_scale: 0.2\n",
        "        max_scale: 0.95\n",
        "        aspect_ratios: 1.0\n",
        "        aspect_ratios: 2.0\n",
        "        aspect_ratios: 0.5\n",
        "        aspect_ratios: 3.0\n",
        "        aspect_ratios: 0.3333\n",
        "      }\n",
        "    }\n",
        "    image_resizer {\n",
        "      fixed_shape_resizer {\n",
        "        height: 300\n",
        "        width: 300\n",
        "      }\n",
        "    }\n",
        "    box_predictor {\n",
        "      convolutional_box_predictor {\n",
        "        min_depth: 0\n",
        "        max_depth: 0\n",
        "        num_layers_before_predictor: 0\n",
        "        use_dropout: false\n",
        "        dropout_keep_probability: 0.8\n",
        "        kernel_size: 1\n",
        "        box_code_size: 4\n",
        "        apply_sigmoid_to_scores: false\n",
        "        conv_hyperparams {\n",
        "          activation: RELU_6,\n",
        "          regularizer {\n",
        "            l2_regularizer {\n",
        "              weight: 0.00004\n",
        "            }\n",
        "          }\n",
        "          initializer {\n",
        "            truncated_normal_initializer {\n",
        "              stddev: 0.03\n",
        "              mean: 0.0\n",
        "            }\n",
        "          }\n",
        "          batch_norm {\n",
        "            train: true,\n",
        "            scale: true,\n",
        "            center: true,\n",
        "            decay: 0.9997,\n",
        "            epsilon: 0.001,\n",
        "          }\n",
        "        }\n",
        "      }\n",
        "    }\n",
        "    feature_extractor {\n",
        "      type: 'ssd_mobilenet_v2'\n",
        "      min_depth: 16\n",
        "      depth_multiplier: 1.0\n",
        "      conv_hyperparams {\n",
        "        activation: RELU_6,\n",
        "        regularizer {\n",
        "          l2_regularizer {\n",
        "            weight: 0.00004\n",
        "          }\n",
        "        }\n",
        "        initializer {\n",
        "          truncated_normal_initializer {\n",
        "            stddev: 0.03\n",
        "            mean: 0.0\n",
        "          }\n",
        "        }\n",
        "        batch_norm {\n",
        "          train: true,\n",
        "          scale: true,\n",
        "          center: true,\n",
        "          decay: 0.9997,\n",
        "          epsilon: 0.001,\n",
        "        }\n",
        "      }\n",
        "    }\n",
        "    loss {\n",
        "      classification_loss {\n",
        "        weighted_sigmoid {\n",
        "        }\n",
        "      }\n",
        "      localization_loss {\n",
        "        weighted_smooth_l1 {\n",
        "        }\n",
        "      }\n",
        "      hard_example_miner {\n",
        "        num_hard_examples: 3000\n",
        "        iou_threshold: 0.99\n",
        "        loss_type: CLASSIFICATION\n",
        "        max_negatives_per_positive: 3\n",
        "        min_negatives_per_image: 3\n",
        "      }\n",
        "      classification_weight: 1.0\n",
        "      localization_weight: 1.0\n",
        "    }\n",
        "    normalize_loss_by_num_matches: true\n",
        "    post_processing {\n",
        "      batch_non_max_suppression {\n",
        "        score_threshold: 1e-8\n",
        "        iou_threshold: 0.6\n",
        "        max_detections_per_class: 100\n",
        "        max_total_detections: 100\n",
        "      }\n",
        "      score_converter: SIGMOID\n",
        "    }\n",
        "  }\n",
        "}\n",
        "\n",
        "train_config: {\n",
        "  batch_size: 8\n",
        "  optimizer {\n",
        "    rms_prop_optimizer: {\n",
        "      learning_rate: {\n",
        "        exponential_decay_learning_rate {\n",
        "          initial_learning_rate: 0.004\n",
        "          decay_steps: 800720\n",
        "          decay_factor: 0.95\n",
        "        }\n",
        "      }\n",
        "      momentum_optimizer_value: 0.9\n",
        "      decay: 0.9\n",
        "      epsilon: 1.0\n",
        "    }\n",
        "  }\n",
        "  fine_tune_checkpoint: \"/content/cc/models/research/pretrained_model/model.ckpt\"\n",
        "  fine_tune_checkpoint_type:  \"detection\"\n",
        "  # Note: The below line limits the training process to 200K steps, which we\n",
        "  # empirically found to be sufficient enough to train the pets dataset. This\n",
        "  # effectively bypasses the learning rate schedule (the learning rate will\n",
        "  # never decay). Remove the below line to train indefinitely.\n",
        "  num_steps: 200000\n",
        "  data_augmentation_options {\n",
        "    random_horizontal_flip {\n",
        "    }\n",
        "  }\n",
        "  data_augmentation_options {\n",
        "    ssd_random_crop {\n",
        "    }\n",
        "  }\n",
        "}\n",
        "\n",
        "train_input_reader: {\n",
        "  tf_record_input_reader {\n",
        "    input_path: \"/content/cc/data/train_labels.record\"\n",
        "  }\n",
        "  label_map_path: \"/content/cc/data/label_map.pbtxt\"\n",
        "}\n",
        "\n",
        "eval_config: {\n",
        "  num_examples: 19 # should be 19 or the max of test dataset\n",
        "  # Note: The below line limits the evaluation process to 10 evaluations.\n",
        "  # Remove the below line to evaluate indefinitely.\n",
        "  max_evals: 10\n",
        "}\n",
        "\n",
        "eval_input_reader: {\n",
        "  tf_record_input_reader {\n",
        "    input_path: \"/content/cc/data/test_labels.record\"\n",
        "  }\n",
        "  label_map_path: \"/content/cc/data/label_map.pbtxt\"\n",
        "  shuffle: false\n",
        "  num_readers: 1\n",
        "}"
      ],
      "execution_count": 0,
      "outputs": []
    },
    {
      "cell_type": "code",
      "metadata": {
        "id": "7CMQIqtY6RO9",
        "colab_type": "code",
        "colab": {}
      },
      "source": [
        ""
      ],
      "execution_count": 0,
      "outputs": []
    },
    {
      "cell_type": "markdown",
      "metadata": {
        "id": "CW-RtPIKmVUl",
        "colab_type": "text"
      },
      "source": [
        "### mobilnet original"
      ]
    },
    {
      "cell_type": "code",
      "metadata": {
        "id": "ND1zkBFLe6xP",
        "colab_type": "code",
        "colab": {}
      },
      "source": [
        "# SSD with Mobilenet v2 configuration for MSCOCO Dataset.\n",
        "# Users should configure the fine_tune_checkpoint field in the train config as\n",
        "# well as the label_map_path and input_path fields in the train_input_reader and\n",
        "# eval_input_reader. Search for \"PATH_TO_BE_CONFIGURED\" to find the fields that\n",
        "# should be configured.\n",
        "\n",
        "model {\n",
        "  ssd {\n",
        "    num_classes: 90\n",
        "    box_coder {\n",
        "      faster_rcnn_box_coder {\n",
        "        y_scale: 10.0\n",
        "        x_scale: 10.0\n",
        "        height_scale: 5.0\n",
        "        width_scale: 5.0\n",
        "      }\n",
        "    }\n",
        "    matcher {\n",
        "      argmax_matcher {\n",
        "        matched_threshold: 0.5\n",
        "        unmatched_threshold: 0.5\n",
        "        ignore_thresholds: false\n",
        "        negatives_lower_than_unmatched: true\n",
        "        force_match_for_each_row: true\n",
        "      }\n",
        "    }\n",
        "    similarity_calculator {\n",
        "      iou_similarity {\n",
        "      }\n",
        "    }\n",
        "    anchor_generator {\n",
        "      ssd_anchor_generator {\n",
        "        num_layers: 6\n",
        "        min_scale: 0.2\n",
        "        max_scale: 0.95\n",
        "        aspect_ratios: 1.0\n",
        "        aspect_ratios: 2.0\n",
        "        aspect_ratios: 0.5\n",
        "        aspect_ratios: 3.0\n",
        "        aspect_ratios: 0.3333\n",
        "      }\n",
        "    }\n",
        "    image_resizer {\n",
        "      fixed_shape_resizer {\n",
        "        height: 300\n",
        "        width: 300\n",
        "      }\n",
        "    }\n",
        "    box_predictor {\n",
        "      convolutional_box_predictor {\n",
        "        min_depth: 0\n",
        "        max_depth: 0\n",
        "        num_layers_before_predictor: 0\n",
        "        use_dropout: false\n",
        "        dropout_keep_probability: 0.8\n",
        "        kernel_size: 1\n",
        "        box_code_size: 4\n",
        "        apply_sigmoid_to_scores: false\n",
        "        conv_hyperparams {\n",
        "          activation: RELU_6,\n",
        "          regularizer {\n",
        "            l2_regularizer {\n",
        "              weight: 0.00004\n",
        "            }\n",
        "          }\n",
        "          initializer {\n",
        "            truncated_normal_initializer {\n",
        "              stddev: 0.03\n",
        "              mean: 0.0\n",
        "            }\n",
        "          }\n",
        "          batch_norm {\n",
        "            train: true,\n",
        "            scale: true,\n",
        "            center: true,\n",
        "            decay: 0.9997,\n",
        "            epsilon: 0.001,\n",
        "          }\n",
        "        }\n",
        "      }\n",
        "    }\n",
        "    feature_extractor {\n",
        "      type: 'ssd_mobilenet_v2'\n",
        "      min_depth: 16\n",
        "      depth_multiplier: 1.0\n",
        "      conv_hyperparams {\n",
        "        activation: RELU_6,\n",
        "        regularizer {\n",
        "          l2_regularizer {\n",
        "            weight: 0.00004\n",
        "          }\n",
        "        }\n",
        "        initializer {\n",
        "          truncated_normal_initializer {\n",
        "            stddev: 0.03\n",
        "            mean: 0.0\n",
        "          }\n",
        "        }\n",
        "        batch_norm {\n",
        "          train: true,\n",
        "          scale: true,\n",
        "          center: true,\n",
        "          decay: 0.9997,\n",
        "          epsilon: 0.001,\n",
        "        }\n",
        "      }\n",
        "    }\n",
        "    loss {\n",
        "      classification_loss {\n",
        "        weighted_sigmoid {\n",
        "        }\n",
        "      }\n",
        "      localization_loss {\n",
        "        weighted_smooth_l1 {\n",
        "        }\n",
        "      }\n",
        "      hard_example_miner {\n",
        "        num_hard_examples: 3000\n",
        "        iou_threshold: 0.99\n",
        "        loss_type: CLASSIFICATION\n",
        "        max_negatives_per_positive: 3\n",
        "        min_negatives_per_image: 3\n",
        "      }\n",
        "      classification_weight: 1.0\n",
        "      localization_weight: 1.0\n",
        "    }\n",
        "    normalize_loss_by_num_matches: true\n",
        "    post_processing {\n",
        "      batch_non_max_suppression {\n",
        "        score_threshold: 1e-8\n",
        "        iou_threshold: 0.6\n",
        "        max_detections_per_class: 100\n",
        "        max_total_detections: 100\n",
        "      }\n",
        "      score_converter: SIGMOID\n",
        "    }\n",
        "  }\n",
        "}\n",
        "\n",
        "train_config: {\n",
        "  batch_size: 24\n",
        "  optimizer {\n",
        "    rms_prop_optimizer: {\n",
        "      learning_rate: {\n",
        "        exponential_decay_learning_rate {\n",
        "          initial_learning_rate: 0.004\n",
        "          decay_steps: 800720\n",
        "          decay_factor: 0.95\n",
        "        }\n",
        "      }\n",
        "      momentum_optimizer_value: 0.9\n",
        "      decay: 0.9\n",
        "      epsilon: 1.0\n",
        "    }\n",
        "  }\n",
        "  fine_tune_checkpoint: \"PATH_TO_BE_CONFIGURED/model.ckpt\"\n",
        "  fine_tune_checkpoint_type:  \"detection\"\n",
        "  # Note: The below line limits the training process to 200K steps, which we\n",
        "  # empirically found to be sufficient enough to train the pets dataset. This\n",
        "  # effectively bypasses the learning rate schedule (the learning rate will\n",
        "  # never decay). Remove the below line to train indefinitely.\n",
        "  num_steps: 200000\n",
        "  data_augmentation_options {\n",
        "    random_horizontal_flip {\n",
        "    }\n",
        "  }\n",
        "  data_augmentation_options {\n",
        "    ssd_random_crop {\n",
        "    }\n",
        "  }\n",
        "}\n",
        "\n",
        "train_input_reader: {\n",
        "  tf_record_input_reader {\n",
        "    input_path: \"PATH_TO_BE_CONFIGURED/mscoco_train.record-?????-of-00100\"\n",
        "  }\n",
        "  label_map_path: \"PATH_TO_BE_CONFIGURED/mscoco_label_map.pbtxt\"\n",
        "}\n",
        "\n",
        "eval_config: {\n",
        "  num_examples: 8000\n",
        "  # Note: The below line limits the evaluation process to 10 evaluations.\n",
        "  # Remove the below line to evaluate indefinitely.\n",
        "  max_evals: 10\n",
        "}\n",
        "\n",
        "eval_input_reader: {\n",
        "  tf_record_input_reader {\n",
        "    input_path: \"PATH_TO_BE_CONFIGURED/mscoco_val.record-?????-of-00010\"\n",
        "  }\n",
        "  label_map_path: \"PATH_TO_BE_CONFIGURED/mscoco_label_map.pbtxt\"\n",
        "  shuffle: false\n",
        "  num_readers: 1\n",
        "}"
      ],
      "execution_count": 0,
      "outputs": []
    },
    {
      "cell_type": "markdown",
      "metadata": {
        "id": "z1BvgZsTe3ey",
        "colab_type": "text"
      },
      "source": [
        "## Alireza Quantized Mobilenet V2"
      ]
    },
    {
      "cell_type": "markdown",
      "metadata": {
        "id": "sIElxaDaEvEh",
        "colab_type": "text"
      },
      "source": [
        "\n",
        "### Sean config for SSD MOBILENET V2"
      ]
    },
    {
      "cell_type": "code",
      "metadata": {
        "id": "1dkC2_uVF_dQ",
        "colab_type": "code",
        "colab": {}
      },
      "source": [
        "# Quantized trained SSD with Mobilenet v2 on MSCOCO Dataset.\n",
        "# Users should configure the fine_tune_checkpoint field in the train config as\n",
        "# well as the label_map_path and input_path fields in the train_input_reader and\n",
        "# eval_input_reader. Search for \"PATH_TO_BE_CONFIGURED\" to find the fields that\n",
        "# should be configured.\n",
        "\n",
        "model {\n",
        "  ssd {\n",
        "    num_classes: 3\n",
        "    image_resizer {\n",
        "      fixed_shape_resizer {\n",
        "        height: 300\n",
        "        width: 300\n",
        "      }\n",
        "    }\n",
        "    feature_extractor {\n",
        "      type: \"ssd_mobilenet_v2\"\n",
        "      depth_multiplier: 1.0\n",
        "      min_depth: 16\n",
        "      conv_hyperparams {\n",
        "        regularizer {\n",
        "          l2_regularizer {\n",
        "            weight: 0.00004\n",
        "          }\n",
        "        }\n",
        "        initializer {\n",
        "          truncated_normal_initializer {\n",
        "            mean: 0.0\n",
        "            stddev: 0.03\n",
        "          }\n",
        "        }\n",
        "        activation: RELU_6\n",
        "        batch_norm {\n",
        "          decay: 0.9997\n",
        "          center: true\n",
        "          scale: true\n",
        "          epsilon: 0.001\n",
        "          train: true\n",
        "        }\n",
        "      }\n",
        "    }\n",
        "    box_coder {\n",
        "      faster_rcnn_box_coder {\n",
        "        y_scale: 10.0\n",
        "        x_scale: 10.0\n",
        "        height_scale: 5.0\n",
        "        width_scale: 5.0\n",
        "      }\n",
        "    }\n",
        "    matcher {\n",
        "      argmax_matcher {\n",
        "        matched_threshold: 0.5\n",
        "        unmatched_threshold: 0.5\n",
        "        ignore_thresholds: false\n",
        "        negatives_lower_than_unmatched: true\n",
        "        force_match_for_each_row: true\n",
        "      }\n",
        "    }\n",
        "    similarity_calculator {\n",
        "      iou_similarity {\n",
        "      }\n",
        "    }\n",
        "    box_predictor {\n",
        "      convolutional_box_predictor {\n",
        "        conv_hyperparams {\n",
        "          regularizer {\n",
        "            l2_regularizer {\n",
        "              weight: 0.00004\n",
        "            }\n",
        "          }\n",
        "          initializer {\n",
        "            truncated_normal_initializer {\n",
        "              mean: 0.0\n",
        "              stddev: 0.03\n",
        "            }\n",
        "          }\n",
        "          activation: RELU_6\n",
        "          batch_norm {\n",
        "            decay: 0.9997\n",
        "            center: true\n",
        "            scale: true\n",
        "            epsilon: 0.001\n",
        "            train: true\n",
        "          }\n",
        "        }\n",
        "        min_depth: 0\n",
        "        max_depth: 0\n",
        "        num_layers_before_predictor: 0\n",
        "        use_dropout: false\n",
        "        dropout_keep_probability: 0.8\n",
        "        kernel_size: 1\n",
        "        box_code_size: 4\n",
        "        apply_sigmoid_to_scores: false\n",
        "      }\n",
        "    }\n",
        "    anchor_generator {\n",
        "      ssd_anchor_generator {\n",
        "        num_layers: 6\n",
        "        min_scale: 0.2\n",
        "        max_scale: 0.95\n",
        "        aspect_ratios: 1.0\n",
        "        aspect_ratios: 2.0\n",
        "        aspect_ratios: 0.5\n",
        "        aspect_ratios: 3.0\n",
        "        aspect_ratios: 0.3333\n",
        "      }\n",
        "    }\n",
        "    post_processing {\n",
        "      batch_non_max_suppression {\n",
        "        score_threshold: 1e-08\n",
        "        iou_threshold: 0.6\n",
        "        max_detections_per_class: 10\n",
        "        max_total_detections: 20\n",
        "      }\n",
        "      score_converter: SIGMOID\n",
        "    }\n",
        "    normalize_loss_by_num_matches: true\n",
        "    loss {\n",
        "      localization_loss {\n",
        "        weighted_smooth_l1 {\n",
        "        }\n",
        "      }\n",
        "      classification_loss {\n",
        "        weighted_sigmoid {\n",
        "        }\n",
        "      }\n",
        "      hard_example_miner {\n",
        "        num_hard_examples: 3000\n",
        "        iou_threshold: 0.99\n",
        "        loss_type: CLASSIFICATION\n",
        "        max_negatives_per_positive: 3\n",
        "        min_negatives_per_image: 0\n",
        "      }\n",
        "      classification_weight: 1.0\n",
        "      localization_weight: 1.0\n",
        "    }\n",
        "  }\n",
        "}\n",
        "train_config {\n",
        "  batch_size: 8\n",
        "  data_augmentation_options {\n",
        "    random_horizontal_flip {\n",
        "    }\n",
        "  }\n",
        "  data_augmentation_options {\n",
        "    ssd_random_crop {\n",
        "    }\n",
        "  }\n",
        "  optimizer {\n",
        "    rms_prop_optimizer {\n",
        "      learning_rate {\n",
        "        exponential_decay_learning_rate {\n",
        "          initial_learning_rate: 0.004\n",
        "          decay_steps: 800720\n",
        "          decay_factor: 0.95\n",
        "        }\n",
        "      }\n",
        "      momentum_optimizer_value: 0.9\n",
        "      decay: 0.9\n",
        "      epsilon: 1.0\n",
        "    }\n",
        "  }\n",
        "  fine_tune_checkpoint: \"./models/model.ckpt\"\n",
        "  from_detection_checkpoint: true\n",
        "  num_steps: 200000\n",
        "}\n",
        "train_input_reader {\n",
        "  label_map_path: \"./dataset/pascal_label_map.pbtxt\"\n",
        "  tf_record_input_reader {\n",
        "    input_path: \"./data/train.record\"\n",
        "  }\n",
        "}\n",
        "eval_config {\n",
        "  num_examples: 9\n",
        "  # Note: below line limits the evaluation process.\n",
        "  # Remove the below line to evaluate indefinitely.\n",
        "  max_evals: 10\n",
        "}\n",
        "eval_input_reader {\n",
        "  label_map_path: \"./dataset/pascal_label_map.pbtxt\"\n",
        "  shuffle: false\n",
        "  num_readers: 1\n",
        "  tf_record_input_reader {\n",
        "    input_path: \"./data/val.record\"\n",
        "  }\n",
        "}\n",
        "graph_rewriter {\n",
        "  quantization {\n",
        "    delay: 48000\n",
        "    weight_bits: 8\n",
        "    activation_bits: 8\n",
        "  }\n",
        "}\n"
      ],
      "execution_count": 0,
      "outputs": []
    },
    {
      "cell_type": "markdown",
      "metadata": {
        "id": "7WV7D9PqkldY",
        "colab_type": "text"
      },
      "source": [
        "### Origninal"
      ]
    },
    {
      "cell_type": "code",
      "metadata": {
        "id": "QaqXgNnMeuEj",
        "colab_type": "code",
        "colab": {}
      },
      "source": [
        "# Quantized trained SSD with Mobilenet v2 on MSCOCO Dataset.\n",
        "# Users should configure the fine_tune_checkpoint field in the train config as\n",
        "# well as the label_map_path and input_path fields in the train_input_reader and\n",
        "# eval_input_reader. Search for \"PATH_TO_BE_CONFIGURED\" to find the fields that\n",
        "# should be configured.\n",
        "\n",
        "model {\n",
        "  ssd {\n",
        "    num_classes: 90\n",
        "    box_coder {\n",
        "      faster_rcnn_box_coder {\n",
        "        y_scale: 10.0\n",
        "        x_scale: 10.0\n",
        "        height_scale: 5.0\n",
        "        width_scale: 5.0\n",
        "      }\n",
        "    }\n",
        "    matcher {\n",
        "      argmax_matcher {\n",
        "        matched_threshold: 0.5\n",
        "        unmatched_threshold: 0.5\n",
        "        ignore_thresholds: false\n",
        "        negatives_lower_than_unmatched: true\n",
        "        force_match_for_each_row: true\n",
        "      }\n",
        "    }\n",
        "    similarity_calculator {\n",
        "      iou_similarity {\n",
        "      }\n",
        "    }\n",
        "    anchor_generator {\n",
        "      ssd_anchor_generator {\n",
        "        num_layers: 6\n",
        "        min_scale: 0.2\n",
        "        max_scale: 0.95\n",
        "        aspect_ratios: 1.0\n",
        "        aspect_ratios: 2.0\n",
        "        aspect_ratios: 0.5\n",
        "        aspect_ratios: 3.0\n",
        "        aspect_ratios: 0.3333\n",
        "      }\n",
        "    }\n",
        "    image_resizer {\n",
        "      fixed_shape_resizer {\n",
        "        height: 300\n",
        "        width: 300\n",
        "      }\n",
        "    }\n",
        "    box_predictor {\n",
        "      convolutional_box_predictor {\n",
        "        min_depth: 0\n",
        "        max_depth: 0\n",
        "        num_layers_before_predictor: 0\n",
        "        use_dropout: false\n",
        "        dropout_keep_probability: 0.8\n",
        "        kernel_size: 1\n",
        "        box_code_size: 4\n",
        "        apply_sigmoid_to_scores: false\n",
        "        conv_hyperparams {\n",
        "          activation: RELU_6,\n",
        "          regularizer {\n",
        "            l2_regularizer {\n",
        "              weight: 0.00004\n",
        "            }\n",
        "          }\n",
        "          initializer {\n",
        "            truncated_normal_initializer {\n",
        "              stddev: 0.03\n",
        "              mean: 0.0\n",
        "            }\n",
        "          }\n",
        "          batch_norm {\n",
        "            train: true,\n",
        "            scale: true,\n",
        "            center: true,\n",
        "            decay: 0.9997,\n",
        "            epsilon: 0.001,\n",
        "          }\n",
        "        }\n",
        "      }\n",
        "    }\n",
        "    feature_extractor {\n",
        "      type: 'ssd_mobilenet_v2'\n",
        "      min_depth: 16\n",
        "      depth_multiplier: 1.0\n",
        "      conv_hyperparams {\n",
        "        activation: RELU_6,\n",
        "        regularizer {\n",
        "          l2_regularizer {\n",
        "            weight: 0.00004\n",
        "          }\n",
        "        }\n",
        "        initializer {\n",
        "          truncated_normal_initializer {\n",
        "            stddev: 0.03\n",
        "            mean: 0.0\n",
        "          }\n",
        "        }\n",
        "        batch_norm {\n",
        "          train: true,\n",
        "          scale: true,\n",
        "          center: true,\n",
        "          decay: 0.9997,\n",
        "          epsilon: 0.001,\n",
        "        }\n",
        "      }\n",
        "    }\n",
        "    loss {\n",
        "      classification_loss {\n",
        "        weighted_sigmoid {\n",
        "        }\n",
        "      }\n",
        "      localization_loss {\n",
        "        weighted_smooth_l1 {\n",
        "        }\n",
        "      }\n",
        "      hard_example_miner {\n",
        "        num_hard_examples: 3000\n",
        "        iou_threshold: 0.99\n",
        "        loss_type: CLASSIFICATION\n",
        "        max_negatives_per_positive: 3\n",
        "        min_negatives_per_image: 3\n",
        "      }\n",
        "      classification_weight: 1.0\n",
        "      localization_weight: 1.0\n",
        "    }\n",
        "    normalize_loss_by_num_matches: true\n",
        "    post_processing {\n",
        "      batch_non_max_suppression {\n",
        "        score_threshold: 1e-8\n",
        "        iou_threshold: 0.6\n",
        "        max_detections_per_class: 100\n",
        "        max_total_detections: 100\n",
        "      }\n",
        "      score_converter: SIGMOID\n",
        "    }\n",
        "  }\n",
        "}\n",
        "\n",
        "train_config: {\n",
        "  batch_size: 24\n",
        "  optimizer {\n",
        "    rms_prop_optimizer: {\n",
        "      learning_rate: {\n",
        "        exponential_decay_learning_rate {\n",
        "          initial_learning_rate: 0.004\n",
        "          decay_steps: 800720\n",
        "          decay_factor: 0.95\n",
        "        }\n",
        "      }\n",
        "      momentum_optimizer_value: 0.9\n",
        "      decay: 0.9\n",
        "      epsilon: 1.0\n",
        "    }\n",
        "  }\n",
        "  fine_tune_checkpoint: \"PATH_TO_BE_CONFIGURED/model.ckpt\"\n",
        "  fine_tune_checkpoint_type:  \"detection\"\n",
        "  # Note: The below line limits the training process to 200K steps, which we\n",
        "  # empirically found to be sufficient enough to train the pets dataset. This\n",
        "  # effectively bypasses the learning rate schedule (the learning rate will\n",
        "  # never decay). Remove the below line to train indefinitely.\n",
        "  num_steps: 200000\n",
        "  data_augmentation_options {\n",
        "    random_horizontal_flip {\n",
        "    }\n",
        "  }\n",
        "  data_augmentation_options {\n",
        "    ssd_random_crop {\n",
        "    }\n",
        "  }\n",
        "}\n",
        "\n",
        "train_input_reader: {\n",
        "  tf_record_input_reader {\n",
        "    input_path: \"PATH_TO_BE_CONFIGURED/mscoco_train.record-?????-of-00100\"\n",
        "  }\n",
        "  label_map_path: \"PATH_TO_BE_CONFIGURED/mscoco_label_map.pbtxt\"\n",
        "}\n",
        "\n",
        "eval_config: {\n",
        "  num_examples: 8000\n",
        "  # Note: The below line limits the evaluation process to 10 evaluations.\n",
        "  # Remove the below line to evaluate indefinitely.\n",
        "  max_evals: 10\n",
        "}\n",
        "\n",
        "eval_input_reader: {\n",
        "  tf_record_input_reader {\n",
        "    input_path: \"PATH_TO_BE_CONFIGURED/mscoco_val.record-?????-of-00010\"\n",
        "  }\n",
        "  label_map_path: \"PATH_TO_BE_CONFIGURED/mscoco_label_map.pbtxt\"\n",
        "  shuffle: false\n",
        "  num_readers: 1\n",
        "}\n",
        "\n",
        "graph_rewriter {\n",
        "  quantization {\n",
        "    delay: 48000\n",
        "    weight_bits: 8\n",
        "    activation_bits: 8\n",
        "  }\n",
        "}"
      ],
      "execution_count": 0,
      "outputs": []
    },
    {
      "cell_type": "markdown",
      "metadata": {
        "id": "cltz0Sx6kp1e",
        "colab_type": "text"
      },
      "source": [
        "### Modified"
      ]
    },
    {
      "cell_type": "code",
      "metadata": {
        "id": "lvlPiq8ukuPw",
        "colab_type": "code",
        "colab": {}
      },
      "source": [
        "# To be filled"
      ],
      "execution_count": 0,
      "outputs": []
    },
    {
      "cell_type": "markdown",
      "metadata": {
        "id": "ubCRznr4e7h4",
        "colab_type": "text"
      },
      "source": [
        "## Alireza Resnet 101"
      ]
    },
    {
      "cell_type": "markdown",
      "metadata": {
        "id": "P3dPcbLnnI8T",
        "colab_type": "text"
      },
      "source": [
        "### Resnet Modified"
      ]
    },
    {
      "cell_type": "code",
      "metadata": {
        "id": "Ek4dnOk4nJLc",
        "colab_type": "code",
        "colab": {}
      },
      "source": [
        "# Must be filled"
      ],
      "execution_count": 0,
      "outputs": []
    },
    {
      "cell_type": "markdown",
      "metadata": {
        "id": "lT7nSpf-nFJh",
        "colab_type": "text"
      },
      "source": [
        "### Oringinal"
      ]
    },
    {
      "cell_type": "code",
      "metadata": {
        "id": "niLPsPc_fET2",
        "colab_type": "code",
        "colab": {}
      },
      "source": [
        "# R-FCN with Resnet-101 (v1),  configured for Oxford-IIIT Pets Dataset.\n",
        "# Users should configure the fine_tune_checkpoint field in the train config as\n",
        "# well as the label_map_path and input_path fields in the train_input_reader and\n",
        "# eval_input_reader. Search for \"PATH_TO_BE_CONFIGURED\" to find the fields that\n",
        "# should be configured.\n",
        "\n",
        "model {\n",
        "  faster_rcnn {\n",
        "    num_classes: 37\n",
        "    image_resizer {\n",
        "      keep_aspect_ratio_resizer {\n",
        "        min_dimension: 600\n",
        "        max_dimension: 1024\n",
        "      }\n",
        "    }\n",
        "    feature_extractor {\n",
        "      type: 'faster_rcnn_resnet101'\n",
        "      first_stage_features_stride: 16\n",
        "    }\n",
        "    first_stage_anchor_generator {\n",
        "      grid_anchor_generator {\n",
        "        scales: [0.25, 0.5, 1.0, 2.0]\n",
        "        aspect_ratios: [0.5, 1.0, 2.0]\n",
        "        height_stride: 16\n",
        "        width_stride: 16\n",
        "      }\n",
        "    }\n",
        "    first_stage_box_predictor_conv_hyperparams {\n",
        "      op: CONV\n",
        "      regularizer {\n",
        "        l2_regularizer {\n",
        "          weight: 0.0\n",
        "        }\n",
        "      }\n",
        "      initializer {\n",
        "        truncated_normal_initializer {\n",
        "          stddev: 0.01\n",
        "        }\n",
        "      }\n",
        "    }\n",
        "    first_stage_nms_score_threshold: 0.0\n",
        "    first_stage_nms_iou_threshold: 0.7\n",
        "    first_stage_max_proposals: 300\n",
        "    first_stage_localization_loss_weight: 2.0\n",
        "    first_stage_objectness_loss_weight: 1.0\n",
        "    second_stage_box_predictor {\n",
        "      rfcn_box_predictor {\n",
        "        conv_hyperparams {\n",
        "          op: CONV\n",
        "          regularizer {\n",
        "            l2_regularizer {\n",
        "              weight: 0.0\n",
        "            }\n",
        "          }\n",
        "          initializer {\n",
        "            truncated_normal_initializer {\n",
        "              stddev: 0.01\n",
        "            }\n",
        "          }\n",
        "        }\n",
        "        crop_height: 18\n",
        "        crop_width: 18\n",
        "        num_spatial_bins_height: 3\n",
        "        num_spatial_bins_width: 3\n",
        "      }\n",
        "    }\n",
        "    second_stage_post_processing {\n",
        "      batch_non_max_suppression {\n",
        "        score_threshold: 0.0\n",
        "        iou_threshold: 0.6\n",
        "        max_detections_per_class: 100\n",
        "        max_total_detections: 300\n",
        "      }\n",
        "      score_converter: SOFTMAX\n",
        "    }\n",
        "    second_stage_localization_loss_weight: 2.0\n",
        "    second_stage_classification_loss_weight: 1.0\n",
        "  }\n",
        "}\n",
        "\n",
        "train_config: {\n",
        "  batch_size: 1\n",
        "  optimizer {\n",
        "    momentum_optimizer: {\n",
        "      learning_rate: {\n",
        "        manual_step_learning_rate {\n",
        "          initial_learning_rate: 0.0003\n",
        "          schedule {\n",
        "            step: 900000\n",
        "            learning_rate: .00003\n",
        "          }\n",
        "          schedule {\n",
        "            step: 1200000\n",
        "            learning_rate: .000003\n",
        "          }\n",
        "        }\n",
        "      }\n",
        "      momentum_optimizer_value: 0.9\n",
        "    }\n",
        "    use_moving_average: false\n",
        "  }\n",
        "  gradient_clipping_by_norm: 10.0\n",
        "  fine_tune_checkpoint: \"PATH_TO_BE_CONFIGURED/model.ckpt\"\n",
        "  from_detection_checkpoint: true\n",
        "  load_all_detection_checkpoint_vars: true\n",
        "  # Note: The below line limits the training process to 200K steps, which we\n",
        "  # empirically found to be sufficient enough to train the pets dataset. This\n",
        "  # effectively bypasses the learning rate schedule (the learning rate will\n",
        "  # never decay). Remove the below line to train indefinitely.\n",
        "  num_steps: 200000\n",
        "  data_augmentation_options {\n",
        "    random_horizontal_flip {\n",
        "    }\n",
        "  }\n",
        "}\n",
        "\n",
        "train_input_reader: {\n",
        "  tf_record_input_reader {\n",
        "    input_path: \"PATH_TO_BE_CONFIGURED/pet_faces_train.record-?????-of-00010\"\n",
        "  }\n",
        "  label_map_path: \"PATH_TO_BE_CONFIGURED/pet_label_map.pbtxt\"\n",
        "}\n",
        "\n",
        "eval_config: {\n",
        "  metrics_set: \"coco_detection_metrics\"\n",
        "  num_examples: 1101\n",
        "}\n",
        "\n",
        "eval_input_reader: {\n",
        "  tf_record_input_reader {\n",
        "    input_path: \"PATH_TO_BE_CONFIGURED/pet_faces_val.record-?????-of-00010\"\n",
        "  }\n",
        "  label_map_path: \"PATH_TO_BE_CONFIGURED/pet_label_map.pbtxt\"\n",
        "  shuffle: false\n",
        "  num_readers: 1\n",
        "}"
      ],
      "execution_count": 0,
      "outputs": []
    },
    {
      "cell_type": "markdown",
      "metadata": {
        "id": "cfaKXxAznfKb",
        "colab_type": "text"
      },
      "source": [
        "## Alierza Faster RCNN"
      ]
    },
    {
      "cell_type": "markdown",
      "metadata": {
        "id": "3FKWF6UqniDW",
        "colab_type": "text"
      },
      "source": [
        "### original R-CNN"
      ]
    },
    {
      "cell_type": "code",
      "metadata": {
        "id": "KbksSuHfniN4",
        "colab_type": "code",
        "colab": {}
      },
      "source": [
        "# Faster R-CNN with Inception v2, configured for Oxford-IIIT Pets Dataset.\n",
        "# Users should configure the fine_tune_checkpoint field in the train config as\n",
        "# well as the label_map_path and input_path fields in the train_input_reader and\n",
        "# eval_input_reader. Search for \"PATH_TO_BE_CONFIGURED\" to find the fields that\n",
        "# should be configured.\n",
        "\n",
        "model {\n",
        "  faster_rcnn {\n",
        "    num_classes: 37\n",
        "    image_resizer {\n",
        "      keep_aspect_ratio_resizer {\n",
        "        min_dimension: 600\n",
        "        max_dimension: 1024\n",
        "      }\n",
        "    }\n",
        "    feature_extractor {\n",
        "      type: 'faster_rcnn_inception_v2'\n",
        "      first_stage_features_stride: 16\n",
        "    }\n",
        "    first_stage_anchor_generator {\n",
        "      grid_anchor_generator {\n",
        "        scales: [0.25, 0.5, 1.0, 2.0]\n",
        "        aspect_ratios: [0.5, 1.0, 2.0]\n",
        "        height_stride: 16\n",
        "        width_stride: 16\n",
        "      }\n",
        "    }\n",
        "    first_stage_box_predictor_conv_hyperparams {\n",
        "      op: CONV\n",
        "      regularizer {\n",
        "        l2_regularizer {\n",
        "          weight: 0.0\n",
        "        }\n",
        "      }\n",
        "      initializer {\n",
        "        truncated_normal_initializer {\n",
        "          stddev: 0.01\n",
        "        }\n",
        "      }\n",
        "    }\n",
        "    first_stage_nms_score_threshold: 0.0\n",
        "    first_stage_nms_iou_threshold: 0.7\n",
        "    first_stage_max_proposals: 300\n",
        "    first_stage_localization_loss_weight: 2.0\n",
        "    first_stage_objectness_loss_weight: 1.0\n",
        "    initial_crop_size: 14\n",
        "    maxpool_kernel_size: 2\n",
        "    maxpool_stride: 2\n",
        "    second_stage_box_predictor {\n",
        "      mask_rcnn_box_predictor {\n",
        "        use_dropout: false\n",
        "        dropout_keep_probability: 1.0\n",
        "        fc_hyperparams {\n",
        "          op: FC\n",
        "          regularizer {\n",
        "            l2_regularizer {\n",
        "              weight: 0.0\n",
        "            }\n",
        "          }\n",
        "          initializer {\n",
        "            variance_scaling_initializer {\n",
        "              factor: 1.0\n",
        "              uniform: true\n",
        "              mode: FAN_AVG\n",
        "            }\n",
        "          }\n",
        "        }\n",
        "      }\n",
        "    }\n",
        "    second_stage_post_processing {\n",
        "      batch_non_max_suppression {\n",
        "        score_threshold: 0.0\n",
        "        iou_threshold: 0.6\n",
        "        max_detections_per_class: 100\n",
        "        max_total_detections: 300\n",
        "      }\n",
        "      score_converter: SOFTMAX\n",
        "    }\n",
        "    second_stage_localization_loss_weight: 2.0\n",
        "    second_stage_classification_loss_weight: 1.0\n",
        "  }\n",
        "}\n",
        "\n",
        "train_config: {\n",
        "  batch_size: 1\n",
        "  optimizer {\n",
        "    momentum_optimizer: {\n",
        "      learning_rate: {\n",
        "        manual_step_learning_rate {\n",
        "          initial_learning_rate: 0.0002\n",
        "          schedule {\n",
        "            step: 900000\n",
        "            learning_rate: .00002\n",
        "          }\n",
        "          schedule {\n",
        "            step: 1200000\n",
        "            learning_rate: .000002\n",
        "          }\n",
        "        }\n",
        "      }\n",
        "      momentum_optimizer_value: 0.9\n",
        "    }\n",
        "    use_moving_average: false\n",
        "  }\n",
        "  gradient_clipping_by_norm: 10.0\n",
        "  fine_tune_checkpoint: \"PATH_TO_BE_CONFIGURED/model.ckpt\"\n",
        "  from_detection_checkpoint: true\n",
        "  load_all_detection_checkpoint_vars: true\n",
        "  # Note: The below line limits the training process to 200K steps, which we\n",
        "  # empirically found to be sufficient enough to train the pets dataset. This\n",
        "  # effectively bypasses the learning rate schedule (the learning rate will\n",
        "  # never decay). Remove the below line to train indefinitely.\n",
        "  num_steps: 200000\n",
        "  data_augmentation_options {\n",
        "    random_horizontal_flip {\n",
        "    }\n",
        "  }\n",
        "}\n",
        "\n",
        "\n",
        "train_input_reader: {\n",
        "  tf_record_input_reader {\n",
        "    input_path: \"PATH_TO_BE_CONFIGURED/pet_faces_train.record-?????-of-00010\"\n",
        "  }\n",
        "  label_map_path: \"PATH_TO_BE_CONFIGURED/pet_label_map.pbtxt\"\n",
        "}\n",
        "\n",
        "eval_config: {\n",
        "  metrics_set: \"coco_detection_metrics\"\n",
        "  num_examples: 1101\n",
        "}\n",
        "\n",
        "eval_input_reader: {\n",
        "  tf_record_input_reader {\n",
        "    input_path: \"PATH_TO_BE_CONFIGURED/pet_faces_val.record-?????-of-00010\"\n",
        "  }\n",
        "  label_map_path: \"PATH_TO_BE_CONFIGURED/pet_label_map.pbtxt\"\n",
        "  shuffle: false\n",
        "  num_readers: 1\n",
        "}"
      ],
      "execution_count": 0,
      "outputs": []
    },
    {
      "cell_type": "markdown",
      "metadata": {
        "id": "LghjVeefnich",
        "colab_type": "text"
      },
      "source": [
        "### Modified Faster RCNN"
      ]
    },
    {
      "cell_type": "code",
      "metadata": {
        "id": "nHgpFMTHnivB",
        "colab_type": "code",
        "colab": {}
      },
      "source": [
        "# To be filled"
      ],
      "execution_count": 0,
      "outputs": []
    },
    {
      "cell_type": "markdown",
      "metadata": {
        "id": "6pv8uSVQY7nD",
        "colab_type": "text"
      },
      "source": [
        "# Data Pre-Processing to Generate TF Record File:\n",
        "\n",
        "1.  Download the data (It stored in google drive/ data)\n",
        "2.  Generate csv file from xml lable files\n",
        "3.  create pbtxt file for label map\n",
        "4.  search for errors in the database\n",
        "5.  fix the errors if occures using pandas dataframe\n",
        "6.  generate tf record file"
      ]
    },
    {
      "cell_type": "markdown",
      "metadata": {
        "id": "NRK9-BvHZ855",
        "colab_type": "text"
      },
      "source": [
        "## Organizing Image Dataset and Associated Labels\n",
        "\n",
        "1. The images are collected from the highway 13 in California. \n",
        "2. The images are labeled using LabelImg [source](https://github.com/tzutalin/labelImg)  \n",
        "3. make a directory of the project\n",
        "4. splitting the data for train and test separately."
      ]
    },
    {
      "cell_type": "markdown",
      "metadata": {
        "id": "Htf3LAwrQsfv",
        "colab_type": "text"
      },
      "source": [
        "## Downloading the Data"
      ]
    },
    {
      "cell_type": "code",
      "metadata": {
        "id": "S6XJQie5eDl3",
        "colab_type": "code",
        "colab": {}
      },
      "source": [
        "cd /content/{PROJECT_HOME_DIR}"
      ],
      "execution_count": 0,
      "outputs": []
    },
    {
      "cell_type": "code",
      "metadata": {
        "id": "Wq1HdOJQFVjP",
        "colab_type": "code",
        "colab": {}
      },
      "source": [
        "# create subdirectories for test and train\n",
        "!mkdir data/images data/train_labels data/test_labels"
      ],
      "execution_count": 0,
      "outputs": []
    },
    {
      "cell_type": "code",
      "metadata": {
        "id": "9M50cl5Hk7yk",
        "colab_type": "code",
        "colab": {}
      },
      "source": [
        "ls /content/drive/My\\ Drive/data/cc"
      ],
      "execution_count": 0,
      "outputs": []
    },
    {
      "cell_type": "code",
      "metadata": {
        "id": "VUAv6bL1d8zL",
        "colab_type": "code",
        "colab": {}
      },
      "source": [
        "pwd"
      ],
      "execution_count": 0,
      "outputs": []
    },
    {
      "cell_type": "code",
      "metadata": {
        "id": "4RgBXZHdiGVp",
        "colab_type": "code",
        "colab": {}
      },
      "source": [
        "# copy the images from the google drive\n",
        "DATA_ZIP = '/content/drive/My\\ Drive/data/cc/JPEGImages.zip'\n",
        "ANNOTATION_ZIP = '/content/drive/My\\ Drive/data/cc/Annotations.zip'\n",
        "\n",
        "!cp {DATA_ZIP} .\n",
        "!cp {ANNOTATION_ZIP} ."
      ],
      "execution_count": 0,
      "outputs": []
    },
    {
      "cell_type": "code",
      "metadata": {
        "id": "BKM4PzdfvTlv",
        "colab_type": "code",
        "colab": {}
      },
      "source": [
        "!unzip JPEGImages.zip\n",
        "!mv JPEGImages/* data/images/"
      ],
      "execution_count": 0,
      "outputs": []
    },
    {
      "cell_type": "code",
      "metadata": {
        "id": "C-KoLk7BiGaI",
        "colab_type": "code",
        "colab": {}
      },
      "source": [
        "!unzip Annotations.zip\n",
        "!mv Annotations/* data/train_labels"
      ],
      "execution_count": 0,
      "outputs": []
    },
    {
      "cell_type": "code",
      "metadata": {
        "id": "pyC3CDYLpnCI",
        "colab_type": "code",
        "colab": {}
      },
      "source": [
        "ls data/train_labels/"
      ],
      "execution_count": 0,
      "outputs": []
    },
    {
      "cell_type": "code",
      "metadata": {
        "id": "mr9rw1tzwnlA",
        "colab_type": "code",
        "colab": {}
      },
      "source": [
        "# remove the zip files and extracted files\n",
        "!rm -rf Annotations.zip Annotations/ JPEGImages.zip JPEGImages/"
      ],
      "execution_count": 0,
      "outputs": []
    },
    {
      "cell_type": "code",
      "metadata": {
        "id": "UBO8ee8dxQZ6",
        "colab_type": "code",
        "colab": {}
      },
      "source": [
        "#  99 all training labels\n",
        "ls -1 data/train_labels/ | wc -l"
      ],
      "execution_count": 0,
      "outputs": []
    },
    {
      "cell_type": "code",
      "metadata": {
        "id": "aQ5kfPl7pURP",
        "colab_type": "code",
        "colab": {}
      },
      "source": [
        "# move 20 percent to the test dataset randomly\n",
        "!ls data/train_labels/* | sort -R | head -19 | xargs -I{} mv {} data/test_labels"
      ],
      "execution_count": 0,
      "outputs": []
    },
    {
      "cell_type": "code",
      "metadata": {
        "id": "HfnADVtRx1kb",
        "colab_type": "code",
        "colab": {}
      },
      "source": [
        "# 80 \"images\"(xml) for training\n",
        "ls -1 data/train_labels/ | wc -l"
      ],
      "execution_count": 0,
      "outputs": []
    },
    {
      "cell_type": "code",
      "metadata": {
        "id": "hWKVqY6Ux9-s",
        "colab_type": "code",
        "colab": {}
      },
      "source": [
        "# 19 \"images\"(xml) for testing\n",
        "ls -1 data/test_labels/ | wc -l"
      ],
      "execution_count": 0,
      "outputs": []
    },
    {
      "cell_type": "markdown",
      "metadata": {
        "id": "0Cs2EwPCzbUu",
        "colab_type": "text"
      },
      "source": [
        "## Preprocessing Images and Labels\n",
        "1. Converting the annotations from xml files to two csv files for each `train_labels/` and `train_labels/`.\n",
        "2. Creating a pbtxt file that specifies the number of class (one class in this case)\n",
        "3. Checking if the annotations for each object are placed within the range of the image width and height."
      ]
    },
    {
      "cell_type": "code",
      "metadata": {
        "id": "MeyADNdjzmGg",
        "colab_type": "code",
        "colab": {}
      },
      "source": [
        "cd /content/{PROJECT_HOME_DIR}/data"
      ],
      "execution_count": 0,
      "outputs": []
    },
    {
      "cell_type": "code",
      "metadata": {
        "id": "c-mE7DwSzeEZ",
        "colab_type": "code",
        "colab": {}
      },
      "source": [
        "# Be in the data directory\n",
        "#adjusted from: https://github.com/datitran/raccoon_dataset\n",
        "\n",
        "#converts the annotations/labels into one csv file for each training and testing labels\n",
        "#creats label_map.pbtxt file\n",
        "\n",
        "# images extension\n",
        "#images_extension = '.jpg'\n",
        "# CHECK THE XML FILES FOR THIS EXTENSION\n",
        "images_extension = ''\n",
        "\n",
        "# takes the path of a directory that contains xml files and converts\n",
        "#  them to one csv file.\n",
        "\n",
        "# returns a csv file that contains: image name, width, height, class, xmin, ymin, xmax, ymax.\n",
        "# note: if the xml file contains more than one box/label, it will create more than one row for the same image. each row contains the info for an individual box. \n",
        "def xml_to_csv(path):\n",
        "  classes_names = []\n",
        "  xml_list = []\n",
        "\n",
        "  for xml_file in glob.glob(path + '/*.xml'):\n",
        "    tree = ET.parse(xml_file)\n",
        "    root = tree.getroot()\n",
        "    for member in root.findall('object'):\n",
        "      classes_names.append(member[0].text)\n",
        "      value = (root.find('filename').text + images_extension,\n",
        "               int(root.find('size')[0].text),\n",
        "               int(root.find('size')[1].text),\n",
        "               member[0].text,\n",
        "               int(member[4][0].text),\n",
        "               int(member[4][1].text),\n",
        "               int(member[4][2].text),\n",
        "               int(member[4][3].text))\n",
        "      xml_list.append(value)\n",
        "  column_name = ['filename', 'width', 'height', 'class', 'xmin', 'ymin', 'xmax', 'ymax']\n",
        "  xml_df = pd.DataFrame(xml_list, columns=column_name) \n",
        "  classes_names = list(set(classes_names))\n",
        "  classes_names.sort()\n",
        "  return xml_df, classes_names\n",
        "\n",
        "# for both the train_labels and test_labels csv files, it runs the xml_to_csv() above.\n",
        "for label_path in ['train_labels', 'test_labels']:\n",
        "  image_path = os.path.join(os.getcwd(), label_path)\n",
        "  xml_df, classes = xml_to_csv(label_path)\n",
        "  xml_df.to_csv(f'{label_path}.csv', index=None)\n",
        "  print(f'Successfully converted {label_path} xml to csv.')\n",
        "\n",
        "# Creating the `label_map.pbtxt` file\n",
        "label_map_path = os.path.join(\"label_map.pbtxt\")\n",
        "\n",
        "pbtxt_content = \"\"\n",
        "\n",
        "#creats a pbtxt file the has the class names.\n",
        "for i, class_name in enumerate(classes):\n",
        "    # display_name is optional.\n",
        "    pbtxt_content = (\n",
        "        pbtxt_content\n",
        "        + \"item {{\\n    id: {0}\\n    name: '{1}'\\n    display_name: '{1}'\\n }}\\n\\n\".format(i + 1, class_name)\n",
        "    )\n",
        "pbtxt_content = pbtxt_content.strip()\n",
        "with open(label_map_path, \"w\") as f:\n",
        "    f.write(pbtxt_content)\n"
      ],
      "execution_count": 0,
      "outputs": []
    },
    {
      "cell_type": "code",
      "metadata": {
        "id": "SC8iePKTz4wx",
        "colab_type": "code",
        "colab": {}
      },
      "source": [
        "#checking the pbtxt file\n",
        "!cat label_map.pbtxt"
      ],
      "execution_count": 0,
      "outputs": []
    },
    {
      "cell_type": "code",
      "metadata": {
        "id": "GEUOb0J6z_y2",
        "colab_type": "code",
        "colab": {}
      },
      "source": [
        "# they are there!\n",
        "ls -l"
      ],
      "execution_count": 0,
      "outputs": []
    },
    {
      "cell_type": "code",
      "metadata": {
        "id": "7dKhIRM30fEQ",
        "colab_type": "code",
        "colab": {}
      },
      "source": [
        "cd /content/{PROJECT_HOME_DIR}/data"
      ],
      "execution_count": 0,
      "outputs": []
    },
    {
      "cell_type": "markdown",
      "metadata": {
        "id": "l3kbetdsQa9G",
        "colab_type": "text"
      },
      "source": [
        "## Catch Errors in the Data"
      ]
    },
    {
      "cell_type": "code",
      "metadata": {
        "id": "rB98IfnO0i4w",
        "colab_type": "code",
        "colab": {}
      },
      "source": [
        "#checks if the images box position is placed within the image.\n",
        "\n",
        "#note: while this doesn't checks if the boxes/annotatoins are correctly\n",
        "# placed around the object, Tensorflow will through an error if this occured.\n",
        "#%cd /content/{project}}/data\n",
        "# path to images\n",
        "images_path = 'images'\n",
        "\n",
        "#loops over both train_labels and test_labels csv files to do the check\n",
        "# returns the image name where an error is found \n",
        "# return the incorrect attributes; xmin, ymin, xmax, ymax.\n",
        "for CSV_FILE in ['train_labels.csv', 'test_labels.csv']:\n",
        "  with open(CSV_FILE, 'r') as fid:  \n",
        "      print('[*] Checking file:', CSV_FILE) \n",
        "      file = csv.reader(fid, delimiter=',')\n",
        "      first = True \n",
        "      cnt = 0\n",
        "      error_cnt = 0\n",
        "      error = False\n",
        "      for row in file:\n",
        "          if error == True:\n",
        "              error_cnt += 1\n",
        "              error = False         \n",
        "          if first == True:\n",
        "              first = False\n",
        "              continue     \n",
        "          cnt += 1      \n",
        "          name, width, height, xmin, ymin, xmax, ymax = row[0], int(row[1]), int(row[2]), int(row[4]), int(row[5]), int(row[6]), int(row[7])     \n",
        "          path = os.path.join(images_path, name)\n",
        "          print(image_path)\n",
        "          print(name)\n",
        "          img = cv2.imread(path)         \n",
        "          if type(img) == type(None):\n",
        "              error = True\n",
        "              print('Could not read image', img)\n",
        "              continue     \n",
        "          org_height, org_width = img.shape[:2]     \n",
        "          if org_width != width:\n",
        "              error = True\n",
        "              print('Width mismatch for image: ', name, width, '!=', org_width)     \n",
        "          if org_height != height:\n",
        "              error = True\n",
        "              print('Height mismatch for image: ', name, height, '!=', org_height) \n",
        "          if xmin > org_width:\n",
        "              error = True\n",
        "              print('XMIN > org_width for file', name)  \n",
        "          if xmax > org_width:\n",
        "              error = True\n",
        "              print('XMAX > org_width for file', name)\n",
        "          if ymin > org_height:\n",
        "              error = True\n",
        "              print('YMIN > org_height for file', name)\n",
        "          if ymax > org_height:\n",
        "              error = True\n",
        "              print('YMAX > org_height for file', name)\n",
        "          if error == True:\n",
        "              print('Error for file: %s' % name)\n",
        "              print()\n",
        "      print()\n",
        "      print('Checked %d files and realized %d errors' % (cnt, error_cnt))\n",
        "      print(\"-----\")"
      ],
      "execution_count": 0,
      "outputs": []
    },
    {
      "cell_type": "markdown",
      "metadata": {
        "id": "WC9LwYj9Q_Ap",
        "colab_type": "text"
      },
      "source": [
        "## Fix Data if Any Error is Found"
      ]
    },
    {
      "cell_type": "code",
      "metadata": {
        "id": "NuypW3tP1M4j",
        "colab_type": "code",
        "colab": {}
      },
      "source": [
        "# if removing needed:\n",
        "#rm images/'image(39).jpg'\n",
        "\n",
        "#removing the entry for it in the csv for that image as well\n",
        "\n",
        "#because we did a random split for the data, we dont know if it ended up being in training or testing\n",
        "# we will remove the image from both.\n",
        "\n",
        "#training\n",
        "#reading the training csv\n",
        "#df = pd.read_csv('/content/{project}}/data/train_labels.csv')\n",
        "# removing image(39).jpg\n",
        "#df = df[df['filename'] != 'image(39).jpg']\n",
        "#reseting the index\n",
        "#df.reset_index(drop=True, inplace=True)\n",
        "#saving the df\n",
        "#df.to_csv('/content/{project}/data/train_labels.csv')\n",
        "\n",
        "\n",
        "#testing\n",
        "#reading the testing csv\n",
        "#df = pd.read_csv('/content/{project}/data/test_labels.csv')\n",
        "# removing image(39).jpg\n",
        "#df = df[df['filename'] != 'image(39)'.jpg']\n",
        "#reseting the index\n",
        "#df.reset_index(drop=True, inplace=True)\n",
        "#saving the df\n",
        "#df.to_csv('/content/{project}/data/test_labels.csv')\n",
        "\n",
        "# Just for the memory\n",
        "#df = None\n"
      ],
      "execution_count": 0,
      "outputs": []
    },
    {
      "cell_type": "markdown",
      "metadata": {
        "id": "jbsnW9nW9PEk",
        "colab_type": "text"
      },
      "source": [
        "## Generating Tf record\n",
        "- Generating two TFRecords files for the training and testing CSVs.\n",
        "- Tensorflow accepts the data as tfrecords which is a binary file that run fast with low memory usage. Instead of loading the full data into memory, Tenorflow breaks the data into batches using these TFRecords automatically"
      ]
    },
    {
      "cell_type": "code",
      "metadata": {
        "id": "rKv3dNh2pUwa",
        "colab_type": "code",
        "colab": {}
      },
      "source": [
        "cd /content/{PROJECT_HOME_DIR}/models/research"
      ],
      "execution_count": 0,
      "outputs": []
    },
    {
      "cell_type": "code",
      "metadata": {
        "id": "KEH4DBud9hDH",
        "colab_type": "code",
        "colab": {}
      },
      "source": [
        "from object_detection.utils import dataset_util"
      ],
      "execution_count": 0,
      "outputs": []
    },
    {
      "cell_type": "code",
      "metadata": {
        "id": "nFTP_kdS-BDG",
        "colab_type": "code",
        "colab": {}
      },
      "source": [
        "cd /content/{PROJECT_HOME_DIR}/models/"
      ],
      "execution_count": 0,
      "outputs": []
    },
    {
      "cell_type": "code",
      "metadata": {
        "id": "vW5wjMpQ_s7w",
        "colab_type": "code",
        "colab": {}
      },
      "source": [
        "DATA_BASE_PATH = f'/content/{PROJECT_HOME_DIR}/data/'\n",
        "image_dir = DATA_BASE_PATH +'images/'"
      ],
      "execution_count": 0,
      "outputs": []
    },
    {
      "cell_type": "code",
      "metadata": {
        "id": "d59h3HO2_xiJ",
        "colab_type": "code",
        "colab": {}
      },
      "source": [
        "image_dir"
      ],
      "execution_count": 0,
      "outputs": []
    },
    {
      "cell_type": "code",
      "metadata": {
        "id": "CZCQugvm9XET",
        "colab_type": "code",
        "colab": {}
      },
      "source": [
        "#adjusted from: https://github.com/datitran/raccoon_dataset\n",
        "\n",
        "# converts the csv files for training and testing data to two TFRecords files.\n",
        "# places the output in the same directory as the input\n",
        "#from object_detection.utils import dataset_util\n",
        "#%cd /content/gun_detection/models/\n",
        "\n",
        "#### THIS MUST BE CHANGED FOR DIFFERENT APPLICATION\n",
        "\n",
        "def class_text_to_int(row_label):\n",
        "    if (row_label == 'circle'):\n",
        "\t\t    return 1\n",
        "    elif (row_label == 'crack'):\n",
        "\t\t    return 2\n",
        "    elif (row_label == 'square'):\n",
        "\t\t    return 3\n",
        "    else:\n",
        "\t\t    None\n",
        "\"\"\"\n",
        "def class_text_to_int(row_label):\n",
        "    print(row_label)\n",
        "\t\tif row_label == 'circle':\n",
        "\t\t\t\treturn 1\n",
        "    if row_label == 'crack':\n",
        "        return 2\n",
        "    if row_label == 'square':\n",
        "        return 3\n",
        "\n",
        "\t\telse:\n",
        "\t\t\t\tNone\n",
        "\"\"\"\n",
        "\n",
        "def split(df, group):\n",
        "\t\tdata = namedtuple('data', ['filename', 'object'])\n",
        "\t\tgb = df.groupby(group)\n",
        "\t\treturn [data(filename, gb.get_group(x)) for filename, x in zip(gb.groups.keys(), gb.groups)]\n",
        "\n",
        "def create_tf_example(group, path):\n",
        "\t\twith tf.io.gfile.GFile(os.path.join(path, '{}'.format(group.filename)), 'rb') as fid:\n",
        "\t\t\t\tencoded_jpg = fid.read()\n",
        "\t\tencoded_jpg_io = io.BytesIO(encoded_jpg)\n",
        "\t\timage = Image.open(encoded_jpg_io)\n",
        "\t\twidth, height = image.size\n",
        "\n",
        "\t\tfilename = group.filename.encode('utf8')\n",
        "\t\timage_format = b'jpg'\n",
        "\t\txmins = []\n",
        "\t\txmaxs = []\n",
        "\t\tymins = []\n",
        "\t\tymaxs = []\n",
        "\t\tclasses_text = []\n",
        "\t\tclasses = []\n",
        "\n",
        "\t\tfor index, row in group.object.iterrows():\n",
        "\t\t\t\txmins.append(row['xmin'] / width)\n",
        "\t\t\t\txmaxs.append(row['xmax'] / width)\n",
        "\t\t\t\tymins.append(row['ymin'] / height)\n",
        "\t\t\t\tymaxs.append(row['ymax'] / height)\n",
        "\t\t\t\tclasses_text.append(row['class'].encode('utf8'))\n",
        "\t\t\t\tclasses.append(class_text_to_int(row['class']))\n",
        "\n",
        "\t\ttf_example = tf.train.Example(features=tf.train.Features(feature={\n",
        "\t\t\t\t'image/height': dataset_util.int64_feature(height),\n",
        "\t\t\t\t'image/width': dataset_util.int64_feature(width),\n",
        "\t\t\t\t'image/filename': dataset_util.bytes_feature(filename),\n",
        "\t\t\t\t'image/source_id': dataset_util.bytes_feature(filename),\n",
        "\t\t\t\t'image/encoded': dataset_util.bytes_feature(encoded_jpg),\n",
        "\t\t\t\t'image/format': dataset_util.bytes_feature(image_format),\n",
        "\t\t\t\t'image/object/bbox/xmin': dataset_util.float_list_feature(xmins),\n",
        "\t\t\t\t'image/object/bbox/xmax': dataset_util.float_list_feature(xmaxs),\n",
        "\t\t\t\t'image/object/bbox/ymin': dataset_util.float_list_feature(ymins),\n",
        "\t\t\t\t'image/object/bbox/ymax': dataset_util.float_list_feature(ymaxs),\n",
        "\t\t\t\t'image/object/class/text': dataset_util.bytes_list_feature(classes_text),\n",
        "\t\t\t\t'image/object/class/label': dataset_util.int64_list_feature(classes),\n",
        "\t\t}))\n",
        "\t\treturn tf_example\n",
        "\n",
        "for csv in ['train_labels', 'test_labels']:\n",
        "  writer = tf.io.TFRecordWriter(DATA_BASE_PATH + csv + '.record')\n",
        "  path = os.path.join(image_dir)\n",
        "  examples = pd.read_csv(DATA_BASE_PATH + csv + '.csv')\n",
        "  grouped = split(examples, 'filename')\n",
        "  for group in grouped:\n",
        "      tf_example = create_tf_example(group, path)\n",
        "      writer.write(tf_example.SerializeToString())\n",
        "    \n",
        "  writer.close()\n",
        "  output_path = os.path.join(os.getcwd(), DATA_BASE_PATH + csv + '.record')\n",
        "  print('Successfully created the TFRecords: {}'.format(DATA_BASE_PATH +csv + '.record'))"
      ],
      "execution_count": 0,
      "outputs": []
    }
  ]
}