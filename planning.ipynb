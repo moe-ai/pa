{
 "cells": [
  {
   "cell_type": "code",
   "execution_count": 6,
   "metadata": {},
   "outputs": [
    {
     "name": "stdout",
     "output_type": "stream",
     "text": [
      "Following wiki instruction on the deployment\r\n",
      "https://plotly.com/python/scattermapbox/\r\n",
      "this has beautiful fron end\r\n",
      "\r\n",
      "\r\n",
      "https://dash-gallery.plotly.host/Portal/\r\n",
      "\r\n",
      "https://github.com/plotly/dash-sample-apps/tree/master/apps/dash-spatial-clustering"
     ]
    }
   ],
   "source": [
    "cat .plan"
   ]
  },
  {
   "cell_type": "code",
   "execution_count": null,
   "metadata": {},
   "outputs": [],
   "source": []
  }
 ],
 "metadata": {
  "kernelspec": {
   "display_name": "Python 3",
   "language": "python",
   "name": "python3"
  },
  "language_info": {
   "codemirror_mode": {
    "name": "ipython",
    "version": 3
   },
   "file_extension": ".py",
   "mimetype": "text/x-python",
   "name": "python",
   "nbconvert_exporter": "python",
   "pygments_lexer": "ipython3",
   "version": "3.6.10"
  }
 },
 "nbformat": 4,
 "nbformat_minor": 4
}
