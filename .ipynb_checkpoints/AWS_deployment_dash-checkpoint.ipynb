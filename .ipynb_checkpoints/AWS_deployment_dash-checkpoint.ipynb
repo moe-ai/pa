{
 "cells": [
  {
   "cell_type": "code",
   "execution_count": 2,
   "metadata": {},
   "outputs": [],
   "source": [
    "!mkdir eb-flask"
   ]
  },
  {
   "cell_type": "code",
   "execution_count": 3,
   "metadata": {},
   "outputs": [
    {
     "name": "stdout",
     "output_type": "stream",
     "text": [
      "/Users/ali/Documents/GitHub/pa/eb-flask\n"
     ]
    }
   ],
   "source": [
    "cd eb-flask"
   ]
  },
  {
   "cell_type": "code",
   "execution_count": 6,
   "metadata": {},
   "outputs": [
    {
     "data": {
      "text/plain": [
       "'/Users/ali/Documents/GitHub/pa/eb-flask'"
      ]
     },
     "execution_count": 6,
     "metadata": {},
     "output_type": "execute_result"
    }
   ],
   "source": [
    "!pip install flask==1.0.2"
   ]
  },
  {
   "cell_type": "code",
   "execution_count": 12,
   "metadata": {},
   "outputs": [],
   "source": [
    "!pip freeze > requirements.txt"
   ]
  },
  {
   "cell_type": "code",
   "execution_count": 13,
   "metadata": {},
   "outputs": [
    {
     "name": "stdout",
     "output_type": "stream",
     "text": [
      "requirements.txt\r\n"
     ]
    }
   ],
   "source": [
    "ls"
   ]
  },
  {
   "cell_type": "code",
   "execution_count": 28,
   "metadata": {},
   "outputs": [
    {
     "name": "stdout",
     "output_type": "stream",
     "text": [
      "Overwriting application.py\n"
     ]
    }
   ],
   "source": [
    "%%writefile application.py\n",
    "from flask import Flask\n",
    "\n",
    "# print a nice greeting.\n",
    "def say_hello(username = \"World\"):\n",
    "    return '<p>Hello Alireza %s!</p>\\n' % username\n",
    "\n",
    "# some bits of text for the page.\n",
    "header_text = '''\n",
    "    <html>\\n<head> <title>EB Flask Test</title> </head>\\n<body>'''\n",
    "instructions = '''\n",
    "    <p><em>Hint</em>: This  is Alireza a RESTful web service! Append a username\n",
    "    to the URL (for example: <code>/Thelonious</code>) to say hello to\n",
    "    someone specific.</p>\\n'''\n",
    "home_link = '<p><a href=\"/\">Back</a></p>\\n'\n",
    "footer_text = '</body>\\n</html>'\n",
    "\n",
    "# EB looks for an 'application' callable by default.\n",
    "application = Flask(__name__)\n",
    "\n",
    "# add a rule for the index page.\n",
    "application.add_url_rule('/', 'index', (lambda: header_text +\n",
    "    say_hello() + instructions + footer_text))\n",
    "\n",
    "# add a rule when the page is accessed with a name appended to the site\n",
    "# URL.\n",
    "application.add_url_rule('/<username>', 'hello', (lambda username:\n",
    "    header_text + say_hello(username) + home_link + footer_text))\n",
    "\n",
    "# run the app.\n",
    "if __name__ == \"__main__\":\n",
    "    # Setting debug to True enables debug output. This line should be\n",
    "    # removed before deploying a production app.\n",
    "    application.debug = True\n",
    "    application.run()"
   ]
  },
  {
   "cell_type": "code",
   "execution_count": 46,
   "metadata": {},
   "outputs": [
    {
     "name": "stdout",
     "output_type": "stream",
     "text": [
      " * Serving Flask app \"application\" (lazy loading)\n",
      " * Environment: production\n",
      "\u001b[31m   WARNING: Do not use the development server in a production environment.\u001b[0m\n",
      "\u001b[2m   Use a production WSGI server instead.\u001b[0m\n",
      " * Debug mode: off\n",
      " * Running on http://127.0.0.1:5000/ (Press CTRL+C to quit)\n",
      "127.0.0.1 - - [17/Jun/2020 23:10:01] \"\u001b[37mGET / HTTP/1.1\u001b[0m\" 200 -\n",
      "127.0.0.1 - - [17/Jun/2020 23:10:02] \"\u001b[33mGET /favicon.ico HTTP/1.1\u001b[0m\" 404 -\n",
      "^C\n"
     ]
    }
   ],
   "source": [
    "!python application.py"
   ]
  },
  {
   "cell_type": "markdown",
   "metadata": {},
   "source": [
    "To create an environment and deploy your flask application"
   ]
  },
  {
   "cell_type": "code",
   "execution_count": 47,
   "metadata": {},
   "outputs": [],
   "source": [
    "!eb init -p python-3.6 flask-tutorial --region us-east-2"
   ]
  },
  {
   "cell_type": "code",
   "execution_count": 48,
   "metadata": {},
   "outputs": [
    {
     "name": "stdout",
     "output_type": "stream",
     "text": [
      "Creating application version archive \"app-6646-200617_231044\".\n",
      "Uploading: [##################################################] 100% Done...\n",
      "Environment details for: flask-env\n",
      "  Application name: flask-tutorial\n",
      "  Region: us-east-2\n",
      "  Deployed Version: app-6646-200617_231044\n",
      "  Environment ID: e-aht8v3t3rr\n",
      "  Platform: arn:aws:elasticbeanstalk:us-east-2::platform/Python 3.6 running on 64bit Amazon Linux/2.9.11\n",
      "  Tier: WebServer-Standard-1.0\n",
      "  CNAME: UNKNOWN\n",
      "  Updated: 2020-06-18 06:11:36.205000+00:00\n",
      "Printing Status:\n",
      "2020-06-18 06:11:35    INFO    createEnvironment is starting.\n",
      "2020-06-18 06:11:36    INFO    Using elasticbeanstalk-us-east-2-665486472206 as Amazon S3 storage bucket for environment data.\n",
      "2020-06-18 06:11:56    INFO    Created security group named: sg-05ef8fc74d3975d81\n",
      "2020-06-18 06:11:56    INFO    Created load balancer named: awseb-e-a-AWSEBLoa-TZLSV5YRGX2A\n",
      "2020-06-18 06:12:13    INFO    Created security group named: awseb-e-aht8v3t3rr-stack-AWSEBSecurityGroup-LYSINECC9FPI\n",
      "2020-06-18 06:12:13    INFO    Created Auto Scaling launch configuration named: awseb-e-aht8v3t3rr-stack-AWSEBAutoScalingLaunchConfiguration-171IRFXBPXF5F\n",
      "2020-06-18 06:13:15    INFO    Created Auto Scaling group named: awseb-e-aht8v3t3rr-stack-AWSEBAutoScalingGroup-L0M320K0BP0D\n",
      "2020-06-18 06:13:15    INFO    Waiting for EC2 instances to launch. This may take a few minutes.\n",
      "2020-06-18 06:13:15    INFO    Created Auto Scaling group policy named: arn:aws:autoscaling:us-east-2:665486472206:scalingPolicy:e444dc98-5cc8-415d-b110-e69571e702ea:autoScalingGroupName/awseb-e-aht8v3t3rr-stack-AWSEBAutoScalingGroup-L0M320K0BP0D:policyName/awseb-e-aht8v3t3rr-stack-AWSEBAutoScalingScaleDownPolicy-1DZTK7OLH4HZ1\n",
      "2020-06-18 06:13:15    INFO    Created Auto Scaling group policy named: arn:aws:autoscaling:us-east-2:665486472206:scalingPolicy:ebde1516-5947-441e-a368-ec645e98f73c:autoScalingGroupName/awseb-e-aht8v3t3rr-stack-AWSEBAutoScalingGroup-L0M320K0BP0D:policyName/awseb-e-aht8v3t3rr-stack-AWSEBAutoScalingScaleUpPolicy-1G5KINSIMQA0Y\n",
      "2020-06-18 06:13:15    INFO    Created CloudWatch alarm named: awseb-e-aht8v3t3rr-stack-AWSEBCloudwatchAlarmLow-1S2IK3BM7CRK3\n",
      "2020-06-18 06:13:15    INFO    Created CloudWatch alarm named: awseb-e-aht8v3t3rr-stack-AWSEBCloudwatchAlarmHigh-1HUSDLXXU1012\n",
      "2020-06-18 06:13:21    ERROR   Your WSGIPath refers to a file that does not exist.\n",
      "2020-06-18 06:14:04    INFO    Application available at flask-env.eba-wsurdvur.us-east-2.elasticbeanstalk.com.\n",
      "2020-06-18 06:14:04    INFO    Successfully launched environment: flask-env\n",
      "                                \n"
     ]
    }
   ],
   "source": [
    "!eb create flask-env"
   ]
  },
  {
   "cell_type": "code",
   "execution_count": 49,
   "metadata": {},
   "outputs": [],
   "source": [
    "!eb open\n",
    "#http://flask-env.eba-wsurdvur.us-east-2.elasticbeanstalk.com/"
   ]
  },
  {
   "cell_type": "code",
   "execution_count": null,
   "metadata": {},
   "outputs": [],
   "source": []
  },
  {
   "cell_type": "code",
   "execution_count": null,
   "metadata": {},
   "outputs": [],
   "source": []
  },
  {
   "cell_type": "code",
   "execution_count": null,
   "metadata": {},
   "outputs": [],
   "source": []
  },
  {
   "cell_type": "code",
   "execution_count": 33,
   "metadata": {},
   "outputs": [
    {
     "name": "stdout",
     "output_type": "stream",
     "text": [
      "The environment \"flask-env\" and all associated instances will be terminated.\n",
      "To confirm, type the environment name: \n",
      "\n"
     ]
    }
   ],
   "source": [
    "!eb terminate flask-env"
   ]
  },
  {
   "cell_type": "code",
   "execution_count": null,
   "metadata": {},
   "outputs": [],
   "source": []
  }
 ],
 "metadata": {
  "kernelspec": {
   "display_name": "Python 3.6.10 64-bit ('pa': conda)",
   "language": "python",
   "name": "python361064bitpaconda7d56d488549f49edaa3b32ff86a2e4cd"
  },
  "language_info": {
   "codemirror_mode": {
    "name": "ipython",
    "version": 3
   },
   "file_extension": ".py",
   "mimetype": "text/x-python",
   "name": "python",
   "nbconvert_exporter": "python",
   "pygments_lexer": "ipython3",
   "version": "3.6.10"
  }
 },
 "nbformat": 4,
 "nbformat_minor": 4
}
